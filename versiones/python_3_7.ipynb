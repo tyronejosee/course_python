{
 "cells": [
  {
   "cell_type": "markdown",
   "id": "b1cab000",
   "metadata": {},
   "source": [
    "# **Python 3.7 (27 de junio de 2018)**\n",
    "\n",
    "Representó un salto importante en cuanto a legibilidad, rendimiento y capacidades introspectivas. A diferencia de 3.6 (más sintáctico), 3.7 refinó el lenguaje, consolidó ideas y allanó el camino para el tipado fuerte en versiones futuras."
   ]
  },
  {
   "cell_type": "markdown",
   "id": "cb5f52c3",
   "metadata": {},
   "source": [
    "## **`dataclasses`**\n",
    "\n",
    "- Genera automáticamente __init__, __repr__, __eq__, etc.\n",
    "- Ligero, sin boilerplate, ideal para estructuras de datos\n",
    "- Sustituye muchos usos de namedtuple o clases a mano"
   ]
  },
  {
   "cell_type": "code",
   "execution_count": 4,
   "id": "7dd6986c",
   "metadata": {},
   "outputs": [
    {
     "name": "stdout",
     "output_type": "stream",
     "text": [
      "Arroz\n",
      "10.0\n"
     ]
    }
   ],
   "source": [
    "from dataclasses import dataclass\n",
    "\n",
    "@dataclass\n",
    "class Product:\n",
    "    name: str\n",
    "    price: float\n",
    "\n",
    "product = Product(\"Arroz\", 10.0)\n",
    "\n",
    "print(product.name)\n",
    "print(product.price)"
   ]
  },
  {
   "cell_type": "markdown",
   "id": "81f1b5d2",
   "metadata": {},
   "source": [
    "## **Dicts con orden garantizado**\n",
    "\n",
    "- Aunque Python 3.6 ya lo implementaba, desde Python 3.7 es una especificación del lenguaje\n",
    "- Ahora puedes depender legalmente del orden en diccionarios"
   ]
  },
  {
   "cell_type": "code",
   "execution_count": 7,
   "id": "11a97ecc",
   "metadata": {},
   "outputs": [
    {
     "name": "stdout",
     "output_type": "stream",
     "text": [
      "['a', 'b']\n"
     ]
    }
   ],
   "source": [
    "dicts = {'a': 1, 'b': 2}\n",
    "print(list(dicts))"
   ]
  },
  {
   "cell_type": "markdown",
   "id": "965a4d3a",
   "metadata": {},
   "source": [
    "## **`__getattr__` en módulos**\n",
    "\n",
    "- Se puede usar para definir comportamientos especiales en los módulos\n",
    "- Permite lazy imports o APIs dinámicas\n",
    "- Mejora compatibilidad con versiones anteriores en bibliotecas"
   ]
  },
  {
   "cell_type": "code",
   "execution_count": 12,
   "id": "0defa4b5",
   "metadata": {},
   "outputs": [],
   "source": [
    "# En un archivo llamado mymodule.py\n",
    "def __getattr__(name):\n",
    "    if name == \"legacy_feature\":\n",
    "        return lambda: \"Deprecated feature\""
   ]
  },
  {
   "cell_type": "markdown",
   "id": "e78c78e3",
   "metadata": {},
   "source": [
    "## **`time` más preciso – `time.time_ns()`, `perf_counter_ns()`, etc.**\n",
    "\n",
    "- Útil en benchmarking y medidas finas"
   ]
  },
  {
   "cell_type": "code",
   "execution_count": 22,
   "id": "70860e22",
   "metadata": {},
   "outputs": [
    {
     "name": "stdout",
     "output_type": "stream",
     "text": [
      "1754077280926240100\n"
     ]
    }
   ],
   "source": [
    "import time\n",
    "print(time.time_ns())  # Precisión en nanosegundos"
   ]
  },
  {
   "cell_type": "markdown",
   "id": "1dabcb29",
   "metadata": {},
   "source": [
    "## `breakpoint()`\n",
    "\n",
    "- Se ejecuta en el código que se quiere depurar (no en el código de la función)\n",
    "- Se configura con PYTHONBREAKPOINT\n",
    "- Facilita debugging sin código extra"
   ]
  },
  {
   "cell_type": "code",
   "execution_count": 23,
   "id": "229faf5c",
   "metadata": {},
   "outputs": [],
   "source": [
    "breakpoint()  # Igual que import pdb; pdb.set_trace()"
   ]
  }
 ],
 "metadata": {
  "kernelspec": {
   "display_name": "Python 3",
   "language": "python",
   "name": "python3"
  },
  "language_info": {
   "codemirror_mode": {
    "name": "ipython",
    "version": 3
   },
   "file_extension": ".py",
   "mimetype": "text/x-python",
   "name": "python",
   "nbconvert_exporter": "python",
   "pygments_lexer": "ipython3",
   "version": "3.11.0"
  }
 },
 "nbformat": 4,
 "nbformat_minor": 5
}
