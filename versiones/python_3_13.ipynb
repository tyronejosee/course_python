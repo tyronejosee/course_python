{
 "cells": [
  {
   "cell_type": "markdown",
   "id": "b1cab000",
   "metadata": {},
   "source": [
    "# Python 3.13"
   ]
  },
  {
   "cell_type": "code",
   "execution_count": null,
   "id": "1b785276",
   "metadata": {
    "vscode": {
     "languageId": "plaintext"
    }
   },
   "outputs": [],
   "source": []
  }
 ],
 "metadata": {
  "language_info": {
   "name": "python"
  }
 },
 "nbformat": 4,
 "nbformat_minor": 5
}
