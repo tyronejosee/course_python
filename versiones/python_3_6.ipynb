{
 "cells": [
  {
   "cell_type": "markdown",
   "id": "b1cab000",
   "metadata": {},
   "source": [
    "# **Python 3.6 (23 de diciembre de 2016)**"
   ]
  },
  {
   "cell_type": "markdown",
   "id": "44b2d4cd",
   "metadata": {},
   "source": [
    "## **F-Strings (Formatted String Literals)**\n",
    "\n",
    "- Más legibles y eficientes que `str.format()` o `%`\n",
    "- Evaluación en tiempo de ejecución del contenido entre llaves `{}`"
   ]
  },
  {
   "cell_type": "code",
   "execution_count": 1,
   "id": "14bdd8c6",
   "metadata": {},
   "outputs": [
    {
     "name": "stdout",
     "output_type": "stream",
     "text": [
      "Hola, José!\n"
     ]
    }
   ],
   "source": [
    "name = \"José\"\n",
    "print(f\"Hola, {name}!\")"
   ]
  },
  {
   "cell_type": "markdown",
   "id": "932733e6",
   "metadata": {},
   "source": [
    "## **Variable Annotations: Tipado más rico**\n",
    "\n",
    "- Permite anotaciones sin inicializar\n",
    "- Muy útil para herramientas de tipo estático como mypy, pyright, etc."
   ]
  },
  {
   "cell_type": "code",
   "execution_count": 21,
   "id": "cac61162",
   "metadata": {},
   "outputs": [
    {
     "name": "stdout",
     "output_type": "stream",
     "text": [
      "Tyrone\n"
     ]
    }
   ],
   "source": [
    "name: str = \"Tyrone\"\n",
    "age: int\n",
    "\n",
    "print(name)\n"
   ]
  },
  {
   "cell_type": "markdown",
   "id": "3b68318e",
   "metadata": {},
   "source": [
    "## **Dicts ordenados por implementación (aunque no garantizado aún)**\n",
    "\n",
    "- Desde Python 3.6, la implementación de CPython preserva el orden de inserción en los diccionarios (aunque no fue garantizado oficialmente hasta 3.7)."
   ]
  },
  {
   "cell_type": "code",
   "execution_count": 19,
   "id": "7b0956bc",
   "metadata": {},
   "outputs": [
    {
     "name": "stdout",
     "output_type": "stream",
     "text": [
      "{'a': 1, 'b': 2, 'c': 3}\n"
     ]
    }
   ],
   "source": [
    "dicts = {'a': 1, 'b': 2, 'c': 3}\n",
    "print(dicts)\n"
   ]
  },
  {
   "cell_type": "markdown",
   "id": "393a9dbf",
   "metadata": {},
   "source": [
    "## **Nuevas características en el depurador y trazabilidad**\n",
    "\n",
    "- async generators y async comprehensions: permiten crear funciones asíncronas que pueden ser utilizadas como generadores o comprensiones\n",
    "- Hace que async sea mucho más expresivo y utilizable"
   ]
  },
  {
   "cell_type": "code",
   "execution_count": 10,
   "id": "c458772b",
   "metadata": {},
   "outputs": [
    {
     "data": {
      "text/plain": [
       "<async_generator object gen at 0x000001C2D94D2400>"
      ]
     },
     "execution_count": 10,
     "metadata": {},
     "output_type": "execute_result"
    }
   ],
   "source": [
    "async def gen():\n",
    "    yield 1\n",
    "\n",
    "gen()"
   ]
  },
  {
   "cell_type": "markdown",
   "id": "916e0bd6",
   "metadata": {},
   "source": [
    "## **Underscores in numeric literals**\n",
    "\n",
    "- Mejora la legibilidad de números grandes"
   ]
  },
  {
   "cell_type": "code",
   "execution_count": 17,
   "id": "458605c8",
   "metadata": {},
   "outputs": [
    {
     "name": "stdout",
     "output_type": "stream",
     "text": [
      "1000000\n"
     ]
    }
   ],
   "source": [
    "x = 1_000_000\n",
    "print(x)"
   ]
  },
  {
   "cell_type": "markdown",
   "id": "3abfb149",
   "metadata": {},
   "source": [
    "## **Mejoras a `__init_subclass__` y `__class_getitem__` – Metaprogramación mejorada**\n",
    "\n",
    "- Hooks para controlar el comportamiento de subclases\n",
    "- Fundamental para frameworks modernos (como Pydantic o Django ORM internamente)"
   ]
  },
  {
   "cell_type": "code",
   "execution_count": null,
   "id": "9413505a",
   "metadata": {},
   "outputs": [],
   "source": [
    "class Base:\n",
    "    def __init_subclass__(cls, **kwargs):\n",
    "        print(f\"Subclase {cls.__name__} creada\")\n"
   ]
  }
 ],
 "metadata": {
  "kernelspec": {
   "display_name": "Python 3",
   "language": "python",
   "name": "python3"
  },
  "language_info": {
   "codemirror_mode": {
    "name": "ipython",
    "version": 3
   },
   "file_extension": ".py",
   "mimetype": "text/x-python",
   "name": "python",
   "nbconvert_exporter": "python",
   "pygments_lexer": "ipython3",
   "version": "3.11.0"
  }
 },
 "nbformat": 4,
 "nbformat_minor": 5
}
