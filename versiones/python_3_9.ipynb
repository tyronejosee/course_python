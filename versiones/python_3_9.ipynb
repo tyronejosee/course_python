{
 "cells": [
  {
   "cell_type": "markdown",
   "id": "b1cab000",
   "metadata": {},
   "source": [
    "# **Python 3.9 (5 de octubre de 2020)**\n",
    "\n",
    "Es una versión que refinó la sintaxis, modernizó colecciones y preparó el camino para el tipado más natural. Si vienes de 3.6, 3.7 o 3.8, esta versión reduce el boilerplate y te hace escribir código más claro, expresivo y pythónico."
   ]
  },
  {
   "cell_type": "markdown",
   "id": "3d208db2",
   "metadata": {},
   "source": [
    "## **Tipado nativo simplificado**\n",
    "\n",
    "- Ya no necesitas importar `List`, `Dict`, etc. desde `typing`\n",
    "- Menos dependencias de `typing`\n",
    "- Más intuitivo y legible\n",
    "- Algunas herramientas de tipado (como mypy) tardaron en soportarlo completamente"
   ]
  },
  {
   "cell_type": "code",
   "execution_count": 1,
   "id": "345bad54",
   "metadata": {},
   "outputs": [],
   "source": [
    "# Antes (3.8 y anteriores)\n",
    "from typing import List, Dict\n",
    "\n",
    "users: List[str] = [\"José\"]\n",
    "\n",
    "# Ahora (3.9+)\n",
    "users: list[str] = [\"José\"]"
   ]
  },
  {
   "cell_type": "markdown",
   "id": "44cc57fa",
   "metadata": {},
   "source": [
    "## **Nuevas operaciones de unión en diccionarios**\n",
    "\n",
    "- Mucho más limpio que usar `dict.update()`\n",
    "- Permite un estilo más funcional al combinar estructuras"
   ]
  },
  {
   "cell_type": "code",
   "execution_count": 3,
   "id": "b9c7c0bf",
   "metadata": {},
   "outputs": [],
   "source": [
    "a = {'x': 1}\n",
    "b = {'y': 2}\n",
    "\n",
    "c = a | b\n",
    "a |= {'z': 3}"
   ]
  },
  {
   "cell_type": "markdown",
   "id": "8dd10418",
   "metadata": {},
   "source": [
    "## **`str.removeprefix()` y `str.removesuffix()`**\n",
    "\n",
    "- Sencillo pero muy útil en código de limpieza de datos o parsing"
   ]
  },
  {
   "cell_type": "code",
   "execution_count": 4,
   "id": "f3052a1b",
   "metadata": {},
   "outputs": [
    {
     "data": {
      "text/plain": [
       "'url'"
      ]
     },
     "execution_count": 4,
     "metadata": {},
     "output_type": "execute_result"
    }
   ],
   "source": [
    "\"url\".removeprefix(\"http://\")  # más legible que slicing"
   ]
  },
  {
   "cell_type": "markdown",
   "id": "d367ff07",
   "metadata": {},
   "source": [
    "## **`zoneinfo` – soporte oficial para zonas horarias**\n",
    "\n",
    "- Reemplaza dependencias externas como `pytz`\n",
    "- Cumple con IANA Time Zone Database\n",
    "- Bien integrado con `datetime`"
   ]
  },
  {
   "cell_type": "code",
   "execution_count": 5,
   "id": "a9e93363",
   "metadata": {},
   "outputs": [
    {
     "name": "stdout",
     "output_type": "stream",
     "text": [
      "2025-08-01 17:44:21.883614-04:00\n"
     ]
    }
   ],
   "source": [
    "from zoneinfo import ZoneInfo\n",
    "from datetime import datetime\n",
    "\n",
    "dt = datetime.now(ZoneInfo(\"America/Santiago\"))\n",
    "print(dt)"
   ]
  },
  {
   "cell_type": "markdown",
   "id": "54577051",
   "metadata": {},
   "source": [
    "## **`Annotated` para tipos con metadatos**\n",
    "\n",
    "- Ideal para frameworks como `FastAPI`, `Pydantic`, etc.\n",
    "- Permite agregar semántica adicional al tipo (ej. validaciones, UI hints)"
   ]
  },
  {
   "cell_type": "code",
   "execution_count": 7,
   "id": "c37b3ae9",
   "metadata": {},
   "outputs": [],
   "source": [
    "from typing import Annotated\n",
    "\n",
    "UserId = Annotated[int, \"positive\"]"
   ]
  },
  {
   "cell_type": "markdown",
   "id": "28dd568e",
   "metadata": {},
   "source": [
    "## **`math` y `statistics` reciben mejoras**\n",
    "\n",
    "- Mejor control en cálculos numéricos y tolerancia de precisión"
   ]
  },
  {
   "cell_type": "code",
   "execution_count": 10,
   "id": "53ed7d3f",
   "metadata": {},
   "outputs": [
    {
     "data": {
      "text/plain": [
       "1.0000000000000002"
      ]
     },
     "execution_count": 10,
     "metadata": {},
     "output_type": "execute_result"
    }
   ],
   "source": [
    "import math\n",
    "\n",
    "math.isqrt(10)  # 3\n",
    "math.nextafter(1.0, 2.0)"
   ]
  }
 ],
 "metadata": {
  "kernelspec": {
   "display_name": "Python 3",
   "language": "python",
   "name": "python3"
  },
  "language_info": {
   "codemirror_mode": {
    "name": "ipython",
    "version": 3
   },
   "file_extension": ".py",
   "mimetype": "text/x-python",
   "name": "python",
   "nbconvert_exporter": "python",
   "pygments_lexer": "ipython3",
   "version": "3.11.0"
  }
 },
 "nbformat": 4,
 "nbformat_minor": 5
}
