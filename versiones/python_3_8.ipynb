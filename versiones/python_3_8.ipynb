{
 "cells": [
  {
   "cell_type": "markdown",
   "id": "b1cab000",
   "metadata": {},
   "source": [
    "# **Python 3.8 (14 de octubre de 2019)**\n",
    "\n",
    "Introdujo cambios semánticos, sintácticos y de runtime que consolidan el camino hacia un Python más expresivo y seguro. Fue menos revolucionario que 3.6 y 3.7, pero aún así aportó mejoras clave, sobre todo en tipado, debugging y patrones funcionales."
   ]
  },
  {
   "cell_type": "markdown",
   "id": "b0453a8d",
   "metadata": {},
   "source": [
    "## **Walrus operator `:=`**\n",
    "\n",
    "- Evita repeticiones\n",
    "- Mejora la eficiencia en bucles y condiciones\n",
    "- Puede dificultar la legibilidad si se abusa"
   ]
  },
  {
   "cell_type": "code",
   "execution_count": 6,
   "id": "b86dbfea",
   "metadata": {},
   "outputs": [
    {
     "name": "stdout",
     "output_type": "stream",
     "text": [
      "List is too long (20 elements).\n"
     ]
    }
   ],
   "source": [
    "data = [1, 2, 3, 4, 5, 6, 7, 8, 9, 10, 11, 12, 13, 14, 15, 16, 17, 18, 19, 20]\n",
    "\n",
    "if (n := len(data)) > 10:\n",
    "    print(f\"List is too long ({n} elements).\")"
   ]
  },
  {
   "cell_type": "markdown",
   "id": "3e5ee97c",
   "metadata": {},
   "source": [
    "## **Positional-only arguments**\n",
    "\n",
    "- Los parámetros antes del `/` solo pueden pasarse por posición\n",
    "- Permite APIs más robustas y backward-compatible\n",
    "- Especialmente útil en funciones internas o bindings de C"
   ]
  },
  {
   "cell_type": "code",
   "execution_count": 15,
   "id": "631409e2",
   "metadata": {},
   "outputs": [],
   "source": [
    "def func(a, b, /, c, d):\n",
    "    ...\n",
    "\n",
    "func(1, 2, c=3, d=4)"
   ]
  },
  {
   "cell_type": "markdown",
   "id": "a72eb215",
   "metadata": {},
   "source": [
    "## `typing.Literal`\n",
    "\n",
    "- Permite restringir valores posibles (como enums)\n",
    "- Mejora la validación y autocompletado\n",
    "- Base para futuras mejoras en typing y pydantic"
   ]
  },
  {
   "cell_type": "code",
   "execution_count": 20,
   "id": "a52527b7",
   "metadata": {},
   "outputs": [
    {
     "name": "stdout",
     "output_type": "stream",
     "text": [
      "Moving up\n",
      "None\n",
      "Moving down\n",
      "None\n"
     ]
    }
   ],
   "source": [
    "from typing import Literal\n",
    "\n",
    "def move(direction: Literal[\"up\", \"down\"]) -> None:\n",
    "    print(f\"Moving {direction}\")\n",
    "\n",
    "print(move(\"up\"))\n",
    "print(move(\"down\"))"
   ]
  },
  {
   "cell_type": "markdown",
   "id": "1275b0e7",
   "metadata": {},
   "source": [
    "## **`Final`, `TypedDict` y `Protocol` (provisional)**\n",
    "\n",
    "- `Final`: evita sobrescribir constantes\n",
    "- `TypedDict`: describe dicts con claves conocidas y tipos\n",
    "- `Protocol`: como interfaces estructurales (duck typing formal)"
   ]
  },
  {
   "cell_type": "code",
   "execution_count": 42,
   "id": "d5d2829c",
   "metadata": {},
   "outputs": [
    {
     "name": "stdout",
     "output_type": "stream",
     "text": [
      "3.14\n"
     ]
    }
   ],
   "source": [
    "from typing import Final\n",
    "\n",
    "PI: Final[float] = 3.14\n",
    "print(PI)"
   ]
  },
  {
   "cell_type": "code",
   "execution_count": 32,
   "id": "6c2a9a87",
   "metadata": {},
   "outputs": [
    {
     "name": "stdout",
     "output_type": "stream",
     "text": [
      "{'title': 'The Matrix', 'year': 1999}\n"
     ]
    }
   ],
   "source": [
    "from typing import TypedDict\n",
    "\n",
    "class Movie(TypedDict):\n",
    "    title: str\n",
    "    year: int\n",
    "\n",
    "movie: Movie = {\"title\": \"The Matrix\", \"year\": 1999}\n",
    "print(movie)"
   ]
  },
  {
   "cell_type": "code",
   "execution_count": 37,
   "id": "ec6dfa24",
   "metadata": {},
   "outputs": [
    {
     "name": "stdout",
     "output_type": "stream",
     "text": [
      "Perro se mueve\n",
      "Gato se mueve\n"
     ]
    }
   ],
   "source": [
    "from typing import Protocol\n",
    "\n",
    "class Animal(Protocol):\n",
    "    def mover(self):\n",
    "        pass\n",
    "    \n",
    "class Perro(Animal):\n",
    "    def mover(self):\n",
    "        print(\"Perro se mueve\")\n",
    "        \n",
    "class Gato(Animal):\n",
    "    def mover(self):\n",
    "        print(\"Gato se mueve\")\n",
    "        \n",
    "animales = [Perro(), Gato()]\n",
    "for animal in animales:\n",
    "    animal.mover()"
   ]
  },
  {
   "cell_type": "markdown",
   "id": "a2bac95c",
   "metadata": {},
   "source": [
    "## **Mejoras en `f-string` debugging**\n",
    "\n",
    "- Útil para debugging rápido\n",
    "- Muestra tanto la expresión como su valor"
   ]
  },
  {
   "cell_type": "code",
   "execution_count": 40,
   "id": "e22b5939",
   "metadata": {},
   "outputs": [
    {
     "name": "stdout",
     "output_type": "stream",
     "text": [
      "user='José'\n"
     ]
    }
   ],
   "source": [
    "user = \"José\"\n",
    "print(f\"{user=}\")"
   ]
  },
  {
   "cell_type": "markdown",
   "id": "ca777c1c",
   "metadata": {},
   "source": [
    "## **`reversed()` en `dict` y `dict.keys()`**\n",
    "\n",
    "- Permite reversar la vista de diccionarios directamente"
   ]
  },
  {
   "cell_type": "code",
   "execution_count": 51,
   "id": "61bcbbda",
   "metadata": {},
   "outputs": [
    {
     "name": "stdout",
     "output_type": "stream",
     "text": [
      "['b', 'a']\n"
     ]
    }
   ],
   "source": [
    "d = {'a': 1, 'b': 2}\n",
    "print(list(reversed(d)))"
   ]
  },
  {
   "cell_type": "markdown",
   "id": "a8d51aed",
   "metadata": {},
   "source": [
    "## `math.prod()`\n",
    "\n",
    "- Producto de una secuencia, como `sum()` pero para multiplicar"
   ]
  },
  {
   "cell_type": "code",
   "execution_count": 55,
   "id": "0015665b",
   "metadata": {},
   "outputs": [
    {
     "data": {
      "text/plain": [
       "6"
      ]
     },
     "execution_count": 55,
     "metadata": {},
     "output_type": "execute_result"
    }
   ],
   "source": [
    "import math\n",
    "\n",
    "math.prod([1, 2, 3])"
   ]
  },
  {
   "cell_type": "markdown",
   "id": "1f34414f",
   "metadata": {},
   "source": [
    "## **Warning control y `PYTHONDEVMODE`**\n",
    "\n",
    "- Muestra más advertencias\n",
    "- Activa `faulthandler` automáticamente\n",
    "- `faulthandler` es una herramienta de depuración que detecta errores en el código y los envía a un servidor de depuración."
   ]
  },
  {
   "cell_type": "markdown",
   "id": "491ae3db",
   "metadata": {},
   "source": [
    "```bash\n",
    "PYTHONDEVMODE=1 python script.py\n",
    "```"
   ]
  }
 ],
 "metadata": {
  "kernelspec": {
   "display_name": "Python 3",
   "language": "python",
   "name": "python3"
  },
  "language_info": {
   "codemirror_mode": {
    "name": "ipython",
    "version": 3
   },
   "file_extension": ".py",
   "mimetype": "text/x-python",
   "name": "python",
   "nbconvert_exporter": "python",
   "pygments_lexer": "ipython3",
   "version": "3.11.0"
  }
 },
 "nbformat": 4,
 "nbformat_minor": 5
}
