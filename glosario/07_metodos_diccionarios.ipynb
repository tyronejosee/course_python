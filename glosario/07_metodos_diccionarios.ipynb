{
 "cells": [
  {
   "cell_type": "markdown",
   "metadata": {},
   "source": [
    "# **Métodos de Diccionarios**"
   ]
  },
  {
   "cell_type": "markdown",
   "metadata": {},
   "source": [
    "| Método            | Descripción                                                                 |\n",
    "|-------------------|-----------------------------------------------------------------------------|\n",
    "| `clear()`         | Elimina todos los elementos del diccionario, dejándolo vacío.               |\n",
    "| `copy()`          | Devuelve una copia superficial del diccionario, creando un nuevo diccionario con los mismos elementos. |\n",
    "| `fromkeys()`      | Devuelve un nuevo diccionario con las claves especificadas y un valor común para todas ellas. |\n",
    "| `get()`           | Devuelve el valor correspondiente a una clave especificada. Si la clave no existe, retorna `None` o un valor predeterminado si se especifica. |\n",
    "| `items()`         | Devuelve una vista de los pares clave-valor del diccionario, representados como tuplas dentro de una lista. |\n",
    "| `keys()`          | Devuelve una vista de las claves del diccionario.                           |\n",
    "| `pop()`           | Elimina y devuelve el valor asociado con la clave especificada. Lanza un `KeyError` si la clave no existe. |\n",
    "| `popitem()`       | Elimina y devuelve el último par clave-valor insertado en el diccionario.    |\n",
    "| `setdefault()`    | Devuelve el valor asociado a la clave especificada. Si la clave no existe, la inserta en el diccionario con un valor predeterminado. |\n",
    "| `update()`        | Actualiza el diccionario con los pares clave-valor especificados, agregando o modificando elementos. |\n",
    "| `values()`        | Devuelve una vista de todos los valores presentes en el diccionario.         |"
   ]
  }
 ],
 "metadata": {
  "language_info": {
   "name": "python"
  }
 },
 "nbformat": 4,
 "nbformat_minor": 2
}
