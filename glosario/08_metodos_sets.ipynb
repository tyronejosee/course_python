{
 "cells": [
  {
   "cell_type": "markdown",
   "metadata": {},
   "source": [
    "# **Métodos de Sets**"
   ]
  },
  {
   "cell_type": "markdown",
   "metadata": {},
   "source": [
    "| Método                       | Abreviatura | Descripción                                                                 |\n",
    "|------------------------------|-------------|-----------------------------------------------------------------------------|\n",
    "| `add()`                       |             | Agrega un elemento al conjunto.                                              |\n",
    "| `clear()`                     |             | Elimina todos los elementos del conjunto.                                    |\n",
    "| `copy()`                      |             | Devuelve una copia del conjunto.                                             |\n",
    "| `difference()`                | `-`           | Devuelve un conjunto que contiene la diferencia entre dos o más conjuntos.   |\n",
    "| `difference_update()`         | `-=`        | Elimina los elementos en este conjunto que también están en otro conjunto especificado. |\n",
    "| `discard()`                   |             | Elimina el elemento especificado del conjunto, sin lanzar un error si el elemento no existe. |\n",
    "| `intersection()`              | `&`         | Devuelve un conjunto que es la intersección de dos conjuntos.                |\n",
    "| `intersection_update()`       | `&=`        | Elimina los elementos de este conjunto que no están presentes en otros conjuntos especificados. |\n",
    "| `isdisjoint()`                |             | Devuelve `True` si los conjuntos no tienen elementos en común.               |\n",
    "| `issubset()`                  | `<=`        | Devuelve `True` si otro conjunto contiene este conjunto.                     |\n",
    "| `issuperset()`                | `>=`        | Devuelve `True` si este conjunto contiene a otro conjunto.                   |\n",
    "| `pop()`                       |             | Elimina y devuelve un elemento aleatorio del conjunto.                       |\n",
    "| `remove()`                    |             | Elimina el elemento especificado del conjunto, lanzando un `KeyError` si el elemento no existe. |\n",
    "| `symmetric_difference()`      | `^`         | Devuelve un conjunto con las diferencias simétricas de dos conjuntos.       |\n",
    "| `symmetric_difference_update()` | `^=`      | Inserta las diferencias simétricas entre este conjunto y otro.               |\n",
    "| `union()`                     | `pipe`         | Devuelve un conjunto que contiene la unión de dos o más conjuntos.          |\n",
    "| `update()`                    | `pipe=`        | Actualiza el conjunto con la unión de este conjunto y otros.                 |\n"
   ]
  }
 ],
 "metadata": {
  "language_info": {
   "name": "python"
  }
 },
 "nbformat": 4,
 "nbformat_minor": 2
}
