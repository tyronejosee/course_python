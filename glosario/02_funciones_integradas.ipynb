{
 "cells": [
  {
   "cell_type": "markdown",
   "metadata": {},
   "source": [
    "# **Funciones Integradas**"
   ]
  },
  {
   "cell_type": "markdown",
   "metadata": {},
   "source": [
    "| Función           | Descripción                                                                                             |\n",
    "|-------------------|---------------------------------------------------------------------------------------------------------|\n",
    "| `abs()`           | Devuelve el valor absoluto de un número.                                                                |\n",
    "| `all()`           | Devuelve `True` si todos los elementos en un objeto iterable son verdaderos.                            |\n",
    "| `any()`           | Devuelve `True` si al menos un elemento en un objeto iterable es verdadero.                             |\n",
    "| `ascii()`         | Devuelve una versión legible de un objeto, reemplazando caracteres no ASCII con su carácter de escape.   |\n",
    "| `bin()`           | Devuelve la representación binaria de un número.                                                        |\n",
    "| `bool()`          | Devuelve el valor booleano del objeto especificado.                                                     |\n",
    "| `bytearray()`     | Devuelve un arreglo de bytes mutable.                                                                   |\n",
    "| `bytes()`         | Devuelve un objeto de tipo bytes.                                                                       |\n",
    "| `callable()`      | Devuelve `True` si el objeto especificado es invocable, de lo contrario, devuelve `False`.               |\n",
    "| `chr()`           | Devuelve el carácter correspondiente al código Unicode especificado.                                    |\n",
    "| `classmethod()`   | Convierte un método en un método de clase.                                                              |\n",
    "| `compile()`       | Convierte el código fuente especificado en un objeto que está listo para ser ejecutado.                 |\n",
    "| `complex()`       | Devuelve un número complejo.                                                                            |\n",
    "| `delattr()`       | Elimina el atributo especificado (propiedad o método) de un objeto.                                     |\n",
    "| `dict()`          | Devuelve un diccionario.                                                                                |\n",
    "| `dir()`           | Devuelve una lista de las propiedades y métodos de un objeto especificado.                              |\n",
    "| `divmod()`        | Devuelve una tupla con el cociente y el resto de la división de los dos argumentos especificados.        |\n",
    "| `enumerate()`     | Toma una colección (por ejemplo, una tupla) y la devuelve como un objeto enumerado con índices.          |\n",
    "| `eval()`          | Evalúa y ejecuta una expresión dada como cadena.                                                        |\n",
    "| `exec()`          | Ejecuta el código o el objeto especificado.                                                          |\n",
    "| `filter()`        | Aplica una función filtro para excluir elementos en un objeto iterable.                              |\n",
    "| `float()`         | Devuelve un número de punto flotante.                                                                |\n",
    "| `format()`        | Da formato a un valor especificado según el formato indicado.                                        |\n",
    "| `frozenset()`     | Devuelve un objeto `frozenset`, un conjunto inmutable.                                               |\n",
    "| `getattr()`       | Devuelve el valor del atributo (propiedad o método) especificado de un objeto.                       |\n",
    "| `globals()`       | Devuelve la tabla de símbolos globales actual como un diccionario.                                   |\n",
    "| `hasattr()`       | Devuelve `True` si el objeto especificado tiene el atributo (propiedad o método) indicado.           |\n",
    "| `hash()`          | Devuelve el valor hash del objeto especificado.                                                      |\n",
    "| `help()`          | Ejecuta el sistema de ayuda integrado.                                                              |\n",
    "| `hex()`           | Convierte un número en su representación hexadecimal.                                               |\n",
    "| `id()`            | Devuelve el identificador único de un objeto.                                                        |\n",
    "| `input()`         | Solicita la entrada del usuario desde la consola.                                                   |\n",
    "| `int()`           | Devuelve un número entero.                                                                           |\n",
    "| `isinstance()`    | Devuelve `True` si un objeto es una instancia de una clase o tipo especificado.                      |\n",
    "| `issubclass()`    | Devuelve `True` si una clase es una subclase de otra clase especificada.                             |\n",
    "| `iter()`          | Devuelve un objeto iterador para un objeto iterable.                                                 |\n",
    "| `len()`           | Devuelve la longitud (cantidad de elementos) de un objeto.                                           |\n",
    "| `list()`          | Devuelve una lista basada en un iterable o un objeto vacío.                                          |\n",
    "| `locals()`        | Devuelve un diccionario actualizado de la tabla de símbolos locales actuales.                        |\n",
    "| `map()`           | Devuelve un iterador con la función especificada aplicada a cada elemento del iterable.              |\n",
    "| `max()`           | Devuelve el elemento más grande de un iterable o el mayor de dos o más argumentos.                  |\n",
    "| `memoryview()`    | Devuelve un objeto de vista de memoria que permite acceder directamente a los datos de un objeto.     |\n",
    "| `min()`           | Devuelve el elemento más pequeño de un iterable o el menor de dos o más argumentos.                  |\n",
    "| `next()`          | Devuelve el siguiente elemento en un iterador.                                                       |\n",
    "| `object()`        | Crea un nuevo objeto genérico base.                                                                  |\n",
    "| `oct()`           | Convierte un número en su representación octal.                                                     |\n",
    "| `open()`          | Abre un archivo y devuelve un objeto de archivo.                                                     |\n",
    "| `ord()`           | Convierte un carácter en su valor Unicode correspondiente como entero.                               |\n",
    "| `pow()`           | Devuelve el resultado de elevar un número a una potencia (`x**y`).                                   |\n",
    "| `print()`         | Imprime datos en la salida estándar.                                                                 |\n",
    "| `property()`      | Crea, obtiene o elimina propiedades para gestionar atributos de clase.                               |\n",
    "| `range()`         | Devuelve una secuencia de números, comenzando desde 0 y aumentando en 1 (por defecto).               |\n",
    "| `repr()`          | Devuelve una representación legible de un objeto.                                                    |\n",
    "| `reversed()`      | Devuelve un iterador que recorre un iterable en orden inverso.                                       |\n",
    "| `round()`         | Redondea un número al entero más cercano o al número de decimales especificado.                      |\n",
    "| `set()`           | Devuelve un nuevo conjunto (`set`) mutable.                                                         |\n",
    "| `setattr()`       | Establece un atributo (propiedad o método) de un objeto.                                             |\n",
    "| `slice()`         | Devuelve un objeto `slice` que se puede usar para rebanar secuencias.                                |\n",
    "| `sorted()`        | Devuelve una lista ordenada a partir de un iterable.                                                |\n",
    "| `staticmethod()`  | Convierte un método en un método estático, que no requiere una instancia de clase para ser llamado.  |\n",
    "| `str()`           | Devuelve un objeto de tipo cadena de texto (`string`).                                              |\n",
    "| `sum()`           | Suma los elementos de un iterable y devuelve el resultado.                                          |\n",
    "| `super()`         | Devuelve un objeto que representa la clase padre de la clase actual, utilizado para herencia.        |\n",
    "| `tuple()`         | Devuelve un objeto de tipo tupla (`tuple`) basado en un iterable.                                    |\n",
    "| `type()`          | Devuelve el tipo de un objeto o crea una nueva clase de tipo dinámico.                               |\n",
    "| `vars()`          | Devuelve el atributo `__dict__` de un objeto, que contiene sus atributos en forma de diccionario.    |\n",
    "| `zip()`           | Devuelve un iterador que combina elementos de dos o más iterables en tuplas.                        |"
   ]
  },
  {
   "cell_type": "markdown",
   "metadata": {},
   "source": [
    "- `abs()` Devuelve el valor absoluto de un número (sin el signo negativo)."
   ]
  },
  {
   "cell_type": "code",
   "execution_count": 1,
   "metadata": {},
   "outputs": [
    {
     "name": "stdout",
     "output_type": "stream",
     "text": [
      "10\n",
      "5\n"
     ]
    }
   ],
   "source": [
    "print(abs(-10))\n",
    "print(abs(-5))"
   ]
  },
  {
   "cell_type": "markdown",
   "metadata": {},
   "source": [
    "- `all()` Devuelve `True` si todos los elementos de un iterable (como lista o tupla) son verdaderos; si algún elemento es `False`, devuelve `False`."
   ]
  },
  {
   "cell_type": "code",
   "execution_count": 2,
   "metadata": {},
   "outputs": [
    {
     "name": "stdout",
     "output_type": "stream",
     "text": [
      "True\n",
      "False\n"
     ]
    }
   ],
   "source": [
    "print(all([True, True, 1, \"hello\"]))\n",
    "print(all([True, False, 1, \"hello\"]))"
   ]
  },
  {
   "cell_type": "markdown",
   "metadata": {},
   "source": [
    "- `any()` Devuelve `True` si al menos uno de los elementos en un iterable es verdadero; si todos son falsos, devuelve `False`."
   ]
  },
  {
   "cell_type": "code",
   "execution_count": 3,
   "metadata": {},
   "outputs": [
    {
     "name": "stdout",
     "output_type": "stream",
     "text": [
      "False\n",
      "True\n"
     ]
    }
   ],
   "source": [
    "print(any([False, False, 0, \"\"]))\n",
    "print(any([False, True, 0, \"\"]))"
   ]
  },
  {
   "cell_type": "markdown",
   "metadata": {},
   "source": [
    "- `ascii()` Convierte un objeto en una representación que usa caracteres ASCII, reemplazando caracteres especiales con secuencias de escape."
   ]
  },
  {
   "cell_type": "code",
   "execution_count": 4,
   "metadata": {},
   "outputs": [
    {
     "name": "stdout",
     "output_type": "stream",
     "text": [
      "'Hola, \\xbfc\\xf3mo est\\xe1s?'\n"
     ]
    }
   ],
   "source": [
    "print(ascii(\"Hola, ¿cómo estás?\"))"
   ]
  },
  {
   "cell_type": "markdown",
   "metadata": {},
   "source": [
    "- `bin()` Convierte un número en su representación binaria (base 2)."
   ]
  },
  {
   "cell_type": "code",
   "execution_count": 5,
   "metadata": {},
   "outputs": [
    {
     "name": "stdout",
     "output_type": "stream",
     "text": [
      "0b1010\n",
      "0b11111111\n"
     ]
    }
   ],
   "source": [
    "print(bin(10))\n",
    "print(bin(255))"
   ]
  },
  {
   "cell_type": "markdown",
   "metadata": {},
   "source": [
    "- `bool()` Devuelve el valor booleano de un objeto. Los valores como `0`, `None`, `''` (cadena vacía) y listas vacías son `False`. Todo lo demás es `True`."
   ]
  },
  {
   "cell_type": "code",
   "execution_count": 6,
   "metadata": {},
   "outputs": [
    {
     "name": "stdout",
     "output_type": "stream",
     "text": [
      "False\n",
      "True\n",
      "False\n",
      "True\n"
     ]
    }
   ],
   "source": [
    "print(bool(0))\n",
    "print(bool(1))\n",
    "print(bool(\"\"))\n",
    "print(bool(\"Hola\"))"
   ]
  },
  {
   "cell_type": "markdown",
   "metadata": {},
   "source": [
    "`bytearray()` Crea un arreglo mutable de bytes a partir de una cadena o un iterable. Los valores pueden modificarse posteriormente."
   ]
  },
  {
   "cell_type": "code",
   "execution_count": 7,
   "metadata": {},
   "outputs": [
    {
     "name": "stdout",
     "output_type": "stream",
     "text": [
      "bytearray(b'hola')\n",
      "bytearray(b'Hola')\n"
     ]
    }
   ],
   "source": [
    "ba = bytearray(\"hola\", \"utf-8\")\n",
    "print(ba)\n",
    "ba[0] = 72\n",
    "print(ba)"
   ]
  },
  {
   "cell_type": "markdown",
   "metadata": {},
   "source": [
    "- `bytes()` Crea un objeto de tipo bytes (una secuencia inmutable de bytes)."
   ]
  },
  {
   "cell_type": "code",
   "execution_count": 2,
   "metadata": {},
   "outputs": [
    {
     "name": "stdout",
     "output_type": "stream",
     "text": [
      "b'ABC'\n"
     ]
    }
   ],
   "source": [
    "b = bytes([65, 66, 67])\n",
    "print(b)"
   ]
  },
  {
   "cell_type": "markdown",
   "metadata": {},
   "source": [
    "- `callable()` Determina si un objeto es invocable (como una función o un objeto con el método `__call__`)."
   ]
  },
  {
   "cell_type": "code",
   "execution_count": 4,
   "metadata": {},
   "outputs": [
    {
     "name": "stdout",
     "output_type": "stream",
     "text": [
      "True\n",
      "False\n"
     ]
    }
   ],
   "source": [
    "def mi_function():\n",
    "    pass\n",
    "\n",
    "\n",
    "print(callable(mi_function))\n",
    "print(callable(123))"
   ]
  },
  {
   "cell_type": "markdown",
   "metadata": {},
   "source": [
    "- `chr()` Convierte un entero (código Unicode) en su carácter correspondiente."
   ]
  },
  {
   "cell_type": "code",
   "execution_count": 8,
   "metadata": {},
   "outputs": [
    {
     "name": "stdout",
     "output_type": "stream",
     "text": [
      "E\n",
      "€\n"
     ]
    }
   ],
   "source": [
    "print(chr(69))\n",
    "print(chr(8364))"
   ]
  },
  {
   "cell_type": "markdown",
   "metadata": {},
   "source": [
    "- `classmethod()` Convierte un método en un método de clase, que recibe la clase como primer argumento (`cls`)."
   ]
  },
  {
   "cell_type": "code",
   "execution_count": 9,
   "metadata": {},
   "outputs": [
    {
     "name": "stdout",
     "output_type": "stream",
     "text": [
      "Hola desde MiClase\n"
     ]
    }
   ],
   "source": [
    "class MiClase:\n",
    "    @classmethod\n",
    "    def saludo(cls):\n",
    "        print(f\"Hola desde {cls.__name__}\")\n",
    "\n",
    "\n",
    "MiClase.saludo()"
   ]
  },
  {
   "cell_type": "markdown",
   "metadata": {},
   "source": [
    "- `compile()` Convierte el código fuente en un objeto ejecutable que puede ser evaluado o ejecutado."
   ]
  },
  {
   "cell_type": "code",
   "execution_count": 10,
   "metadata": {},
   "outputs": [
    {
     "name": "stdout",
     "output_type": "stream",
     "text": [
      "Hola Mundo!\n"
     ]
    }
   ],
   "source": [
    "code = \"print('Hola Mundo!')\"\n",
    "codigo_compilado = compile(code, '<string>', 'exec')\n",
    "exec(codigo_compilado)"
   ]
  },
  {
   "cell_type": "markdown",
   "metadata": {},
   "source": [
    "- `complex()` Crea un número complejo a partir de partes reales e imaginarias."
   ]
  },
  {
   "cell_type": "code",
   "execution_count": 11,
   "metadata": {},
   "outputs": [
    {
     "name": "stdout",
     "output_type": "stream",
     "text": [
      "(3+4j)\n"
     ]
    }
   ],
   "source": [
    "numro_complejo = complex(3, 4)\n",
    "print(numro_complejo)"
   ]
  },
  {
   "cell_type": "markdown",
   "metadata": {},
   "source": [
    "- `delattr()` Elimina un atributo de un objeto."
   ]
  },
  {
   "cell_type": "code",
   "execution_count": 66,
   "metadata": {},
   "outputs": [
    {
     "name": "stdout",
     "output_type": "stream",
     "text": [
      "Hola\n"
     ]
    },
    {
     "ename": "AttributeError",
     "evalue": "'MiClase' object has no attribute 'mi_atributo'",
     "output_type": "error",
     "traceback": [
      "\u001b[1;31m---------------------------------------------------------------------------\u001b[0m",
      "\u001b[1;31mAttributeError\u001b[0m                            Traceback (most recent call last)",
      "Cell \u001b[1;32mIn[66], line 7\u001b[0m\n\u001b[0;32m      4\u001b[0m objeto \u001b[38;5;241m=\u001b[39m MiClase()\n\u001b[0;32m      5\u001b[0m \u001b[38;5;28mprint\u001b[39m(objeto\u001b[38;5;241m.\u001b[39mmi_atributo)\n\u001b[1;32m----> 7\u001b[0m \u001b[38;5;28;43mdelattr\u001b[39;49m\u001b[43m(\u001b[49m\u001b[43mobjeto\u001b[49m\u001b[43m,\u001b[49m\u001b[43m \u001b[49m\u001b[38;5;124;43m'\u001b[39;49m\u001b[38;5;124;43mmi_atributo\u001b[39;49m\u001b[38;5;124;43m'\u001b[39;49m\u001b[43m)\u001b[49m\n\u001b[0;32m      8\u001b[0m \u001b[38;5;28mprint\u001b[39m(objeto\u001b[38;5;241m.\u001b[39mmi_atributo)  \u001b[38;5;66;03m# Error: AttributeError\u001b[39;00m\n",
      "\u001b[1;31mAttributeError\u001b[0m: 'MiClase' object has no attribute 'mi_atributo'"
     ]
    }
   ],
   "source": [
    "class MiClase:\n",
    "    mi_atributo = \"Hola\"\n",
    "\n",
    "objeto = MiClase()\n",
    "print(objeto.mi_atributo)\n",
    "\n",
    "delattr(objeto, 'mi_atributo')\n",
    "print(objeto.mi_atributo)  # Error: AttributeError"
   ]
  },
  {
   "cell_type": "markdown",
   "metadata": {},
   "source": [
    "- `dict()` Crea un diccionario."
   ]
  },
  {
   "cell_type": "code",
   "execution_count": 17,
   "metadata": {},
   "outputs": [
    {
     "name": "stdout",
     "output_type": "stream",
     "text": [
      "{'llave1': 'valor1', 'llave2': 'valor2'}\n"
     ]
    }
   ],
   "source": [
    "diccionario = dict([('llave1', 'valor1'), ('llave2', 'valor2')])\n",
    "print(diccionario)"
   ]
  },
  {
   "cell_type": "markdown",
   "metadata": {},
   "source": [
    "- `dir()` Devuelve una lista de los atributos y métodos de un objeto."
   ]
  },
  {
   "cell_type": "code",
   "execution_count": 38,
   "metadata": {},
   "outputs": [
    {
     "name": "stdout",
     "output_type": "stream",
     "text": [
      "['__add__', '__class__', '__contains__', '__delattr__', '__dir__', '__doc__', '__eq__', '__format__', '__ge__', '__getattribute__', '__getitem__', '__getnewargs__', '__getstate__', '__gt__', '__hash__', '__init__', '__init_subclass__', '__iter__', '__le__', '__len__', '__lt__', '__mod__', '__mul__', '__ne__', '__new__', '__reduce__', '__reduce_ex__', '__repr__', '__rmod__', '__rmul__', '__setattr__', '__sizeof__', '__str__', '__subclasshook__', 'capitalize', 'casefold', 'center', 'count', 'encode', 'endswith', 'expandtabs', 'find', 'format', 'format_map', 'index', 'isalnum', 'isalpha', 'isascii', 'isdecimal', 'isdigit', 'isidentifier', 'islower', 'isnumeric', 'isprintable', 'isspace', 'istitle', 'isupper', 'join', 'ljust', 'lower', 'lstrip', 'maketrans', 'partition', 'removeprefix', 'removesuffix', 'replace', 'rfind', 'rindex', 'rjust', 'rpartition', 'rsplit', 'rstrip', 'split', 'splitlines', 'startswith', 'strip', 'swapcase', 'title', 'translate', 'upper', 'zfill']\n",
      "['__class__', '__class_getitem__', '__contains__', '__delattr__', '__delitem__', '__dir__', '__doc__', '__eq__', '__format__', '__ge__', '__getattribute__', '__getitem__', '__getstate__', '__gt__', '__hash__', '__init__', '__init_subclass__', '__ior__', '__iter__', '__le__', '__len__', '__lt__', '__ne__', '__new__', '__or__', '__reduce__', '__reduce_ex__', '__repr__', '__reversed__', '__ror__', '__setattr__', '__setitem__', '__sizeof__', '__str__', '__subclasshook__', 'clear', 'copy', 'fromkeys', 'get', 'items', 'keys', 'pop', 'popitem', 'setdefault', 'update', 'values']\n"
     ]
    }
   ],
   "source": [
    "mi_string = \"nsa\"\n",
    "mi_diccionario = {}\n",
    "\n",
    "print(dir(mi_string))\n",
    "print(dir(mi_diccionario))"
   ]
  },
  {
   "cell_type": "markdown",
   "metadata": {},
   "source": [
    "- `divmod()` Devuelve una tupla con el cociente y el resto de la división."
   ]
  },
  {
   "cell_type": "code",
   "execution_count": 40,
   "metadata": {},
   "outputs": [
    {
     "name": "stdout",
     "output_type": "stream",
     "text": [
      "(3, 1)\n"
     ]
    }
   ],
   "source": [
    "resultado = divmod(10, 3)\n",
    "print(resultado)"
   ]
  },
  {
   "cell_type": "markdown",
   "metadata": {},
   "source": [
    "- `enumerate()` Crea un objeto enumerado con índices para un iterable."
   ]
  },
  {
   "cell_type": "code",
   "execution_count": 42,
   "metadata": {},
   "outputs": [
    {
     "name": "stdout",
     "output_type": "stream",
     "text": [
      "0 manzana\n",
      "1 platano\n",
      "2 cereza\n"
     ]
    }
   ],
   "source": [
    "frutas = [\"manzana\", \"platano\", \"cereza\"]\n",
    "\n",
    "for indice, fruta in enumerate(frutas):\n",
    "    print(indice, fruta)"
   ]
  },
  {
   "cell_type": "markdown",
   "metadata": {},
   "source": [
    "- `eval()` Evalúa una expresión dada como cadena."
   ]
  },
  {
   "cell_type": "code",
   "execution_count": 45,
   "metadata": {},
   "outputs": [
    {
     "name": "stdout",
     "output_type": "stream",
     "text": [
      "15\n"
     ]
    }
   ],
   "source": [
    "expresion = \"10 + 5\"\n",
    "resultado = eval(expresion)\n",
    "print(resultado)"
   ]
  },
  {
   "cell_type": "markdown",
   "metadata": {},
   "source": [
    "- `exec()` Ejecuta el código especificado."
   ]
  },
  {
   "cell_type": "code",
   "execution_count": 46,
   "metadata": {},
   "outputs": [
    {
     "name": "stdout",
     "output_type": "stream",
     "text": [
      "Línea 0\n",
      "Línea 1\n",
      "Línea 2\n"
     ]
    }
   ],
   "source": [
    "codigo = \"\"\"\n",
    "for i in range(3):\n",
    "    print(\"Línea\", i)\n",
    "\"\"\"\n",
    "\n",
    "exec(codigo)"
   ]
  },
  {
   "cell_type": "markdown",
   "metadata": {},
   "source": [
    "- `filter()` Filtra los elementos de un iterable según una función."
   ]
  },
  {
   "cell_type": "code",
   "execution_count": 48,
   "metadata": {},
   "outputs": [
    {
     "name": "stdout",
     "output_type": "stream",
     "text": [
      "[2, 4, 6]\n"
     ]
    }
   ],
   "source": [
    "numeros = [1, 2, 3, 4, 5, 6]\n",
    "\n",
    "resultado = filter(lambda x: x % 2 == 0, numeros)\n",
    "print(list(resultado))"
   ]
  },
  {
   "cell_type": "markdown",
   "metadata": {},
   "source": [
    "- `float()` Convierte un número o cadena a un número de punto flotante."
   ]
  },
  {
   "cell_type": "code",
   "execution_count": 50,
   "metadata": {},
   "outputs": [
    {
     "name": "stdout",
     "output_type": "stream",
     "text": [
      "3.14\n",
      "<class 'float'>\n"
     ]
    }
   ],
   "source": [
    "resultado = float(\"3.14\")\n",
    "print(resultado)\n",
    "print(type(resultado))"
   ]
  },
  {
   "cell_type": "markdown",
   "metadata": {},
   "source": [
    "- `format()` Da formato a un valor especificado."
   ]
  },
  {
   "cell_type": "code",
   "execution_count": 51,
   "metadata": {},
   "outputs": [
    {
     "name": "stdout",
     "output_type": "stream",
     "text": [
      "1234.57\n"
     ]
    }
   ],
   "source": [
    "valor = 1234.5678\n",
    "formateado = format(valor, \".2f\")\n",
    "print(formateado)"
   ]
  },
  {
   "cell_type": "markdown",
   "metadata": {},
   "source": [
    "- `frozenset()` Crea un conjunto inmutable."
   ]
  },
  {
   "cell_type": "code",
   "execution_count": 54,
   "metadata": {},
   "outputs": [
    {
     "name": "stdout",
     "output_type": "stream",
     "text": [
      "frozenset({1, 2, 3})\n"
     ]
    }
   ],
   "source": [
    "items = [1, 2, 3, 2, 1]\n",
    "frozen = frozenset(items)\n",
    "print(frozen)"
   ]
  },
  {
   "cell_type": "markdown",
   "metadata": {},
   "source": [
    "- `getattr()` Obtiene el valor de un atributo de un objeto."
   ]
  },
  {
   "cell_type": "code",
   "execution_count": 64,
   "metadata": {},
   "outputs": [
    {
     "name": "stdout",
     "output_type": "stream",
     "text": [
      "Hola\n"
     ]
    }
   ],
   "source": [
    "class MiClase:\n",
    "    hola_attr = \"Hola\"\n",
    "\n",
    "objeto = MiClase()\n",
    "print(getattr(objeto, \"hola_attr\"))"
   ]
  },
  {
   "cell_type": "markdown",
   "metadata": {},
   "source": [
    "- `globals()` Devuelve las variables globales en un diccionario."
   ]
  },
  {
   "cell_type": "code",
   "execution_count": 61,
   "metadata": {},
   "outputs": [
    {
     "name": "stdout",
     "output_type": "stream",
     "text": [
      "42\n"
     ]
    }
   ],
   "source": [
    "x = 42\n",
    "print(globals()[\"x\"])"
   ]
  },
  {
   "cell_type": "markdown",
   "metadata": {},
   "source": [
    "- `hasattr()` Verifica si un objeto tiene un atributo."
   ]
  },
  {
   "cell_type": "code",
   "execution_count": 63,
   "metadata": {},
   "outputs": [
    {
     "name": "stdout",
     "output_type": "stream",
     "text": [
      "True\n",
      "False\n"
     ]
    }
   ],
   "source": [
    "class MiClase:\n",
    "    hola_attr = \"Hola\"\n",
    "\n",
    "\n",
    "objeto = MiClase()\n",
    "print(hasattr(objeto, \"hola_attr\"))\n",
    "print(hasattr(objeto, \"no_existe\"))"
   ]
  },
  {
   "cell_type": "markdown",
   "metadata": {},
   "source": [
    "- `hash()` Devuelve el hash de un objeto (si es hashable)."
   ]
  },
  {
   "cell_type": "code",
   "execution_count": 70,
   "metadata": {},
   "outputs": [
    {
     "name": "stdout",
     "output_type": "stream",
     "text": [
      "6723749318432061270\n"
     ]
    }
   ],
   "source": [
    "valor = \"Hola\"\n",
    "print(hash(valor))"
   ]
  },
  {
   "cell_type": "markdown",
   "metadata": {},
   "source": [
    "- `help()` Muestra la ayuda de **Python**."
   ]
  },
  {
   "cell_type": "code",
   "execution_count": 76,
   "metadata": {},
   "outputs": [
    {
     "name": "stdout",
     "output_type": "stream",
     "text": [
      "Help on built-in function print in module builtins:\n",
      "\n",
      "print(*args, sep=' ', end='\\n', file=None, flush=False)\n",
      "    Prints the values to a stream, or to sys.stdout by default.\n",
      "    \n",
      "    sep\n",
      "      string inserted between values, default a space.\n",
      "    end\n",
      "      string appended after the last value, default a newline.\n",
      "    file\n",
      "      a file-like object (stream); defaults to the current sys.stdout.\n",
      "    flush\n",
      "      whether to forcibly flush the stream.\n",
      "\n"
     ]
    }
   ],
   "source": [
    "help(print)"
   ]
  },
  {
   "cell_type": "markdown",
   "metadata": {},
   "source": [
    "- `hex()` Convierte un número en su representación hexadecimal."
   ]
  },
  {
   "cell_type": "code",
   "execution_count": 1,
   "metadata": {},
   "outputs": [
    {
     "name": "stdout",
     "output_type": "stream",
     "text": [
      "0xff\n"
     ]
    }
   ],
   "source": [
    "num = 255\n",
    "print(hex(num))"
   ]
  },
  {
   "cell_type": "markdown",
   "metadata": {},
   "source": [
    "- `id()` Devuelve el identificador único de un objeto."
   ]
  },
  {
   "cell_type": "code",
   "execution_count": 4,
   "metadata": {},
   "outputs": [
    {
     "name": "stdout",
     "output_type": "stream",
     "text": [
      "140715936282696\n"
     ]
    }
   ],
   "source": [
    "x = 42\n",
    "print(id(x))"
   ]
  },
  {
   "cell_type": "markdown",
   "metadata": {},
   "source": [
    "- `input()` Solicita la entrada del usuario desde la consola."
   ]
  },
  {
   "cell_type": "code",
   "execution_count": 6,
   "metadata": {},
   "outputs": [
    {
     "name": "stdout",
     "output_type": "stream",
     "text": [
      "Hola, Tyrone!\n"
     ]
    }
   ],
   "source": [
    "nombre = input(\"Introduce tu nombre: \")\n",
    "print(f\"Hola, {nombre}!\")"
   ]
  },
  {
   "cell_type": "markdown",
   "metadata": {},
   "source": [
    "- `int()` Convierte un valor a un entero."
   ]
  },
  {
   "cell_type": "code",
   "execution_count": 7,
   "metadata": {},
   "outputs": [
    {
     "name": "stdout",
     "output_type": "stream",
     "text": [
      "42\n"
     ]
    }
   ],
   "source": [
    "valor = \"42\"\n",
    "print(int(valor))"
   ]
  },
  {
   "cell_type": "markdown",
   "metadata": {},
   "source": [
    "- `isinstance()` Comprueba si un objeto es instancia de una clase o tipo."
   ]
  },
  {
   "cell_type": "code",
   "execution_count": 9,
   "metadata": {},
   "outputs": [
    {
     "name": "stdout",
     "output_type": "stream",
     "text": [
      "True\n",
      "False\n"
     ]
    }
   ],
   "source": [
    "numero = 42\n",
    "print(isinstance(numero, int))\n",
    "print(isinstance(numero, str))"
   ]
  },
  {
   "cell_type": "markdown",
   "metadata": {},
   "source": [
    "- `issubclass()` Comprueba si una clase es subclase de otra."
   ]
  },
  {
   "cell_type": "code",
   "execution_count": 11,
   "metadata": {},
   "outputs": [
    {
     "name": "stdout",
     "output_type": "stream",
     "text": [
      "True\n",
      "False\n"
     ]
    }
   ],
   "source": [
    "class A:\n",
    "    pass\n",
    "\n",
    "class B(A):\n",
    "    pass\n",
    "\n",
    "print(issubclass(B, A))\n",
    "print(issubclass(A, B))\n"
   ]
  },
  {
   "cell_type": "markdown",
   "metadata": {},
   "source": [
    "- `iter()` Devuelve un objeto iterador."
   ]
  },
  {
   "cell_type": "code",
   "execution_count": 14,
   "metadata": {},
   "outputs": [
    {
     "name": "stdout",
     "output_type": "stream",
     "text": [
      "1\n",
      "2\n",
      "3\n"
     ]
    }
   ],
   "source": [
    "numeros = [1, 2, 3]\n",
    "iterador = iter(numeros)\n",
    "\n",
    "print(next(iterador))\n",
    "print(next(iterador))\n",
    "print(next(iterador))"
   ]
  },
  {
   "cell_type": "markdown",
   "metadata": {},
   "source": [
    "- `len()` Devuelve la longitud de un objeto."
   ]
  },
  {
   "cell_type": "code",
   "execution_count": 16,
   "metadata": {},
   "outputs": [
    {
     "name": "stdout",
     "output_type": "stream",
     "text": [
      "4\n"
     ]
    }
   ],
   "source": [
    "texto = \"hola\"\n",
    "print(len(texto))"
   ]
  },
  {
   "cell_type": "markdown",
   "metadata": {},
   "source": [
    "- `list()` Convierte un iterable en una lista."
   ]
  },
  {
   "cell_type": "code",
   "execution_count": 17,
   "metadata": {},
   "outputs": [
    {
     "name": "stdout",
     "output_type": "stream",
     "text": [
      "[1, 2, 3]\n"
     ]
    }
   ],
   "source": [
    "items = (1, 2, 3)\n",
    "print(list(items))"
   ]
  },
  {
   "cell_type": "markdown",
   "metadata": {},
   "source": [
    "- `locals()` Devuelve un diccionario con las variables locales."
   ]
  },
  {
   "cell_type": "code",
   "execution_count": 18,
   "metadata": {},
   "outputs": [
    {
     "name": "stdout",
     "output_type": "stream",
     "text": [
      "{'__name__': '__main__', '__doc__': 'Automatically created module for IPython interactive environment', '__package__': None, '__loader__': None, '__spec__': None, '__builtin__': <module 'builtins' (built-in)>, '__builtins__': <module 'builtins' (built-in)>, '_ih': ['', 'num = 255\\nprint(hex(num))', 'x = 42\\nprint(id(x))', 'x = 42\\nprint(id(x))', 'x = 42\\nprint(id(x))', 'name = input(\"Enter your name: \")\\nprint(f\"Hello, {name}!\")  # Salida: (depende de la entrada del usuario)', 'nombre = input(\"Introduce tu nombre: \")\\nprint(f\"Hola, {nombre}!\")', 'valor = \"42\"\\nprint(int(valor))', 'x = 42\\nprint(isinstance(x, int))\\nprint(isinstance(x, str))', 'numero = 42\\nprint(isinstance(numero, int))\\nprint(isinstance(numero, str))', 'class A: pass\\nclass B(A): pass\\n\\nprint(issubclass(B, A))\\nprint(issubclass(A, B))', 'class A:\\n    pass\\n\\nclass B(A):\\n    pass\\n\\nprint(issubclass(B, A))\\nprint(issubclass(A, B))', 'numbers = [1, 2, 3]\\niterator = iter(numbers)\\n\\nprint(next(iterator))\\nprint(next(iterator))', 'numbers = [1, 2, 3]\\niterator = iter(numbers)\\n\\nprint(next(iterator))\\nprint(next(iterator))\\nprint(next(iterator))', 'numeros = [1, 2, 3]\\niterador = iter(numeros)\\n\\nprint(next(iterador))\\nprint(next(iterador))\\nprint(next(iterador))', 'text = \"hello\"\\nprint(len(text))', 'texto = \"hola\"\\nprint(len(texto))', 'items = (1, 2, 3)\\nprint(list(items))', 'x = 10\\nprint(locals())'], '_oh': {}, '_dh': [WindowsPath('d:/Projects/course_python/glosario')], 'In': ['', 'num = 255\\nprint(hex(num))', 'x = 42\\nprint(id(x))', 'x = 42\\nprint(id(x))', 'x = 42\\nprint(id(x))', 'name = input(\"Enter your name: \")\\nprint(f\"Hello, {name}!\")  # Salida: (depende de la entrada del usuario)', 'nombre = input(\"Introduce tu nombre: \")\\nprint(f\"Hola, {nombre}!\")', 'valor = \"42\"\\nprint(int(valor))', 'x = 42\\nprint(isinstance(x, int))\\nprint(isinstance(x, str))', 'numero = 42\\nprint(isinstance(numero, int))\\nprint(isinstance(numero, str))', 'class A: pass\\nclass B(A): pass\\n\\nprint(issubclass(B, A))\\nprint(issubclass(A, B))', 'class A:\\n    pass\\n\\nclass B(A):\\n    pass\\n\\nprint(issubclass(B, A))\\nprint(issubclass(A, B))', 'numbers = [1, 2, 3]\\niterator = iter(numbers)\\n\\nprint(next(iterator))\\nprint(next(iterator))', 'numbers = [1, 2, 3]\\niterator = iter(numbers)\\n\\nprint(next(iterator))\\nprint(next(iterator))\\nprint(next(iterator))', 'numeros = [1, 2, 3]\\niterador = iter(numeros)\\n\\nprint(next(iterador))\\nprint(next(iterador))\\nprint(next(iterador))', 'text = \"hello\"\\nprint(len(text))', 'texto = \"hola\"\\nprint(len(texto))', 'items = (1, 2, 3)\\nprint(list(items))', 'x = 10\\nprint(locals())'], 'Out': {}, 'get_ipython': <bound method InteractiveShell.get_ipython of <ipykernel.zmqshell.ZMQInteractiveShell object at 0x0000027861D2A910>>, 'exit': <IPython.core.autocall.ZMQExitAutocall object at 0x0000027861D3B350>, 'quit': <IPython.core.autocall.ZMQExitAutocall object at 0x0000027861D3B350>, 'open': <function open at 0x000002785FE393A0>, '_': '', '__': '', '___': '', '__vsc_ipynb_file__': 'd:\\\\Projects\\\\course_python\\\\glosario\\\\02_funciones_integradas.ipynb', '_i': 'items = (1, 2, 3)\\nprint(list(items))', '_ii': 'texto = \"hola\"\\nprint(len(texto))', '_iii': 'text = \"hello\"\\nprint(len(text))', '_i1': 'num = 255\\nprint(hex(num))', 'num': 255, '_i2': 'x = 42\\nprint(id(x))', 'x': 10, '_i3': 'x = 42\\nprint(id(x))', '_i4': 'x = 42\\nprint(id(x))', '_i5': 'name = input(\"Enter your name: \")\\nprint(f\"Hello, {name}!\")  # Salida: (depende de la entrada del usuario)', 'name': 'jsj', '_i6': 'nombre = input(\"Introduce tu nombre: \")\\nprint(f\"Hola, {nombre}!\")', 'nombre': 'Tyrone', '_i7': 'valor = \"42\"\\nprint(int(valor))', 'valor': '42', '_i8': 'x = 42\\nprint(isinstance(x, int))\\nprint(isinstance(x, str))', '_i9': 'numero = 42\\nprint(isinstance(numero, int))\\nprint(isinstance(numero, str))', 'numero': 42, '_i10': 'class A: pass\\nclass B(A): pass\\n\\nprint(issubclass(B, A))\\nprint(issubclass(A, B))', 'A': <class '__main__.A'>, 'B': <class '__main__.B'>, '_i11': 'class A:\\n    pass\\n\\nclass B(A):\\n    pass\\n\\nprint(issubclass(B, A))\\nprint(issubclass(A, B))', '_i12': 'numbers = [1, 2, 3]\\niterator = iter(numbers)\\n\\nprint(next(iterator))\\nprint(next(iterator))', 'numbers': [1, 2, 3], 'iterator': <list_iterator object at 0x0000027861DAA140>, '_i13': 'numbers = [1, 2, 3]\\niterator = iter(numbers)\\n\\nprint(next(iterator))\\nprint(next(iterator))\\nprint(next(iterator))', '_i14': 'numeros = [1, 2, 3]\\niterador = iter(numeros)\\n\\nprint(next(iterador))\\nprint(next(iterador))\\nprint(next(iterador))', 'numeros': [1, 2, 3], 'iterador': <list_iterator object at 0x0000027861DAAF50>, '_i15': 'text = \"hello\"\\nprint(len(text))', 'text': 'hello', '_i16': 'texto = \"hola\"\\nprint(len(texto))', 'texto': 'hola', '_i17': 'items = (1, 2, 3)\\nprint(list(items))', 'items': (1, 2, 3), '_i18': 'x = 10\\nprint(locals())'}\n"
     ]
    }
   ],
   "source": [
    "x = 10\n",
    "print(locals())"
   ]
  },
  {
   "cell_type": "markdown",
   "metadata": {},
   "source": [
    "- `map()` Aplica una función a cada elemento de un iterable."
   ]
  },
  {
   "cell_type": "code",
   "execution_count": 21,
   "metadata": {},
   "outputs": [
    {
     "name": "stdout",
     "output_type": "stream",
     "text": [
      "[1, 4, 9]\n"
     ]
    }
   ],
   "source": [
    "numeros = [1, 2, 3]\n",
    "cuadrados = map(lambda x: x**2, numeros)\n",
    "print(list(cuadrados))"
   ]
  },
  {
   "cell_type": "markdown",
   "metadata": {},
   "source": [
    "- `max()` Devuelve el valor máximo de un iterable."
   ]
  },
  {
   "cell_type": "code",
   "execution_count": 22,
   "metadata": {},
   "outputs": [
    {
     "name": "stdout",
     "output_type": "stream",
     "text": [
      "30\n"
     ]
    }
   ],
   "source": [
    "numeros = [10, 20, 30]\n",
    "print(max(numeros))"
   ]
  },
  {
   "cell_type": "markdown",
   "metadata": {},
   "source": [
    "- `memoryview()` Crea una vista de memoria para acceso directo."
   ]
  },
  {
   "cell_type": "code",
   "execution_count": 24,
   "metadata": {},
   "outputs": [
    {
     "name": "stdout",
     "output_type": "stream",
     "text": [
      "104\n"
     ]
    }
   ],
   "source": [
    "data = b'hola'\n",
    "vista = memoryview(data)\n",
    "print(vista[0])"
   ]
  },
  {
   "cell_type": "markdown",
   "metadata": {},
   "source": [
    "- `min()` Devuelve el valor mínimo de un iterable."
   ]
  },
  {
   "cell_type": "code",
   "execution_count": 25,
   "metadata": {},
   "outputs": [
    {
     "name": "stdout",
     "output_type": "stream",
     "text": [
      "10\n"
     ]
    }
   ],
   "source": [
    "numeros = [10, 20, 30]\n",
    "print(min(numeros))"
   ]
  },
  {
   "cell_type": "markdown",
   "metadata": {},
   "source": [
    "- `next()` Obtiene el siguiente elemento de un iterador."
   ]
  },
  {
   "cell_type": "code",
   "execution_count": 27,
   "metadata": {},
   "outputs": [
    {
     "name": "stdout",
     "output_type": "stream",
     "text": [
      "1\n",
      "2\n"
     ]
    }
   ],
   "source": [
    "iterador = iter([1, 2, 3])\n",
    "print(next(iterador))\n",
    "print(next(iterador))"
   ]
  },
  {
   "cell_type": "markdown",
   "metadata": {},
   "source": [
    "- `object()` Crea un objeto genérico base."
   ]
  },
  {
   "cell_type": "code",
   "execution_count": 29,
   "metadata": {},
   "outputs": [
    {
     "name": "stdout",
     "output_type": "stream",
     "text": [
      "<class 'object'>\n"
     ]
    }
   ],
   "source": [
    "obj = object()\n",
    "print(type(obj))"
   ]
  },
  {
   "cell_type": "markdown",
   "metadata": {},
   "source": [
    "- `oct()` Convierte un número en su representación octal."
   ]
  },
  {
   "cell_type": "code",
   "execution_count": 30,
   "metadata": {},
   "outputs": [
    {
     "name": "stdout",
     "output_type": "stream",
     "text": [
      "0o10\n"
     ]
    }
   ],
   "source": [
    "numero = 8\n",
    "print(oct(numero))"
   ]
  },
  {
   "cell_type": "markdown",
   "metadata": {},
   "source": [
    "- `open()` Abre un archivo."
   ]
  },
  {
   "cell_type": "code",
   "execution_count": 33,
   "metadata": {},
   "outputs": [],
   "source": [
    "with open(\"../assets/txt/funciones_integradas.txt\", \"w\") as file:\n",
    "    file.write(\"Hola mundo!\")"
   ]
  },
  {
   "cell_type": "markdown",
   "metadata": {},
   "source": [
    "- `ord()` Convierte un carácter en su valor Unicode."
   ]
  },
  {
   "cell_type": "code",
   "execution_count": 39,
   "metadata": {},
   "outputs": [
    {
     "name": "stdout",
     "output_type": "stream",
     "text": [
      "128230\n"
     ]
    }
   ],
   "source": [
    "emoji = \"📦\"\n",
    "print(ord(emoji))"
   ]
  },
  {
   "cell_type": "markdown",
   "metadata": {},
   "source": [
    "- `pow()` Calcula la potencia de un número."
   ]
  },
  {
   "cell_type": "code",
   "execution_count": 40,
   "metadata": {},
   "outputs": [
    {
     "name": "stdout",
     "output_type": "stream",
     "text": [
      "8\n"
     ]
    }
   ],
   "source": [
    "resultado = pow(2, 3)  # 2 elevado a 3\n",
    "print(resultado)"
   ]
  },
  {
   "cell_type": "markdown",
   "metadata": {},
   "source": [
    "- `print()` Imprime datos en la salida estándar."
   ]
  },
  {
   "cell_type": "code",
   "execution_count": 41,
   "metadata": {},
   "outputs": [
    {
     "name": "stdout",
     "output_type": "stream",
     "text": [
      "Hola Mundo!\n"
     ]
    }
   ],
   "source": [
    "print(\"Hola Mundo!\")"
   ]
  },
  {
   "cell_type": "markdown",
   "metadata": {},
   "source": [
    "- `property()` Crea propiedades para gestionar atributos de clase."
   ]
  },
  {
   "cell_type": "code",
   "execution_count": 43,
   "metadata": {},
   "outputs": [
    {
     "name": "stdout",
     "output_type": "stream",
     "text": [
      "Alice\n",
      "Bob\n"
     ]
    }
   ],
   "source": [
    "class Persona:\n",
    "    def __init__(self, nombre):\n",
    "        self._nombre = nombre\n",
    "\n",
    "    @property\n",
    "    def nombre(self):\n",
    "        return self._nombre\n",
    "\n",
    "    @nombre.setter\n",
    "    def nombre(self, value):\n",
    "        self._nombre = value\n",
    "\n",
    "persona1 = Persona(\"Alice\")\n",
    "print(persona1.nombre)\n",
    "persona1.nombre = \"Bob\"\n",
    "print(persona1.nombre)"
   ]
  },
  {
   "cell_type": "markdown",
   "metadata": {},
   "source": [
    "- `range()` Devuelve una secuencia de números."
   ]
  },
  {
   "cell_type": "code",
   "execution_count": 44,
   "metadata": {},
   "outputs": [
    {
     "name": "stdout",
     "output_type": "stream",
     "text": [
      "0\n",
      "1\n",
      "2\n",
      "3\n",
      "4\n"
     ]
    }
   ],
   "source": [
    "for i in range(5):\n",
    "    print(i)"
   ]
  },
  {
   "cell_type": "markdown",
   "metadata": {},
   "source": [
    "- `repr()` Devuelve una representación legible de un objeto."
   ]
  },
  {
   "cell_type": "code",
   "execution_count": 48,
   "metadata": {},
   "outputs": [
    {
     "name": "stdout",
     "output_type": "stream",
     "text": [
      "42\n"
     ]
    }
   ],
   "source": [
    "x = 42\n",
    "print(repr(x))"
   ]
  },
  {
   "cell_type": "markdown",
   "metadata": {},
   "source": [
    "- `reversed()` Itera un iterable en orden inverso."
   ]
  },
  {
   "cell_type": "code",
   "execution_count": 49,
   "metadata": {},
   "outputs": [
    {
     "name": "stdout",
     "output_type": "stream",
     "text": [
      "3\n",
      "2\n",
      "1\n"
     ]
    }
   ],
   "source": [
    "numeros = [1, 2, 3]\n",
    "for numero in reversed(numeros):\n",
    "    print(numero)"
   ]
  },
  {
   "cell_type": "markdown",
   "metadata": {},
   "source": [
    "- `round()` Redondea un número."
   ]
  },
  {
   "cell_type": "code",
   "execution_count": 50,
   "metadata": {},
   "outputs": [
    {
     "name": "stdout",
     "output_type": "stream",
     "text": [
      "3.14\n",
      "2\n"
     ]
    }
   ],
   "source": [
    "print(round(3.14159, 2))\n",
    "print(round(2.5))"
   ]
  },
  {
   "cell_type": "markdown",
   "metadata": {},
   "source": [
    "- `set()` Crea un conjunto."
   ]
  },
  {
   "cell_type": "code",
   "execution_count": 52,
   "metadata": {},
   "outputs": [
    {
     "name": "stdout",
     "output_type": "stream",
     "text": [
      "{1, 2, 3}\n"
     ]
    }
   ],
   "source": [
    "numeros = [1, 2, 2, 3]\n",
    "num_unicos = set(numeros)\n",
    "print(num_unicos)"
   ]
  },
  {
   "cell_type": "markdown",
   "metadata": {},
   "source": [
    "- `setattr()` Establece un atributo en un objeto."
   ]
  },
  {
   "cell_type": "code",
   "execution_count": 4,
   "metadata": {},
   "outputs": [
    {
     "name": "stdout",
     "output_type": "stream",
     "text": [
      "42\n"
     ]
    }
   ],
   "source": [
    "class Ejemplo:\n",
    "    pass\n",
    "\n",
    "objeto = Ejemplo()\n",
    "setattr(objeto, \"atributo\", 42)\n",
    "print(objeto.atributo)"
   ]
  },
  {
   "cell_type": "markdown",
   "metadata": {},
   "source": [
    "- `slice()` Crea un objeto de rebanado."
   ]
  },
  {
   "cell_type": "code",
   "execution_count": 8,
   "metadata": {},
   "outputs": [
    {
     "name": "stdout",
     "output_type": "stream",
     "text": [
      "[1, 2, 3]\n"
     ]
    }
   ],
   "source": [
    "numeros = [0, 1, 2, 3, 4]\n",
    "slc = slice(1, 4)\n",
    "print(numeros[slc])"
   ]
  },
  {
   "cell_type": "markdown",
   "metadata": {},
   "source": [
    "- `sorted()` Ordena un iterable."
   ]
  },
  {
   "cell_type": "code",
   "execution_count": 10,
   "metadata": {},
   "outputs": [
    {
     "name": "stdout",
     "output_type": "stream",
     "text": [
      "[0, 1, 2, 3]\n"
     ]
    }
   ],
   "source": [
    "numeros = [3, 1, 2, 0]\n",
    "print(sorted(numeros))"
   ]
  },
  {
   "cell_type": "markdown",
   "metadata": {},
   "source": [
    "- `staticmethod()` Crea un método estático."
   ]
  },
  {
   "cell_type": "code",
   "execution_count": 13,
   "metadata": {},
   "outputs": [
    {
     "name": "stdout",
     "output_type": "stream",
     "text": [
      "Hola!\n"
     ]
    }
   ],
   "source": [
    "class Ejemplo:\n",
    "    @staticmethod\n",
    "    def saludar():\n",
    "        print(\"Hola!\")\n",
    "\n",
    "Ejemplo.saludar()"
   ]
  },
  {
   "cell_type": "markdown",
   "metadata": {},
   "source": [
    "- `str()` Convierte un objeto en cadena."
   ]
  },
  {
   "cell_type": "code",
   "execution_count": 15,
   "metadata": {},
   "outputs": [
    {
     "name": "stdout",
     "output_type": "stream",
     "text": [
      "42\n"
     ]
    }
   ],
   "source": [
    "numero = 42\n",
    "print(str(numero))"
   ]
  },
  {
   "cell_type": "markdown",
   "metadata": {},
   "source": [
    "- `sum()` Suma elementos de un iterable."
   ]
  },
  {
   "cell_type": "code",
   "execution_count": 16,
   "metadata": {},
   "outputs": [
    {
     "name": "stdout",
     "output_type": "stream",
     "text": [
      "6\n"
     ]
    }
   ],
   "source": [
    "numeros = [1, 2, 3]\n",
    "print(sum(numeros))"
   ]
  },
  {
   "cell_type": "markdown",
   "metadata": {},
   "source": [
    "- `super()` Accede a la clase padre."
   ]
  },
  {
   "cell_type": "code",
   "execution_count": 17,
   "metadata": {},
   "outputs": [
    {
     "name": "stdout",
     "output_type": "stream",
     "text": [
      "Hola desde el Padre!\n",
      "Hola desde el Hijo!\n"
     ]
    }
   ],
   "source": [
    "class Padre:\n",
    "    def saludar(self):\n",
    "        print(\"Hola desde el Padre!\")\n",
    "\n",
    "class Hijo(Padre):\n",
    "    def saludar(self):\n",
    "        super().saludar() # Llama al método de la clase padre\n",
    "        print(\"Hola desde el Hijo!\")\n",
    "\n",
    "hijo = Hijo()\n",
    "hijo.saludar()"
   ]
  },
  {
   "cell_type": "markdown",
   "metadata": {},
   "source": [
    "- `tuple()` Crea una tupla."
   ]
  },
  {
   "cell_type": "code",
   "execution_count": 18,
   "metadata": {},
   "outputs": [
    {
     "name": "stdout",
     "output_type": "stream",
     "text": [
      "(1, 2, 3)\n"
     ]
    }
   ],
   "source": [
    "numeros = [1, 2, 3]\n",
    "tupla = tuple(numeros)\n",
    "print(tupla)"
   ]
  },
  {
   "cell_type": "markdown",
   "metadata": {},
   "source": [
    "- `type()` Devuelve el tipo de un objeto."
   ]
  },
  {
   "cell_type": "code",
   "execution_count": 21,
   "metadata": {},
   "outputs": [
    {
     "name": "stdout",
     "output_type": "stream",
     "text": [
      "<class 'int'>\n"
     ]
    }
   ],
   "source": [
    "numero = 42\n",
    "# numero = \"42\"\n",
    "print(type(numero))"
   ]
  },
  {
   "cell_type": "markdown",
   "metadata": {},
   "source": [
    "- `vars()` Devuelve los atributos de un objeto como diccionario."
   ]
  },
  {
   "cell_type": "code",
   "execution_count": 26,
   "metadata": {},
   "outputs": [
    {
     "name": "stdout",
     "output_type": "stream",
     "text": [
      "{'numero': 42, 'texto': 'Ejemplo'}\n"
     ]
    }
   ],
   "source": [
    "class Ejemplo:\n",
    "    def __init__(self):\n",
    "        self.numero = 42\n",
    "        self.texto = \"Ejemplo\"\n",
    "\n",
    "objeto = Ejemplo()\n",
    "print(vars(objeto))"
   ]
  },
  {
   "cell_type": "markdown",
   "metadata": {},
   "source": [
    "- `zip()` Combina iterables en tuplas."
   ]
  },
  {
   "cell_type": "code",
   "execution_count": 31,
   "metadata": {},
   "outputs": [
    {
     "name": "stdout",
     "output_type": "stream",
     "text": [
      "[(1, 'a'), (2, 'b'), (3, 'c')]\n"
     ]
    }
   ],
   "source": [
    "numeros = [1, 2, 3]\n",
    "letras = ['a', 'b', 'c']\n",
    "zipped = zip(numeros, letras)\n",
    "print(list(zipped))"
   ]
  }
 ],
 "metadata": {
  "kernelspec": {
   "display_name": "env",
   "language": "python",
   "name": "python3"
  },
  "language_info": {
   "codemirror_mode": {
    "name": "ipython",
    "version": 3
   },
   "file_extension": ".py",
   "mimetype": "text/x-python",
   "name": "python",
   "nbconvert_exporter": "python",
   "pygments_lexer": "ipython3",
   "version": "3.11.9"
  }
 },
 "nbformat": 4,
 "nbformat_minor": 2
}
