{
 "cells": [
  {
   "cell_type": "markdown",
   "metadata": {},
   "source": [
    "# **Funciones Integradas**"
   ]
  },
  {
   "cell_type": "markdown",
   "metadata": {},
   "source": [
    "| Función           | Descripción                                                                                             |\n",
    "|-------------------|---------------------------------------------------------------------------------------------------------|\n",
    "| `abs()`           | Devuelve el valor absoluto de un número.                                                                |\n",
    "| `all()`           | Devuelve `True` si todos los elementos en un objeto iterable son verdaderos.                            |\n",
    "| `any()`           | Devuelve `True` si al menos un elemento en un objeto iterable es verdadero.                             |\n",
    "| `ascii()`         | Devuelve una versión legible de un objeto, reemplazando caracteres no ASCII con su carácter de escape.   |\n",
    "| `bin()`           | Devuelve la representación binaria de un número.                                                        |\n",
    "| `bool()`          | Devuelve el valor booleano del objeto especificado.                                                     |\n",
    "| `bytearray()`     | Devuelve un arreglo de bytes mutable.                                                                   |\n",
    "| `bytes()`         | Devuelve un objeto de tipo bytes.                                                                       |\n",
    "| `callable()`      | Devuelve `True` si el objeto especificado es invocable, de lo contrario, devuelve `False`.               |\n",
    "| `chr()`           | Devuelve el carácter correspondiente al código Unicode especificado.                                    |\n",
    "| `classmethod()`   | Convierte un método en un método de clase.                                                              |\n",
    "| `compile()`       | Convierte el código fuente especificado en un objeto que está listo para ser ejecutado.                 |\n",
    "| `complex()`       | Devuelve un número complejo.                                                                            |\n",
    "| `delattr()`       | Elimina el atributo especificado (propiedad o método) de un objeto.                                     |\n",
    "| `dict()`          | Devuelve un diccionario.                                                                                |\n",
    "| `dir()`           | Devuelve una lista de las propiedades y métodos de un objeto especificado.                              |\n",
    "| `divmod()`        | Devuelve una tupla con el cociente y el resto de la división de los dos argumentos especificados.        |\n",
    "| `enumerate()`     | Toma una colección (por ejemplo, una tupla) y la devuelve como un objeto enumerado con índices.          |\n",
    "| `eval()`          | Evalúa y ejecuta una expresión dada como cadena.                                                        |\n",
    "| `exec()`          | Ejecuta el código o el objeto especificado.                                                          |\n",
    "| `filter()`        | Aplica una función filtro para excluir elementos en un objeto iterable.                              |\n",
    "| `float()`         | Devuelve un número de punto flotante.                                                                |\n",
    "| `format()`        | Da formato a un valor especificado según el formato indicado.                                        |\n",
    "| `frozenset()`     | Devuelve un objeto `frozenset`, un conjunto inmutable.                                               |\n",
    "| `getattr()`       | Devuelve el valor del atributo (propiedad o método) especificado de un objeto.                       |\n",
    "| `globals()`       | Devuelve la tabla de símbolos globales actual como un diccionario.                                   |\n",
    "| `hasattr()`       | Devuelve `True` si el objeto especificado tiene el atributo (propiedad o método) indicado.           |\n",
    "| `hash()`          | Devuelve el valor hash del objeto especificado.                                                      |\n",
    "| `help()`          | Ejecuta el sistema de ayuda integrado.                                                              |\n",
    "| `hex()`           | Convierte un número en su representación hexadecimal.                                               |\n",
    "| `id()`            | Devuelve el identificador único de un objeto.                                                        |\n",
    "| `input()`         | Solicita la entrada del usuario desde la consola.                                                   |\n",
    "| `int()`           | Devuelve un número entero.                                                                           |\n",
    "| `isinstance()`    | Devuelve `True` si un objeto es una instancia de una clase o tipo especificado.                      |\n",
    "| `issubclass()`    | Devuelve `True` si una clase es una subclase de otra clase especificada.                             |\n",
    "| `iter()`          | Devuelve un objeto iterador para un objeto iterable.                                                 |\n",
    "| `len()`           | Devuelve la longitud (cantidad de elementos) de un objeto.                                           |\n",
    "| `list()`          | Devuelve una lista basada en un iterable o un objeto vacío.                                          |\n",
    "| `locals()`        | Devuelve un diccionario actualizado de la tabla de símbolos locales actuales.                        |\n",
    "| `map()`           | Devuelve un iterador con la función especificada aplicada a cada elemento del iterable.              |\n",
    "| `max()`           | Devuelve el elemento más grande de un iterable o el mayor de dos o más argumentos.                  |\n",
    "| `memoryview()`    | Devuelve un objeto de vista de memoria que permite acceder directamente a los datos de un objeto.     |\n",
    "| `min()`           | Devuelve el elemento más pequeño de un iterable o el menor de dos o más argumentos.                  |\n",
    "| `next()`          | Devuelve el siguiente elemento en un iterador.                                                       |\n",
    "| `object()`        | Crea un nuevo objeto genérico base.                                                                  |\n",
    "| `oct()`           | Convierte un número en su representación octal.                                                     |\n",
    "| `open()`          | Abre un archivo y devuelve un objeto de archivo.                                                     |\n",
    "| `ord()`           | Convierte un carácter en su valor Unicode correspondiente como entero.                               |\n",
    "| `pow()`           | Devuelve el resultado de elevar un número a una potencia (`x**y`).                                   |\n",
    "| `print()`         | Imprime datos en la salida estándar.                                                                 |\n",
    "| `property()`      | Crea, obtiene o elimina propiedades para gestionar atributos de clase.                               |\n",
    "| `range()`         | Devuelve una secuencia de números, comenzando desde 0 y aumentando en 1 (por defecto).               |\n",
    "| `repr()`          | Devuelve una representación legible de un objeto.                                                    |\n",
    "| `reversed()`      | Devuelve un iterador que recorre un iterable en orden inverso.                                       |\n",
    "| `round()`         | Redondea un número al entero más cercano o al número de decimales especificado.                      |\n",
    "| `set()`           | Devuelve un nuevo conjunto (`set`) mutable.                                                         |\n",
    "| `setattr()`       | Establece un atributo (propiedad o método) de un objeto.                                             |\n",
    "| `slice()`         | Devuelve un objeto `slice` que se puede usar para rebanar secuencias.                                |\n",
    "| `sorted()`        | Devuelve una lista ordenada a partir de un iterable.                                                |\n",
    "| `staticmethod()`  | Convierte un método en un método estático, que no requiere una instancia de clase para ser llamado.  |\n",
    "| `str()`           | Devuelve un objeto de tipo cadena de texto (`string`).                                              |\n",
    "| `sum()`           | Suma los elementos de un iterable y devuelve el resultado.                                          |\n",
    "| `super()`         | Devuelve un objeto que representa la clase padre de la clase actual, utilizado para herencia.        |\n",
    "| `tuple()`         | Devuelve un objeto de tipo tupla (`tuple`) basado en un iterable.                                    |\n",
    "| `type()`          | Devuelve el tipo de un objeto o crea una nueva clase de tipo dinámico.                               |\n",
    "| `vars()`          | Devuelve el atributo `__dict__` de un objeto, que contiene sus atributos en forma de diccionario.    |\n",
    "| `zip()`           | Devuelve un iterador que combina elementos de dos o más iterables en tuplas.                        |"
   ]
  },
  {
   "cell_type": "markdown",
   "metadata": {},
   "source": [
    "- `abs()` Devuelve el valor absoluto de un número (sin el signo negativo)."
   ]
  },
  {
   "cell_type": "code",
   "execution_count": 1,
   "metadata": {},
   "outputs": [
    {
     "name": "stdout",
     "output_type": "stream",
     "text": [
      "10\n",
      "5\n"
     ]
    }
   ],
   "source": [
    "print(abs(-10))\n",
    "print(abs(-5))"
   ]
  },
  {
   "cell_type": "markdown",
   "metadata": {},
   "source": [
    "- `all()` Devuelve `True` si todos los elementos de un iterable (como lista o tupla) son verdaderos; si algún elemento es `False`, devuelve `False`."
   ]
  },
  {
   "cell_type": "code",
   "execution_count": 2,
   "metadata": {},
   "outputs": [
    {
     "name": "stdout",
     "output_type": "stream",
     "text": [
      "True\n",
      "False\n"
     ]
    }
   ],
   "source": [
    "print(all([True, True, 1, \"hello\"]))\n",
    "print(all([True, False, 1, \"hello\"]))"
   ]
  },
  {
   "cell_type": "markdown",
   "metadata": {},
   "source": [
    "- `any()` Devuelve `True` si al menos uno de los elementos en un iterable es verdadero; si todos son falsos, devuelve `False`."
   ]
  },
  {
   "cell_type": "code",
   "execution_count": 3,
   "metadata": {},
   "outputs": [
    {
     "name": "stdout",
     "output_type": "stream",
     "text": [
      "False\n",
      "True\n"
     ]
    }
   ],
   "source": [
    "print(any([False, False, 0, \"\"]))\n",
    "print(any([False, True, 0, \"\"]))"
   ]
  },
  {
   "cell_type": "markdown",
   "metadata": {},
   "source": [
    "- `ascii()` Convierte un objeto en una representación que usa caracteres ASCII, reemplazando caracteres especiales con secuencias de escape."
   ]
  },
  {
   "cell_type": "code",
   "execution_count": 4,
   "metadata": {},
   "outputs": [
    {
     "name": "stdout",
     "output_type": "stream",
     "text": [
      "'Hola, \\xbfc\\xf3mo est\\xe1s?'\n"
     ]
    }
   ],
   "source": [
    "print(ascii(\"Hola, ¿cómo estás?\"))"
   ]
  },
  {
   "cell_type": "markdown",
   "metadata": {},
   "source": [
    "- `bin()` Convierte un número en su representación binaria (base 2)."
   ]
  },
  {
   "cell_type": "code",
   "execution_count": 5,
   "metadata": {},
   "outputs": [
    {
     "name": "stdout",
     "output_type": "stream",
     "text": [
      "0b1010\n",
      "0b11111111\n"
     ]
    }
   ],
   "source": [
    "print(bin(10))\n",
    "print(bin(255))"
   ]
  },
  {
   "cell_type": "markdown",
   "metadata": {},
   "source": [
    "- `bool()` Devuelve el valor booleano de un objeto. Los valores como `0`, `None`, `''` (cadena vacía) y listas vacías son `False`. Todo lo demás es `True`."
   ]
  },
  {
   "cell_type": "code",
   "execution_count": 6,
   "metadata": {},
   "outputs": [
    {
     "name": "stdout",
     "output_type": "stream",
     "text": [
      "False\n",
      "True\n",
      "False\n",
      "True\n"
     ]
    }
   ],
   "source": [
    "print(bool(0))\n",
    "print(bool(1))\n",
    "print(bool(\"\"))\n",
    "print(bool(\"Hola\"))"
   ]
  },
  {
   "cell_type": "markdown",
   "metadata": {},
   "source": [
    "`bytearray()` Crea un arreglo mutable de bytes a partir de una cadena o un iterable. Los valores pueden modificarse posteriormente."
   ]
  },
  {
   "cell_type": "code",
   "execution_count": 7,
   "metadata": {},
   "outputs": [
    {
     "name": "stdout",
     "output_type": "stream",
     "text": [
      "bytearray(b'hola')\n",
      "bytearray(b'Hola')\n"
     ]
    }
   ],
   "source": [
    "ba = bytearray(\"hola\", \"utf-8\")\n",
    "print(ba)\n",
    "ba[0] = 72\n",
    "print(ba)"
   ]
  }
 ],
 "metadata": {
  "kernelspec": {
   "display_name": "env",
   "language": "python",
   "name": "python3"
  },
  "language_info": {
   "codemirror_mode": {
    "name": "ipython",
    "version": 3
   },
   "file_extension": ".py",
   "mimetype": "text/x-python",
   "name": "python",
   "nbconvert_exporter": "python",
   "pygments_lexer": "ipython3",
   "version": "3.11.9"
  }
 },
 "nbformat": 4,
 "nbformat_minor": 2
}
