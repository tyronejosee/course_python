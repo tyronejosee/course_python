{
 "cells": [
  {
   "cell_type": "markdown",
   "metadata": {},
   "source": [
    "# **Excepciones**"
   ]
  },
  {
   "cell_type": "markdown",
   "metadata": {},
   "source": [
    "| Excepción                  | Descripción                                                                                      |\n",
    "|----------------------------|--------------------------------------------------------------------------------------------------|\n",
    "| `ArithmeticError`          | Se genera cuando ocurre un error en cálculos numéricos.                                          |\n",
    "| `AssertionError`           | Se genera cuando una instrucción `assert` falla.                                                 |\n",
    "| `AttributeError`           | Se genera cuando falla la referencia o asignación de un atributo.                               |\n",
    "| `Exception`                | Clase base para todas las excepciones.                                                          |\n",
    "| `EOFError`                 | Se genera cuando el método `input()` llega a una condición de \"fin de archivo\" (EOF).            |\n",
    "| `FloatingPointError`       | Se genera cuando falla un cálculo con punto flotante.                                           |\n",
    "| `GeneratorExit`            | Se genera cuando un generador es cerrado mediante el método `close()`.                           |\n",
    "| `ImportError`              | Se genera cuando un módulo importado no existe.                                                 |\n",
    "| `IndentationError`         | Se genera cuando la indentación no es correcta.                                                 |\n",
    "| `IndexError`               | Se genera cuando un índice de una secuencia no existe.                                          |\n",
    "| `KeyError`                 | Se genera cuando una clave no existe en un diccionario.                                         |\n",
    "| `KeyboardInterrupt`        | Se genera cuando el usuario presiona Ctrl+c, Ctrl+z o Delete.                                    |\n",
    "| `LookupError`              | Se genera cuando no se puede encontrar el error que se ha generado.                             |\n",
    "| `MemoryError`              | Se genera cuando un programa se queda sin memoria.                                              |\n",
    "| `NameError`                | Se genera cuando una variable no existe.                                                       |\n",
    "| `NotImplementedError`      | Se genera cuando un método abstracto requiere que una clase heredada sobrescriba el método.      |\n",
    "| `OSError`                  | Se genera cuando una operación relacionada con el sistema causa un error.                       |\n",
    "| `OverflowError`            | Se genera cuando el resultado de un cálculo numérico es demasiado grande.                       |\n",
    "| `ReferenceError`           | Se genera cuando un objeto de referencia débil no existe.                                       |\n",
    "| `RuntimeError`             | Se genera cuando ocurre un error que no pertenece a ninguna excepción específica.              |\n",
    "| `StopIteration`            | Se genera cuando el método `next()` de un iterador no tiene más valores.                         |\n",
    "| `SyntaxError`              | Se genera cuando ocurre un error de sintaxis.                                                   |\n",
    "| `TabError`                 | Se genera cuando la indentación consiste en tabs o espacios.                                    |\n",
    "| `SystemError`              | Se genera cuando ocurre un error relacionado con el sistema.                                   |\n",
    "| `SystemExit`               | Se genera cuando se llama a la función `sys.exit()`.                                            |\n",
    "| `TypeError`                | Se genera cuando se combinan dos tipos diferentes de manera incompatible.                        |\n",
    "| `UnboundLocalError`        | Se genera cuando se hace referencia a una variable local antes de asignarle un valor.           |\n",
    "| `UnicodeError`             | Se genera cuando ocurre un problema relacionado con Unicode.                                    |\n",
    "| `UnicodeEncodeError`       | Se genera cuando ocurre un problema de codificación en Unicode.                                  |\n",
    "| `UnicodeDecodeError`       | Se genera cuando ocurre un problema de decodificación en Unicode.                                |\n",
    "| `UnicodeTranslateError`    | Se genera cuando ocurre un problema de traducción en Unicode.                                   |\n",
    "| `ValueError`               | Se genera cuando hay un valor incorrecto en un tipo de dato especificado.                        |\n",
    "| `ZeroDivisionError`        | Se genera cuando el segundo operador en una división es cero.                                    |"
   ]
  }
 ],
 "metadata": {
  "language_info": {
   "name": "python"
  }
 },
 "nbformat": 4,
 "nbformat_minor": 2
}
