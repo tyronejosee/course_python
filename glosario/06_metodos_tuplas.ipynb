{
 "cells": [
  {
   "cell_type": "markdown",
   "metadata": {},
   "source": [
    "# **Métodos de Tuplas**"
   ]
  },
  {
   "cell_type": "markdown",
   "metadata": {},
   "source": [
    "| Método            | Descripción                                                                 |\n",
    "|-------------------|-----------------------------------------------------------------------------|\n",
    "| `count()`         | Devuelve el número de veces que un valor especificado aparece en la tupla.   |\n",
    "| `index()`         | Busca un valor especificado en la tupla y devuelve la posición (índice) de la primera aparición. Si el valor no se encuentra, lanza un `ValueError`. |"
   ]
  }
 ],
 "metadata": {
  "language_info": {
   "name": "python"
  }
 },
 "nbformat": 4,
 "nbformat_minor": 2
}
