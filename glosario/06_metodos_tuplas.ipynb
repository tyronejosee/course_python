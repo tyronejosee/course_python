{
 "cells": [
  {
   "cell_type": "markdown",
   "metadata": {},
   "source": [
    "# **Métodos de Tuplas**"
   ]
  },
  {
   "cell_type": "markdown",
   "metadata": {},
   "source": [
    "| Método            | Descripción                                                                 |\n",
    "|-------------------|-----------------------------------------------------------------------------|\n",
    "| `count()`         | Devuelve el número de veces que un valor especificado aparece en la tupla.   |\n",
    "| `index()`         | Busca un valor especificado en la tupla y devuelve la posición (índice) de la primera aparición. Si el valor no se encuentra, lanza un `ValueError`. |"
   ]
  },
  {
   "cell_type": "markdown",
   "metadata": {},
   "source": [
    "-  `count()` Devuelve cuántas veces aparece un valor especificado en la tupla."
   ]
  },
  {
   "cell_type": "code",
   "execution_count": 3,
   "metadata": {},
   "outputs": [
    {
     "name": "stdout",
     "output_type": "stream",
     "text": [
      "3\n"
     ]
    }
   ],
   "source": [
    "tupla = (1, 2, 3, 4, 5, 1, 2, 1)\n",
    "contador = tupla.count(1)\n",
    "print(contador)"
   ]
  },
  {
   "cell_type": "markdown",
   "metadata": {},
   "source": [
    "- `index()` Busca el valor especificado en la tupla y devuelve el índice de la primera aparición del valor. Si el valor no se encuentra, lanzará un `ValueError`."
   ]
  },
  {
   "cell_type": "code",
   "execution_count": 5,
   "metadata": {},
   "outputs": [
    {
     "name": "stdout",
     "output_type": "stream",
     "text": [
      "2\n"
     ]
    }
   ],
   "source": [
    "tupla = (10, 20, 30, 40, 50, 30)\n",
    "indice = tupla.index(30)\n",
    "print(indice)"
   ]
  }
 ],
 "metadata": {
  "kernelspec": {
   "display_name": "env",
   "language": "python",
   "name": "python3"
  },
  "language_info": {
   "codemirror_mode": {
    "name": "ipython",
    "version": 3
   },
   "file_extension": ".py",
   "mimetype": "text/x-python",
   "name": "python",
   "nbconvert_exporter": "python",
   "pygments_lexer": "ipython3",
   "version": "3.11.9"
  }
 },
 "nbformat": 4,
 "nbformat_minor": 2
}
