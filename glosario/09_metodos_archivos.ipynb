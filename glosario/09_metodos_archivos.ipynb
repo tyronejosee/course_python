{
 "cells": [
  {
   "cell_type": "markdown",
   "metadata": {},
   "source": [
    "# **Métodos de Archivos**"
   ]
  },
  {
   "cell_type": "markdown",
   "metadata": {},
   "source": [
    "| Método            | Descripción                                                                 |\n",
    "|-------------------|-----------------------------------------------------------------------------|\n",
    "| `close()`         | Cierra el archivo, liberando los recursos asociados con él.                  |\n",
    "| `detach()`        | Devuelve el flujo en bruto separado del búfer del archivo.                   |\n",
    "| `fileno()`        | Devuelve un número que representa el archivo desde la perspectiva del sistema operativo. |\n",
    "| `flush()`         | Despeja el búfer interno, asegurando que todos los datos se escriban en el archivo. |\n",
    "| `isatty()`        | Devuelve `True` si el archivo está asociado con un dispositivo interactivo, de lo contrario `False`. |\n",
    "| `read()`          | Lee el contenido completo del archivo.                                       |\n",
    "| `readable()`      | Devuelve `True` si el archivo se puede leer, de lo contrario `False`.       |\n",
    "| `readline()`      | Lee una línea del archivo.                                                   |\n",
    "| `readlines()`     | Lee todas las líneas del archivo y las devuelve como una lista.             |\n",
    "| `seek()`          | Cambia la posición del archivo a una ubicación específica.                   |\n",
    "| `seekable()`      | Devuelve `True` si es posible cambiar la posición del archivo, de lo contrario `False`. |\n",
    "| `tell()`          | Devuelve la posición actual del archivo en bytes.                           |\n",
    "| `truncate()`      | Redimensiona el archivo a un tamaño específico. Si el archivo es más grande, el contenido extra se pierde. |\n",
    "| `writable()`      | Devuelve `True` si el archivo se puede escribir, de lo contrario `False`.   |\n",
    "| `write()`         | Escribe una cadena de texto en el archivo.                                   |\n",
    "| `writelines()`    | Escribe una lista de cadenas en el archivo.                                  |"
   ]
  }
 ],
 "metadata": {
  "language_info": {
   "name": "python"
  }
 },
 "nbformat": 4,
 "nbformat_minor": 2
}
