{
 "cells": [
  {
   "cell_type": "markdown",
   "metadata": {},
   "source": [
    "# **Métodos de Listas**"
   ]
  },
  {
   "cell_type": "markdown",
   "metadata": {},
   "source": [
    "| Método            | Descripción                                                                 |\n",
    "|-------------------|-----------------------------------------------------------------------------|\n",
    "| `append()`        | Añade un elemento al final de la lista.                                      |\n",
    "| `clear()`         | Elimina todos los elementos de la lista, dejándola vacía.                   |\n",
    "| `copy()`          | Devuelve una copia superficial de la lista (una nueva lista con los mismos elementos). |\n",
    "| `count()`         | Devuelve el número de veces que un valor especificado aparece en la lista.  |\n",
    "| `extend()`        | Añade todos los elementos de una lista (o cualquier iterable) al final de la lista actual. |\n",
    "| `index()`         | Devuelve el índice de la primera aparición del valor especificado. Lanza un `ValueError` si no se encuentra. |\n",
    "| `insert()`        | Inserta un elemento en una posición especificada de la lista, desplazando los elementos siguientes. |\n",
    "| `pop()`           | Elimina y devuelve el elemento en la posición especificada. Si no se especifica un índice, elimina y devuelve el último elemento. |\n",
    "| `remove()`        | Elimina la primera aparición del valor especificado. Lanza un `ValueError` si el valor no se encuentra. |\n",
    "| `reverse()`       | Invierte el orden de los elementos en la lista, afectando la lista original. |\n",
    "| `sort()`          | Ordena los elementos de la lista en orden ascendente por defecto. Puede recibir parámetros para ordenar en orden descendente o usar una función personalizada de comparación. |"
   ]
  }
 ],
 "metadata": {
  "language_info": {
   "name": "python"
  }
 },
 "nbformat": 4,
 "nbformat_minor": 2
}
