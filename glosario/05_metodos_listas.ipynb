{
 "cells": [
  {
   "cell_type": "markdown",
   "metadata": {},
   "source": [
    "# **Métodos de Listas**"
   ]
  },
  {
   "cell_type": "markdown",
   "metadata": {},
   "source": [
    "| Método            | Descripción                                                                 |\n",
    "|-------------------|-----------------------------------------------------------------------------|\n",
    "| `append()`        | Añade un elemento al final de la lista.                                      |\n",
    "| `clear()`         | Elimina todos los elementos de la lista, dejándola vacía.                   |\n",
    "| `copy()`          | Devuelve una copia superficial de la lista (una nueva lista con los mismos elementos). |\n",
    "| `count()`         | Devuelve el número de veces que un valor especificado aparece en la lista.  |\n",
    "| `extend()`        | Añade todos los elementos de una lista (o cualquier iterable) al final de la lista actual. |\n",
    "| `index()`         | Devuelve el índice de la primera aparición del valor especificado. Lanza un `ValueError` si no se encuentra. |\n",
    "| `insert()`        | Inserta un elemento en una posición especificada de la lista, desplazando los elementos siguientes. |\n",
    "| `pop()`           | Elimina y devuelve el elemento en la posición especificada. Si no se especifica un índice, elimina y devuelve el último elemento. |\n",
    "| `remove()`        | Elimina la primera aparición del valor especificado. Lanza un `ValueError` si el valor no se encuentra. |\n",
    "| `reverse()`       | Invierte el orden de los elementos en la lista, afectando la lista original. |\n",
    "| `sort()`          | Ordena los elementos de la lista en orden ascendente por defecto. Puede recibir parámetros para ordenar en orden descendente o usar una función personalizada de comparación. |"
   ]
  },
  {
   "cell_type": "markdown",
   "metadata": {},
   "source": [
    "- `append()` Añade un elemento al final de la lista."
   ]
  },
  {
   "cell_type": "code",
   "execution_count": 1,
   "metadata": {},
   "outputs": [
    {
     "name": "stdout",
     "output_type": "stream",
     "text": [
      "['manzana', 'banana', 'naranja']\n"
     ]
    }
   ],
   "source": [
    "frutas = [\"manzana\", \"banana\"]\n",
    "frutas.append(\"naranja\")\n",
    "print(frutas)"
   ]
  },
  {
   "cell_type": "markdown",
   "metadata": {},
   "source": [
    "- `clear()` Elimina todos los elementos de la lista, dejándola vacía."
   ]
  },
  {
   "cell_type": "code",
   "execution_count": 2,
   "metadata": {},
   "outputs": [
    {
     "name": "stdout",
     "output_type": "stream",
     "text": [
      "[]\n"
     ]
    }
   ],
   "source": [
    "numeros = [1, 2, 3, 4, 5]\n",
    "numeros.clear()\n",
    "print(numeros)"
   ]
  },
  {
   "cell_type": "markdown",
   "metadata": {},
   "source": [
    "- `copy()` Devuelve una copia superficial de la lista."
   ]
  },
  {
   "cell_type": "code",
   "execution_count": 3,
   "metadata": {},
   "outputs": [
    {
     "name": "stdout",
     "output_type": "stream",
     "text": [
      "['rojo', 'azul', 'verde']\n"
     ]
    }
   ],
   "source": [
    "colores = [\"rojo\", \"azul\", \"verde\"]\n",
    "copia_colores = colores.copy()\n",
    "print(copia_colores)"
   ]
  },
  {
   "cell_type": "markdown",
   "metadata": {},
   "source": [
    "- `count()` Devuelve el número de veces que un valor aparece en la lista."
   ]
  },
  {
   "cell_type": "code",
   "execution_count": 4,
   "metadata": {},
   "outputs": [
    {
     "name": "stdout",
     "output_type": "stream",
     "text": [
      "3\n"
     ]
    }
   ],
   "source": [
    "numeros = [1, 2, 2, 3, 4, 2]\n",
    "veces = numeros.count(2)\n",
    "print(veces)"
   ]
  },
  {
   "cell_type": "markdown",
   "metadata": {},
   "source": [
    "- `extend()` Añade todos los elementos de una lista (o iterable) al final de la lista actual."
   ]
  },
  {
   "cell_type": "code",
   "execution_count": 5,
   "metadata": {},
   "outputs": [
    {
     "name": "stdout",
     "output_type": "stream",
     "text": [
      "[1, 2, 3, 4, 5, 6]\n"
     ]
    }
   ],
   "source": [
    "lista1 = [1, 2, 3]\n",
    "lista2 = [4, 5, 6]\n",
    "lista1.extend(lista2)\n",
    "print(lista1)"
   ]
  },
  {
   "cell_type": "markdown",
   "metadata": {},
   "source": [
    "- `index()` Devuelve el índice de la primera aparición del valor especificado."
   ]
  },
  {
   "cell_type": "code",
   "execution_count": 6,
   "metadata": {},
   "outputs": [
    {
     "name": "stdout",
     "output_type": "stream",
     "text": [
      "1\n"
     ]
    }
   ],
   "source": [
    "animales = [\"perro\", \"gato\", \"conejo\"]\n",
    "indice = animales.index(\"gato\")\n",
    "print(indice)"
   ]
  },
  {
   "cell_type": "markdown",
   "metadata": {},
   "source": [
    "- `insert()` Inserta un elemento en una posición específica de la lista."
   ]
  },
  {
   "cell_type": "code",
   "execution_count": 8,
   "metadata": {},
   "outputs": [
    {
     "name": "stdout",
     "output_type": "stream",
     "text": [
      "[10, 15, 20, 30]\n"
     ]
    }
   ],
   "source": [
    "numeros = [10, 20, 30]\n",
    "numeros.insert(1, 15)  # Inserta 15 en la posición 1 (20)\n",
    "print(numeros)"
   ]
  },
  {
   "cell_type": "markdown",
   "metadata": {},
   "source": [
    "- `pop()` Elimina y devuelve el elemento en la posición especificada (o el último si no se indica)."
   ]
  },
  {
   "cell_type": "code",
   "execution_count": 10,
   "metadata": {},
   "outputs": [
    {
     "name": "stdout",
     "output_type": "stream",
     "text": [
      "Italia\n",
      "['España', 'Francia']\n"
     ]
    }
   ],
   "source": [
    "paises = [\"España\", \"Francia\", \"Italia\"]\n",
    "ultimo = paises.pop()\n",
    "print(ultimo) # Valor eliminado\n",
    "print(paises)"
   ]
  },
  {
   "cell_type": "markdown",
   "metadata": {},
   "source": [
    "- `remove()` Elimina la primera aparición del valor especificado."
   ]
  },
  {
   "cell_type": "code",
   "execution_count": 11,
   "metadata": {},
   "outputs": [
    {
     "name": "stdout",
     "output_type": "stream",
     "text": [
      "[5, 15, 10, 20]\n"
     ]
    }
   ],
   "source": [
    "numeros = [5, 10, 15, 10, 20]\n",
    "numeros.remove(10)\n",
    "print(numeros)"
   ]
  },
  {
   "cell_type": "markdown",
   "metadata": {},
   "source": [
    "- `reverse()` Invierte el orden de los elementos en la lista."
   ]
  },
  {
   "cell_type": "code",
   "execution_count": 12,
   "metadata": {},
   "outputs": [
    {
     "name": "stdout",
     "output_type": "stream",
     "text": [
      "['d', 'c', 'b', 'a']\n"
     ]
    }
   ],
   "source": [
    "letras = [\"a\", \"b\", \"c\", \"d\"]\n",
    "letras.reverse()\n",
    "print(letras)"
   ]
  },
  {
   "cell_type": "markdown",
   "metadata": {},
   "source": [
    "- `sort()`: Ordena los elementos de la lista en orden ascendente (o descendente con `reverse=True`)."
   ]
  },
  {
   "cell_type": "code",
   "execution_count": 14,
   "metadata": {},
   "outputs": [
    {
     "name": "stdout",
     "output_type": "stream",
     "text": [
      "[1, 1, 3, 4, 5, 9]\n",
      "[9, 5, 4, 3, 1, 1]\n"
     ]
    }
   ],
   "source": [
    "numeros = [3, 1, 4, 1, 5, 9]\n",
    "numeros.sort()\n",
    "print(numeros)\n",
    "\n",
    "# Orden descendente\n",
    "numeros.sort(reverse=True)\n",
    "print(numeros)"
   ]
  }
 ],
 "metadata": {
  "kernelspec": {
   "display_name": "env",
   "language": "python",
   "name": "python3"
  },
  "language_info": {
   "codemirror_mode": {
    "name": "ipython",
    "version": 3
   },
   "file_extension": ".py",
   "mimetype": "text/x-python",
   "name": "python",
   "nbconvert_exporter": "python",
   "pygments_lexer": "ipython3",
   "version": "3.11.9"
  }
 },
 "nbformat": 4,
 "nbformat_minor": 2
}
