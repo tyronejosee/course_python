{
 "cells": [
  {
   "cell_type": "markdown",
   "metadata": {},
   "source": [
    "# **Palabras Claves**"
   ]
  },
  {
   "cell_type": "markdown",
   "metadata": {},
   "source": [
    "| Palabra clave | Descripción                                                                                           |\n",
    "|---------------|-------------------------------------------------------------------------------------------------------|\n",
    "| `and`         | Operador lógico que devuelve `True` si ambas condiciones son verdaderas.                             |\n",
    "| `as`          | Se utiliza para crear un alias al importar módulos o manejar contextos.                              |\n",
    "| `assert`      | Herramienta de depuración que evalúa una expresión y lanza una excepción si la condición es `False`.  |\n",
    "| `break`       | Termina inmediatamente un bucle `for` o `while`.                                                     |\n",
    "| `class`       | Palabra clave para definir una clase en Python.                                                      |\n",
    "| `continue`    | Salta la iteración actual de un bucle y pasa a la siguiente.                                         |\n",
    "| `def`         | Se usa para definir una función o un método.                                                         |\n",
    "| `del`         | Elimina un objeto, variable, o elemento de una estructura como listas o diccionarios.                |\n",
    "| `elif`        | Expresión condicional que significa \"de lo contrario, si...\".                                        |\n",
    "| `else`        | Parte de una declaración condicional, se ejecuta si las condiciones previas no son verdaderas.       |\n",
    "| `except`      | Maneja excepciones y define qué hacer cuando ocurre un error en un bloque `try`.                     |\n",
    "| `False`       | Valor booleano que representa \"falso\" en evaluaciones lógicas.                                       |\n",
    "| `finally`     | Bloque que siempre se ejecuta después de un `try`, incluso si ocurrió una excepción.                 |\n",
    "| `for`         | Crea un bucle que itera sobre una secuencia como una lista, tupla o rango.                           |\n",
    "| `from`        | Permite importar partes específicas de un módulo o biblioteca.                                       |\n",
    "| `global`      | Declara una variable como global, haciéndola accesible fuera del ámbito local.                       |\n",
    "| `if`          | Define una condición que evalúa si se debe ejecutar un bloque de código.                             |\n",
    "| `import`      | Se usa para cargar módulos externos o bibliotecas en un programa.                                    |\n",
    "| `in`          | Comprueba si un elemento está contenido en una secuencia como listas, tuplas o cadenas.              |\n",
    "| `is`          | Comprueba si dos variables apuntan al mismo objeto en memoria.                                       |\n",
    "| `lambda`      | Crea una función anónima en una sola línea.                                                          |\n",
    "| `None`        | Representa la ausencia de valor o un objeto nulo.                                                    |\n",
    "| `nonlocal`    | Declara una variable en un ámbito intermedio (ni local ni global).                                   |\n",
    "| `not`         | Operador lógico que invierte el valor booleano de una expresión.                                     |\n",
    "| `or`          | Operador lógico que devuelve `True` si al menos una de las condiciones es verdadera.                 |\n",
    "| `pass`        | Declaración vacía que no realiza ninguna acción, útil como marcador de posición.                     |\n",
    "| `raise`       | Lanza una excepción específica en el programa.                                                       |\n",
    "| `return`      | Finaliza la ejecución de una función y devuelve un valor opcional al llamador.                       |\n",
    "| `True`        | Valor booleano que representa \"verdadero\" en evaluaciones lógicas.                                   |\n",
    "| `try`         | Bloque que permite manejar errores o excepciones en el código.                                       |\n",
    "| `while`       | Crea un bucle que se ejecuta mientras una condición sea verdadera.                                   |\n",
    "| `with`        | Simplifica la gestión de recursos como archivos o conexiones, asegurando su liberación adecuada.     |\n",
    "| `yield`       | Pausa una función y devuelve un valor, manteniendo su estado para continuar más adelante.            |"
   ]
  }
 ],
 "metadata": {
  "language_info": {
   "name": "python"
  }
 },
 "nbformat": 4,
 "nbformat_minor": 2
}
