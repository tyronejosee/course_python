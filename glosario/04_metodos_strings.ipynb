{
 "cells": [
  {
   "cell_type": "markdown",
   "metadata": {},
   "source": [
    "# **Métodos de Strings**"
   ]
  },
  {
   "cell_type": "markdown",
   "metadata": {},
   "source": [
    "| Método            | Descripción                                                                 |\n",
    "|-------------------|-----------------------------------------------------------------------------|\n",
    "| `capitalize()`     | Convierte el primer carácter de la cadena a mayúsculas y el resto a minúsculas. |\n",
    "| `casefold()`       | Convierte toda la cadena a minúsculas de una manera más robusta para comparaciones, especialmente útil con caracteres Unicode. |\n",
    "| `center()`         | Devuelve una nueva cadena centrada dentro de un campo de un tamaño especificado, rellenando con espacios. |\n",
    "| `count()`          | Devuelve el número de veces que un valor específico aparece en la cadena.     |\n",
    "| `encode()`         | Codifica la cadena usando un formato de codificación especificado, como UTF-8. |\n",
    "| `endswith()`       | Devuelve `True` si la cadena termina con el valor especificado, de lo contrario, devuelve `False`. |\n",
    "| `expandtabs()`     | Expande las tabulaciones (`\\t`) en la cadena, reemplazándolas por un número específico de espacios. |\n",
    "| `find()`           | Busca la primera ocurrencia de un valor en la cadena y devuelve la posición de su primer carácter. Devuelve -1 si no se encuentra. |\n",
    "| `format()`         | Permite insertar valores dinámicos en una cadena de texto, utilizando marcadores de posición. |\n",
    "| `format_map()`     | Similar a `format()`, pero toma un diccionario o un objeto con un método `__getitem__` para reemplazar los marcadores de posición. |\n",
    "| `index()`          | Busca la primera ocurrencia de un valor en la cadena y devuelve su posición. Lanza un `ValueError` si no se encuentra. |\n",
    "| `isalnum()`        | Devuelve `True` si todos los caracteres de la cadena son alfanuméricos (letras y números), y la cadena no está vacía. |\n",
    "| `isalpha()`        | Devuelve `True` si todos los caracteres de la cadena son letras del alfabeto y la cadena no está vacía. |\n",
    "| `isascii()`        | Devuelve `True` si todos los caracteres en la cadena son caracteres ASCII (código entre 0-127). |\n",
    "| `isdecimal()`      | Devuelve `True` si todos los caracteres de la cadena son dígitos decimales, es decir, números 0-9. |\n",
    "| `isdigit()`        | Devuelve `True` si todos los caracteres en la cadena son dígitos, incluyendo números romanos y exponentes. |\n",
    "| `isidentifier()`   | Devuelve `True` si la cadena es un identificador válido en Python (es decir, sigue las reglas para nombrar variables o funciones). |\n",
    "| `islower()`        | Devuelve `True` si todos los caracteres de la cadena están en minúsculas. |\n",
    "| `isnumeric()`      | Devuelve `True` si todos los caracteres en la cadena son números. |\n",
    "| `isprintable()`    | Devuelve `True` si todos los caracteres de la cadena son imprimibles, es decir, no incluyen caracteres de control. |\n",
    "| `isspace()`        | Devuelve `True` si todos los caracteres en la cadena son espacios en blanco, tabulaciones o saltos de línea. |\n",
    "| `istitle()`        | Devuelve `True` si la cadena sigue el formato de título (primer carácter de cada palabra en mayúsculas). |\n",
    "| `isupper()`        | Devuelve `True` si todos los caracteres de la cadena están en mayúsculas. |\n",
    "| `join()`           | Une los elementos de un iterable (como una lista o tupla) en una sola cadena, insertando la cadena original entre cada elemento. |\n",
    "| `ljust()`          | Devuelve una nueva cadena con la cadena original alineada a la izquierda y rellenada con espacios hasta un tamaño especificado. |\n",
    "| `lower()`          | Convierte todos los caracteres de la cadena a minúsculas. |\n",
    "| `lstrip()`         | Devuelve una nueva cadena sin los espacios o caracteres especificados al principio de la cadena. |\n",
    "| `maketrans()`      | Devuelve una tabla de traducción que se puede usar en el método `translate()` para reemplazar caracteres en una cadena. |\n",
    "| `partition()`      | Divide la cadena en tres partes: antes del separador, el separador mismo y después del separador. |\n",
    "| `replace()`        | Devuelve una nueva cadena en la que todas las ocurrencias de un valor especificado son reemplazadas por otro valor. |\n",
    "| `rfind()`          | Busca la última ocurrencia de un valor en la cadena y devuelve la posición de su primer carácter. Devuelve -1 si no se encuentra. |\n",
    "| `rindex()`         | Similar a `find()`, pero devuelve la última posición de un valor en la cadena. Lanza un `ValueError` si no se encuentra. |\n",
    "| `rjust()`          | Devuelve una nueva cadena con la cadena original alineada a la derecha y rellenada con espacios hasta un tamaño especificado. |\n",
    "| `rpartition()`     | Divide la cadena en tres partes, pero empieza desde el final de la cadena, dividiendo en el último separador encontrado. |\n",
    "| `rsplit()`         | Similar a `split()`, pero comienza desde el final de la cadena y divide en el separador especificado. |\n",
    "| `rstrip()`         | Devuelve una nueva cadena sin los espacios o caracteres especificados al final de la cadena. |\n",
    "| `split()`          | Divide la cadena en una lista, utilizando un separador específico (por defecto, los espacios en blanco). |\n",
    "| `splitlines()`     | Divide la cadena en una lista de líneas, usando saltos de línea (`\\n`) como separadores. |\n",
    "| `startswith()`     | Devuelve `True` si la cadena comienza con el valor especificado. |\n",
    "| `strip()`          | Devuelve una nueva cadena sin los espacios o caracteres especificados al principio y al final. |\n",
    "| `swapcase()`       | Cambia las mayúsculas por minúsculas y viceversa en todos los caracteres de la cadena. |\n",
    "| `title()`          | Convierte el primer carácter de cada palabra de la cadena a mayúsculas y los demás caracteres a minúsculas. |\n",
    "| `translate()`      | Aplica una tabla de traducción (proporcionada por `maketrans()`) a la cadena, reemplazando los caracteres según la tabla. |\n",
    "| `upper()`          | Convierte todos los caracteres de la cadena a mayúsculas. |\n",
    "| `zfill()`          | Rellena la cadena con ceros a la izquierda hasta alcanzar una longitud especificada. |"
   ]
  }
 ],
 "metadata": {
  "language_info": {
   "name": "python"
  }
 },
 "nbformat": 4,
 "nbformat_minor": 2
}
