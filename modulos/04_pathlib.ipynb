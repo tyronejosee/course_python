{
 "cells": [
  {
   "cell_type": "markdown",
   "metadata": {},
   "source": [
    "# **pathlib**\n",
    "\n",
    "Proporciona clases y métodos para trabajar con rutas de archivos y directorios de manera más intuitiva y orientada a objetos."
   ]
  },
  {
   "cell_type": "markdown",
   "metadata": {},
   "source": [
    "## **Funciones Principales**"
   ]
  },
  {
   "cell_type": "markdown",
   "metadata": {},
   "source": [
    "- `pathlib.Path()` Crea un objeto Path, que representa una ruta de archivo o directorio. Este objeto se utiliza para realizar diversas operaciones de manipulación de archivos y directorios."
   ]
  },
  {
   "cell_type": "code",
   "execution_count": 82,
   "metadata": {},
   "outputs": [
    {
     "name": "stdout",
     "output_type": "stream",
     "text": [
      "..\\assets\\folders\n"
     ]
    }
   ],
   "source": [
    "from pathlib import Path\n",
    "\n",
    "# Crear un objeto Path\n",
    "p = Path(\"../assets/folders\")\n",
    "print(p)"
   ]
  },
  {
   "cell_type": "markdown",
   "metadata": {},
   "source": [
    "- `Path.exists()` Verifica si la ruta representada por el objeto Path existe en el sistema de archivos."
   ]
  },
  {
   "cell_type": "code",
   "execution_count": 37,
   "metadata": {},
   "outputs": [
    {
     "name": "stdout",
     "output_type": "stream",
     "text": [
      "El archivo no existe.\n"
     ]
    }
   ],
   "source": [
    "from pathlib import Path\n",
    "\n",
    "p = Path(\"archivo.txt\")\n",
    "if p.exists():\n",
    "    print(\"El archivo existe.\")\n",
    "else:\n",
    "    print(\"El archivo no existe.\")"
   ]
  },
  {
   "cell_type": "markdown",
   "metadata": {},
   "source": [
    "- `Path.is_dir()` Verifica si la ruta es un directorio."
   ]
  },
  {
   "cell_type": "code",
   "execution_count": 38,
   "metadata": {},
   "outputs": [
    {
     "name": "stdout",
     "output_type": "stream",
     "text": [
      "Es un directorio.\n"
     ]
    }
   ],
   "source": [
    "from pathlib import Path\n",
    "\n",
    "p = Path(\"../assets/folders\")\n",
    "if p.is_dir():\n",
    "    print(\"Es un directorio.\")\n",
    "else:\n",
    "    print(\"No es un directorio.\")"
   ]
  },
  {
   "cell_type": "markdown",
   "metadata": {},
   "source": [
    "- `Path.mkdir()` Crea un directorio en la ruta especificada. Si el directorio ya existe, se lanza una excepción. Se puede usar el parámetro `parents=True` para crear directorios padres si no existen."
   ]
  },
  {
   "cell_type": "code",
   "execution_count": 39,
   "metadata": {},
   "outputs": [],
   "source": [
    "from pathlib import Path\n",
    "\n",
    "p = Path(\"../assets/folders/new_folder\")\n",
    "p.mkdir(parents=True, exist_ok=True)"
   ]
  },
  {
   "cell_type": "markdown",
   "metadata": {},
   "source": [
    "- `Path.rmdir()` Elimina un directorio vacío en la ruta especificada."
   ]
  },
  {
   "cell_type": "code",
   "execution_count": 40,
   "metadata": {},
   "outputs": [],
   "source": [
    "from pathlib import Path\n",
    "\n",
    "p = Path(\"../assets/folders/new_folder\")\n",
    "p.rmdir()"
   ]
  },
  {
   "cell_type": "markdown",
   "metadata": {},
   "source": [
    "- `Path.rename()` Renombra un archivo o directorio. Si el destino ya existe, sobrescribirá el archivo o directorio."
   ]
  },
  {
   "cell_type": "code",
   "execution_count": 63,
   "metadata": {},
   "outputs": [
    {
     "data": {
      "text/plain": [
       "WindowsPath('../assets/txt/archivo_nuevo.txt')"
      ]
     },
     "execution_count": 63,
     "metadata": {},
     "output_type": "execute_result"
    }
   ],
   "source": [
    "from pathlib import Path\n",
    "\n",
    "p = Path(\"../assets/txt/archivo_viejo.txt\")\n",
    "p.touch()\n",
    "p.replace(\"../assets/txt/archivo_nuevo.txt\")"
   ]
  },
  {
   "cell_type": "markdown",
   "metadata": {},
   "source": [
    "- `Path.unlink()` Elimina un archivo. Es equivalente a `os.remove()`."
   ]
  },
  {
   "cell_type": "code",
   "execution_count": 58,
   "metadata": {},
   "outputs": [],
   "source": [
    "from pathlib import Path\n",
    "\n",
    "nombre_archivo = \"archivo_a_eliminar.txt\"\n",
    "\n",
    "with open(f\"{nombre_archivo}\", \"w\") as f:\n",
    "    f.write(\"Este es el contenido del archivo.\")\n",
    "\n",
    "p = Path(nombre_archivo)\n",
    "p.unlink()"
   ]
  },
  {
   "cell_type": "markdown",
   "metadata": {},
   "source": [
    "- `Path.touch()` Crea un archivo vacío si no existe. Si el archivo ya existe, se actualiza su timestamp."
   ]
  },
  {
   "cell_type": "code",
   "execution_count": 65,
   "metadata": {},
   "outputs": [],
   "source": [
    "from pathlib import Path\n",
    "\n",
    "p = Path(\"../assets/txt/archivo_nuevo2.txt\")\n",
    "p.touch()"
   ]
  },
  {
   "cell_type": "markdown",
   "metadata": {},
   "source": [
    "- `Path.open()` Abre un archivo en el modo especificado similar a `open()`, pero usando un objeto Path."
   ]
  },
  {
   "cell_type": "code",
   "execution_count": 66,
   "metadata": {},
   "outputs": [],
   "source": [
    "from pathlib import Path\n",
    "\n",
    "p = Path(\"../assets/txt/archivo_nuevo.txt\")\n",
    "with p.open(\"w\") as f:\n",
    "    f.write(\"Escribiendo en el archivo.\")"
   ]
  },
  {
   "cell_type": "markdown",
   "metadata": {},
   "source": [
    "- `Path.glob()` Devuelve un generador que genera los archivos que coinciden con el patrón de búsqueda especificado en la ruta."
   ]
  },
  {
   "cell_type": "code",
   "execution_count": 67,
   "metadata": {},
   "outputs": [
    {
     "name": "stdout",
     "output_type": "stream",
     "text": [
      "..\\assets\\txt\\archivo_nuevo.txt\n",
      "..\\assets\\txt\\archivo_nuevo2.txt\n",
      "..\\assets\\txt\\io_module.txt\n"
     ]
    }
   ],
   "source": [
    "from pathlib import Path\n",
    "\n",
    "p = Path(\"../assets/txt\")\n",
    "for archivo in p.glob(\"*.txt\"):\n",
    "    print(archivo)"
   ]
  },
  {
   "cell_type": "markdown",
   "metadata": {},
   "source": [
    "- `Path.rglob()` Similar a `glob()`, pero recursivo. Busca archivos que coinciden con el patrón en todos los subdirectorios."
   ]
  },
  {
   "cell_type": "code",
   "execution_count": 69,
   "metadata": {},
   "outputs": [
    {
     "name": "stdout",
     "output_type": "stream",
     "text": [
      "..\\assets\\txt\\archivo_nuevo.txt\n",
      "..\\assets\\txt\\archivo_nuevo2.txt\n",
      "..\\assets\\txt\\io_module.txt\n",
      "..\\assets\\txt\\deep_txt\\deep_archivo_nuevo.txt\n",
      "..\\assets\\txt\\deep_txt\\deep_archivo_nuevo2.txt\n",
      "..\\assets\\txt\\deep_txt\\deep_io_module.txt\n"
     ]
    }
   ],
   "source": [
    "from pathlib import Path\n",
    "\n",
    "p = Path(\"../assets/txt\")\n",
    "for archivo in p.rglob(\"*.txt\"):\n",
    "    print(archivo)"
   ]
  },
  {
   "cell_type": "markdown",
   "metadata": {},
   "source": [
    "- `Path.relative_to()` Devuelve una nueva ruta que es relativa a la ruta especificada."
   ]
  },
  {
   "cell_type": "code",
   "execution_count": 73,
   "metadata": {},
   "outputs": [
    {
     "name": "stdout",
     "output_type": "stream",
     "text": [
      "assets\\folders\n"
     ]
    }
   ],
   "source": [
    "from pathlib import Path\n",
    "\n",
    "p = Path(\"D:/Projects/course_python/assets/folders\")\n",
    "relativa = p.relative_to(\"D:/Projects/course_python/\")\n",
    "print(relativa)"
   ]
  },
  {
   "cell_type": "markdown",
   "metadata": {},
   "source": [
    "- `Path.resolve()` Devuelve la ruta absoluta, resolviendo los enlaces simbólicos y las rutas relativas."
   ]
  },
  {
   "cell_type": "code",
   "execution_count": 74,
   "metadata": {},
   "outputs": [
    {
     "name": "stdout",
     "output_type": "stream",
     "text": [
      "D:\\Projects\\course_python\\assets\\txt\\archivo_nuevo.txt\n"
     ]
    }
   ],
   "source": [
    "from pathlib import Path\n",
    "\n",
    "p = Path(\"../assets/txt/archivo_nuevo.txt\")\n",
    "print(p.resolve())"
   ]
  },
  {
   "cell_type": "markdown",
   "metadata": {},
   "source": [
    "- `Path.parent()` Devuelve el directorio padre de la ruta actual."
   ]
  },
  {
   "cell_type": "code",
   "execution_count": 75,
   "metadata": {},
   "outputs": [
    {
     "name": "stdout",
     "output_type": "stream",
     "text": [
      "..\\assets\\txt\n"
     ]
    }
   ],
   "source": [
    "from pathlib import Path\n",
    "\n",
    "p = Path(\"../assets/txt/archivo_nuevo.txt\")\n",
    "print(p.parent)"
   ]
  },
  {
   "cell_type": "markdown",
   "metadata": {},
   "source": [
    "- `Path.name()` Devuelve el nombre final del archivo o directorio (sin la ruta completa)."
   ]
  },
  {
   "cell_type": "code",
   "execution_count": 76,
   "metadata": {},
   "outputs": [
    {
     "name": "stdout",
     "output_type": "stream",
     "text": [
      "archivo_nuevo.txt\n"
     ]
    }
   ],
   "source": [
    "from pathlib import Path\n",
    "\n",
    "p = Path(\"../assets/txt/archivo_nuevo.txt\")\n",
    "print(p.name)"
   ]
  },
  {
   "cell_type": "markdown",
   "metadata": {},
   "source": [
    "- `Path.suffix()` Devuelve la extensión del archivo (incluido el punto)."
   ]
  },
  {
   "cell_type": "code",
   "execution_count": 77,
   "metadata": {},
   "outputs": [
    {
     "name": "stdout",
     "output_type": "stream",
     "text": [
      ".txt\n"
     ]
    }
   ],
   "source": [
    "from pathlib import Path\n",
    "\n",
    "p = Path(\"../assets/txt/archivo_nuevo.txt\")\n",
    "print(p.suffix)"
   ]
  },
  {
   "cell_type": "markdown",
   "metadata": {},
   "source": [
    "- `Path.stem()` Devuelve el nombre del archivo sin la extensión."
   ]
  },
  {
   "cell_type": "code",
   "execution_count": 78,
   "metadata": {},
   "outputs": [
    {
     "name": "stdout",
     "output_type": "stream",
     "text": [
      "archivo_nuevo\n"
     ]
    }
   ],
   "source": [
    "from pathlib import Path\n",
    "\n",
    "p = Path(\"../assets/txt/archivo_nuevo.txt\")\n",
    "print(p.stem)"
   ]
  }
 ],
 "metadata": {
  "kernelspec": {
   "display_name": "env",
   "language": "python",
   "name": "python3"
  },
  "language_info": {
   "codemirror_mode": {
    "name": "ipython",
    "version": 3
   },
   "file_extension": ".py",
   "mimetype": "text/x-python",
   "name": "python",
   "nbconvert_exporter": "python",
   "pygments_lexer": "ipython3",
   "version": "3.13.1"
  }
 },
 "nbformat": 4,
 "nbformat_minor": 2
}
