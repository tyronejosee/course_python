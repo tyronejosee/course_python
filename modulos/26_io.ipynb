{
 "cells": [
  {
   "cell_type": "markdown",
   "metadata": {},
   "source": [
    "# **io**\n",
    "\n",
    "Es módulo interno de Python que proporciona herramientas para trabajar con flujos de entrada y salida (I/O)."
   ]
  },
  {
   "cell_type": "markdown",
   "metadata": {},
   "source": [
    "## **Funciones Principales**"
   ]
  },
  {
   "cell_type": "markdown",
   "metadata": {},
   "source": [
    "- `io.open()` Se utiliza para abrir un archivo. Es una versión mejorada de la función open() con más control sobre el manejo de flujos de archivos."
   ]
  },
  {
   "cell_type": "code",
   "execution_count": 4,
   "metadata": {},
   "outputs": [
    {
     "name": "stdout",
     "output_type": "stream",
     "text": [
      "Prueba para módulo io de python\n"
     ]
    }
   ],
   "source": [
    "import io\n",
    "\n",
    "# Abrir un archivo en modo lectura\n",
    "with io.open('../assets/txt/io_module.txt', 'r', encoding='utf-8') as f:\n",
    "    content = f.read()\n",
    "    print(content)"
   ]
  },
  {
   "cell_type": "markdown",
   "metadata": {},
   "source": [
    "- `io.BytesIO()` Crea un flujo en memoria para trabajar con datos binarios. Se puede usar para manipular datos binarios sin necesidad de escribirlos en un archivo."
   ]
  },
  {
   "cell_type": "code",
   "execution_count": 5,
   "metadata": {},
   "outputs": [
    {
     "name": "stdout",
     "output_type": "stream",
     "text": [
      "b'Hola, mundo!'\n"
     ]
    }
   ],
   "source": [
    "import io\n",
    "\n",
    "# Crear un flujo de bytes en memoria\n",
    "byte_stream = io.BytesIO(b'Hola, mundo!')\n",
    "\n",
    "# Leer datos del flujo\n",
    "print(byte_stream.read())"
   ]
  },
  {
   "cell_type": "markdown",
   "metadata": {},
   "source": [
    "- `io.StringIO()` Es similar a BytesIO, pero para manejar cadenas de texto en lugar de datos binarios. Permite trabajar con cadenas de texto como si fueran archivos."
   ]
  },
  {
   "cell_type": "code",
   "execution_count": 6,
   "metadata": {},
   "outputs": [
    {
     "name": "stdout",
     "output_type": "stream",
     "text": [
      "Hola, mundo!\n"
     ]
    }
   ],
   "source": [
    "import io\n",
    "\n",
    "# Crear un flujo de texto en memoria\n",
    "text_stream = io.StringIO('Hola, mundo!')\n",
    "\n",
    "# Leer datos del flujo\n",
    "print(text_stream.read())"
   ]
  },
  {
   "cell_type": "markdown",
   "metadata": {},
   "source": [
    "- `io.TextIOWrapper()` Envuelve un flujo binario en un flujo de texto. Es útil cuando trabajas con archivos binarios y necesitas tratar su contenido como texto, aplicando codificación y decodificación."
   ]
  },
  {
   "cell_type": "code",
   "execution_count": 7,
   "metadata": {},
   "outputs": [
    {
     "name": "stdout",
     "output_type": "stream",
     "text": [
      "Hola, mundo!\n"
     ]
    }
   ],
   "source": [
    "import io\n",
    "\n",
    "# Crear un flujo binario\n",
    "binary_stream = io.BytesIO(b'Hola, mundo!')\n",
    "\n",
    "# Envolver el flujo binario en un flujo de texto\n",
    "text_wrapper = io.TextIOWrapper(binary_stream, encoding='utf-8')\n",
    "\n",
    "# Leer datos del flujo de texto\n",
    "print(text_wrapper.read())"
   ]
  },
  {
   "cell_type": "markdown",
   "metadata": {},
   "source": [
    "- `io.BufferedReader()` Lee datos de un archivo o flujo de manera eficiente en bloques de datos binarios, lo que mejora el rendimiento en comparación con la lectura byte a byte."
   ]
  },
  {
   "cell_type": "code",
   "execution_count": 8,
   "metadata": {},
   "outputs": [
    {
     "name": "stdout",
     "output_type": "stream",
     "text": [
      "b'Hola, mundo!'\n"
     ]
    }
   ],
   "source": [
    "import io\n",
    "\n",
    "# Crear un flujo binario\n",
    "binary_stream = io.BytesIO(b'Hola, mundo!')\n",
    "\n",
    "# Crear un lector bufferizado\n",
    "buffered_reader = io.BufferedReader(binary_stream)\n",
    "\n",
    "# Leer datos del flujo bufferizado\n",
    "print(buffered_reader.read())"
   ]
  },
  {
   "cell_type": "markdown",
   "metadata": {},
   "source": [
    "- `io.BufferedWriter()` Escribe datos en un archivo o flujo de manera eficiente, almacenándolos en un búfer antes de escribirlos en el dispositivo de almacenamiento."
   ]
  },
  {
   "cell_type": "code",
   "execution_count": 9,
   "metadata": {},
   "outputs": [
    {
     "name": "stdout",
     "output_type": "stream",
     "text": [
      "b'Hola, mundo!'\n"
     ]
    }
   ],
   "source": [
    "import io\n",
    "\n",
    "# Crear un flujo binario\n",
    "binary_stream = io.BytesIO()\n",
    "\n",
    "# Crear un escritor bufferizado\n",
    "buffered_writer = io.BufferedWriter(binary_stream)\n",
    "\n",
    "# Escribir datos en el flujo\n",
    "buffered_writer.write(b'Hola, mundo!')\n",
    "buffered_writer.flush()\n",
    "\n",
    "# Ver los datos escritos\n",
    "print(binary_stream.getvalue())"
   ]
  },
  {
   "cell_type": "markdown",
   "metadata": {},
   "source": [
    "- `io.BufferedRandom()` Permite realizar lecturas y escrituras eficientes de datos en un flujo, en cualquier orden, manteniendo el rendimiento gracias al almacenamiento en búfer."
   ]
  },
  {
   "cell_type": "code",
   "execution_count": 16,
   "metadata": {},
   "outputs": [
    {
     "name": "stdout",
     "output_type": "stream",
     "text": [
      "b'Hola, mundo!'\n",
      "b'Hola, mundo! Adios, mundo!'\n"
     ]
    }
   ],
   "source": [
    "import io\n",
    "\n",
    "# Crear un flujo binario\n",
    "binary_stream = io.BytesIO(b'Hola, mundo!')\n",
    "\n",
    "# Crear un flujo bufferizado de lectura y escritura\n",
    "buffered_random = io.BufferedRandom(binary_stream)\n",
    "\n",
    "# Leer datos\n",
    "print(buffered_random.read())\n",
    "\n",
    "# # Escribir nuevos datos\n",
    "buffered_random.write(b' Adios, mundo!')\n",
    "buffered_random.seek(0)\n",
    "print(buffered_random.read())"
   ]
  },
  {
   "cell_type": "markdown",
   "metadata": {},
   "source": [
    "- `io.FileIO()` Proporciona una interfaz para trabajar con archivos en modo binario. Es más bajo nivel que `open()`, pero se usa para operaciones de I/O en archivos binarios."
   ]
  },
  {
   "cell_type": "code",
   "execution_count": 25,
   "metadata": {},
   "outputs": [],
   "source": [
    "import io\n",
    "\n",
    "# Abrir un archivo en modo binario\n",
    "with io.FileIO('../assets/bin/io_module.bin', 'wb') as f:\n",
    "    f.write(b'Hola, mundo!')"
   ]
  },
  {
   "cell_type": "markdown",
   "metadata": {},
   "source": [
    "- `io.IOBase()` Es la clase base para todos los objetos de flujo en el módulo io. No se usa directamente, pero se hereda en las clases de flujo, como BytesIO, StringIO, etc."
   ]
  },
  {
   "cell_type": "code",
   "execution_count": 28,
   "metadata": {},
   "outputs": [
    {
     "name": "stdout",
     "output_type": "stream",
     "text": [
      "True\n"
     ]
    }
   ],
   "source": [
    "import io\n",
    "\n",
    "# Instanciar un flujo de texto\n",
    "text_stream = io.StringIO('Hola')\n",
    "\n",
    "# Verificar el tipo de objeto\n",
    "print(isinstance(text_stream, io.IOBase))"
   ]
  }
 ],
 "metadata": {
  "kernelspec": {
   "display_name": "env",
   "language": "python",
   "name": "python3"
  },
  "language_info": {
   "codemirror_mode": {
    "name": "ipython",
    "version": 3
   },
   "file_extension": ".py",
   "mimetype": "text/x-python",
   "name": "python",
   "nbconvert_exporter": "python",
   "pygments_lexer": "ipython3",
   "version": "3.11.9"
  }
 },
 "nbformat": 4,
 "nbformat_minor": 2
}
