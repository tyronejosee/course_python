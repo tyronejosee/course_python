{
 "cells": [
  {
   "cell_type": "markdown",
   "metadata": {},
   "source": [
    "# **os**\n",
    "\n",
    "Proporciona una forma de interactuar con el sistema operativo subyacente."
   ]
  },
  {
   "cell_type": "markdown",
   "metadata": {},
   "source": [
    "## **Funciones Principales**"
   ]
  },
  {
   "cell_type": "markdown",
   "metadata": {},
   "source": [
    "- `os.getcwd()` Devuelve el directorio de trabajo actual."
   ]
  },
  {
   "cell_type": "code",
   "execution_count": 2,
   "metadata": {},
   "outputs": [
    {
     "name": "stdout",
     "output_type": "stream",
     "text": [
      "d:\\Projects\\course_python\\modulos\n"
     ]
    }
   ],
   "source": [
    "import os\n",
    "\n",
    "print(os.getcwd())"
   ]
  },
  {
   "cell_type": "markdown",
   "metadata": {},
   "source": [
    "- `os.chdir(path)` Cambia el directorio de trabajo actual al especificado."
   ]
  },
  {
   "cell_type": "code",
   "execution_count": 4,
   "metadata": {},
   "outputs": [],
   "source": [
    "import os\n",
    "\n",
    "# os.chdir(\"/tmp\")\n",
    "# print(os.getcwd())"
   ]
  },
  {
   "cell_type": "markdown",
   "metadata": {},
   "source": [
    "- `os.listdir(path='.')` Devuelve una lista de nombres de archivos y carpetas en el directorio especificado (por defecto, el actual)."
   ]
  },
  {
   "cell_type": "code",
   "execution_count": 8,
   "metadata": {},
   "outputs": [
    {
     "name": "stdout",
     "output_type": "stream",
     "text": [
      "['00_abc.ipynb', '00_cmd.ipynb', '00_filecmp.ipynb', '00_inspect.ipynb', '00_socket.ipynb', '00_sys.ipynb', '00_urllib.ipynb', '00_uuid.ipynb', '01_datetime.ipynb', '02_os.ipynb', '03_shutil.ipynb', '04_pathlib.ipynb', '05_tempfile.ipynb', '06_collections.ipynb', '07_itertools.ipynb', '08_functools.ipynb', '09_operator.ipynb', '10_logging.ipynb', '11_traceback.ipynb', '12_unittest.ipynb', '13_pdb.ipynb', '14_json.ipynb', '15_csv.ipynb', '16_sqlite3.ipynb', '17_configparser.ipynb', '18_math.ipynb', '19_statistics.ipynb', '20_random.ipynb', '21_hashlib.ipynb', '22_secrets.ipynb', '23_gzip.ipynb', '24_pickle.ipynb', '25_argparse.ipynb', '26_io.ipynb', '27_re.ipynb', 'README.md']\n",
      "['01_black.md', '02_yapf.md', '03_ruff.md']\n"
     ]
    }
   ],
   "source": [
    "import os\n",
    "\n",
    "print(os.listdir(\".\"))\n",
    "print(os.listdir(\"../linters\"))"
   ]
  },
  {
   "cell_type": "markdown",
   "metadata": {},
   "source": [
    "- `os.mkdir(path, mode=0o777)` Crea un directorio en la ruta especificada."
   ]
  },
  {
   "cell_type": "code",
   "execution_count": 10,
   "metadata": {},
   "outputs": [],
   "source": [
    "import os\n",
    "\n",
    "os.mkdir(\"../assets/folders/nueva_carpeta\")"
   ]
  },
  {
   "cell_type": "markdown",
   "metadata": {},
   "source": [
    "- `os.makedirs(path, exist_ok=False)` Crea un directorio y todas las carpetas intermedias necesarias."
   ]
  },
  {
   "cell_type": "code",
   "execution_count": 11,
   "metadata": {},
   "outputs": [],
   "source": [
    "import os\n",
    "\n",
    "os.makedirs(\"../assets/folders/carpeta1/carpeta2/carpeta3\", exist_ok=True)"
   ]
  },
  {
   "cell_type": "markdown",
   "metadata": {},
   "source": [
    "- `os.remove(path)` Elimina un archivo."
   ]
  },
  {
   "cell_type": "code",
   "execution_count": 15,
   "metadata": {},
   "outputs": [],
   "source": [
    "import os\n",
    "\n",
    "with open(\"archivo.txt\", \"w\") as archivo:\n",
    "    archivo.write(\"Ejemplo de Texto\")\n",
    "\n",
    "os.remove(\"archivo.txt\")"
   ]
  },
  {
   "cell_type": "markdown",
   "metadata": {},
   "source": [
    "- `os.rmdir(path)` Elimina un directorio vacío."
   ]
  },
  {
   "cell_type": "code",
   "execution_count": 33,
   "metadata": {},
   "outputs": [],
   "source": [
    "import os\n",
    "\n",
    "os.mkdir(\"carpeta_vacia\")\n",
    "os.rmdir(\"carpeta_vacia\")"
   ]
  },
  {
   "cell_type": "markdown",
   "metadata": {},
   "source": [
    "- `os.rename(src, dst)` Cambia el nombre o mueve un archivo o carpeta."
   ]
  },
  {
   "cell_type": "code",
   "execution_count": 35,
   "metadata": {},
   "outputs": [],
   "source": [
    "import os\n",
    "os.rename(\"../assets/txt/archivo_os.txt\", \"../assets/txt/archivo_os2.txt\")"
   ]
  },
  {
   "cell_type": "markdown",
   "metadata": {},
   "source": [
    "- `os.stat(path)` Devuelve información sobre un archivo o directorio."
   ]
  },
  {
   "cell_type": "code",
   "execution_count": 42,
   "metadata": {},
   "outputs": [
    {
     "name": "stdout",
     "output_type": "stream",
     "text": [
      "445\n"
     ]
    }
   ],
   "source": [
    "import os\n",
    "info = os.stat(\"../assets/txt/archivo_os2.txt\")\n",
    "print(info.st_size)"
   ]
  },
  {
   "cell_type": "markdown",
   "metadata": {},
   "source": [
    "- `os.path` Funciones relacionadas con rutas"
   ]
  },
  {
   "cell_type": "markdown",
   "metadata": {},
   "source": [
    "- `os.path.join()` Une partes de una ruta."
   ]
  },
  {
   "cell_type": "code",
   "execution_count": 44,
   "metadata": {},
   "outputs": [
    {
     "name": "stdout",
     "output_type": "stream",
     "text": [
      "home\\usuario\\archivo.txt\n"
     ]
    }
   ],
   "source": [
    "import os\n",
    "\n",
    "print(os.path.join(\"home\", \"usuario\", \"archivo.txt\"))"
   ]
  },
  {
   "cell_type": "markdown",
   "metadata": {},
   "source": [
    "- `os.path.exists()` Verifica si un archivo o directorio existe."
   ]
  },
  {
   "cell_type": "code",
   "execution_count": 45,
   "metadata": {},
   "outputs": [
    {
     "name": "stdout",
     "output_type": "stream",
     "text": [
      "False\n"
     ]
    }
   ],
   "source": [
    "import os\n",
    "\n",
    "print(os.path.exists(\"archivo.txt\"))"
   ]
  },
  {
   "cell_type": "markdown",
   "metadata": {},
   "source": [
    "- `os.path.isabs()` Verifica si una ruta es absoluta."
   ]
  },
  {
   "cell_type": "code",
   "execution_count": 46,
   "metadata": {},
   "outputs": [
    {
     "name": "stdout",
     "output_type": "stream",
     "text": [
      "True\n"
     ]
    }
   ],
   "source": [
    "import os\n",
    "\n",
    "print(os.path.isabs(\"/home/usuario\"))"
   ]
  },
  {
   "cell_type": "markdown",
   "metadata": {},
   "source": [
    "- `os.path.basename()` Obtiene el nombre del archivo."
   ]
  },
  {
   "cell_type": "code",
   "execution_count": 47,
   "metadata": {},
   "outputs": [
    {
     "name": "stdout",
     "output_type": "stream",
     "text": [
      "archivo.txt\n"
     ]
    }
   ],
   "source": [
    "import os\n",
    "\n",
    "print(os.path.basename(\"/home/usuario/archivo.txt\"))"
   ]
  },
  {
   "cell_type": "markdown",
   "metadata": {},
   "source": [
    "- `os.path.dirname()` Obtiene el directorio padre."
   ]
  },
  {
   "cell_type": "code",
   "execution_count": 48,
   "metadata": {},
   "outputs": [
    {
     "name": "stdout",
     "output_type": "stream",
     "text": [
      "/home/usuario\n"
     ]
    }
   ],
   "source": [
    "import os\n",
    "\n",
    "print(os.path.dirname(\"/home/usuario/archivo.txt\"))"
   ]
  },
  {
   "cell_type": "markdown",
   "metadata": {},
   "source": [
    "- `os.environ` Devuelve un diccionario con las variables de entorno."
   ]
  },
  {
   "cell_type": "code",
   "execution_count": 58,
   "metadata": {},
   "outputs": [
    {
     "name": "stdout",
     "output_type": "stream",
     "text": [
      "TYRONE\n"
     ]
    }
   ],
   "source": [
    "import os\n",
    "\n",
    "# print(os.environ)\n",
    "print(os.environ[\"COMPUTERNAME\"])"
   ]
  },
  {
   "cell_type": "markdown",
   "metadata": {},
   "source": [
    "- `os.system(command)` Ejecuta un comando del sistema."
   ]
  },
  {
   "cell_type": "code",
   "execution_count": null,
   "metadata": {},
   "outputs": [
    {
     "data": {
      "text/plain": [
       "0"
      ]
     },
     "execution_count": 60,
     "metadata": {},
     "output_type": "execute_result"
    }
   ],
   "source": [
    "import os\n",
    "\n",
    "os.system(\"echo Hola, mundo!\") "
   ]
  },
  {
   "cell_type": "markdown",
   "metadata": {},
   "source": [
    "- `os.cpu_count()` Devuelve el número de CPUs disponibles en el sistema."
   ]
  },
  {
   "cell_type": "code",
   "execution_count": 61,
   "metadata": {},
   "outputs": [
    {
     "name": "stdout",
     "output_type": "stream",
     "text": [
      "4\n"
     ]
    }
   ],
   "source": [
    "import os\n",
    "\n",
    "print(os.cpu_count())"
   ]
  },
  {
   "cell_type": "markdown",
   "metadata": {},
   "source": [
    "- `os.getlogin()` Devuelve el nombre del usuario actual."
   ]
  },
  {
   "cell_type": "code",
   "execution_count": 63,
   "metadata": {},
   "outputs": [
    {
     "name": "stdout",
     "output_type": "stream",
     "text": [
      "Tyrone José\n"
     ]
    }
   ],
   "source": [
    "import os\n",
    "\n",
    "print(os.getlogin())"
   ]
  },
  {
   "cell_type": "markdown",
   "metadata": {},
   "source": [
    "- `os.urandom(n)` Genera `n` bytes de datos aleatorios seguros."
   ]
  },
  {
   "cell_type": "code",
   "execution_count": 68,
   "metadata": {},
   "outputs": [
    {
     "name": "stdout",
     "output_type": "stream",
     "text": [
      "b\"mV:\\xae\\xe9``a\\xf1'\\xb8\\xd2\\x07\\xa2Wt\"\n"
     ]
    }
   ],
   "source": [
    "import os\n",
    "\n",
    "print(os.urandom(16))"
   ]
  },
  {
   "cell_type": "markdown",
   "metadata": {},
   "source": [
    "- `os.walk(top, topdown=True, onerror=None, followlinks=False)` Recorre un árbol de directorios generando nombres de archivos y carpetas."
   ]
  },
  {
   "cell_type": "code",
   "execution_count": 72,
   "metadata": {},
   "outputs": [
    {
     "name": "stdout",
     "output_type": "stream",
     "text": [
      "Directorio: .\n",
      "Subdirectorios: []\n",
      "Archivos: ['00_abc.ipynb', '00_cmd.ipynb', '00_filecmp.ipynb', '00_inspect.ipynb', '00_socket.ipynb', '00_sys.ipynb', '00_urllib.ipynb', '00_uuid.ipynb', '01_datetime.ipynb', '02_os.ipynb', '03_shutil.ipynb', '04_pathlib.ipynb', '05_tempfile.ipynb', '06_collections.ipynb', '07_itertools.ipynb', '08_functools.ipynb', '09_operator.ipynb', '10_logging.ipynb', '11_traceback.ipynb', '12_unittest.ipynb', '13_pdb.ipynb', '14_json.ipynb', '15_csv.ipynb', '16_sqlite3.ipynb', '17_configparser.ipynb', '18_math.ipynb', '19_statistics.ipynb', '20_random.ipynb', '21_hashlib.ipynb', '22_secrets.ipynb', '23_gzip.ipynb', '24_pickle.ipynb', '25_argparse.ipynb', '26_io.ipynb', '27_re.ipynb', 'README.md']\n"
     ]
    }
   ],
   "source": [
    "import os\n",
    "\n",
    "for root, dirs, files in os.walk(\".\"):\n",
    "    print(\"Directorio:\", root)\n",
    "    print(\"Subdirectorios:\", dirs)\n",
    "    print(\"Archivos:\", files)"
   ]
  }
 ],
 "metadata": {
  "kernelspec": {
   "display_name": "env",
   "language": "python",
   "name": "python3"
  },
  "language_info": {
   "codemirror_mode": {
    "name": "ipython",
    "version": 3
   },
   "file_extension": ".py",
   "mimetype": "text/x-python",
   "name": "python",
   "nbconvert_exporter": "python",
   "pygments_lexer": "ipython3",
   "version": "3.11.9"
  }
 },
 "nbformat": 4,
 "nbformat_minor": 2
}
