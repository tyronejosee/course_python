{
 "cells": [
  {
   "cell_type": "markdown",
   "metadata": {},
   "source": [
    "# **uuid**\n",
    "\n",
    "Se utiliza para generar identificadores únicos universales (UUID). Proporciona diferentes métodos para crear y manipular UUIDs."
   ]
  },
  {
   "cell_type": "markdown",
   "metadata": {},
   "source": [
    "- `uuid.uuid1()` Genera un **UUID** basado en la hora actual y en la dirección **MAC** de la máquina (si está disponible)."
   ]
  },
  {
   "cell_type": "code",
   "execution_count": 15,
   "metadata": {},
   "outputs": [
    {
     "name": "stdout",
     "output_type": "stream",
     "text": [
      "7eda7aa0-d4f1-11ef-a3cd-54e1ad81718b\n"
     ]
    }
   ],
   "source": [
    "import uuid\n",
    "\n",
    "# Generar un UUID basado en la hora\n",
    "uuid1 = uuid.uuid1()\n",
    "print(uuid1)"
   ]
  },
  {
   "cell_type": "markdown",
   "metadata": {},
   "source": [
    "- `uuid.uuid3(namespace, name)` Genera un **UUID** basado en un nombre y un espacio de nombres, utilizando el algoritmo de hash MD5.\n",
    "\n",
    "  - `namespace` Espacio de nombres, debe ser un **UUID**.\n",
    "  - `name` Cadena para generar el **UUID**."
   ]
  },
  {
   "cell_type": "code",
   "execution_count": 21,
   "metadata": {},
   "outputs": [
    {
     "name": "stdout",
     "output_type": "stream",
     "text": [
      "9073926b-929f-31c2-abc9-fad77ae3e8eb\n"
     ]
    }
   ],
   "source": [
    "import uuid\n",
    "\n",
    "# Usar un espacio de nombres estándar y un nombre\n",
    "uuid3 = uuid.uuid3(uuid.NAMESPACE_DNS, 'example.com')\n",
    "print(uuid3)"
   ]
  },
  {
   "cell_type": "markdown",
   "metadata": {},
   "source": [
    "- `uuid.uuid4()` Genera un **UUID** aleatorio, utilizando números pseudoaleatorios o un generador criptográfico."
   ]
  },
  {
   "cell_type": "code",
   "execution_count": 39,
   "metadata": {},
   "outputs": [
    {
     "name": "stdout",
     "output_type": "stream",
     "text": [
      "ffad3477-c530-4146-a044-6e2a1e2dc613\n"
     ]
    }
   ],
   "source": [
    "import uuid\n",
    "\n",
    "# Generar un UUID aleatorio\n",
    "uuid4 = uuid.uuid4()\n",
    "print(uuid4)"
   ]
  },
  {
   "cell_type": "markdown",
   "metadata": {},
   "source": [
    "- `uid.uuid5(namespace, name)` Genera un **UUID** basado en un nombre y un espacio de nombres, utilizando el algoritmo de hash **SHA-1**."
   ]
  },
  {
   "cell_type": "code",
   "execution_count": 47,
   "metadata": {},
   "outputs": [
    {
     "name": "stdout",
     "output_type": "stream",
     "text": [
      "cfbff0d1-9375-5685-968c-48ce8b15ae17\n"
     ]
    }
   ],
   "source": [
    "import uuid\n",
    "\n",
    "# Usar un espacio de nombres estándar y un nombre\n",
    "uuid5 = uuid.uuid5(uuid.NAMESPACE_DNS, 'example.com')\n",
    "print(uuid5)"
   ]
  },
  {
   "cell_type": "markdown",
   "metadata": {},
   "source": [
    "- `uuid.getnode()` Devuelve el valor del nodo (por lo general, la dirección **MAC** de la máquina)."
   ]
  },
  {
   "cell_type": "code",
   "execution_count": 54,
   "metadata": {},
   "outputs": [
    {
     "name": "stdout",
     "output_type": "stream",
     "text": [
      "93328255316363\n"
     ]
    }
   ],
   "source": [
    "import uuid\n",
    "\n",
    "# Obtener la dirección MAC o un valor alternativo\n",
    "node = uuid.getnode()\n",
    "print(node)"
   ]
  },
  {
   "cell_type": "markdown",
   "metadata": {},
   "source": [
    "- `uuid.UUID(hex=None, bytes=None, bytes_le=None, fields=None, int=None, version=None)` Permite construir un objeto **UUID** desde diferentes formatos: hexadecimal, bytes, entero, o campos."
   ]
  },
  {
   "cell_type": "code",
   "execution_count": 59,
   "metadata": {},
   "outputs": [
    {
     "name": "stdout",
     "output_type": "stream",
     "text": [
      "12345678-1234-5678-1234-567812345678\n"
     ]
    }
   ],
   "source": [
    "import uuid\n",
    "\n",
    "# Crear un UUID a partir de una cadena hexadecimal\n",
    "uuid_obj = uuid.UUID('12345678123456781234567812345678')\n",
    "print(uuid_obj)"
   ]
  },
  {
   "cell_type": "markdown",
   "metadata": {},
   "source": [
    "## **Espacios de Nombres**\n",
    "\n",
    "Espacios de nombres estándar en uuid:\n",
    "\n",
    "- El módulo incluye constantes para espacios de nombres comunes, que se usan con uuid3 y uuid5:\n",
    "\n",
    "  - `uuid.NAMESPACE_DNS` Espacio de nombres basado en **DNS**.\n",
    "  - `uuid.NAMESPACE_URL` Espacio de nombres basado en **URLs**.\n",
    "  - `uuid.NAMESPACE_OID` Espacio de nombres basado en **OID**.\n",
    "  - `uuid.NAMESPACE_X500` Espacio de nombres basado en **X.500 DN**."
   ]
  },
  {
   "cell_type": "code",
   "execution_count": 61,
   "metadata": {},
   "outputs": [
    {
     "name": "stdout",
     "output_type": "stream",
     "text": [
      "4fd35a71-71ef-5a55-a9d9-aa75c889a6d0\n"
     ]
    }
   ],
   "source": [
    "import uuid\n",
    "\n",
    "# Generar un UUID basado en un nombre y el espacio NAMESPACE_URL\n",
    "uuid_from_url = uuid.uuid5(uuid.NAMESPACE_URL, 'https://example.com')\n",
    "print(uuid_from_url)"
   ]
  }
 ],
 "metadata": {
  "kernelspec": {
   "display_name": "env",
   "language": "python",
   "name": "python3"
  },
  "language_info": {
   "codemirror_mode": {
    "name": "ipython",
    "version": 3
   },
   "file_extension": ".py",
   "mimetype": "text/x-python",
   "name": "python",
   "nbconvert_exporter": "python",
   "pygments_lexer": "ipython3",
   "version": "3.13.1"
  }
 },
 "nbformat": 4,
 "nbformat_minor": 2
}
