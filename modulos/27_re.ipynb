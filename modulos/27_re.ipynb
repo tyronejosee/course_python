{
 "cells": [
  {
   "cell_type": "markdown",
   "metadata": {},
   "source": [
    "# **re**\n",
    "\n",
    "Proporciona herramientas para trabajar con expresiones regulares, lo que permite buscar, coincidir y manipular cadenas de texto de forma más eficiente y flexible."
   ]
  },
  {
   "cell_type": "markdown",
   "metadata": {},
   "source": [
    "## **Funciones Principales**"
   ]
  },
  {
   "cell_type": "markdown",
   "metadata": {},
   "source": [
    "- `re.match()` Intenta hacer coincidir una expresión regular al principio de una cadena. Si la coincidencia tiene éxito, devuelve un objeto Match, de lo contrario, devuelve None.\n",
    "- `group()` devuelve la cadena completa que coincide con el patrón.\n",
    "- `\\d` Representa cualquier dígito numérico (del 0 al 9).\n",
    "- `+` Es un cuantificador que indica \"uno o más\" de lo que lo precede."
   ]
  },
  {
   "cell_type": "code",
   "execution_count": 101,
   "metadata": {},
   "outputs": [
    {
     "name": "stdout",
     "output_type": "stream",
     "text": [
      "<class 're.Match'>\n",
      "123\n"
     ]
    }
   ],
   "source": [
    "import re\n",
    "\n",
    "resultado = re.match(r'\\d+', \"123abc\")\n",
    "print(type(resultado))\n",
    "print(resultado.group())"
   ]
  },
  {
   "cell_type": "markdown",
   "metadata": {},
   "source": [
    "- `re.search()` Busca una coincidencia en toda la cadena. Si encuentra una coincidencia, devuelve un objeto `Match`, si no, devuelve `None`."
   ]
  },
  {
   "cell_type": "code",
   "execution_count": 102,
   "metadata": {},
   "outputs": [
    {
     "name": "stdout",
     "output_type": "stream",
     "text": [
      "123\n"
     ]
    }
   ],
   "source": [
    "import re\n",
    "\n",
    "resultado = re.search(r'\\d+', \"abc123xyz\")\n",
    "print(resultado.group())"
   ]
  },
  {
   "cell_type": "markdown",
   "metadata": {},
   "source": [
    "- `re.findall()` Devuelve todas las coincidencias de la expresión regular en la cadena como una lista. Si no hay coincidencias, devuelve una lista vacía."
   ]
  },
  {
   "cell_type": "code",
   "execution_count": 103,
   "metadata": {},
   "outputs": [
    {
     "name": "stdout",
     "output_type": "stream",
     "text": [
      "<class 'list'>\n",
      "['123', '456', '789']\n"
     ]
    }
   ],
   "source": [
    "import re\n",
    "\n",
    "resultados = re.findall(r'\\d+', \"123 abc 456 def 789\")\n",
    "print(type(resultados))\n",
    "print(resultados)"
   ]
  },
  {
   "cell_type": "markdown",
   "metadata": {},
   "source": [
    "- `re.finditer()` Devuelve un iterador que produce objetos Match para todas las coincidencias de la expresión regular en la cadena."
   ]
  },
  {
   "cell_type": "code",
   "execution_count": 104,
   "metadata": {},
   "outputs": [
    {
     "name": "stdout",
     "output_type": "stream",
     "text": [
      "<class 'callable_iterator'>\n",
      "123\n",
      "456\n",
      "789\n"
     ]
    }
   ],
   "source": [
    "import re\n",
    "\n",
    "resultados = re.finditer(r'\\d+', \"123 abc 456 def 789\")\n",
    "print(type(resultados))\n",
    "\n",
    "for match in resultados:\n",
    "    print(match.group())"
   ]
  },
  {
   "cell_type": "markdown",
   "metadata": {},
   "source": [
    "- `re.sub()` Sustituye las coincidencias encontradas por la expresión regular con un texto especificado. Si no hay coincidencias, devuelve la cadena original."
   ]
  },
  {
   "cell_type": "code",
   "execution_count": 105,
   "metadata": {},
   "outputs": [
    {
     "name": "stdout",
     "output_type": "stream",
     "text": [
      "abc#xyz\n"
     ]
    }
   ],
   "source": [
    "import re\n",
    "\n",
    "# Sustituye los dígitos por un símbolo\n",
    "resultado = re.sub(r'\\d+', '#', 'abc123xyz')\n",
    "print(resultado)"
   ]
  },
  {
   "cell_type": "markdown",
   "metadata": {},
   "source": [
    "- `re.subn()` Similar a `re.sub()`, pero también devuelve el número de sustituciones realizadas."
   ]
  },
  {
   "cell_type": "code",
   "execution_count": 106,
   "metadata": {},
   "outputs": [
    {
     "name": "stdout",
     "output_type": "stream",
     "text": [
      "abc#def#\n",
      "2\n"
     ]
    }
   ],
   "source": [
    "import re\n",
    "\n",
    "# Sustituye y cuenta las sustituciones\n",
    "resultado, cantidad = re.subn(r'\\d+', '#', 'abc123def456')\n",
    "print(resultado)\n",
    "print(cantidad)"
   ]
  },
  {
   "cell_type": "markdown",
   "metadata": {},
   "source": [
    "- `re.split()` Divide una cadena en una lista usando la expresión regular como delimitador."
   ]
  },
  {
   "cell_type": "code",
   "execution_count": 107,
   "metadata": {},
   "outputs": [
    {
     "name": "stdout",
     "output_type": "stream",
     "text": [
      "['abc', 'def', 'ghi']\n"
     ]
    }
   ],
   "source": [
    "import re\n",
    "\n",
    "# Divide la cadena por cualquier número de dígitos\n",
    "resultado = re.split(r'\\d+', 'abc123def456ghi')\n",
    "print(resultado)"
   ]
  },
  {
   "cell_type": "markdown",
   "metadata": {},
   "source": [
    "- `re.compile()` Compila una expresión regular en un objeto `Pattern`, que luego puede ser reutilizado varias veces para realizar búsquedas."
   ]
  },
  {
   "cell_type": "code",
   "execution_count": 108,
   "metadata": {},
   "outputs": [
    {
     "name": "stdout",
     "output_type": "stream",
     "text": [
      "<class 're.Pattern'>\n",
      "123\n"
     ]
    }
   ],
   "source": [
    "import re\n",
    "\n",
    "# Compila una expresión regular\n",
    "patron = re.compile(r'\\d+')\n",
    "print(type(patron))\n",
    "\n",
    "# Utiliza el objeto Pattern para buscar\n",
    "resultado = patron.match('123abc')\n",
    "print(resultado.group())"
   ]
  },
  {
   "cell_type": "markdown",
   "metadata": {},
   "source": [
    "- `re.fullmatch()` Verifica si toda la cadena coincide con la expresión regular. Si la coincidencia es completa, devuelve un objeto `Match`; de lo contrario, devuelve `None`."
   ]
  },
  {
   "cell_type": "code",
   "execution_count": 109,
   "metadata": {},
   "outputs": [
    {
     "name": "stdout",
     "output_type": "stream",
     "text": [
      "123\n"
     ]
    }
   ],
   "source": [
    "import re\n",
    "\n",
    "# Verifica si toda la cadena es un número\n",
    "resultado = re.fullmatch(r'\\d+', '123')\n",
    "print(resultado.group())"
   ]
  },
  {
   "cell_type": "markdown",
   "metadata": {},
   "source": [
    "- `re.escape()` Escapa todos los caracteres especiales de la expresión regular para que puedan ser utilizados literalmente."
   ]
  },
  {
   "cell_type": "code",
   "execution_count": 110,
   "metadata": {},
   "outputs": [
    {
     "name": "stdout",
     "output_type": "stream",
     "text": [
      "abc\\?123\n"
     ]
    }
   ],
   "source": [
    "import re\n",
    "\n",
    "# Escapa los caracteres especiales\n",
    "resultado = re.escape('abc?123')\n",
    "print(resultado)"
   ]
  },
  {
   "cell_type": "markdown",
   "metadata": {},
   "source": [
    "- `re.purge()` Elimina los patrones de expresión regular compilados de la caché interna. Esto puede ser útil si se ha estado trabajando con muchas expresiones regulares y se desea liberar memoria."
   ]
  },
  {
   "cell_type": "code",
   "execution_count": 111,
   "metadata": {},
   "outputs": [],
   "source": [
    "import re\n",
    "\n",
    "# Elimina los patrones de la caché\n",
    "re.purge()"
   ]
  },
  {
   "cell_type": "markdown",
   "metadata": {},
   "source": [
    "- `re.A / re.ASCII` Este flag hace que la expresión regular solo coincida con caracteres ASCII, excluyendo otros caracteres Unicode."
   ]
  },
  {
   "cell_type": "code",
   "execution_count": 112,
   "metadata": {},
   "outputs": [
    {
     "name": "stdout",
     "output_type": "stream",
     "text": [
      "['abc']\n"
     ]
    }
   ],
   "source": [
    "import re\n",
    "\n",
    "# Coincide solo con caracteres ASCII\n",
    "resultado = re.findall(r'[a-z]+', 'abc123©', re.ASCII)\n",
    "print(resultado)"
   ]
  },
  {
   "cell_type": "markdown",
   "metadata": {},
   "source": [
    "- `re.I / re.IGNORECASE` Hace que la expresión regular no distinga entre mayúsculas y minúsculas."
   ]
  },
  {
   "cell_type": "code",
   "execution_count": 113,
   "metadata": {},
   "outputs": [
    {
     "name": "stdout",
     "output_type": "stream",
     "text": [
      "['Abc', 'ABC', 'abc']\n"
     ]
    }
   ],
   "source": [
    "import re\n",
    "\n",
    "# Coincide sin distinguir mayúsculas o minúsculas\n",
    "resultado = re.findall(r'abc', 'AbcABCabc', re.IGNORECASE)\n",
    "print(resultado)"
   ]
  },
  {
   "cell_type": "markdown",
   "metadata": {},
   "source": [
    "- `re.M / re.MULTILINE` Hace que los caracteres ^ y $ coincidan con el inicio y final de cada línea (no solo con el inicio y final de la cadena)."
   ]
  },
  {
   "cell_type": "code",
   "execution_count": 114,
   "metadata": {},
   "outputs": [
    {
     "name": "stdout",
     "output_type": "stream",
     "text": [
      "['abc', 'abc', 'abc']\n"
     ]
    }
   ],
   "source": [
    "import re\n",
    "\n",
    "# Coincide con el inicio de cada línea\n",
    "resultado = re.findall(r'^abc', 'abcss\\nabc\\nabc', re.MULTILINE)\n",
    "print(resultado)"
   ]
  },
  {
   "cell_type": "markdown",
   "metadata": {},
   "source": [
    "- `re.S / re.DOTALL` Hace que el carácter `.` coincida con cualquier carácter, incluidos los saltos de línea."
   ]
  },
  {
   "cell_type": "code",
   "execution_count": 115,
   "metadata": {},
   "outputs": [
    {
     "name": "stdout",
     "output_type": "stream",
     "text": [
      "['abc\\n123\\ndef']\n"
     ]
    }
   ],
   "source": [
    "import re\n",
    "\n",
    "# Coincide con cualquier cosa, incluyendo saltos de línea\n",
    "resultado = re.findall(r'abc.*def', 'zxc abc\\n123\\ndef', re.DOTALL)\n",
    "print(resultado)"
   ]
  },
  {
   "cell_type": "markdown",
   "metadata": {},
   "source": [
    "- `re.X / re.VERBOSE` Permite escribir expresiones regulares más legibles, permitiendo comentarios y saltos de línea en la expresión regular."
   ]
  },
  {
   "cell_type": "code",
   "execution_count": 116,
   "metadata": {},
   "outputs": [
    {
     "name": "stdout",
     "output_type": "stream",
     "text": [
      "['123 abc']\n"
     ]
    }
   ],
   "source": [
    "import re\n",
    "\n",
    "# Expresión regular más legible\n",
    "resultado = re.findall(r'''\n",
    "    \\d+     # Coincide con números\n",
    "    \\s+     # Coincide con espacios\n",
    "    \\w+     # Coincide con palabras\n",
    "''', '123 abc', re.VERBOSE)\n",
    "print(resultado)"
   ]
  }
 ],
 "metadata": {
  "kernelspec": {
   "display_name": "env",
   "language": "python",
   "name": "python3"
  },
  "language_info": {
   "codemirror_mode": {
    "name": "ipython",
    "version": 3
   },
   "file_extension": ".py",
   "mimetype": "text/x-python",
   "name": "python",
   "nbconvert_exporter": "python",
   "pygments_lexer": "ipython3",
   "version": "3.11.9"
  }
 },
 "nbformat": 4,
 "nbformat_minor": 2
}
