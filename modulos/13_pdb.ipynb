{
 "cells": [
  {
   "cell_type": "markdown",
   "metadata": {},
   "source": [
    "# **pdb**\n",
    "\n",
    "`Python Debugger` es una herramienta poderosa que permite depurar programas de **Python** interactivamente."
   ]
  },
  {
   "cell_type": "markdown",
   "metadata": {},
   "source": [
    "## **Pausar la Ejecución**\n",
    "\n",
    "Puedes pausar tu programa en un punto específico para inspeccionar variables y el flujo de ejecución."
   ]
  },
  {
   "cell_type": "code",
   "execution_count": null,
   "metadata": {},
   "outputs": [
    {
     "name": "stdout",
     "output_type": "stream",
     "text": [
      "> \u001b[1;32mc:\\users\\joser\\appdata\\local\\temp\\ipykernel_20552\\4111409714.py\u001b[0m(5)\u001b[0;36mcalculate_total\u001b[1;34m()\u001b[0m\n",
      "\n"
     ]
    }
   ],
   "source": [
    "from IPython.core.debugger import set_trace\n",
    "\n",
    "def calculate_total(prices):\n",
    "    total = 0\n",
    "    for price in prices:\n",
    "        total += price\n",
    "        set_trace()  # Pausa la ejecución aquí\n",
    "    return total\n",
    "\n",
    "prices = [10, 20, 30]\n",
    "calculate_total(prices)\n"
   ]
  }
 ],
 "metadata": {
  "kernelspec": {
   "display_name": "env",
   "language": "python",
   "name": "python3"
  },
  "language_info": {
   "codemirror_mode": {
    "name": "ipython",
    "version": 3
   },
   "file_extension": ".py",
   "mimetype": "text/x-python",
   "name": "python",
   "nbconvert_exporter": "python",
   "pygments_lexer": "ipython3",
   "version": "3.13.1"
  }
 },
 "nbformat": 4,
 "nbformat_minor": 2
}
