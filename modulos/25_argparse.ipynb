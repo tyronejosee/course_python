{
 "cells": [
  {
   "cell_type": "markdown",
   "metadata": {},
   "source": [
    "# **argparse**\n",
    "\n",
    "Es una herramienta para crear interfaces de línea de comandos que aceptan argumentos y opciones de entrada."
   ]
  },
  {
   "cell_type": "markdown",
   "metadata": {},
   "source": [
    "## **Funciones Principales**"
   ]
  },
  {
   "cell_type": "markdown",
   "metadata": {},
   "source": [
    "- `argparse.ArgumentParser` Crea un objeto `ArgumentParser` que se utiliza para definir y manejar argumentos."
   ]
  },
  {
   "cell_type": "code",
   "execution_count": 2,
   "metadata": {},
   "outputs": [
    {
     "name": "stdout",
     "output_type": "stream",
     "text": [
      "<class 'argparse.ArgumentParser'>\n"
     ]
    }
   ],
   "source": [
    "import argparse\n",
    "\n",
    "parser = argparse.ArgumentParser(description=\"Ejemplo de ArgumentParser\")\n",
    "print(type(parser))"
   ]
  },
  {
   "cell_type": "markdown",
   "metadata": {},
   "source": [
    "- `add_argument` Define los argumentos que acepta el programa."
   ]
  },
  {
   "cell_type": "code",
   "execution_count": 4,
   "metadata": {},
   "outputs": [
    {
     "data": {
      "text/plain": [
       "_StoreAction(option_strings=['--name'], dest='name', nargs=None, const=None, default=None, type=<class 'str'>, choices=None, required=False, help='Nombre del usuario', metavar=None)"
      ]
     },
     "execution_count": 4,
     "metadata": {},
     "output_type": "execute_result"
    }
   ],
   "source": [
    "import argparse\n",
    "\n",
    "parser = argparse.ArgumentParser(description=\"Ejemplo de ArgumentParser\")\n",
    "parser.add_argument('--name', type=str, help=\"Nombre del usuario\")"
   ]
  },
  {
   "cell_type": "markdown",
   "metadata": {},
   "source": [
    "- `parse_args` Analiza los argumentos de la línea de comandos."
   ]
  },
  {
   "cell_type": "code",
   "execution_count": 51,
   "metadata": {},
   "outputs": [
    {
     "name": "stdout",
     "output_type": "stream",
     "text": [
      "<class 'argparse.Namespace'>\n",
      "Course Python\n"
     ]
    }
   ],
   "source": [
    "import sys\n",
    "import argparse\n",
    "\n",
    "parser = argparse.ArgumentParser()\n",
    "parser.add_argument('--app', type=str, help=\"Nombre de la app\")\n",
    "\n",
    "# Simila consola de comandos\n",
    "sys.argv = ['main.py', '--app', 'Course Python']\n",
    "\n",
    "# Argumentos\n",
    "args = parser.parse_args()\n",
    "print(type(args))\n",
    "print(args.app)"
   ]
  },
  {
   "cell_type": "markdown",
   "metadata": {},
   "source": [
    "- `add_mutually_exclusive_group` Crea un grupo de argumentos mutuamente exclusivos (solo uno de ellos puede estar presente)."
   ]
  },
  {
   "cell_type": "code",
   "execution_count": 27,
   "metadata": {},
   "outputs": [
    {
     "name": "stdout",
     "output_type": "stream",
     "text": [
      "<class 'argparse._MutuallyExclusiveGroup'>\n"
     ]
    },
    {
     "data": {
      "text/plain": [
       "_StoreTrueAction(option_strings=['--quiet'], dest='quiet', nargs=0, const=True, default=False, type=None, choices=None, required=False, help='Modo silencioso', metavar=None)"
      ]
     },
     "execution_count": 27,
     "metadata": {},
     "output_type": "execute_result"
    }
   ],
   "source": [
    "import argparse\n",
    "\n",
    "parser = argparse.ArgumentParser()\n",
    "\n",
    "group = parser.add_mutually_exclusive_group()\n",
    "print(type(group))\n",
    "\n",
    "group.add_argument('--verbose', action='store_true', help=\"Modo detallado\")\n",
    "group.add_argument('--quiet', action='store_true', help=\"Modo silencioso\")"
   ]
  },
  {
   "cell_type": "markdown",
   "metadata": {},
   "source": [
    "- `set_defaults` Configura valores predeterminados para los argumentos."
   ]
  },
  {
   "cell_type": "code",
   "execution_count": 29,
   "metadata": {},
   "outputs": [],
   "source": [
    "import argparse\n",
    "\n",
    "parser = argparse.ArgumentParser()\n",
    "\n",
    "parser.set_defaults(verbose=False)"
   ]
  },
  {
   "cell_type": "markdown",
   "metadata": {},
   "source": [
    "- `print_help` Imprime el mensaje de ayuda para el programa."
   ]
  },
  {
   "cell_type": "code",
   "execution_count": 50,
   "metadata": {},
   "outputs": [
    {
     "name": "stdout",
     "output_type": "stream",
     "text": [
      "usage: main.py [-h]\n",
      "\n",
      "options:\n",
      "  -h, --help  show this help message and exit\n"
     ]
    }
   ],
   "source": [
    "import argparse\n",
    "\n",
    "parser = argparse.ArgumentParser()\n",
    "\n",
    "parser.print_help()"
   ]
  },
  {
   "cell_type": "markdown",
   "metadata": {},
   "source": [
    "- `parse_known_args` Analiza solo los argumentos conocidos y deja los desconocidos sin procesar."
   ]
  },
  {
   "cell_type": "code",
   "execution_count": 37,
   "metadata": {},
   "outputs": [
    {
     "name": "stdout",
     "output_type": "stream",
     "text": [
      "Conocidos: Namespace()\n",
      "Desconocidos: ['--unknown', 'Comando Desconocido']\n"
     ]
    }
   ],
   "source": [
    "import sys\n",
    "import argparse\n",
    "\n",
    "parser = argparse.ArgumentParser()\n",
    "\n",
    "# Simila consola de comandos\n",
    "sys.argv = ['main.py', '--unknown', 'Comando Desconocido']\n",
    "\n",
    "args, unknown = parser.parse_known_args()\n",
    "print(\"Conocidos:\", args)\n",
    "print(\"Desconocidos:\", unknown)"
   ]
  },
  {
   "cell_type": "markdown",
   "metadata": {},
   "source": [
    "- `add_subparsers` Añade subcomandos al programa."
   ]
  },
  {
   "cell_type": "code",
   "execution_count": 38,
   "metadata": {},
   "outputs": [
    {
     "data": {
      "text/plain": [
       "_StoreAction(option_strings=['--speed'], dest='speed', nargs=None, const=None, default=None, type=<class 'int'>, choices=None, required=False, help='Velocidad de ejecución', metavar=None)"
      ]
     },
     "execution_count": 38,
     "metadata": {},
     "output_type": "execute_result"
    }
   ],
   "source": [
    "subparsers = parser.add_subparsers(dest=\"command\")\n",
    "subparser_1 = subparsers.add_parser('run', help=\"Ejecuta el programa\")\n",
    "subparser_1.add_argument('--speed', type=int, help=\"Velocidad de ejecución\")"
   ]
  },
  {
   "cell_type": "markdown",
   "metadata": {},
   "source": [
    "- `error` Genera un mensaje de error personalizado cuando los argumentos no son válidos."
   ]
  },
  {
   "cell_type": "code",
   "execution_count": 39,
   "metadata": {},
   "outputs": [
    {
     "name": "stderr",
     "output_type": "stream",
     "text": [
      "usage: main.py [-h] {run} ...\n",
      "main.py: error: Argumento inválido\n"
     ]
    },
    {
     "ename": "SystemExit",
     "evalue": "2",
     "output_type": "error",
     "traceback": [
      "An exception has occurred, use %tb to see the full traceback.\n",
      "\u001b[1;31mSystemExit\u001b[0m\u001b[1;31m:\u001b[0m 2\n"
     ]
    },
    {
     "name": "stderr",
     "output_type": "stream",
     "text": [
      "d:\\Projects\\course_python\\env\\Lib\\site-packages\\IPython\\core\\interactiveshell.py:3585: UserWarning: To exit: use 'exit', 'quit', or Ctrl-D.\n",
      "  warn(\"To exit: use 'exit', 'quit', or Ctrl-D.\", stacklevel=1)\n"
     ]
    }
   ],
   "source": [
    "parser.error(\"Argumento inválido\")"
   ]
  },
  {
   "cell_type": "markdown",
   "metadata": {},
   "source": [
    "## **Ejemplo**"
   ]
  },
  {
   "cell_type": "code",
   "execution_count": 45,
   "metadata": {},
   "outputs": [
    {
     "name": "stdout",
     "output_type": "stream",
     "text": [
      "Hola, Tyrone!\n"
     ]
    }
   ],
   "source": [
    "import sys\n",
    "import argparse\n",
    "\n",
    "# Crear el parser\n",
    "parser = argparse.ArgumentParser(description=\"Ejemplo completo de argparse\")\n",
    "\n",
    "# Agregar argumentos\n",
    "parser.add_argument('--name', type=str, required=True, help=\"Nombre del usuario\")\n",
    "parser.add_argument('--age', type=int, help=\"Edad del usuario\")\n",
    "parser.add_argument('--verbose', action='store_true', help=\"Modo detallado\")\n",
    "\n",
    "# Simular argumentos en Jupyter Notebook\n",
    "sys.argv = ['main.py', '--name', 'Tyrone']\n",
    "\n",
    "# Analizar argumentos\n",
    "args = parser.parse_args()\n",
    "\n",
    "# Usar los argumentos\n",
    "if args.verbose:\n",
    "    print(f\"Nombre: {args.name}, Edad: {args.age}\")\n",
    "else:\n",
    "    print(f\"Hola, {args.name}!\")\n"
   ]
  }
 ],
 "metadata": {
  "kernelspec": {
   "display_name": "env",
   "language": "python",
   "name": "python3"
  },
  "language_info": {
   "codemirror_mode": {
    "name": "ipython",
    "version": 3
   },
   "file_extension": ".py",
   "mimetype": "text/x-python",
   "name": "python",
   "nbconvert_exporter": "python",
   "pygments_lexer": "ipython3",
   "version": "3.13.1"
  }
 },
 "nbformat": 4,
 "nbformat_minor": 2
}
