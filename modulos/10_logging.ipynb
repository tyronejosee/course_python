{
 "cells": [
  {
   "cell_type": "markdown",
   "metadata": {},
   "source": [
    "# **logging**\n",
    "\n",
    "Proporciona una implementación flexible y extensible para manejar mensajes de registro en aplicaciones.\n",
    "\n",
    "- `DEBUG`: Mensajes detallados para depuración.\n",
    "- `INFO`: Mensajes informativos sobre el flujo normal.\n",
    "- `WARNING`: Advertencias de posibles problemas.\n",
    "- `ERROR`: Mensajes para errores graves.\n",
    "- `CRITICAL`: Errores críticos que podrían requerir atención inmediata."
   ]
  },
  {
   "cell_type": "markdown",
   "metadata": {},
   "source": [
    "## **Funciones Principales**"
   ]
  },
  {
   "cell_type": "markdown",
   "metadata": {},
   "source": [
    "- `logging.basicConfig()` Configura opciones básicas para el sistema de registro."
   ]
  },
  {
   "cell_type": "code",
   "execution_count": 2,
   "metadata": {},
   "outputs": [
    {
     "name": "stderr",
     "output_type": "stream",
     "text": [
      "2025-01-14 13:16:15,707 - INFO - Este es un mensaje informativo.\n"
     ]
    }
   ],
   "source": [
    "import logging\n",
    "\n",
    "logging.basicConfig(level=logging.INFO, format='%(asctime)s - %(levelname)s - %(message)s')\n",
    "logging.info(\"Este es un mensaje informativo.\")"
   ]
  },
  {
   "cell_type": "markdown",
   "metadata": {},
   "source": [
    "- `logging.getLogger(name=None)` Crea o recupera un logger con un nombre específico."
   ]
  },
  {
   "cell_type": "code",
   "execution_count": 3,
   "metadata": {},
   "outputs": [
    {
     "name": "stderr",
     "output_type": "stream",
     "text": [
      "2025-01-14 13:16:15,864 - DEBUG - Este es un mensaje de depuración.\n"
     ]
    }
   ],
   "source": [
    "import logging\n",
    "\n",
    "logger = logging.getLogger('mi_logger')\n",
    "logger.setLevel(logging.DEBUG)\n",
    "logger.debug(\"Este es un mensaje de depuración.\")"
   ]
  },
  {
   "cell_type": "markdown",
   "metadata": {},
   "source": [
    "- `logging.debug()` Registra un mensaje con nivel DEBUG: Útil para mensajes detallados durante el desarrollo."
   ]
  },
  {
   "cell_type": "code",
   "execution_count": 4,
   "metadata": {},
   "outputs": [],
   "source": [
    "import logging\n",
    "\n",
    "logging.basicConfig(level=logging.DEBUG)\n",
    "logging.debug(\"Este es un mensaje de depuración.\")"
   ]
  },
  {
   "cell_type": "markdown",
   "metadata": {},
   "source": [
    "- `logging.info()` Registra un mensaje con nivel INFO: Útil para mensajes generales sobre el estado del programa."
   ]
  },
  {
   "cell_type": "code",
   "execution_count": 5,
   "metadata": {},
   "outputs": [
    {
     "name": "stderr",
     "output_type": "stream",
     "text": [
      "2025-01-14 13:16:16,023 - INFO - Este es un mensaje informativo.\n"
     ]
    }
   ],
   "source": [
    "import logging\n",
    "\n",
    "logging.basicConfig(level=logging.INFO)\n",
    "logging.info(\"Este es un mensaje informativo.\")"
   ]
  },
  {
   "cell_type": "markdown",
   "metadata": {},
   "source": [
    "- `logging.warning()` Registra un mensaje con nivel WARNING: Señala posibles problemas que no detienen el programa."
   ]
  },
  {
   "cell_type": "code",
   "execution_count": 6,
   "metadata": {},
   "outputs": [
    {
     "name": "stderr",
     "output_type": "stream",
     "text": [
      "2025-01-14 13:16:16,107 - WARNING - Este es un mensaje de advertencia.\n"
     ]
    }
   ],
   "source": [
    "import logging\n",
    "\n",
    "logging.basicConfig(level=logging.WARNING)\n",
    "logging.warning(\"Este es un mensaje de advertencia.\")"
   ]
  },
  {
   "cell_type": "markdown",
   "metadata": {},
   "source": [
    "- `logging.error()` Registra un mensaje con nivel ERROR: Indica problemas que podrían afectar el funcionamiento."
   ]
  },
  {
   "cell_type": "code",
   "execution_count": 7,
   "metadata": {},
   "outputs": [
    {
     "name": "stderr",
     "output_type": "stream",
     "text": [
      "2025-01-14 13:16:16,181 - ERROR - Ocurrió un error.\n"
     ]
    }
   ],
   "source": [
    "import logging\n",
    "\n",
    "logging.basicConfig(level=logging.ERROR)\n",
    "logging.error(\"Ocurrió un error.\")"
   ]
  },
  {
   "cell_type": "markdown",
   "metadata": {},
   "source": [
    "- `logging.critical()` Registra un mensaje con nivel CRITICAL: Representa errores graves que requieren atención inmediata."
   ]
  },
  {
   "cell_type": "code",
   "execution_count": 8,
   "metadata": {},
   "outputs": [
    {
     "name": "stderr",
     "output_type": "stream",
     "text": [
      "2025-01-14 13:16:16,256 - CRITICAL - ¡Error crítico!\n"
     ]
    }
   ],
   "source": [
    "import logging\n",
    "\n",
    "logging.basicConfig(level=logging.CRITICAL)\n",
    "logging.critical(\"¡Error crítico!\")"
   ]
  },
  {
   "cell_type": "markdown",
   "metadata": {},
   "source": [
    "- `logging.log()` Permite especificar dinámicamente el nivel de un mensaje."
   ]
  },
  {
   "cell_type": "code",
   "execution_count": 9,
   "metadata": {},
   "outputs": [
    {
     "name": "stderr",
     "output_type": "stream",
     "text": [
      "2025-01-14 13:16:16,379 - WARNING - Este es un mensaje con nivel personalizado.\n"
     ]
    }
   ],
   "source": [
    "import logging\n",
    "\n",
    "logging.basicConfig(level=logging.DEBUG)\n",
    "logging.log(logging.WARNING, \"Este es un mensaje con nivel personalizado.\")"
   ]
  },
  {
   "cell_type": "markdown",
   "metadata": {},
   "source": [
    "- `logging.exception()` Captura excepciones y su información completa en el registro."
   ]
  },
  {
   "cell_type": "code",
   "execution_count": 1,
   "metadata": {},
   "outputs": [
    {
     "name": "stderr",
     "output_type": "stream",
     "text": [
      "ERROR:root:Error al dividir por cero.\n",
      "Traceback (most recent call last):\n",
      "  File \"C:\\Users\\joser\\AppData\\Local\\Temp\\ipykernel_12432\\744167772.py\", line 4, in <module>\n",
      "    1 / 0\n",
      "    ~~^~~\n",
      "ZeroDivisionError: division by zero\n"
     ]
    }
   ],
   "source": [
    "import logging\n",
    "\n",
    "try:\n",
    "    1 / 0\n",
    "except ZeroDivisionError:\n",
    "    logging.exception(\"Error al dividir por cero.\")"
   ]
  },
  {
   "cell_type": "markdown",
   "metadata": {},
   "source": [
    "- `logging.disable()` Desactiva y filtra mensajes de registro por debajo de un nivel especificado."
   ]
  },
  {
   "cell_type": "code",
   "execution_count": 169,
   "metadata": {},
   "outputs": [
    {
     "name": "stderr",
     "output_type": "stream",
     "text": [
      "2025-01-14 12:50:46,895 - ERROR - Este mensaje se mostrará.\n"
     ]
    }
   ],
   "source": [
    "import logging\n",
    "\n",
    "logging.disable(logging.WARNING)\n",
    "logging.warning(\"Este mensaje no se mostrará.\")\n",
    "logging.error(\"Este mensaje se mostrará.\")"
   ]
  },
  {
   "cell_type": "markdown",
   "metadata": {},
   "source": [
    "- `logging.shutdown()` Limpia y libera recursos utilizados por el sistema de registro como manejadores abiertos."
   ]
  },
  {
   "cell_type": "code",
   "execution_count": null,
   "metadata": {},
   "outputs": [],
   "source": [
    "import logging\n",
    "\n",
    "logging.basicConfig(level=logging.INFO)\n",
    "logging.info(\"Antes del apagado.\")\n",
    "logging.shutdown()"
   ]
  },
  {
   "cell_type": "markdown",
   "metadata": {},
   "source": [
    "- `logging.addLevelName()` Agrega un nombre personalizado para un nivel."
   ]
  },
  {
   "cell_type": "code",
   "execution_count": 194,
   "metadata": {},
   "outputs": [
    {
     "name": "stderr",
     "output_type": "stream",
     "text": [
      "2025-01-14 12:53:21,406 - NOTICE - Este es un mensaje NOTICE.\n"
     ]
    }
   ],
   "source": [
    "import logging\n",
    "\n",
    "logging.addLevelName(80, \"NOTICE\")\n",
    "logging.log(80, \"Este es un mensaje NOTICE.\")"
   ]
  },
  {
   "cell_type": "markdown",
   "metadata": {},
   "source": [
    "- `logging.setLoggerClass()` Define una clase personalizada y modifica el comportamiento para los loggers."
   ]
  },
  {
   "cell_type": "code",
   "execution_count": 199,
   "metadata": {},
   "outputs": [],
   "source": [
    "import logging\n",
    "\n",
    "class MiLogger(logging.getLoggerClass()):\n",
    "    def mi_mensaje_personalizado(self, mensaje):\n",
    "        self.log(80, f\"Personalizado: {mensaje}\")\n",
    "\n",
    "logging.setLoggerClass(MiLogger)\n",
    "logger = logging.getLogger(\"custom_logger\")\n",
    "logger.mi_mensaje_personalizado(\"Hola desde un logger personalizado.\")\n",
    "# No funciona en Jupyter Notebook usa archivos de python"
   ]
  },
  {
   "cell_type": "markdown",
   "metadata": {},
   "source": [
    "- `logging.makeLogRecord()` Crea un objeto LogRecord manualmente."
   ]
  },
  {
   "cell_type": "code",
   "execution_count": 200,
   "metadata": {},
   "outputs": [
    {
     "name": "stderr",
     "output_type": "stream",
     "text": [
      "2025-01-14 12:58:02,369 - Level None - Mensaje creado manualmente\n"
     ]
    }
   ],
   "source": [
    "import logging\n",
    "\n",
    "record = logging.makeLogRecord({'msg': \"Mensaje creado manualmente\", 'levelno': logging.INFO})\n",
    "logging.getLogger().handle(record)"
   ]
  },
  {
   "cell_type": "markdown",
   "metadata": {},
   "source": [
    "- `logging.getLevelName()` Devuelve el nombre o nivel asociado a un número."
   ]
  },
  {
   "cell_type": "code",
   "execution_count": 202,
   "metadata": {},
   "outputs": [
    {
     "name": "stdout",
     "output_type": "stream",
     "text": [
      "INFO\n",
      "20\n"
     ]
    }
   ],
   "source": [
    "import logging\n",
    "\n",
    "print(logging.getLevelName(logging.INFO))\n",
    "print(logging.getLevelName(\"INFO\"))"
   ]
  },
  {
   "cell_type": "markdown",
   "metadata": {},
   "source": [
    "- `logging.captureWarnings()` Redirige advertencias del módulo warnings al sistema de registro."
   ]
  },
  {
   "cell_type": "code",
   "execution_count": 210,
   "metadata": {},
   "outputs": [],
   "source": [
    "import logging\n",
    "import warnings\n",
    "\n",
    "logging.basicConfig(level=logging.WARNING)\n",
    "logging.captureWarnings(True)\n",
    "warnings.warn(\"Esta es una advertencia.\")\n",
    "# No funciona en Jupyter Notebook usa archivos de python"
   ]
  },
  {
   "cell_type": "markdown",
   "metadata": {},
   "source": [
    "- `logging.FileHandler()` Registra y guarda mensajes en un archivo."
   ]
  },
  {
   "cell_type": "code",
   "execution_count": 228,
   "metadata": {},
   "outputs": [
    {
     "name": "stderr",
     "output_type": "stream",
     "text": [
      "2025-01-14 13:07:21,840 - ERROR - Mensaje guardado en archivo.\n"
     ]
    }
   ],
   "source": [
    "import logging\n",
    "\n",
    "handler = logging.FileHandler('../assets/log/app.log')\n",
    "logger = logging.getLogger('archivo_logger')\n",
    "logger.addHandler(handler)\n",
    "logger.error(\"Mensaje guardado en archivo.\")"
   ]
  },
  {
   "cell_type": "markdown",
   "metadata": {},
   "source": [
    "- `logging.StreamHandler()` Registra mensajes en flujos como `sys.stdout`."
   ]
  },
  {
   "cell_type": "code",
   "execution_count": 229,
   "metadata": {},
   "outputs": [
    {
     "name": "stderr",
     "output_type": "stream",
     "text": [
      "Mensaje enviado a consola.\n",
      "2025-01-14 13:08:41,095 - ERROR - Mensaje enviado a consola.\n"
     ]
    }
   ],
   "source": [
    "import logging\n",
    "\n",
    "handler = logging.StreamHandler()\n",
    "logger = logging.getLogger('consola_logger')\n",
    "logger.addHandler(handler)\n",
    "logger.error(\"Mensaje enviado a consola.\")"
   ]
  },
  {
   "cell_type": "markdown",
   "metadata": {},
   "source": [
    "- `logging.NullHandler()` Ignora mensajes de registro. Útil para bibliotecas que no quieren imprimir mensajes directamente."
   ]
  },
  {
   "cell_type": "code",
   "execution_count": null,
   "metadata": {},
   "outputs": [],
   "source": [
    "import logging\n",
    "\n",
    "logger = logging.getLogger('biblioteca')\n",
    "logger.addHandler(logging.NullHandler())\n",
    "logger.warning(\"Este mensaje será ignorado.\")"
   ]
  },
  {
   "cell_type": "markdown",
   "metadata": {},
   "source": [
    "- `logging.config.dictConfig()` Configura el sistema de registro usando un diccionario."
   ]
  },
  {
   "cell_type": "code",
   "execution_count": 239,
   "metadata": {},
   "outputs": [
    {
     "name": "stderr",
     "output_type": "stream",
     "text": [
      "Mensaje con configuración de diccionario.\n"
     ]
    }
   ],
   "source": [
    "import logging.config\n",
    "\n",
    "config = {\n",
    "    'version': 1,\n",
    "    'handlers': {'console': {'class': 'logging.StreamHandler'}},\n",
    "    'root': {'handlers': ['console'], 'level': 'INFO'}\n",
    "}\n",
    "logging.config.dictConfig(config)\n",
    "logging.error(\"Mensaje con configuración de diccionario.\")"
   ]
  },
  {
   "cell_type": "markdown",
   "metadata": {},
   "source": [
    "- `logging.config.fileConfig()` Configura el sistema de registro usando un archivo INI."
   ]
  },
  {
   "cell_type": "code",
   "execution_count": 251,
   "metadata": {},
   "outputs": [
    {
     "name": "stdout",
     "output_type": "stream",
     "text": [
      "2025-01-14 13:15:33,120 - Mensaje con archivo de configuración.\n"
     ]
    }
   ],
   "source": [
    "import logging.config\n",
    "\n",
    "logging.config.fileConfig('../assets/ini/logging_config.ini')\n",
    "logging.error(\"Mensaje con archivo de configuración.\")"
   ]
  }
 ],
 "metadata": {
  "kernelspec": {
   "display_name": "env",
   "language": "python",
   "name": "python3"
  },
  "language_info": {
   "codemirror_mode": {
    "name": "ipython",
    "version": 3
   },
   "file_extension": ".py",
   "mimetype": "text/x-python",
   "name": "python",
   "nbconvert_exporter": "python",
   "pygments_lexer": "ipython3",
   "version": "3.11.9"
  }
 },
 "nbformat": 4,
 "nbformat_minor": 2
}
