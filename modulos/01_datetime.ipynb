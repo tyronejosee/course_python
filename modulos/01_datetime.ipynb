{
 "cells": [
  {
   "cell_type": "markdown",
   "metadata": {},
   "source": [
    "# **Datatime**"
   ]
  },
  {
   "cell_type": "markdown",
   "metadata": {},
   "source": [
    "Es una biblioteca estándar que permite trabajar con fechas y horas. Proporciona clases para representar y manipular fechas, horas y combinaciones de ambas."
   ]
  },
  {
   "cell_type": "markdown",
   "metadata": {},
   "source": [
    "## **Clases Principales**"
   ]
  },
  {
   "cell_type": "markdown",
   "metadata": {},
   "source": [
    "### `datetime.date` Representa una fecha (año, mes, día) sin información sobre la hora."
   ]
  },
  {
   "cell_type": "code",
   "execution_count": 53,
   "metadata": {},
   "outputs": [
    {
     "name": "stdout",
     "output_type": "stream",
     "text": [
      "Fecha específica: 2024-11-24\n"
     ]
    }
   ],
   "source": [
    "import datetime\n",
    "\n",
    "# Crear una fecha específica\n",
    "fecha = datetime.date(2024, 11, 24)\n",
    "print(f\"Fecha específica: {fecha}\")"
   ]
  },
  {
   "cell_type": "code",
   "execution_count": 15,
   "metadata": {},
   "outputs": [
    {
     "name": "stdout",
     "output_type": "stream",
     "text": [
      "Fecha de hoy: 2025-01-10\n"
     ]
    }
   ],
   "source": [
    "import datetime\n",
    "\n",
    "# Obtener la fecha actual\n",
    "hoy = datetime.date.today()\n",
    "print(f\"Fecha de hoy: {hoy}\")"
   ]
  },
  {
   "cell_type": "markdown",
   "metadata": {},
   "source": [
    "### `datetime.time` Representa una hora del día sin información sobre la fecha.\n",
    "\n",
    "- `hour`, `minute`, `second`: Accede a las partes individuales de la hora."
   ]
  },
  {
   "cell_type": "code",
   "execution_count": 50,
   "metadata": {},
   "outputs": [
    {
     "name": "stdout",
     "output_type": "stream",
     "text": [
      "Hora: 14:30:45\n"
     ]
    }
   ],
   "source": [
    "import datetime\n",
    "\n",
    "# Crear una hora específica\n",
    "hora = datetime.time(14, 30, 45)\n",
    "print(f\"Hora: {hora}\")"
   ]
  },
  {
   "cell_type": "markdown",
   "metadata": {},
   "source": [
    "### `datetime.datetime` Representa una fecha y hora combinadas.\n",
    "\n",
    "- `now()` Obtiene la fecha y hora actuales.\n",
    "- `today()` Similar a now(), pero sólo devuelve la fecha.\n",
    "- `fromtimestamp()` Crea un datetime a partir de un timestamp (segundos desde el 1 de enero de 1970)."
   ]
  },
  {
   "cell_type": "code",
   "execution_count": 49,
   "metadata": {},
   "outputs": [
    {
     "name": "stdout",
     "output_type": "stream",
     "text": [
      "Fecha y hora específicas: 2025-01-10 14:30:45\n"
     ]
    }
   ],
   "source": [
    "import datetime\n",
    "\n",
    "# Crear una fecha y hora específica\n",
    "fecha_hora = datetime.datetime(2025, 1, 10, 14, 30, 45)\n",
    "print(f\"Fecha y hora específicas: {fecha_hora}\")"
   ]
  },
  {
   "cell_type": "code",
   "execution_count": 20,
   "metadata": {},
   "outputs": [
    {
     "name": "stdout",
     "output_type": "stream",
     "text": [
      "Fecha y hora actual: 2025-01-10 15:38:19.358120\n"
     ]
    }
   ],
   "source": [
    "import datetime\n",
    "\n",
    "# Obtener la fecha y hora actuales\n",
    "ahora = datetime.datetime.now()\n",
    "print(f\"Fecha y hora actual: {ahora}\")"
   ]
  },
  {
   "cell_type": "markdown",
   "metadata": {},
   "source": [
    "### `datetime.timedelta` Representa la diferencia entre dos fechas u horas, como un intervalo.\n",
    "\n",
    "- `days`, `seconds`, `microseconds`: Accede a las partes individuales del intervalo.\n",
    "- Puedes usar la clase timedelta para sumar o restar tiempos a objetos datetime."
   ]
  },
  {
   "cell_type": "code",
   "execution_count": 23,
   "metadata": {},
   "outputs": [
    {
     "name": "stdout",
     "output_type": "stream",
     "text": [
      "Tiempo actual: 2025-01-10 15:40:34.996011\n",
      "Fecha futura: 2025-01-15 19:10:34.996011\n",
      "Fecha pasada: 2025-01-05 12:10:34.996011\n"
     ]
    }
   ],
   "source": [
    "import datetime\n",
    "\n",
    "# Crear un intervalo de tiempo\n",
    "tiempo_pasado = datetime.timedelta(days=5, hours=3, minutes=30)\n",
    "\n",
    "# Sumar y restar intervalos de tiempo\n",
    "hoy = datetime.datetime.now()\n",
    "futuro = hoy + tiempo_pasado\n",
    "pasado = hoy - tiempo_pasado\n",
    "\n",
    "print(f\"Tiempo actual: {hoy}\")\n",
    "print(f\"Fecha futura: {futuro}\")\n",
    "print(f\"Fecha pasada: {pasado}\")"
   ]
  },
  {
   "cell_type": "markdown",
   "metadata": {},
   "source": [
    "## **Metodos**"
   ]
  },
  {
   "cell_type": "markdown",
   "metadata": {},
   "source": [
    "- `strftime()` para convertir objetos datetime en cadenas formateadas.\n",
    "\n",
    "    - `%Y` Año con 4 dígitos (ej. 2025).\n",
    "    - `%m` Mes con 2 dígitos (ej. 01).\n",
    "    - `%d` Día del mes con 2 dígitos (ej. 10).\n",
    "    - `%H` Hora en formato 24 horas (ej. 14).\n",
    "    - `%M` Minutos (ej. 30).\n",
    "    - `%S` Segundos (ej. 45)."
   ]
  },
  {
   "cell_type": "code",
   "execution_count": 38,
   "metadata": {},
   "outputs": [
    {
     "name": "stdout",
     "output_type": "stream",
     "text": [
      "Fecha y hora formateada: 2025-01-10 15:48:28\n"
     ]
    }
   ],
   "source": [
    "import datetime\n",
    "\n",
    "# Obtener la fecha y hora actuales\n",
    "ahora = datetime.datetime.now()\n",
    "\n",
    "# Formatear la fecha\n",
    "fecha_formateada = ahora.strftime(\"%Y-%m-%d %H:%M:%S\")\n",
    "print(f\"Fecha y hora formateada: {fecha_formateada}\")"
   ]
  },
  {
   "cell_type": "markdown",
   "metadata": {},
   "source": [
    "Convertir cadena de texto a fecha."
   ]
  },
  {
   "cell_type": "code",
   "execution_count": 51,
   "metadata": {},
   "outputs": [
    {
     "name": "stdout",
     "output_type": "stream",
     "text": [
      "Fecha y hora convertida: 2025-01-10 14:30:45\n"
     ]
    }
   ],
   "source": [
    "import datetime\n",
    "\n",
    "# Convertir una cadena a un objeto datetime\n",
    "cadena = \"2025-01-10 14:30:45\"\n",
    "fecha_hora = datetime.datetime.strptime(cadena, \"%Y-%m-%d %H:%M:%S\")\n",
    "print(f\"Fecha y hora convertida: {fecha_hora}\")"
   ]
  }
 ],
 "metadata": {
  "kernelspec": {
   "display_name": "env",
   "language": "python",
   "name": "python3"
  },
  "language_info": {
   "codemirror_mode": {
    "name": "ipython",
    "version": 3
   },
   "file_extension": ".py",
   "mimetype": "text/x-python",
   "name": "python",
   "nbconvert_exporter": "python",
   "pygments_lexer": "ipython3",
   "version": "3.11.9"
  }
 },
 "nbformat": 4,
 "nbformat_minor": 2
}
