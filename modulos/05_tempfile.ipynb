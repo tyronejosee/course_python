{
 "cells": [
  {
   "cell_type": "markdown",
   "metadata": {},
   "source": [
    "# **tempfile**\n",
    "\n",
    "Proporciona funciones para crear archivos y directorios temporales. Estos archivos se eliminan automáticamente cuando ya no son necesarios, lo que ayuda a manejar datos temporales de manera segura y eficiente."
   ]
  },
  {
   "cell_type": "markdown",
   "metadata": {},
   "source": [
    "## **Funciones Principales**"
   ]
  },
  {
   "cell_type": "markdown",
   "metadata": {},
   "source": [
    "- `tempfile.TemporaryFile()` Crea un archivo temporal en modo binario o de texto. El archivo se elimina automáticamente cuando se cierra. Es útil cuando necesitas trabajar con datos de manera temporal."
   ]
  },
  {
   "cell_type": "code",
   "execution_count": 3,
   "metadata": {},
   "outputs": [
    {
     "name": "stdout",
     "output_type": "stream",
     "text": [
      "Este es un archivo temporal.\n"
     ]
    }
   ],
   "source": [
    "import tempfile\n",
    "\n",
    "# Crear un archivo temporal\n",
    "with tempfile.TemporaryFile(mode='w+t') as f:\n",
    "    f.write(\"Este es un archivo temporal.\")\n",
    "    f.seek(0)\n",
    "    print(f.read())"
   ]
  },
  {
   "cell_type": "markdown",
   "metadata": {},
   "source": [
    "- `tempfile.NamedTemporaryFile()` Crea un archivo temporal con un nombre específico en el sistema de archivos. El archivo se puede abrir y se eliminará automáticamente cuando se cierre, pero también puedes especificar si deseas mantenerlo después de cerrarlo."
   ]
  },
  {
   "cell_type": "code",
   "execution_count": 15,
   "metadata": {},
   "outputs": [
    {
     "name": "stdout",
     "output_type": "stream",
     "text": [
      "C:\\Users\\joser\\AppData\\Local\\Temp\\tmp7_xrl6kz\n"
     ]
    }
   ],
   "source": [
    "import tempfile\n",
    "\n",
    "# Crear un archivo temporal con nombre\n",
    "with tempfile.NamedTemporaryFile(delete=False) as f:\n",
    "    print(f.name)\n",
    "    f.write(b'Contenido del archivo temporal.')"
   ]
  },
  {
   "cell_type": "markdown",
   "metadata": {},
   "source": [
    "- `tempfile.TemporaryDirectory()` Crea un directorio temporal en el sistema de archivos. El directorio se elimina automáticamente cuando se sale del contexto (es decir, cuando se cierra el bloque with)."
   ]
  },
  {
   "cell_type": "code",
   "execution_count": 36,
   "metadata": {},
   "outputs": [
    {
     "name": "stdout",
     "output_type": "stream",
     "text": [
      "Directorio temporal creado en: C:\\Users\\joser\\AppData\\Local\\Temp\\tmp71nuasfi\n"
     ]
    }
   ],
   "source": [
    "import tempfile\n",
    "\n",
    "# Crear un directorio temporal\n",
    "with tempfile.TemporaryDirectory() as tmpdirname:\n",
    "    print(f\"Directorio temporal creado en: {tmpdirname}\")\n",
    "    # Se puede usar el directorio aquí"
   ]
  },
  {
   "cell_type": "markdown",
   "metadata": {},
   "source": [
    "- `tempfile.mkstemp()` Crea un archivo temporal en el sistema de archivos, devolviendo un descriptor de archivo y la ruta del archivo. Este archivo no se elimina automáticamente; debes gestionarlo manualmente."
   ]
  },
  {
   "cell_type": "code",
   "execution_count": 43,
   "metadata": {},
   "outputs": [
    {
     "name": "stdout",
     "output_type": "stream",
     "text": [
      "Archivo temporal creado en: C:\\Users\\joser\\AppData\\Local\\Temp\\tmpaqnd0d2z\n"
     ]
    }
   ],
   "source": [
    "import os\n",
    "import tempfile\n",
    "\n",
    "# Crear un archivo temporal y obtener el descriptor\n",
    "fd, path = tempfile.mkstemp()\n",
    "\n",
    "print(f\"Archivo temporal creado en: {path}\")\n",
    "\n",
    "# Recuerda cerrar el descriptor y eliminar el archivo manualmente\n",
    "with open(fd, 'w') as f:\n",
    "    f.write('Contenido del archivo temporal.')\n",
    "\n",
    "os.close(fd)\n",
    "os.remove(path)"
   ]
  },
  {
   "cell_type": "markdown",
   "metadata": {},
   "source": [
    "- `tempfile.mkdtemp()` Crea un directorio temporal en el sistema de archivos. Al igual que mkstemp(), este directorio no se elimina automáticamente, por lo que debes gestionarlo manualmente."
   ]
  },
  {
   "cell_type": "code",
   "execution_count": 46,
   "metadata": {},
   "outputs": [
    {
     "name": "stdout",
     "output_type": "stream",
     "text": [
      "Directorio temporal creado en: C:\\Users\\joser\\AppData\\Local\\Temp\\tmpvh4webi6\n"
     ]
    }
   ],
   "source": [
    "import tempfile\n",
    "\n",
    "# Crear un directorio temporal\n",
    "temp_dir = tempfile.mkdtemp()\n",
    "print(f\"Directorio temporal creado en: {temp_dir}\")\n",
    "\n",
    "# Recuerda eliminar el directorio manualmente\n",
    "import shutil\n",
    "shutil.rmtree(temp_dir)"
   ]
  },
  {
   "cell_type": "markdown",
   "metadata": {},
   "source": [
    "- `tempfile.gettempdir()` Devuelve la ruta al directorio temporal predeterminado del sistema. Este es el lugar donde se almacenan los archivos temporales si no se especifica un directorio al usar las funciones anteriores."
   ]
  },
  {
   "cell_type": "code",
   "execution_count": 50,
   "metadata": {},
   "outputs": [
    {
     "name": "stdout",
     "output_type": "stream",
     "text": [
      "Directorio temporal predeterminado: C:\\Users\\joser\\AppData\\Local\\Temp\n"
     ]
    }
   ],
   "source": [
    "import tempfile\n",
    "\n",
    "# Obtener el directorio temporal del sistema\n",
    "temp_dir = tempfile.gettempdir()\n",
    "print(f\"Directorio temporal predeterminado: {temp_dir}\")"
   ]
  },
  {
   "cell_type": "markdown",
   "metadata": {},
   "source": [
    "- `tempfile.gettempprefix()` Devuelve el prefijo que se utiliza al generar nombres de archivos temporales. Puedes cambiar este prefijo si lo deseas."
   ]
  },
  {
   "cell_type": "code",
   "execution_count": 54,
   "metadata": {},
   "outputs": [
    {
     "name": "stdout",
     "output_type": "stream",
     "text": [
      "Prefijo de archivos temporales: tmp\n"
     ]
    }
   ],
   "source": [
    "import tempfile\n",
    "\n",
    "# Obtener el prefijo de los archivos temporales\n",
    "temp_prefix = tempfile.gettempprefix()\n",
    "print(f\"Prefijo de archivos temporales: {temp_prefix}\")"
   ]
  }
 ],
 "metadata": {
  "kernelspec": {
   "display_name": "env",
   "language": "python",
   "name": "python3"
  },
  "language_info": {
   "codemirror_mode": {
    "name": "ipython",
    "version": 3
   },
   "file_extension": ".py",
   "mimetype": "text/x-python",
   "name": "python",
   "nbconvert_exporter": "python",
   "pygments_lexer": "ipython3",
   "version": "3.11.9"
  }
 },
 "nbformat": 4,
 "nbformat_minor": 2
}
