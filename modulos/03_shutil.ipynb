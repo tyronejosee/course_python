{
 "cells": [
  {
   "cell_type": "markdown",
   "metadata": {},
   "source": [
    "# **shutil**\n",
    "\n",
    "Proporciona una colección de funciones para trabajar con operaciones de alto nivel en archivos y colecciones de archivos, como copiar, mover, eliminar directorios, y más."
   ]
  },
  {
   "cell_type": "markdown",
   "metadata": {},
   "source": [
    "## **Funciones Principales**"
   ]
  },
  {
   "cell_type": "markdown",
   "metadata": {},
   "source": [
    "- `shutil.copy(src, dst)` Copia un archivo desde la ruta `src` a la ruta `dst`."
   ]
  },
  {
   "cell_type": "code",
   "execution_count": 12,
   "metadata": {},
   "outputs": [
    {
     "data": {
      "text/plain": [
       "'../assets/txt/shutil_test2.txt'"
      ]
     },
     "execution_count": 12,
     "metadata": {},
     "output_type": "execute_result"
    }
   ],
   "source": [
    "import shutil\n",
    "\n",
    "with open(\"../assets/txt/shutil_test.txt\", \"w\", encoding=\"utf-8\") as file:\n",
    "    file.write(\"Contenido del archivo\")\n",
    "\n",
    "shutil.copy(\"../assets/txt/shutil_test.txt\", \"../assets/txt/shutil_test2.txt\")"
   ]
  },
  {
   "cell_type": "markdown",
   "metadata": {},
   "source": [
    "- `shutil.copy2(src, dst)` Similar a `copy()`, pero también copia los metadatos del archivo (por ejemplo, tiempos de creación y modificación)."
   ]
  },
  {
   "cell_type": "code",
   "execution_count": 13,
   "metadata": {},
   "outputs": [
    {
     "data": {
      "text/plain": [
       "'../assets/txt/shutil_test2.txt'"
      ]
     },
     "execution_count": 13,
     "metadata": {},
     "output_type": "execute_result"
    }
   ],
   "source": [
    "import shutil\n",
    "\n",
    "shutil.copy(\"../assets/txt/shutil_test.txt\", \"../assets/txt/shutil_test2.txt\")"
   ]
  },
  {
   "cell_type": "markdown",
   "metadata": {},
   "source": [
    "- `shutil.copytree(src, dst)` Copia de forma recursiva un directorio completo desde `src` a `dst`."
   ]
  },
  {
   "cell_type": "code",
   "execution_count": 20,
   "metadata": {},
   "outputs": [
    {
     "data": {
      "text/plain": [
       "'../assets/temp'"
      ]
     },
     "execution_count": 20,
     "metadata": {},
     "output_type": "execute_result"
    }
   ],
   "source": [
    "import os\n",
    "import shutil\n",
    "\n",
    "folder = \"../assets/folders/nueva_carpeta\"\n",
    "os.makedirs(folder, exist_ok=True)\n",
    "\n",
    "shutil.copytree(folder, \"../assets/temp\")"
   ]
  },
  {
   "cell_type": "markdown",
   "metadata": {},
   "source": [
    "- `shutil.move(src, dst)` Mueve un archivo o directorio desde `src` a `dst`."
   ]
  },
  {
   "cell_type": "code",
   "execution_count": 21,
   "metadata": {},
   "outputs": [
    {
     "data": {
      "text/plain": [
       "'../assets/folders\\\\temp'"
      ]
     },
     "execution_count": 21,
     "metadata": {},
     "output_type": "execute_result"
    }
   ],
   "source": [
    "import shutil\n",
    "\n",
    "shutil.move(\"../assets/temp\", \"../assets/folders\")"
   ]
  },
  {
   "cell_type": "markdown",
   "metadata": {},
   "source": [
    "- `shutil.rmtree(path)` Elimina un directorio completo de forma recursiva."
   ]
  },
  {
   "cell_type": "code",
   "execution_count": 22,
   "metadata": {},
   "outputs": [],
   "source": [
    "import shutil\n",
    "\n",
    "shutil.rmtree(\"../assets/folders/temp\")"
   ]
  },
  {
   "cell_type": "markdown",
   "metadata": {},
   "source": [
    "- `shutil.disk_usage(path)` Devuelve el uso del disco como una tupla con total, usado y libre (en bytes)."
   ]
  },
  {
   "cell_type": "code",
   "execution_count": 23,
   "metadata": {},
   "outputs": [
    {
     "name": "stdout",
     "output_type": "stream",
     "text": [
      "Total: 783881859072, Usado: 737817985024, Libre: 46063874048\n"
     ]
    }
   ],
   "source": [
    "import shutil\n",
    "\n",
    "usage = shutil.disk_usage(\"/\")\n",
    "\n",
    "print(f\"Total: {usage.total}, Usado: {usage.used}, Libre: {usage.free}\")"
   ]
  },
  {
   "cell_type": "markdown",
   "metadata": {},
   "source": [
    "- `shutil.which(cmd)` Busca la ruta completa de un comando en el `PATH`."
   ]
  },
  {
   "cell_type": "code",
   "execution_count": 3,
   "metadata": {},
   "outputs": [
    {
     "name": "stdout",
     "output_type": "stream",
     "text": [
      "d:\\Projects\\course_python\\env\\Scripts\\python.EXE\n"
     ]
    }
   ],
   "source": [
    "import shutil\n",
    "\n",
    "print(shutil.which(\"python\"))"
   ]
  },
  {
   "cell_type": "markdown",
   "metadata": {},
   "source": [
    "- `shutil.get_archive_formats()` Devuelve una lista de formatos de archivo disponibles para compresión."
   ]
  },
  {
   "cell_type": "code",
   "execution_count": 2,
   "metadata": {},
   "outputs": [
    {
     "name": "stdout",
     "output_type": "stream",
     "text": [
      "[('bztar', \"bzip2'ed tar-file\"), ('gztar', \"gzip'ed tar-file\"), ('tar', 'uncompressed tar file'), ('xztar', \"xz'ed tar-file\"), ('zip', 'ZIP file')]\n"
     ]
    }
   ],
   "source": [
    "import shutil\n",
    "\n",
    "print(shutil.get_archive_formats())"
   ]
  },
  {
   "cell_type": "markdown",
   "metadata": {},
   "source": [
    "- `shutil.make_archive(base_name, format, root_dir)` Crea un archivo comprimido (por ejemplo, .zip o .tar) a partir de un directorio."
   ]
  },
  {
   "cell_type": "code",
   "execution_count": null,
   "metadata": {},
   "outputs": [],
   "source": [
    "import shutil\n",
    "\n",
    "shutil.make_archive(\"backup\", \"zip\", \"folder_to_compress\")"
   ]
  },
  {
   "cell_type": "markdown",
   "metadata": {},
   "source": [
    "- `shutil.unpack_archive(filename, extract_dir)` Descomprime un archivo en un directorio especificado."
   ]
  },
  {
   "cell_type": "code",
   "execution_count": null,
   "metadata": {},
   "outputs": [],
   "source": [
    "import shutil\n",
    "\n",
    "shutil.unpack_archive(\"backup.zip\", \"extracted_folder\")"
   ]
  },
  {
   "cell_type": "markdown",
   "metadata": {},
   "source": [
    "- `shutil.ignore_patterns(*patterns)` Devuelve una función que puede ser usada para ignorar archivos o directorios según un patrón cuando se usa `copytree`."
   ]
  },
  {
   "cell_type": "code",
   "execution_count": null,
   "metadata": {},
   "outputs": [],
   "source": [
    "shutil.copytree(\"source_folder\", \"destination_folder\", ignore=shutil.ignore_patterns(\"*.pyc\", \"*.tmp\"))"
   ]
  },
  {
   "cell_type": "markdown",
   "metadata": {},
   "source": [
    "- `shutil.chown(path, user=None, group=None)` Cambia el propietario de un archivo o directorio."
   ]
  },
  {
   "cell_type": "code",
   "execution_count": null,
   "metadata": {},
   "outputs": [],
   "source": [
    "import shutil\n",
    "\n",
    "shutil.chown(\"example.txt\", user=\"new_user\", group=\"new_group\")"
   ]
  },
  {
   "cell_type": "markdown",
   "metadata": {},
   "source": [
    "- `shutil.get_terminal_size()` Obtiene el tamaño de la terminal en caracteres (ancho y alto)."
   ]
  },
  {
   "cell_type": "code",
   "execution_count": null,
   "metadata": {},
   "outputs": [],
   "source": [
    "import shutil\n",
    "\n",
    "size = shutil.get_terminal_size()\n",
    "print(f\"Ancho: {size.columns}, Alto: {size.lines}\")"
   ]
  },
  {
   "cell_type": "markdown",
   "metadata": {},
   "source": [
    "- `shutil.copystat(src, dst)` Copia los metadatos (como permisos, fechas de acceso/modificación) de `src` a `dst`."
   ]
  },
  {
   "cell_type": "code",
   "execution_count": null,
   "metadata": {},
   "outputs": [],
   "source": [
    "import shutil\n",
    "\n",
    "shutil.copystat(\"source.txt\", \"destination.txt\")"
   ]
  },
  {
   "cell_type": "markdown",
   "metadata": {},
   "source": [
    "- `shutil.copyfile(src, dst)` Copia el contenido de un archivo desde `src` a `dst`."
   ]
  },
  {
   "cell_type": "code",
   "execution_count": null,
   "metadata": {},
   "outputs": [],
   "source": [
    "import shutil\n",
    "\n",
    "shutil.copyfile(\"source.txt\", \"destination.txt\")"
   ]
  },
  {
   "cell_type": "markdown",
   "metadata": {},
   "source": [
    "- `shutil.copyfileobj(fsrc, fdst, length=16*1024)` Copia el contenido de un archivo abierto a otro."
   ]
  },
  {
   "cell_type": "code",
   "execution_count": null,
   "metadata": {},
   "outputs": [],
   "source": [
    "import shutil\n",
    "\n",
    "with open(\"source.txt\", \"rb\") as fsrc, open(\"destination.txt\", \"wb\") as fdst:\n",
    "    shutil.copyfileobj(fsrc, fdst)"
   ]
  },
  {
   "cell_type": "markdown",
   "metadata": {},
   "source": [
    "- `shutil.make_archive()` Genera un archivo comprimido (como .zip) desde un directorio."
   ]
  },
  {
   "cell_type": "code",
   "execution_count": null,
   "metadata": {},
   "outputs": [],
   "source": [
    "import shutil\n",
    "\n",
    "shutil.make_archive(\"archive_name\", \"zip\", \"/path/to/folder\")"
   ]
  },
  {
   "cell_type": "markdown",
   "metadata": {},
   "source": [
    "- `shutil.unpack_archive()` Descomprime un archivo en una ubicación especificada."
   ]
  },
  {
   "cell_type": "code",
   "execution_count": null,
   "metadata": {},
   "outputs": [],
   "source": [
    "import shutil\n",
    "\n",
    "shutil.unpack_archive(\"archive_name.zip\", \"/path/to/extract\")"
   ]
  }
 ],
 "metadata": {
  "kernelspec": {
   "display_name": "env",
   "language": "python",
   "name": "python3"
  },
  "language_info": {
   "codemirror_mode": {
    "name": "ipython",
    "version": 3
   },
   "file_extension": ".py",
   "mimetype": "text/x-python",
   "name": "python",
   "nbconvert_exporter": "python",
   "pygments_lexer": "ipython3",
   "version": "3.11.9"
  }
 },
 "nbformat": 4,
 "nbformat_minor": 2
}
