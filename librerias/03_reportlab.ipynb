{
 "cells": [
  {
   "cell_type": "markdown",
   "metadata": {},
   "source": [
    "# **ReportLab**\n",
    "\n",
    "Es una biblioteca muy poderosa para crear documentos PDF en **Python**. Te permite generar PDFs dinámicos, diseñar gráficos, tablas, formularios, e incluso incluir imágenes y otros objetos complejos en el documento."
   ]
  },
  {
   "cell_type": "markdown",
   "metadata": {},
   "source": [
    "## **Crear un documento PDF básico**"
   ]
  },
  {
   "cell_type": "code",
   "execution_count": 13,
   "metadata": {},
   "outputs": [],
   "source": [
    "from reportlab.lib.pagesizes import letter\n",
    "from reportlab.pdfgen import canvas\n",
    "\n",
    "# Crear un archivo PDF\n",
    "c = canvas.Canvas(\"../assets/pdf/pdf_example.pdf\", pagesize=letter)\n",
    "\n",
    "# Añadir texto\n",
    "c.drawString(100, 750, \"¡Hola, mundo! Este es un PDF generado con ReportLab.\")\n",
    "\n",
    "# Guardar el archivo\n",
    "c.save()"
   ]
  },
  {
   "cell_type": "markdown",
   "metadata": {},
   "source": [
    "## **Modificar el Formato de Texto**"
   ]
  },
  {
   "cell_type": "code",
   "execution_count": null,
   "metadata": {},
   "outputs": [],
   "source": [
    "from reportlab.lib.pagesizes import letter\n",
    "from reportlab.pdfgen import canvas\n",
    "\n",
    "# Crear un archivo PDF\n",
    "c = canvas.Canvas(\"../assets/pdf/modificado.pdf\", pagesize=letter)\n",
    "\n",
    "c.setFont(\"Helvetica-Bold\", 16)\n",
    "c.drawString(100, 730, \"Texto en negrita con fuente Helvetica y tamaño 16.\")\n",
    "\n",
    "c.setFont(\"Times-Roman\", 9)\n",
    "c.drawString(100, 710, \"Texto en fuente Times-Roman y tamaño 12.\")\n",
    "\n",
    "c.save()"
   ]
  },
  {
   "cell_type": "markdown",
   "metadata": {},
   "source": [
    "## **Agregar Imágenes**"
   ]
  },
  {
   "cell_type": "code",
   "execution_count": 37,
   "metadata": {},
   "outputs": [],
   "source": [
    "from reportlab.lib.pagesizes import letter\n",
    "from reportlab.pdfgen import canvas\n",
    "\n",
    "page_width, page_height = letter\n",
    "\n",
    "# Crear un archivo PDF\n",
    "c = canvas.Canvas(\"../assets/pdf/imagen.pdf\", pagesize=letter)\n",
    "\n",
    "# Calcular la posición para colocar la imagen al principio\n",
    "image_width = 300\n",
    "image_height = 300\n",
    "x_position = 0  # Ajusta según sea necesario\n",
    "y_position = page_height - image_height  # Parte superior de la página\n",
    "\n",
    "c.drawImage(\"../assets/img/function.jpg\", x_position, y_position, width=300, height=300)  # Ruta de la imagen y tamaño\n",
    "\n",
    "c.save()"
   ]
  },
  {
   "cell_type": "markdown",
   "metadata": {},
   "source": [
    "## **Crear Tablas**"
   ]
  },
  {
   "cell_type": "code",
   "execution_count": 38,
   "metadata": {},
   "outputs": [],
   "source": [
    "from reportlab.lib.pagesizes import letter\n",
    "from reportlab.lib import colors\n",
    "from reportlab.platypus import SimpleDocTemplate, Table, TableStyle\n",
    "\n",
    "# Crear documento PDF\n",
    "doc = SimpleDocTemplate(\"../assets/pdf/tabla.pdf\", pagesize=letter)\n",
    "elements = []\n",
    "\n",
    "# Definir datos de la tabla\n",
    "data = [['Nombre', 'Edad', 'Ciudad'],\n",
    "        ['Alice', '30', 'Madrid'],\n",
    "        ['Bob', '25', 'Barcelona'],\n",
    "        ['Charlie', '35', 'Valencia']]\n",
    "\n",
    "# Crear la tabla\n",
    "table = Table(data)\n",
    "\n",
    "# Estilo de la tabla\n",
    "style = TableStyle([('BACKGROUND', (0, 0), (-1, 0), colors.grey),\n",
    "                    ('TEXTCOLOR', (0, 0), (-1, 0), colors.whitesmoke),\n",
    "                    ('ALIGN', (0, 0), (-1, -1), 'CENTER'),\n",
    "                    ('FONTNAME', (0, 0), (-1, 0), 'Helvetica-Bold'),\n",
    "                    ('BOTTOMPADDING', (0, 0), (-1, 0), 12),\n",
    "                    ('BACKGROUND', (0, 1), (-1, -1), colors.beige),\n",
    "                    ('GRID', (0, 0), (-1, -1), 1, colors.black)])\n",
    "\n",
    "table.setStyle(style)\n",
    "elements.append(table)\n",
    "\n",
    "# Construir el PDF\n",
    "doc.build(elements)"
   ]
  },
  {
   "cell_type": "markdown",
   "metadata": {},
   "source": [
    "## **Gráficos y Diagramas**"
   ]
  },
  {
   "cell_type": "code",
   "execution_count": 40,
   "metadata": {},
   "outputs": [],
   "source": [
    "from reportlab.graphics.shapes import Drawing\n",
    "from reportlab.graphics.charts.barcharts import VerticalBarChart\n",
    "from reportlab.graphics import renderPDF\n",
    "from reportlab.pdfgen import canvas\n",
    "\n",
    "# Crear gráfico\n",
    "drawing = Drawing(400, 200)\n",
    "data = [[5, 10, 15, 20, 25]]\n",
    "chart = VerticalBarChart()\n",
    "chart.data = data\n",
    "chart.x = 50\n",
    "chart.y = 50\n",
    "chart.width = 300\n",
    "chart.height = 125\n",
    "drawing.add(chart)\n",
    "\n",
    "# Crear documento PDF\n",
    "c = canvas.Canvas(\"../assets/pdf/grafico.pdf\")\n",
    "\n",
    "# Dibujar el gráfico en el PDF\n",
    "renderPDF.draw(drawing, c, 50, 400)  # Dibuja el gráfico en las coordenadas especificadas\n",
    "\n",
    "# Guardar el documento\n",
    "c.save()"
   ]
  },
  {
   "cell_type": "markdown",
   "metadata": {},
   "source": [
    "## **Generar Formularios PDF**"
   ]
  },
  {
   "cell_type": "code",
   "execution_count": 42,
   "metadata": {},
   "outputs": [],
   "source": [
    "from reportlab.lib.pagesizes import letter\n",
    "from reportlab.pdfgen import canvas\n",
    "\n",
    "# Crear formulario\n",
    "c = canvas.Canvas(\"../assets/pdf/formulario.pdf\", pagesize=letter)\n",
    "c.drawString(100, 750, \"Nombre:\")\n",
    "c.rect(100, 730, 200, 20)  # Caja de texto para el nombre\n",
    "\n",
    "c.drawString(100, 700, \"Edad:\")\n",
    "c.rect(100, 680, 200, 20)  # Caja de texto para la edad\n",
    "\n",
    "# Guardar el archivo\n",
    "c.save()"
   ]
  },
  {
   "cell_type": "markdown",
   "metadata": {},
   "source": [
    "## **Añadir Marcas de Agua o Fondos**"
   ]
  },
  {
   "cell_type": "code",
   "execution_count": 45,
   "metadata": {},
   "outputs": [],
   "source": [
    "from reportlab.lib.pagesizes import letter\n",
    "from reportlab.pdfgen import canvas\n",
    "\n",
    "# Crear formulario\n",
    "c = canvas.Canvas(\"../assets/pdf/marca_agua.pdf\", pagesize=letter)\n",
    "\n",
    "c.setFont(\"Helvetica\", 60)\n",
    "c.setFillColorRGB(0.8, 0.8, 0.8, alpha=0.3)\n",
    "c.drawString(150, 500, \"Marca de Agua\")\n",
    "\n",
    "c.save()"
   ]
  },
  {
   "cell_type": "markdown",
   "metadata": {},
   "source": [
    "## **Configuración Avanzada de Páginas**"
   ]
  },
  {
   "cell_type": "code",
   "execution_count": 46,
   "metadata": {},
   "outputs": [],
   "source": [
    "from reportlab.lib.pagesizes import letter\n",
    "from reportlab.lib import colors\n",
    "from reportlab.pdfgen import canvas\n",
    "\n",
    "# Crear documento con márgenes personalizados\n",
    "c = canvas.Canvas(\"../assets/pdf/margen_personalizado.pdf\", pagesize=letter)\n",
    "c.setPageSize((500, 700))\n",
    "\n",
    "# Añadir texto en posición específica\n",
    "c.drawString(100, 600, \"Texto con márgenes personalizados.\")\n",
    "c.save()"
   ]
  },
  {
   "cell_type": "markdown",
   "metadata": {},
   "source": [
    "## **Trabajar con Múltiples Páginas**"
   ]
  }
 ],
 "metadata": {
  "kernelspec": {
   "display_name": "env",
   "language": "python",
   "name": "python3"
  },
  "language_info": {
   "codemirror_mode": {
    "name": "ipython",
    "version": 3
   },
   "file_extension": ".py",
   "mimetype": "text/x-python",
   "name": "python",
   "nbconvert_exporter": "python",
   "pygments_lexer": "ipython3",
   "version": "3.11.9"
  }
 },
 "nbformat": 4,
 "nbformat_minor": 2
}
