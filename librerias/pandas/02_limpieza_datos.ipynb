{
 "cells": [
  {
   "cell_type": "markdown",
   "metadata": {},
   "source": [
    "# **Limpieza de Datos**\n",
    "\n",
    "La limpieza de datos significa corregir datos incorrectos en tu conjunto de datos.\n",
    "\n",
    "Los datos incorrectos pueden ser:\n",
    "\n",
    "- Celdas vacías\n",
    "- Datos en un formato incorrecto\n",
    "- Datos incorrectos\n",
    "- Duplicados"
   ]
  },
  {
   "cell_type": "code",
   "execution_count": null,
   "metadata": {},
   "outputs": [],
   "source": [
    "import pandas as pd\n",
    "\n",
    "df = pd.read_csv(\"../assets/csv/uncleaned_data.csv\")\n",
    "\n",
    "df\n",
    "# print(df.info())"
   ]
  },
  {
   "cell_type": "markdown",
   "metadata": {},
   "source": [
    "El conjunto de datos contiene:\n",
    "\n",
    "- **Celdas vacías**: `Date` en la fila 22. `Calories` en las filas 18 y 28.\n",
    "- **Formato incorrecto**: `Date` en la fila 26\n",
    "- **Datos incorrectos**: `Duration` en la fila 7.\n",
    "- **Duplicados**: Fila 11 y 12."
   ]
  },
  {
   "cell_type": "markdown",
   "metadata": {},
   "source": [
    "## **Limpieza de Datos con Celdas Vacias**"
   ]
  },
  {
   "cell_type": "markdown",
   "metadata": {},
   "source": [
    "## **Eliminar Filas**\n",
    "\n",
    "- Una forma de manejar las celdas vacías es eliminar las filas que las contienen.\n",
    "- Esto suele estar bien, ya que los conjuntos de datos pueden ser muy grandes, y eliminar unas pocas filas no tendrá un gran impacto en el resultado."
   ]
  },
  {
   "cell_type": "markdown",
   "metadata": {},
   "source": [
    "- `dropna()` devuelve un nuevo `DataFrame` sin las filas vacías y no cambiará el original."
   ]
  },
  {
   "cell_type": "code",
   "execution_count": null,
   "metadata": {},
   "outputs": [],
   "source": [
    "import pandas as pd\n",
    "\n",
    "df = pd.read_csv(\"../assets/csv/uncleaned_data.csv\")\n",
    "\n",
    "new_df = df.dropna()\n",
    "new_df"
   ]
  },
  {
   "cell_type": "markdown",
   "metadata": {},
   "source": [
    "Si deseas cambiar el DataFrame original, usa el argumento `inplace = True`"
   ]
  },
  {
   "cell_type": "code",
   "execution_count": null,
   "metadata": {},
   "outputs": [],
   "source": [
    "import pandas as pd\n",
    "\n",
    "df = pd.read_csv(\"../assets/csv/uncleaned_data.csv\")\n",
    "\n",
    "df.dropna(inplace=True) # inplace: en el lugar o directamente en el original\n",
    "df"
   ]
  },
  {
   "cell_type": "markdown",
   "metadata": {},
   "source": [
    "## **Reemplazar Valores Vacíos**\n",
    "\n",
    "Otra forma de manejar celdas vacías es insertar un nuevo valor en su lugar. De esta manera, no tienes que eliminar filas completas solo por algunas celdas vacías."
   ]
  },
  {
   "cell_type": "markdown",
   "metadata": {},
   "source": [
    "- `fillna()` permite reemplazar celdas vacías con un valor."
   ]
  },
  {
   "cell_type": "code",
   "execution_count": null,
   "metadata": {},
   "outputs": [],
   "source": [
    "import pandas as pd\n",
    "\n",
    "df = pd.read_csv(\"../assets/csv/uncleaned_data.csv\")\n",
    "\n",
    "df.fillna(130, inplace=True) # NULL reemplazado por 130\n",
    "df"
   ]
  },
  {
   "cell_type": "markdown",
   "metadata": {},
   "source": [
    "## **Reemplazar Solo en Columnas Específicas**\n",
    "\n",
    "Para reemplazar valores vacíos solo en una **columna**, especifica el nombre de la columna del `DataFrame`"
   ]
  },
  {
   "cell_type": "code",
   "execution_count": null,
   "metadata": {},
   "outputs": [],
   "source": [
    "import pandas as pd\n",
    "\n",
    "df = pd.read_csv(\"../assets/csv/uncleaned_data.csv\")\n",
    "\n",
    "df[\"Calories\"] = df[\"Calories\"].fillna(130) # Columna Calories\n",
    "df"
   ]
  },
  {
   "cell_type": "markdown",
   "metadata": {},
   "source": [
    "> **Nota:** Recuerda se usa sintaxis de `[ ]` porque es un diccionario el `Dataframe`."
   ]
  },
  {
   "cell_type": "markdown",
   "metadata": {},
   "source": [
    "## **Reemplazar Usando Media, Mediana o Moda**\n",
    "\n",
    "Una forma común de reemplazar celdas vacías es calcular el valor medio, mediano o moda de la columna.\n",
    "\n",
    "- **Media**: el valor promedio (la suma de todos los valores dividida por el número de valores).\n",
    "- **Mediana**: el valor en el medio después de ordenar todos los valores de forma ascendente.\n",
    "- **Moda**: el valor que aparece con mayor frecuencia."
   ]
  },
  {
   "cell_type": "markdown",
   "metadata": {},
   "source": [
    "- `mean()` devuelve la media o promedio aritmético."
   ]
  },
  {
   "cell_type": "code",
   "execution_count": null,
   "metadata": {},
   "outputs": [],
   "source": [
    "import pandas as pd\n",
    "\n",
    "df = pd.read_csv(\"../assets/csv/uncleaned_data.csv\")\n",
    "\n",
    "media = df[\"Calories\"].mean() # Media\n",
    "print(media)\n",
    "\n",
    "df[\"Calories\"] = df[\"Calories\"].fillna(media) # Reemplaza celdas vacías\n",
    "df"
   ]
  },
  {
   "cell_type": "markdown",
   "metadata": {},
   "source": [
    "- `median()` devuelve valor central en datos ordenados."
   ]
  },
  {
   "cell_type": "code",
   "execution_count": null,
   "metadata": {},
   "outputs": [],
   "source": [
    "import pandas as pd\n",
    "\n",
    "df = pd.read_csv(\"../assets/csv/uncleaned_data.csv\")\n",
    "\n",
    "mediana = df[\"Calories\"].median() # Mediana\n",
    "print(mediana)\n",
    "\n",
    "df[\"Calories\"] = df[\"Calories\"].fillna(mediana) # Reemplaza celdas vacías\n",
    "df"
   ]
  },
  {
   "cell_type": "markdown",
   "metadata": {},
   "source": [
    "- `mode()` devuelve valor(es) más frecuente(s)"
   ]
  },
  {
   "cell_type": "code",
   "execution_count": null,
   "metadata": {},
   "outputs": [],
   "source": [
    "import pandas as pd\n",
    "\n",
    "df = pd.read_csv(\"../assets/csv/uncleaned_data.csv\")\n",
    "\n",
    "moda = df[\"Calories\"].mode()[0] # Moda\n",
    "print(moda)\n",
    "# print(type(moda))\n",
    "\n",
    "df[\"Calories\"] = df[\"Calories\"].fillna(moda) # Reemplaza celdas vacías\n",
    "df"
   ]
  },
  {
   "cell_type": "markdown",
   "metadata": {},
   "source": [
    "## **Limpieza de Datos con Formato Incorrecto**\n",
    "\n",
    "Las celdas con datos de formato incorrecto pueden dificultar o incluso hacer imposible el análisis de los datos.\n",
    "\n",
    "Para solucionarlo, tienes dos opciones:\n",
    "\n",
    "- Eliminar las filas\n",
    "- Convertir todas las celdas de las columnas al mismo formato."
   ]
  },
  {
   "cell_type": "markdown",
   "metadata": {},
   "source": [
    "## **Convertir a un Formato Correcto**\n",
    "\n",
    "Revisa las filas 3 y 5, la columna 'Fecha' debería ser una cadena que representa una fecha:\n",
    "\n",
    "- `errors=\"coerce\"` convierte los valores que no se pueden convertir a fechas en NaT.\n",
    "- `infer_datetime_format=True` permite que Pandas trate de inferir el formato de las fechas automáticamente, manejando diferentes formatos como '2020/12/26' o '20201226'."
   ]
  },
  {
   "cell_type": "code",
   "execution_count": null,
   "metadata": {},
   "outputs": [],
   "source": [
    "import pandas as pd\n",
    "\n",
    "df = pd.read_csv(\"../assets/csv/uncleaned_data_2.csv\")\n",
    "\n",
    "df[\"Fecha\"] = pd.to_datetime(df[\"Fecha\"], errors=\"coerce\", infer_datetime_format=True)\n",
    "df"
   ]
  },
  {
   "cell_type": "markdown",
   "metadata": {},
   "source": [
    "## **Eliminar Filas**\n",
    "\n",
    "El resultado de la conversión en el ejemplo anterior nos dio un valor NaT, que puede ser manejado como un valor NULL, y podemos eliminar la fila utilizando el método `dropna()`."
   ]
  },
  {
   "cell_type": "markdown",
   "metadata": {},
   "source": [
    "- `dropna()` se utiliza para eliminar filas o columnas que contienen valores `NaN` (Not a Number) o valores faltantes."
   ]
  },
  {
   "cell_type": "code",
   "execution_count": null,
   "metadata": {},
   "outputs": [],
   "source": [
    "df.dropna(subset=[\"Fecha\"], inplace=True)\n",
    "df\n",
    "\n",
    "# Multiples columnas\n",
    "# df.dropna(subset=[\"Fecha\", \"Duracion\"], inplace=True)"
   ]
  },
  {
   "cell_type": "markdown",
   "metadata": {},
   "source": [
    "## **Limpieza de Datos con Información Incorrecta**\n",
    "\n",
    "\"Datos incorrectos\" no tienen que ser necesariamente \"celdas vacías\" o \"formato incorrecto\", pueden ser simplemente datos erróneos, como si alguien registró \"199\" en lugar de \"1.99\".\n",
    "\n",
    "> Puedes ver que en la fila 1, la duración es 450, pero para todas las demás filas, la duración está entre 30 y 60."
   ]
  },
  {
   "cell_type": "code",
   "execution_count": null,
   "metadata": {},
   "outputs": [],
   "source": [
    "import pandas as pd\n",
    "\n",
    "df = pd.read_csv(\"../assets/csv/uncleaned_data_3.csv\")\n",
    "df"
   ]
  },
  {
   "cell_type": "markdown",
   "metadata": {},
   "source": [
    "## **Reemplazar Valores**\n",
    "\n",
    "Una forma de corregir los valores incorrectos es reemplazarlos por algo más adecuado.\n",
    "\n",
    "En nuestro ejemplo, es muy probable que se trate de un error tipográfico, y el valor debería ser `45` en lugar de `450`, por lo que podríamos insertar `45` en la fila `1`."
   ]
  },
  {
   "cell_type": "markdown",
   "metadata": {},
   "source": [
    "- `loc[]` se usa para filtrar filas y seleccionar columnas específicas de un `DataFrame`."
   ]
  },
  {
   "cell_type": "code",
   "execution_count": null,
   "metadata": {},
   "outputs": [],
   "source": [
    "import pandas as pd\n",
    "\n",
    "df = pd.read_csv(\"../assets/csv/uncleaned_data_3.csv\")\n",
    "\n",
    "df.loc[1, \"Duración\"] = 45\n",
    "df"
   ]
  },
  {
   "cell_type": "markdown",
   "metadata": {},
   "source": [
    "En conjuntos de datos pequeños, los datos incorrectos pueden corregirse manualmente. En grandes conjuntos, se utilizan reglas como límites de valores para identificar y reemplazar datos inválidos."
   ]
  },
  {
   "cell_type": "code",
   "execution_count": null,
   "metadata": {},
   "outputs": [],
   "source": [
    "import pandas as pd\n",
    "\n",
    "df = pd.read_csv(\"../assets/csv/uncleaned_data_3.csv\")\n",
    "\n",
    "for x in df.index:\n",
    "    if df.loc[x, \"Duración\"] > 60:\n",
    "        df.loc[x, \"Duración\"] = 60\n",
    "df"
   ]
  },
  {
   "cell_type": "markdown",
   "metadata": {},
   "source": [
    "## **Eliminar Filas**\n",
    "\n",
    "Otra opción para manejar datos incorrectos es eliminar las filas afectadas. Esto evita la necesidad de reemplazos y, en muchos casos, estas filas no son esenciales para el análisis."
   ]
  },
  {
   "cell_type": "code",
   "execution_count": null,
   "metadata": {},
   "outputs": [],
   "source": [
    "import pandas as pd\n",
    "\n",
    "df = pd.read_csv(\"../assets/csv/uncleaned_data_3.csv\")\n",
    "\n",
    "for indice in df.index:\n",
    "    if df.loc[indice, \"Duración\"] > 100:\n",
    "        df.drop(indice, inplace=True)\n",
    "df"
   ]
  },
  {
   "cell_type": "markdown",
   "metadata": {},
   "source": [
    "## **Limpieza de Datos con Info Duplicada**\n",
    "\n",
    "Las filas duplicadas son aquellas que han sido registradas más de una vez.\n",
    "\n",
    "> Podemos asumir que las filas 3 y 4 son duplicadas."
   ]
  },
  {
   "cell_type": "markdown",
   "metadata": {},
   "source": [
    "- `duplicated()` devuelve `True` para cada fila que sea un duplicado, de lo contrario `False`."
   ]
  },
  {
   "cell_type": "code",
   "execution_count": null,
   "metadata": {},
   "outputs": [],
   "source": [
    "import pandas as pd\n",
    "\n",
    "df = pd.read_csv(\"../assets/csv/uncleaned_data_3.csv\")\n",
    "\n",
    "print(df.duplicated())"
   ]
  },
  {
   "cell_type": "markdown",
   "metadata": {},
   "source": [
    "## **Eliminar Duplicados**\n",
    "\n",
    "- `drop_duplicates()` elimina todos los duplicados."
   ]
  },
  {
   "cell_type": "code",
   "execution_count": null,
   "metadata": {},
   "outputs": [],
   "source": [
    "import pandas as pd\n",
    "\n",
    "df = pd.read_csv(\"../assets/csv/uncleaned_data_3.csv\")\n",
    "\n",
    "df.drop_duplicates(inplace=True)\n",
    "df"
   ]
  }
 ],
 "metadata": {
  "kernelspec": {
   "display_name": "Python 3",
   "language": "python",
   "name": "python3"
  },
  "language_info": {
   "codemirror_mode": {
    "name": "ipython",
    "version": 3
   },
   "file_extension": ".py",
   "mimetype": "text/x-python",
   "name": "python",
   "nbconvert_exporter": "python",
   "pygments_lexer": "ipython3",
   "version": "3.11.9"
  }
 },
 "nbformat": 4,
 "nbformat_minor": 2
}
