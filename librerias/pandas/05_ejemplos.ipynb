{
 "cells": [
  {
   "cell_type": "markdown",
   "metadata": {},
   "source": [
    "# **Ejemplos**"
   ]
  },
  {
   "cell_type": "markdown",
   "metadata": {},
   "source": [
    "## **Estado de Resultados**\n",
    "\n",
    "Calcular automáticamente los totales de ingresos, egresos y utilidad neta.\n",
    "\n",
    "- `loc[]` se usa para filtrar filas y seleccionar columnas específicas de un `DataFrame`.\n",
    "- `sum()` sumar todos los valores."
   ]
  },
  {
   "cell_type": "code",
   "execution_count": null,
   "metadata": {},
   "outputs": [],
   "source": [
    "import pandas as pd\n",
    "\n",
    "# Crear un DataFrame con ingresos y egresos\n",
    "datos = {\n",
    "    \"Concepto\": [\"Ventas\", \"Otros Ingresos\", \"Costo de Ventas\", \"Sueldos\", \"Gastos Administrativos\"],\n",
    "    \"Tipo\": [\"Ingreso\", \"Ingreso\", \"Egreso\", \"Egreso\", \"Egreso\"],\n",
    "    \"Monto\": [5000000, 500000, 2000000, 1200000, 300000],\n",
    "}\n",
    "\n",
    "resultados_df = pd.DataFrame(datos)\n",
    "\n",
    "# Calcular totales\n",
    "ingresos = resultados_df.loc[resultados_df[\"Tipo\"] == \"Ingreso\", \"Monto\"].sum()\n",
    "egresos = resultados_df.loc[resultados_df[\"Tipo\"] == \"Egreso\", \"Monto\"].sum()\n",
    "utilidad_neta = ingresos - egresos\n",
    "\n",
    "print(\n",
    "    f\"Ingresos: {ingresos}, Egresos: {egresos}, Utilidad Neta: {utilidad_neta}\",\n",
    ")\n",
    "\n",
    "# Guardar el estado de resultados\n",
    "resultados_df.to_excel(\"estado_resultados.xlsx\", index=False)"
   ]
  },
  {
   "cell_type": "markdown",
   "metadata": {},
   "source": [
    "## **Acceso a Varias Hojas en Excel**"
   ]
  },
  {
   "cell_type": "code",
   "execution_count": null,
   "metadata": {},
   "outputs": [],
   "source": [
    "import pandas as pd\n",
    "\n",
    "# Leer varias hojas específicas\n",
    "dfs = pd.read_excel('archivo.xlsx', sheet_name=['Hoja1', 'Hoja2'])\n",
    "\n",
    "# Acceder a un DataFrame específico por nombre\n",
    "df_hoja_1 = dfs['Hoja1']\n",
    "df_hoja_2 = dfs['Hoja2']"
   ]
  },
  {
   "cell_type": "markdown",
   "metadata": {},
   "source": [
    "## **Especificar el rango de celdas al leer**\n",
    "\n",
    "Si solo quieres leer un rango específico de celdas (por ejemplo, un subconjunto de la hoja), puedes usar el parámetro `usecols` para seleccionar las columnas o `skiprows` para omitir las primeras filas."
   ]
  },
  {
   "cell_type": "code",
   "execution_count": null,
   "metadata": {},
   "outputs": [],
   "source": [
    "df = pd.read_excel('archivo.xlsx', usecols=\"A:B\")\n",
    "\n",
    "# Omitir las primeras 2 filas y leer desde la fila 3 en adelante\n",
    "df = pd.read_excel('archivo.xlsx', skiprows=2)"
   ]
  },
  {
   "cell_type": "markdown",
   "metadata": {},
   "source": [
    "## **Especificar el índice de la hoja cuando hay varias hojas**\n",
    "\n",
    "Si estás trabajando con un archivo que tiene varias hojas y no te importa el nombre, puedes especificar la hoja por su índice. Esto es útil si no conoces los nombres exactos de las hojas."
   ]
  },
  {
   "cell_type": "code",
   "execution_count": null,
   "metadata": {},
   "outputs": [],
   "source": [
    "import pandas as pd\n",
    "\n",
    "# Leer la segunda hoja (índice 1) del archivo Excel\n",
    "df = pd.read_excel('archivo.xlsx', sheet_name=1)"
   ]
  }
 ],
 "metadata": {
  "kernelspec": {
   "display_name": "Python 3",
   "language": "python",
   "name": "python3"
  },
  "language_info": {
   "codemirror_mode": {
    "name": "ipython",
    "version": 3
   },
   "file_extension": ".py",
   "mimetype": "text/x-python",
   "name": "python",
   "nbconvert_exporter": "python",
   "pygments_lexer": "ipython3",
   "version": "3.11.9"
  }
 },
 "nbformat": 4,
 "nbformat_minor": 2
}
