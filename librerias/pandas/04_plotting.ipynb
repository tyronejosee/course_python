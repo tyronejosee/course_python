{
 "cells": [
  {
   "cell_type": "markdown",
   "metadata": {},
   "source": [
    "# **Graficar (Plotting)**\n",
    "\n",
    "- Pandas utiliza el método plot() para crear diagramas.\n",
    "- Podemos usar Pyplot, un submódulo de la biblioteca Matplotlib, para visualizar el diagrama en la pantalla."
   ]
  },
  {
   "cell_type": "code",
   "execution_count": null,
   "metadata": {},
   "outputs": [],
   "source": [
    "import pandas as pd\n",
    "\n",
    "df = pd.read_csv(\"../assets/csv/plotting.csv\")\n",
    "df"
   ]
  },
  {
   "cell_type": "markdown",
   "metadata": {},
   "source": [
    "## **Gráfico de Dispersión (Scatter Plot)**\n",
    "\n",
    "- `kind = \"scatter\"` especifica que quieres un gráfico de tipo \"Scatter\"\n",
    "- `x`, `y` ejes del gráfico"
   ]
  },
  {
   "cell_type": "code",
   "execution_count": null,
   "metadata": {},
   "outputs": [],
   "source": [
    "import pandas as pd\n",
    "import matplotlib.pyplot as plt\n",
    "\n",
    "df = pd.read_csv(\"../assets/csv/plotting.csv\")\n",
    "\n",
    "df.plot(kind=\"scatter\", x=\"Duración\", y=\"Calorías\")\n",
    "plt.show()"
   ]
  },
  {
   "cell_type": "markdown",
   "metadata": {},
   "source": [
    "> Un gráfico donde a mayor duración, más calorías se queman"
   ]
  },
  {
   "cell_type": "code",
   "execution_count": null,
   "metadata": {},
   "outputs": [],
   "source": [
    "import pandas as pd\n",
    "import matplotlib.pyplot as plt\n",
    "\n",
    "df = pd.read_csv(\"../assets/csv/plotting.csv\")\n",
    "\n",
    "df.plot(kind=\"scatter\", x=\"Duración\", y=\"Pulso Máximo\")\n",
    "plt.show()"
   ]
  },
  {
   "cell_type": "markdown",
   "metadata": {},
   "source": [
    "> Puedes visualizar un gráfico sin relación aparente entre duración y pulso máximo."
   ]
  },
  {
   "cell_type": "markdown",
   "metadata": {},
   "source": [
    "## **Histograma**\n",
    "\n",
    "- Un histograma necesita solo una columna.\n",
    "- Un histograma nos muestra la frecuencia de cada intervalo, por ejemplo: ¿cuántos entrenamientos duraron entre 50 y 60 minutos?"
   ]
  },
  {
   "cell_type": "code",
   "execution_count": null,
   "metadata": {},
   "outputs": [],
   "source": [
    "import pandas as pd\n",
    "import matplotlib.pyplot as plt\n",
    "\n",
    "df = pd.read_csv(\"../assets/csv/plotting.csv\")\n",
    "\n",
    "df[\"Duración\"].plot(kind=\"hist\")\n",
    "# df[\"Pulso Máximo\"].plot(kind=\"hist\")\n",
    "plt.show()"
   ]
  }
 ],
 "metadata": {
  "kernelspec": {
   "display_name": "Python 3",
   "language": "python",
   "name": "python3"
  },
  "language_info": {
   "codemirror_mode": {
    "name": "ipython",
    "version": 3
   },
   "file_extension": ".py",
   "mimetype": "text/x-python",
   "name": "python",
   "nbconvert_exporter": "python",
   "pygments_lexer": "ipython3",
   "version": "3.11.9"
  }
 },
 "nbformat": 4,
 "nbformat_minor": 2
}
