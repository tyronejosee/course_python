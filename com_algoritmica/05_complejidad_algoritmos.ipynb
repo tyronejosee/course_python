{
 "cells": [
  {
   "cell_type": "markdown",
   "metadata": {},
   "source": [
    "# **Complejidad en Algoritmos**\n",
    "\n",
    "**Algoritmos de Ordenamiento**  \n",
    "\n",
    "| **Algoritmo**      | **Complejidad**                        | **Tipo de Complejidad**        |\n",
    "|-------------------|----------------------------------------|-------------------------------|\n",
    "| Bubble Sort       | O(n²)                                  | Cuadrática                     |\n",
    "| Merge Sort        | O(n log n)                             | Lineal-Logarítmica              |\n",
    "| Quick Sort        | O(n log n) (mejor caso), O(n²) (peor caso) | Lineal-Logarítmica / Cuadrática  |\n",
    "| Counting Sort     | O(n + k)                               | Lineal                         |\n",
    "\n",
    "**Algoritmos de Búsqueda**  \n",
    "\n",
    "| **Algoritmo**      | **Complejidad**                        | **Tipo de Complejidad**        |\n",
    "|-------------------|----------------------------------------|-------------------------------|\n",
    "| Búsqueda lineal    | O(n)                                  | Lineal                         |\n",
    "| Búsqueda binaria   | O(log n)                              | Logarítmica                    |\n",
    "\n",
    "**Algoritmos de Grafos**\n",
    "\n",
    "| **Algoritmo**      | **Complejidad**                        | **Tipo de Complejidad**        |\n",
    "|-------------------|----------------------------------------|-------------------------------|\n",
    "| BFS (anchura)      | O(V + E)                              | Lineal                         |\n",
    "| DFS (profundidad)  | O(V + E)                              | Lineal                         |\n",
    "| Dijkstra          | O((V + E) log V)                       | Lineal-Logarítmica             |"
   ]
  },
  {
   "cell_type": "markdown",
   "metadata": {},
   "source": [
    "## **Bubble Sort `O(n²)`**"
   ]
  },
  {
   "cell_type": "code",
   "execution_count": 7,
   "metadata": {},
   "outputs": [],
   "source": [
    "def ordenamiento_burbuja(lista):\n",
    "    n = len(lista)\n",
    "    for i in range(n - 1):\n",
    "        for j in range(n - i - 1):\n",
    "            if lista[j] > lista[j + 1]:\n",
    "                # Intercambiar elementos si están en el orden incorrecto\n",
    "                lista[j], lista[j + 1] = lista[j + 1], lista[j]"
   ]
  },
  {
   "cell_type": "code",
   "execution_count": 8,
   "metadata": {},
   "outputs": [
    {
     "name": "stdout",
     "output_type": "stream",
     "text": [
      "Lista ordenada: [11, 12, 22, 25, 34, 64, 90]\n"
     ]
    }
   ],
   "source": [
    "numeros = [64, 34, 25, 12, 22, 11, 90]\n",
    "ordenamiento_burbuja(numeros)\n",
    "print(\"Lista ordenada:\", numeros)"
   ]
  },
  {
   "cell_type": "markdown",
   "metadata": {},
   "source": [
    "## **Merge Sort `O(n log n)`**"
   ]
  },
  {
   "cell_type": "code",
   "execution_count": 9,
   "metadata": {},
   "outputs": [],
   "source": [
    "def ordenamiento_mezcla(lista):\n",
    "    if len(lista) > 1:\n",
    "        medio = len(lista) // 2\n",
    "        izquierda = lista[:medio]\n",
    "        derecha = lista[medio:]\n",
    "\n",
    "        # Llamadas recursivas para dividir la lista\n",
    "        ordenamiento_mezcla(izquierda)\n",
    "        ordenamiento_mezcla(derecha)\n",
    "\n",
    "        # Mezcla de las listas ordenadas\n",
    "        i = j = k = 0\n",
    "        while i < len(izquierda) and j < len(derecha):\n",
    "            if izquierda[i] < derecha[j]:\n",
    "                lista[k] = izquierda[i]\n",
    "                i += 1\n",
    "            else:\n",
    "                lista[k] = derecha[j]\n",
    "                j += 1\n",
    "            k += 1\n",
    "\n",
    "        while i < len(izquierda):\n",
    "            lista[k] = izquierda[i]\n",
    "            i += 1\n",
    "            k += 1\n",
    "\n",
    "        while j < len(derecha):\n",
    "            lista[k] = derecha[j]\n",
    "            j += 1\n",
    "            k += 1"
   ]
  },
  {
   "cell_type": "code",
   "execution_count": 10,
   "metadata": {},
   "outputs": [
    {
     "name": "stdout",
     "output_type": "stream",
     "text": [
      "Lista ordenada: [3, 9, 10, 27, 38, 43, 82]\n"
     ]
    }
   ],
   "source": [
    "numeros = [38, 27, 43, 3, 9, 82, 10]\n",
    "ordenamiento_mezcla(numeros)\n",
    "print(\"Lista ordenada:\", numeros)"
   ]
  },
  {
   "cell_type": "markdown",
   "metadata": {},
   "source": [
    "## **Quick Sort (Mejor caso `O(n log n)`), (Peor caso `O(n²)`)**"
   ]
  },
  {
   "cell_type": "code",
   "execution_count": 13,
   "metadata": {},
   "outputs": [],
   "source": [
    "def ordenamiento_rapido(lista):\n",
    "    if len(lista) <= 1:\n",
    "        return lista\n",
    "    else:\n",
    "        pivote = lista[len(lista) // 2]\n",
    "        menores = [x for x in lista if x < pivote]\n",
    "        iguales = [x for x in lista if x == pivote]\n",
    "        mayores = [x for x in lista if x > pivote]\n",
    "        return ordenamiento_rapido(menores) + iguales + ordenamiento_rapido(mayores)"
   ]
  },
  {
   "cell_type": "code",
   "execution_count": 14,
   "metadata": {},
   "outputs": [
    {
     "name": "stdout",
     "output_type": "stream",
     "text": [
      "Lista ordenada: [1, 5, 7, 8, 9, 10]\n"
     ]
    }
   ],
   "source": [
    "numeros = [10, 7, 8, 9, 1, 5]\n",
    "numeros_ordenados = ordenamiento_rapido(numeros)\n",
    "print(\"Lista ordenada:\", numeros_ordenados)"
   ]
  },
  {
   "cell_type": "markdown",
   "metadata": {},
   "source": [
    "## **Counting Sort `O(n + k)`**"
   ]
  },
  {
   "cell_type": "code",
   "execution_count": 15,
   "metadata": {},
   "outputs": [],
   "source": [
    "def ordenamiento_conteo(lista):\n",
    "    if not lista:\n",
    "        return []\n",
    "    \n",
    "    max_valor = max(lista)\n",
    "    conteo = [0] * (max_valor + 1)\n",
    "\n",
    "    # Contar la aparición de cada elemento\n",
    "    for num in lista:\n",
    "        conteo[num] += 1\n",
    "\n",
    "    resultado = []\n",
    "    for i in range(len(conteo)):\n",
    "        resultado.extend([i] * conteo[i])\n",
    "\n",
    "    return resultado"
   ]
  },
  {
   "cell_type": "code",
   "execution_count": 16,
   "metadata": {},
   "outputs": [
    {
     "name": "stdout",
     "output_type": "stream",
     "text": [
      "Lista ordenada: [1, 2, 2, 3, 3, 4, 8]\n"
     ]
    }
   ],
   "source": [
    "numeros = [4, 2, 2, 8, 3, 3, 1]\n",
    "numeros_ordenados = ordenamiento_conteo(numeros)\n",
    "print(\"Lista ordenada:\", numeros_ordenados)"
   ]
  }
 ],
 "metadata": {
  "kernelspec": {
   "display_name": "env",
   "language": "python",
   "name": "python3"
  },
  "language_info": {
   "codemirror_mode": {
    "name": "ipython",
    "version": 3
   },
   "file_extension": ".py",
   "mimetype": "text/x-python",
   "name": "python",
   "nbconvert_exporter": "python",
   "pygments_lexer": "ipython3",
<<<<<<< HEAD
   "version": "3.13.5"
=======
   "version": "3.13.1"
>>>>>>> fdaca315a6a4c8de99d606a9e37f4e1da70a773f
  }
 },
 "nbformat": 4,
 "nbformat_minor": 2
}
