{
 "cells": [
  {
   "cell_type": "markdown",
   "metadata": {},
   "source": [
    "# **Complejidad de Problemas NP y P**\n",
    "\n",
    "En la teoría de la complejidad computacional, los problemas se clasifican en diferentes categorías según el tiempo que tarda un algoritmo en resolverlos en función del tamaño de la entrada. Dos de las clases más importantes son P y NP, que se utilizan para medir la dificultad de los problemas."
   ]
  },
  {
   "cell_type": "markdown",
   "metadata": {},
   "source": [
    "## **Problemas en P (Tiempo Polinómico)**\n",
    "Los problemas en la clase P (Polynomial time) son aquellos que pueden resolverse por un algoritmo determinista en tiempo polinómico, es decir, su tiempo de ejecución es del orden `𝑂(𝑛^𝑘)`, donde `𝑛` es el tamaño de la entrada y `𝑘` es una constante."
   ]
  }
 ],
 "metadata": {
  "kernelspec": {
   "display_name": "env",
   "language": "python",
   "name": "python3"
  },
  "language_info": {
   "codemirror_mode": {
    "name": "ipython",
    "version": 3
   },
   "file_extension": ".py",
   "mimetype": "text/x-python",
   "name": "python",
   "nbconvert_exporter": "python",
   "pygments_lexer": "ipython3",
   "version": "3.11.9"
  }
 },
 "nbformat": 4,
 "nbformat_minor": 2
}
