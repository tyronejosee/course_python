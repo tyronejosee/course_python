{
 "cells": [
  {
   "cell_type": "markdown",
   "metadata": {},
   "source": [
    "# **Complejidad Algorítmica**\n",
    "\n",
    "Se refiere a la cantidad de **recursos computacionales** que un algoritmo necesita para resolver un problema a medida que el tamaño de la entrada crece. Los dos principales recursos son:  \n",
    "\n",
    "- **Tiempo:** Cantidad de operaciones realizadas por el algoritmo.  \n",
    "- **Espacio:** Cantidad de memoria utilizada durante la ejecución del algoritmo.\n",
    "\n",
    "## **Importancia**\n",
    "\n",
    "- Comparar diferentes soluciones a un problema y elegir la más eficiente.  \n",
    "- Garantizar que los programas escalen correctamente para grandes conjuntos de datos.  \n",
    "- Optimizar el uso de recursos computacionales en aplicaciones críticas.\n",
    "\n",
    "### **Complejidad Temporal**  \n",
    "Es el **tiempo** que tarda un algoritmo en ejecutarse según el tamaño de la entrada.  \n",
    "\n",
    "![Supermarket](../assets/img/supermarket.jpg)\n",
    "\n",
    "Analogía: Imagina que estás en una fila para pagar en el supermercado.\n",
    "- Si hay 1 persona delante de ti, tardarás poco.\n",
    "- Si hay 10 personas, tardarás más.\n",
    "- Si la fila crece a 100 personas, el tiempo de espera será aún mayor.\n",
    "\n",
    "Explicación: La cantidad de personas representa el tamaño de la entrada, y el tiempo de espera representa la complejidad temporal.\n",
    "\n",
    "### **Complejidad Espacial**  \n",
    "Es la **memoria** que necesita un algoritmo para funcionar.  \n",
    "\n",
    "![Desktop](../assets/img/desktop.jpg)\n",
    "\n",
    "Analogía: Piensa en tu escritorio cuando trabajas.\n",
    "- Si solo tienes una libreta y un bolígrafo, necesitas poco espacio.\n",
    "- Si usas varias carpetas con documentos, ocuparás más espacio.\n",
    "- Si cada carpeta tiene subcarpetas llenas de papeles, pronto tu escritorio estará lleno.\n",
    "\n",
    "Explicación: Cuantos más datos maneje un algoritmo, más espacio de almacenamiento se requerirá.\n"
   ]
  }
 ],
 "metadata": {
  "language_info": {
   "name": "python"
  }
 },
 "nbformat": 4,
 "nbformat_minor": 2
}
