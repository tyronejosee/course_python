{
 "cells": [
  {
   "cell_type": "markdown",
   "metadata": {},
   "source": [
    "# **Complejidad en Estructuras de Datos**\n",
    "\n",
    "| Estructura       | Búsqueda | Inserción | Eliminación |\n",
    "| ---------------- | -------- | --------- | ----------- |\n",
    "| Lista (array)    | O(n)     | O(1)      | O(n)        |\n",
    "| Lista enlazada   | O(n)     | O(1)      | O(1)        |\n",
    "| Hash Table       | O(1)     | O(1)      | O(1)        |\n",
    "| Árbol binario    | O(log n) | O(log n)  | O(log n)    |\n",
    "| Heap (montículo) | O(log n) | O(log n)  | O(log n)    |"
   ]
  },
  {
   "cell_type": "markdown",
   "metadata": {},
   "source": [
    "## **Lista (Array)**\n",
    "\n",
    "Una lista (o array) es una estructura secuencial que permite acceder a elementos por índice.\n",
    "\n",
    "**Ventajas**:\n",
    "- Fácil de usar, acceso rápido por índice.\n",
    "- Buen rendimiento en inserciones al final.\n",
    "\n",
    "**Desventajas**:\n",
    "- Costoso insertar o eliminar elementos en medio."
   ]
  },
  {
   "cell_type": "code",
   "execution_count": 11,
   "metadata": {},
   "outputs": [
    {
     "name": "stdout",
     "output_type": "stream",
     "text": [
      "Elemento encontrado\n"
     ]
    }
   ],
   "source": [
    "# Crear una lista\n",
    "arr = [10, 20, 30, 40]\n",
    "\n",
    "# Búsqueda O(n)\n",
    "if 30 in arr:\n",
    "    print(\"Elemento encontrado\")\n",
    "\n",
    "# Inserción (O(1) si es al final, O(n) en otros casos)\n",
    "arr.append(50)  # O(1)\n",
    "arr.insert(2, 25)  # O(n), inserta en la posición 2\n",
    "\n",
    "# Eliminación O(n)\n",
    "arr.remove(30)"
   ]
  },
  {
   "cell_type": "markdown",
   "metadata": {},
   "source": [
    "## **Lista Enlazada**\n",
    "\n",
    "Es una colección de nodos donde cada nodo contiene un valor y una referencia al siguiente nodo.\n",
    "\n",
    "**Ventajas**:\n",
    "- Inserción y eliminación eficientes en O(1).\n",
    "\n",
    "**Desventajas**:\n",
    "- Búsqueda lineal O(n).\n",
    "- Requiere más memoria debido a los punteros."
   ]
  },
  {
   "cell_type": "code",
   "execution_count": 4,
   "metadata": {},
   "outputs": [
    {
     "name": "stdout",
     "output_type": "stream",
     "text": [
      "True\n"
     ]
    }
   ],
   "source": [
    "class Node:\n",
    "    def __init__(self, value):\n",
    "        self.value = value\n",
    "        self.next = None\n",
    "\n",
    "class LinkedList:\n",
    "    def __init__(self):\n",
    "        self.head = None\n",
    "\n",
    "    def insert(self, value):\n",
    "        new_node = Node(value)\n",
    "        new_node.next = self.head\n",
    "        self.head = new_node\n",
    "\n",
    "    def search(self, target):\n",
    "        current = self.head\n",
    "        while current:\n",
    "            if current.value == target:\n",
    "                return True\n",
    "            current = current.next\n",
    "        return False\n",
    "\n",
    "    def delete(self, value):\n",
    "        current = self.head\n",
    "        if current and current.value == value:\n",
    "            self.head = current.next\n",
    "            return\n",
    "        while current and current.next:\n",
    "            if current.next.value == value:\n",
    "                current.next = current.next.next\n",
    "                return\n",
    "            current = current.next\n",
    "\n",
    "ll = LinkedList()\n",
    "ll.insert(10)\n",
    "ll.insert(20)\n",
    "ll.insert(30)\n",
    "\n",
    "print(ll.search(20))  # True (O(n))\n",
    "ll.delete(20)         # O(1)"
   ]
  },
  {
   "cell_type": "markdown",
   "metadata": {},
   "source": [
    "## **Hash Table (Tabla Hash)**\n",
    "\n",
    "Una tabla hash almacena pares clave-valor y permite acceso rápido utilizando una función de hash.\n",
    "\n",
    "**Ventajas**:\n",
    "- Acceso extremadamente rápido O(1) en promedio.\n",
    "- Ideal para búsquedas rápidas.\n",
    "\n",
    "**Desventajas**:\n",
    "- Puede haber colisiones que degradan el rendimiento a O(n).\n",
    "- No mantiene el orden de los elementos."
   ]
  },
  {
   "cell_type": "code",
   "execution_count": 6,
   "metadata": {},
   "outputs": [
    {
     "name": "stdout",
     "output_type": "stream",
     "text": [
      "Alice\n"
     ]
    }
   ],
   "source": [
    "hash_table = {}\n",
    "\n",
    "# Inserción (O(1))\n",
    "hash_table['nombre'] = 'Alice'\n",
    "hash_table['edad'] = 25\n",
    "\n",
    "# Búsqueda (O(1))\n",
    "print(hash_table['nombre'])\n",
    "\n",
    "# Eliminación (O(1))\n",
    "del hash_table['edad']"
   ]
  },
  {
   "cell_type": "markdown",
   "metadata": {},
   "source": [
    "## **Árbol Binario de Búsqueda (BST - Binary Search Tree)**\n",
    "\n",
    "Un BST organiza los elementos de manera que los valores menores están a la izquierda y los mayores a la derecha.\n",
    "\n",
    "**Ventajas**:\n",
    "- Búsqueda, inserción y eliminación en O(log n).\n",
    "- Eficiente para datos ordenados.\n",
    "\n",
    "**Desventajas**:\n",
    "- Puede degenerar en una lista enlazada (rendimiento O(n)).\n",
    "- Requiere balanceo para mantener eficiencia."
   ]
  },
  {
   "cell_type": "code",
   "execution_count": 7,
   "metadata": {},
   "outputs": [
    {
     "name": "stdout",
     "output_type": "stream",
     "text": [
      "<__main__.Node object at 0x000001B3607599D0>\n"
     ]
    }
   ],
   "source": [
    "class Node:\n",
    "    def __init__(self, key):\n",
    "        self.left = None\n",
    "        self.right = None\n",
    "        self.value = key\n",
    "\n",
    "def insert(root, key):\n",
    "    if root is None:\n",
    "        return Node(key)\n",
    "    if key < root.value:\n",
    "        root.left = insert(root.left, key)\n",
    "    else:\n",
    "        root.right = insert(root.right, key)\n",
    "    return root\n",
    "\n",
    "def search(root, key):\n",
    "    if root is None or root.value == key:\n",
    "        return root\n",
    "    if key < root.value:\n",
    "        return search(root.left, key)\n",
    "    return search(root.right, key)\n",
    "\n",
    "root = Node(50)\n",
    "insert(root, 30)\n",
    "insert(root, 70)\n",
    "insert(root, 20)\n",
    "\n",
    "print(search(root, 30))  # Nodo encontrado O(log n)"
   ]
  },
  {
   "cell_type": "markdown",
   "metadata": {},
   "source": [
    "## **Heap (Montículo)**\n",
    "\n",
    "Un montículo es una estructura de árbol binario completa donde cada nodo padre es mayor o menor que sus hijos (heap máximo/mínimo).\n",
    "\n",
    "**Ventajas**:\n",
    "- Perfecto para obtener el valor mínimo/máximo rápidamente.\n",
    "- Utilizado en algoritmos como Dijkstra.\n",
    "\n",
    "**Desventajas**:\n",
    "- No es eficiente para búsqueda arbitraria.\n",
    "- Se requiere reordenamiento constante al insertar/eliminar."
   ]
  },
  {
   "cell_type": "code",
   "execution_count": 9,
   "metadata": {},
   "outputs": [
    {
     "name": "stdout",
     "output_type": "stream",
     "text": [
      "5\n"
     ]
    }
   ],
   "source": [
    "import heapq\n",
    "\n",
    "heap = []\n",
    "\n",
    "# Inserción (O(log n))\n",
    "heapq.heappush(heap, 10)\n",
    "heapq.heappush(heap, 20)\n",
    "heapq.heappush(heap, 5)\n",
    "\n",
    "# Obtener el elemento mínimo O(1)\n",
    "print(heapq.heappop(heap))  # 5\n",
    "\n",
    "# Búsqueda no eficiente O(n)"
   ]
  }
 ],
 "metadata": {
  "kernelspec": {
   "display_name": "env",
   "language": "python",
   "name": "python3"
  },
  "language_info": {
   "codemirror_mode": {
    "name": "ipython",
    "version": 3
   },
   "file_extension": ".py",
   "mimetype": "text/x-python",
   "name": "python",
   "nbconvert_exporter": "python",
   "pygments_lexer": "ipython3",
<<<<<<< HEAD
   "version": "3.13.5"
=======
   "version": "3.13.1"
>>>>>>> fdaca315a6a4c8de99d606a9e37f4e1da70a773f
  }
 },
 "nbformat": 4,
 "nbformat_minor": 2
}
