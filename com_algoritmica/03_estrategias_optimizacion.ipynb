{
 "cells": [
  {
   "cell_type": "markdown",
   "metadata": {},
   "source": [
    "# **Estrategias de Optimización**\n",
    "\n",
    "Optimizar algoritmos significa mejorar su eficiencia en términos de tiempo y espacio. Existen varias técnicas que permiten resolver problemas más rápido y con menos recursos."
   ]
  },
  {
   "cell_type": "markdown",
   "metadata": {},
   "source": [
    "## **Dividir y Vencer (Divide & Conquer)**\n",
    "\n",
    "Esta técnica divide un problema en subproblemas más pequeños, los resuelve de forma independiente y luego combina las soluciones.\n",
    "\n",
    "**Ejemplo**: Ordenamiento por mezcla (Merge Sort) `O(n log n)`"
   ]
  },
  {
   "cell_type": "code",
   "execution_count": 11,
   "metadata": {},
   "outputs": [
    {
     "name": "stdout",
     "output_type": "stream",
     "text": [
      "[3, 9, 10, 27, 38, 43, 82]\n"
     ]
    }
   ],
   "source": [
    "def ordenamiento_por_mezcla(lista):\n",
    "    if len(lista) <= 1:\n",
    "        return lista\n",
    "    \n",
    "    mitad = len(lista) // 2\n",
    "    mitad_izquierda = ordenamiento_por_mezcla(lista[:mitad])\n",
    "    mitad_derecha = ordenamiento_por_mezcla(lista[mitad:])\n",
    "\n",
    "    return mezclar(mitad_izquierda, mitad_derecha)\n",
    "\n",
    "def mezclar(izquierda, derecha):\n",
    "    resultado = []\n",
    "    i = j = 0\n",
    "\n",
    "    while i < len(izquierda) and j < len(derecha):\n",
    "        if izquierda[i] < derecha[j]:\n",
    "            resultado.append(izquierda[i])\n",
    "            i += 1\n",
    "        else:\n",
    "            resultado.append(derecha[j])\n",
    "            j += 1\n",
    "\n",
    "    resultado.extend(izquierda[i:])\n",
    "    resultado.extend(derecha[j:])\n",
    "    return resultado\n",
    "\n",
    "lista = [38, 27, 43, 3, 9, 82, 10]\n",
    "print(ordenamiento_por_mezcla(lista))"
   ]
  },
  {
   "cell_type": "markdown",
   "metadata": {},
   "source": [
    "**Explicación**:\n",
    "- Se divide el arreglo en mitades recursivamente.\n",
    "- Se ordenan las mitades por separado.\n",
    "- Se combinan las mitades ordenadas."
   ]
  },
  {
   "cell_type": "markdown",
   "metadata": {},
   "source": [
    "## **Programación Dinámica**\n",
    "\n",
    "La programación dinámica almacena los resultados intermedios para evitar cálculos repetitivos, mejorando la eficiencia en problemas recursivos.\n",
    "\n",
    "**Ejemplo**: Fibonacci con Memoization `O(n)`"
   ]
  },
  {
   "cell_type": "code",
   "execution_count": 18,
   "metadata": {},
   "outputs": [
    {
     "name": "stdout",
     "output_type": "stream",
     "text": [
      "55\n"
     ]
    }
   ],
   "source": [
    "def fibonacci(numero, memo={}):\n",
    "    if numero in memo:\n",
    "        return memo[numero]\n",
    "    if numero <= 1:\n",
    "        return numero\n",
    "    memo[numero] = fibonacci(numero - 1, memo) + fibonacci(numero - 2, memo)\n",
    "    return memo[numero]\n",
    "\n",
    "print(fibonacci(10))"
   ]
  },
  {
   "cell_type": "markdown",
   "metadata": {},
   "source": [
    "**Explicación**:\n",
    "- Se almacena cada resultado en un diccionario (memo).\n",
    "- Antes de calcular, se verifica si el valor ya existe en memo.\n",
    "- Evita cálculos redundantes, reduciendo el tiempo de ejecución."
   ]
  },
  {
   "cell_type": "markdown",
   "metadata": {},
   "source": [
    "**Otra técnica común**: programación dinámica de abajo hacia arriba (bottom-up)."
   ]
  },
  {
   "cell_type": "code",
   "execution_count": 26,
   "metadata": {},
   "outputs": [
    {
     "name": "stdout",
     "output_type": "stream",
     "text": [
      "55\n"
     ]
    }
   ],
   "source": [
    "def fibonacci_tabulacion(numero):\n",
    "    lista = [0] * (numero + 1)\n",
    "    lista[1] = 1\n",
    "\n",
    "    for i in range(2, numero + 1):\n",
    "        lista[i] = lista[i - 1] + lista[i - 2]\n",
    "    \n",
    "    return lista[numero]\n",
    "\n",
    "print(fibonacci_tabulacion(10))"
   ]
  },
  {
   "cell_type": "markdown",
   "metadata": {},
   "source": [
    "## **Algoritmos Voraces (Greedy)**\n",
    "\n",
    "Un algoritmo voraz toma decisiones óptimas en cada paso sin reconsiderar decisiones pasadas. Es útil en problemas donde la solución óptima local conduce a una solución global óptima.\n",
    "\n",
    "**Ejemplo**: Problema de la Moneda (Greedy Approach)"
   ]
  },
  {
   "cell_type": "code",
   "execution_count": 29,
   "metadata": {},
   "outputs": [
    {
     "name": "stdout",
     "output_type": "stream",
     "text": [
      "[25, 25, 10, 1, 1, 1]\n"
     ]
    }
   ],
   "source": [
    "def cambio_monedas(monedas, cantidad):\n",
    "    monedas.sort(reverse=True)\n",
    "    resultado = []\n",
    "\n",
    "    for moneda in monedas:\n",
    "        while cantidad >= moneda:\n",
    "            cantidad -= moneda\n",
    "            resultado.append(moneda)\n",
    "\n",
    "    return resultado\n",
    "\n",
    "monedas = [1, 5, 10, 25]\n",
    "cantidad = 63\n",
    "print(cambio_monedas(monedas, cantidad))"
   ]
  },
  {
   "cell_type": "markdown",
   "metadata": {},
   "source": [
    "**Explicación**:\n",
    "- Se seleccionan las monedas más grandes primero.\n",
    "- No siempre garantiza la solución óptima, pero funciona para ciertos conjuntos de monedas."
   ]
  },
  {
   "cell_type": "markdown",
   "metadata": {},
   "source": [
    "## **Reducción de Espacio**\n",
    "\n",
    "Esta estrategia busca optimizar el uso de memoria, utilizando estructuras de datos más eficientes o técnicas como:\n",
    "\n",
    "- **Matrices dispersas (Sparse matrices)**: Reducen el espacio almacenando solo elementos no nulos.\n",
    "- **Bit Manipulation**: Usar bits en lugar de estructuras más grandes.\n",
    "- **Sliding Window (Ventana deslizante)**: Mantener solo datos relevantes para reducir espacio.\n",
    "\n",
    "**Ejemplo**: Problema de la suma máxima en una ventana deslizante (Sliding Window) O(n)"
   ]
  },
  {
   "cell_type": "code",
   "execution_count": 33,
   "metadata": {},
   "outputs": [
    {
     "name": "stdout",
     "output_type": "stream",
     "text": [
      "16\n"
     ]
    }
   ],
   "source": [
    "def max_suma_subarray(arr, k):\n",
    "    max_suma = sum(arr[:k])\n",
    "    suma_actual = max_suma\n",
    "\n",
    "    for i in range(len(arr) - k):\n",
    "        suma_actual = suma_actual - arr[i] + arr[i + k]\n",
    "        max_suma = max(max_suma, suma_actual)\n",
    "\n",
    "    return max_suma\n",
    "\n",
    "arr = [2, 3, 4, 1, 5, 6, 2, 8]\n",
    "k = 3\n",
    "print(max_suma_subarray(arr, k))"
   ]
  }
 ],
 "metadata": {
  "kernelspec": {
   "display_name": "env",
   "language": "python",
   "name": "python3"
  },
  "language_info": {
   "codemirror_mode": {
    "name": "ipython",
    "version": 3
   },
   "file_extension": ".py",
   "mimetype": "text/x-python",
   "name": "python",
   "nbconvert_exporter": "python",
   "pygments_lexer": "ipython3",
   "version": "3.13.1"
  }
 },
 "nbformat": 4,
 "nbformat_minor": 2
}
