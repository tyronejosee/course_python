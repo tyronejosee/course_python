{
 "cells": [
  {
   "cell_type": "markdown",
   "metadata": {},
   "source": [
    "# **Notaciones Asintóticas**\n",
    "\n",
    "Se utilizan para expresar el comportamiento del algoritmo a medida que el tamaño de entrada crece.\n",
    "\n",
    "- **Notación O (Big O):** Representa el peor caso, la cota superior del crecimiento del tiempo de ejecución.\n",
    "- **Notación Ω (Omega):** Representa el mejor caso, la cota inferior del crecimiento del tiempo de ejecución.\n",
    "- **Notación Θ (Theta):** Representa el caso promedio, cuando el crecimiento es tanto inferior como superior en un mismo orden.\n",
    "\n",
    "## **Órdenes de Complejidad**\n",
    "\n",
    "| Notación | Descripción | Ejemplo típico |\n",
    "|------------|-------------------------|--------------------------------|\n",
    "| 𝑂(1) | Constante | Acceder a un elemento en un array |\n",
    "| 𝑂(log 𝑛) | Logarítmica | Búsqueda binaria |\n",
    "| 𝑂(𝑛) | Lineal | Búsqueda en lista no ordenada |\n",
    "| 𝑂(𝑛 log 𝑛) | Quasi-lineal | Merge Sort, Quick Sort (prom.) |\n",
    "| 𝑂(𝑛²) | Cuadrática | Búsqueda en pares anidados |\n",
    "| 𝑂(2^𝑛) | Exponencial | Problemas de recursión profunda |\n",
    "| 𝑂(𝑛!) | Factorial | Problemas de permutaciones |\n",
    "\n",
    "![Complexity classes](../assets/img/complexity_classes.png)"
   ]
  },
  {
   "cell_type": "markdown",
   "metadata": {},
   "source": [
    "## **Complejidad Constante `𝑂(1)`** 👍\n",
    "\n",
    "La cantidad de operaciones no depende del tamaño de la entrada `𝑛` siempre toma el mismo tiempo.\n",
    "\n",
    "**Ejemplo**: Acceder a un elemento en un array por índice"
   ]
  },
  {
   "cell_type": "code",
   "execution_count": null,
   "metadata": {},
   "outputs": [],
   "source": [
    "def get_first_element(arr):\n",
    "    return arr[0]  # O(1)"
   ]
  },
  {
   "cell_type": "markdown",
   "metadata": {},
   "source": [
    "**Crecimiento**: No importa si la entrada es de tamaño 10 o 1 millón, la operación siempre tarda lo mismo.\n",
    "\n",
    "**Gráfico**: Una línea horizontal."
   ]
  },
  {
   "cell_type": "markdown",
   "metadata": {},
   "source": [
    "## **Complejidad Logarítmica `𝑂(log 𝑛)`** 🔍\n",
    "\n",
    "La cantidad de operaciones crece lentamente en relación al tamaño de la entrada. Se reduce a la mitad en cada paso.\n",
    "\n",
    "**Ejemplo**: Búsqueda binaria en un array ordenado."
   ]
  },
  {
   "cell_type": "code",
   "execution_count": 23,
   "metadata": {},
   "outputs": [],
   "source": [
    "def busqueda_binaria(arr, target):\n",
    "    left, right = 0, len(arr) - 1\n",
    "    while left <= right:\n",
    "        mid = (left + right) // 2\n",
    "        if arr[mid] == target:\n",
    "            return mid\n",
    "        elif arr[mid] < target:\n",
    "            left = mid + 1\n",
    "        else:\n",
    "            right = mid - 1\n",
    "    return -1"
   ]
  },
  {
   "cell_type": "markdown",
   "metadata": {},
   "source": [
    "**Crecimiento**: Aumentar la entrada de `1000` a `1000000` apenas incrementa los pasos necesarios.\n",
    "\n",
    "**Gráfico**: Crecimiento lento que se aplana con el tiempo."
   ]
  },
  {
   "cell_type": "markdown",
   "metadata": {},
   "source": [
    "## **Complejidad Lineal `𝑂(𝑛)`** 👍"
   ]
  },
  {
   "cell_type": "markdown",
   "metadata": {},
   "source": [
    "La cantidad de operaciones crece proporcionalmente al tamaño de la entrada.\n",
    "\n",
    "**Ejemplo**: Recorrer una lista para encontrar un número."
   ]
  },
  {
   "cell_type": "code",
   "execution_count": 20,
   "metadata": {},
   "outputs": [],
   "source": [
    "def buscar_elemento(arr, target):\n",
    "    for item in arr:\n",
    "        if item == target:\n",
    "            return True\n",
    "    return False"
   ]
  },
  {
   "cell_type": "markdown",
   "metadata": {},
   "source": [
    "**Crecimiento**: Si la entrada se duplica, el tiempo de ejecución también se duplica.\n",
    "\n",
    "**Gráfico**: Una línea recta ascendente."
   ]
  },
  {
   "cell_type": "markdown",
   "metadata": {},
   "source": [
    "## **Complejidad Quasi-lineal `𝑂(𝑛 log 𝑛)`** 🔍\n",
    "\n",
    "Es una combinación de lineal y logarítmica. Algoritmos de ordenamiento eficientes suelen tener esta complejidad.\n",
    "\n",
    "**Ejemplo**: Merge Sort o Quick Sort (mejor caso):"
   ]
  },
  {
   "cell_type": "code",
   "execution_count": 27,
   "metadata": {},
   "outputs": [],
   "source": [
    "def merge_sort(arr):\n",
    "    if len(arr) <= 1:\n",
    "        return arr\n",
    "    mid = len(arr) // 2\n",
    "    left = merge_sort(arr[:mid])\n",
    "    right = merge_sort(arr[mid:])\n",
    "    return merge(left, right)"
   ]
  },
  {
   "cell_type": "markdown",
   "metadata": {},
   "source": [
    "**Crecimiento**: Un poco más que lineal, pero mucho mejor que cuadrática.\n",
    "\n",
    "**Gráfico**: Similar a lineal, pero con una ligera curvatura ascendente."
   ]
  },
  {
   "cell_type": "markdown",
   "metadata": {},
   "source": [
    "## **Complejidad Cuadrática `𝑂(𝑛²)`** ⚠️\n",
    "\n",
    "La cantidad de operaciones crece proporcionalmente al cuadrado del tamaño de la entrada. Común en algoritmos con bucles anidados.\n",
    "\n",
    "**Ejemplo**: Algoritmos de ordenamiento burbuja o fuerza bruta."
   ]
  },
  {
   "cell_type": "code",
   "execution_count": 26,
   "metadata": {},
   "outputs": [],
   "source": [
    "def bubble_sort(arr):\n",
    "    for i in range(len(arr)):\n",
    "        for j in range(len(arr) - i - 1):\n",
    "            if arr[j] > arr[j + 1]:\n",
    "                arr[j], arr[j + 1] = arr[j + 1], arr[j]"
   ]
  },
  {
   "cell_type": "markdown",
   "metadata": {},
   "source": [
    "**Crecimiento**: Si el tamaño de entrada es `10`, el tiempo será `100`; si es `1000`, el tiempo será `1000000`.\n",
    "\n",
    "**Gráfico**: Curva parabólica ascendente."
   ]
  },
  {
   "cell_type": "markdown",
   "metadata": {},
   "source": [
    "## **Complejidad Exponencial `𝑂(2𝑛)`** ⚠️🔍\n",
    "\n",
    "El tiempo de ejecución se duplica con cada incremento en la entrada. Es extremadamente ineficiente.\n",
    "\n",
    "**Ejemplo**: Problema de la subsecuencia o Fibonacci con recursión."
   ]
  },
  {
   "cell_type": "code",
   "execution_count": 28,
   "metadata": {},
   "outputs": [],
   "source": [
    "def fibonacci(n):\n",
    "    if n <= 1:\n",
    "        return n\n",
    "    return fibonacci(n-1) + fibonacci(n-2)"
   ]
  },
  {
   "cell_type": "markdown",
   "metadata": {},
   "source": [
    "**Crecimiento**: Crece extremadamente rápido, volviéndose impráctico para valores grandes de `𝑛`.\n",
    "\n",
    "**Gráfico**: Curva empinada hacia arriba."
   ]
  },
  {
   "cell_type": "markdown",
   "metadata": {},
   "source": [
    "## **Complejidad Factorial `𝑂(𝑛!)`** ⚠️\n",
    "\n",
    "La cantidad de operaciones crece factorialmente con el tamaño de la entrada. Los problemas de permutaciones y combinaciones suelen tener esta complejidad.\n",
    "\n",
    "**Ejemplo**: Generación de todas las permutaciones de una lista."
   ]
  },
  {
   "cell_type": "code",
   "execution_count": 29,
   "metadata": {},
   "outputs": [],
   "source": [
    "from itertools import permutations\n",
    "\n",
    "def generate_permutations(arr):\n",
    "    return list(permutations(arr))"
   ]
  },
  {
   "cell_type": "markdown",
   "metadata": {},
   "source": [
    "**Crecimiento**: Crece más rápido que exponencial; para `𝑛=10`, ya implica `3,628,800` operaciones.\n",
    "\n",
    "**Gráfico**: Explosión de crecimiento hacia el infinito."
   ]
  },
  {
   "cell_type": "markdown",
   "metadata": {},
   "source": [
    "## **Conclusión**\n",
    "\n",
    "Para diseñar algoritmos eficientes:\n",
    "\n",
    "- Evita cuadrática, exponencial y factorial siempre que sea posible.\n",
    "- Busca soluciones logarítmicas o quasi-lineales para problemas de búsqueda y ordenamiento.\n",
    "- Prefiere constantes o lineales para optimizar rendimiento."
   ]
  }
 ],
 "metadata": {
  "kernelspec": {
   "display_name": "env",
   "language": "python",
   "name": "python3"
  },
  "language_info": {
   "codemirror_mode": {
    "name": "ipython",
    "version": 3
   },
   "file_extension": ".py",
   "mimetype": "text/x-python",
   "name": "python",
   "nbconvert_exporter": "python",
   "pygments_lexer": "ipython3",
   "version": "3.11.9"
  }
 },
 "nbformat": 4,
 "nbformat_minor": 2
}
