{
 "cells": [
  {
   "cell_type": "markdown",
   "metadata": {},
   "source": [
    "# **Cálculo de Complejidad de Algoritmos**\n",
    "\n",
    "Para analizar la complejidad de un algoritmo, sigue estos pasos:\n",
    "\n",
    "1. **Identificar operaciones principales:** Encuentra los bucles, llamadas recursivas y cálculos costosos.\n",
    "2. **Contar operaciones dominantes:** Ignorar constantes y centrarse en el crecimiento con el tamaño de entrada.\n",
    "3. **Evaluar casos extremos:** Considera el mejor, peor y caso promedio.\n",
    "\n",
    "**Ejemplo:**\n",
    "\n",
    "- Complejidad espacial: **O(1)** (no se crean estructuras adicionales)\n",
    "- Complejidad temporal: **O(n)** (debido al bucle)"
   ]
  },
  {
   "cell_type": "code",
   "execution_count": 3,
   "metadata": {},
   "outputs": [],
   "source": [
    "def suma_numeros(n):\n",
    "    suma = 0             # O(1)\n",
    "    for i in range(n):   # O(n)\n",
    "        suma += i        # O(1)\n",
    "    return suma          # O(1)"
   ]
  }
 ],
 "metadata": {
  "kernelspec": {
   "display_name": "env",
   "language": "python",
   "name": "python3"
  },
  "language_info": {
   "codemirror_mode": {
    "name": "ipython",
    "version": 3
   },
   "file_extension": ".py",
   "mimetype": "text/x-python",
   "name": "python",
   "nbconvert_exporter": "python",
   "pygments_lexer": "ipython3",
   "version": "3.13.1"
  }
 },
 "nbformat": 4,
 "nbformat_minor": 2
}
