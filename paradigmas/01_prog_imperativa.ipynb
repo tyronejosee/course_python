{
 "cells": [
  {
   "cell_type": "markdown",
   "metadata": {},
   "source": [
    "# **Programación Imperativa**\n",
    "\n",
    "Se basa en describir cómo debe ejecutarse una tarea mediante secuencias de instrucciones. Se enfoca en modificar el estado del programa a través de variables, estructuras de control de flujo (bucles, condicionales) y procedimientos (funciones)."
   ]
  },
  {
   "cell_type": "markdown",
   "metadata": {},
   "source": [
    "## **Variables y Asignaciones**\n",
    "\n",
    "Python permite la asignación de variables para almacenar y modificar valores en memoria."
   ]
  },
  {
   "cell_type": "code",
   "execution_count": 1,
   "metadata": {},
   "outputs": [
    {
     "name": "stdout",
     "output_type": "stream",
     "text": [
      "15\n"
     ]
    }
   ],
   "source": [
    "# Definición de variables\n",
    "x = 10\n",
    "y = 5\n",
    "\n",
    "# Modificación del estado\n",
    "x = x + y  \n",
    "print(x)  # Salida: 15"
   ]
  },
  {
   "cell_type": "markdown",
   "metadata": {},
   "source": [
    "## **Estructuras de Control (Condicionales)**"
   ]
  },
  {
   "cell_type": "code",
   "execution_count": 2,
   "metadata": {},
   "outputs": [
    {
     "name": "stdout",
     "output_type": "stream",
     "text": [
      "x es mayor que 5\n"
     ]
    }
   ],
   "source": [
    "x = 10\n",
    "\n",
    "if x > 5:\n",
    "    print(\"x es mayor que 5\")\n",
    "else:\n",
    "    print(\"x es menor o igual a 5\")"
   ]
  },
  {
   "cell_type": "markdown",
   "metadata": {},
   "source": [
    "## **Bucles (Iteración con for y while)**\n",
    "\n",
    "Permiten ejecutar bloques de código repetitivamente."
   ]
  },
  {
   "cell_type": "code",
   "execution_count": 5,
   "metadata": {},
   "outputs": [
    {
     "name": "stdout",
     "output_type": "stream",
     "text": [
      "1\n",
      "2\n",
      "3\n",
      "4\n",
      "5\n"
     ]
    }
   ],
   "source": [
    "numeros = [1, 2, 3, 4, 5]\n",
    "\n",
    "# For\n",
    "for num in numeros:\n",
    "    print(num)"
   ]
  },
  {
   "cell_type": "code",
   "execution_count": 6,
   "metadata": {},
   "outputs": [
    {
     "name": "stdout",
     "output_type": "stream",
     "text": [
      "Iteración 0\n",
      "Iteración 1\n",
      "Iteración 2\n",
      "Iteración 3\n",
      "Iteración 4\n"
     ]
    }
   ],
   "source": [
    "contador = 0\n",
    "\n",
    "# While\n",
    "while contador < 5:\n",
    "    print(\"Iteración\", contador)\n",
    "    contador += 1"
   ]
  },
  {
   "cell_type": "markdown",
   "metadata": {},
   "source": [
    "## **Funciones y Procedimientos**\n",
    "\n",
    "Las funciones permiten modularizar el código y evitar la repetición."
   ]
  },
  {
   "cell_type": "code",
   "execution_count": 8,
   "metadata": {},
   "outputs": [
    {
     "name": "stdout",
     "output_type": "stream",
     "text": [
      "10\n"
     ]
    }
   ],
   "source": [
    "def suma(a, b):\n",
    "    return a + b\n",
    "\n",
    "resultado = suma(3, 7)\n",
    "print(resultado)"
   ]
  },
  {
   "cell_type": "markdown",
   "metadata": {},
   "source": [
    "## **Manipulación de Listas (Estructuras Mutables)**\n",
    "\n",
    "La mutabilidad en listas permite modificar su contenido, un concepto clave en programación imperativa."
   ]
  },
  {
   "cell_type": "code",
   "execution_count": 10,
   "metadata": {},
   "outputs": [
    {
     "name": "stdout",
     "output_type": "stream",
     "text": [
      "[10, 2, 3, 4]\n"
     ]
    }
   ],
   "source": [
    "lista = [1, 2, 3]\n",
    "lista.append(4)   # Agrega un elemento\n",
    "lista[0] = 10     # Modifica el primer elemento\n",
    "print(lista)"
   ]
  },
  {
   "cell_type": "markdown",
   "metadata": {},
   "source": [
    "## **Efectos Secundarios y Estado del Programa**\n",
    "\n",
    "En programación imperativa, modificar el estado global puede generar efectos secundarios."
   ]
  },
  {
   "cell_type": "code",
   "execution_count": 12,
   "metadata": {},
   "outputs": [
    {
     "name": "stdout",
     "output_type": "stream",
     "text": [
      "2\n"
     ]
    }
   ],
   "source": [
    "contador = 0  # Variable global\n",
    "\n",
    "def incrementar():\n",
    "    global contador  # Modificación del estado global\n",
    "    contador += 1\n",
    "\n",
    "incrementar()\n",
    "incrementar()\n",
    "print(contador)"
   ]
  },
  {
   "cell_type": "markdown",
   "metadata": {},
   "source": [
    "## **Uso de `break` y `continue` en Bucles**\n"
   ]
  },
  {
   "cell_type": "code",
   "execution_count": 13,
   "metadata": {},
   "outputs": [
    {
     "name": "stdout",
     "output_type": "stream",
     "text": [
      "0\n",
      "1\n",
      "2\n",
      "3\n",
      "4\n"
     ]
    }
   ],
   "source": [
    "for i in range(10):\n",
    "    if i == 5:\n",
    "        break  # Termina el bucle cuando i es 5\n",
    "    print(i)"
   ]
  },
  {
   "cell_type": "code",
   "execution_count": 20,
   "metadata": {},
   "outputs": [
    {
     "name": "stdout",
     "output_type": "stream",
     "text": [
      "1\n",
      "3\n",
      "5\n",
      "7\n",
      "9\n"
     ]
    }
   ],
   "source": [
    "for i in range(10):\n",
    "    if i % 2 == 0:\n",
    "        continue  # Salta los números pares\n",
    "    print(i)"
   ]
  }
 ],
 "metadata": {
  "kernelspec": {
   "display_name": "env",
   "language": "python",
   "name": "python3"
  },
  "language_info": {
   "codemirror_mode": {
    "name": "ipython",
    "version": 3
   },
   "file_extension": ".py",
   "mimetype": "text/x-python",
   "name": "python",
   "nbconvert_exporter": "python",
   "pygments_lexer": "ipython3",
   "version": "3.11.9"
  }
 },
 "nbformat": 4,
 "nbformat_minor": 2
}
