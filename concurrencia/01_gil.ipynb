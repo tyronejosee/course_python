{
 "cells": [
  {
   "cell_type": "markdown",
   "metadata": {},
   "source": [
    "# **Global Interpreter Lock (GIL)**\n",
    "\n",
    "Es un mecanismo de control en el intérprete de **Python** (en particular, CPython, la implementación más utilizada) que restringe la ejecución de múltiples hilos al mismo tiempo, incluso en sistemas con múltiples núcleos. Es un tema importante para comprender el comportamiento de Python en aplicaciones multihilo.\n",
    "\n",
    "\n",
    "- Es un bloqueo global que asegura que solo un hilo de Python pueda ejecutar código de Python puro a la vez en un proceso.\n",
    "- Se introdujo para simplificar la implementación del intérprete de Python y evitar problemas de concurrencia relacionados con la gestión de memoria.\n",
    "- Aunque existen múltiples hilos en un programa de Python, el GIL permite que solo uno de ellos se ejecute en un momento dado."
   ]
  },
  {
   "cell_type": "markdown",
   "metadata": {},
   "source": [
    "## **Ventajas**\n",
    "\n",
    "- **Simplificación de la gestión de memoria**: Python usa un recolector de basura basado en referencia para manejar la memoria.\n",
    "El GIL facilita este proceso evitando conflictos al acceder o modificar objetos compartidos entre hilos.\n",
    "\n",
    "- **Portabilidad**: El GIL hace que Python sea más fácil de implementar en diferentes sistemas operativos.\n",
    "\n",
    "- **Seguridad**: Reduce la probabilidad de errores difíciles de depurar relacionados con la concurrencia, como condiciones de carrera.\n"
   ]
  },
  {
   "cell_type": "markdown",
   "metadata": {},
   "source": [
    "## **Desventajas**\n",
    "\n",
    "- **Límite en el rendimiento de aplicaciones multihilo**: En programas intensivos en CPU (como cálculos matemáticos pesados), el GIL puede convertirse en un cuello de botella porque solo un hilo puede ejecutar código Python puro a la vez.\n",
    "\n",
    "- **Subutilización de CPUs multinúcleo**: Aunque el hardware tenga múltiples núcleos, el GIL impide que los hilos de Python se ejecuten en paralelo, limitando el uso del potencial total del hardware.\n",
    "\n",
    "- **Sobrecarga de cambio de contexto**: El GIL puede ceder el control entre hilos con bastante frecuencia, lo que introduce una sobrecarga que puede impactar el rendimiento."
   ]
  },
  {
   "cell_type": "markdown",
   "metadata": {},
   "source": [
    "## **Ejemplo del impacto**"
   ]
  },
  {
   "cell_type": "code",
   "execution_count": 11,
   "metadata": {},
   "outputs": [
    {
     "name": "stdout",
     "output_type": "stream",
     "text": [
      "Tiempo usando hilos: 2.45 segundos\n"
     ]
    }
   ],
   "source": [
    "import threading\n",
    "import time\n",
    "\n",
    "def tarea():\n",
    "    contador = 0\n",
    "    for _ in range(10**7):\n",
    "        contador += 1\n",
    "\n",
    "inicio = time.time()\n",
    "\n",
    "# Usar hilos\n",
    "hilos = [threading.Thread(target=tarea) for _ in range(2)]\n",
    "for hilo in hilos:\n",
    "    hilo.start()\n",
    "for hilo in hilos:\n",
    "    hilo.join()\n",
    "\n",
    "fin = time.time()\n",
    "print(f\"Tiempo usando hilos: {fin - inicio:.2f} segundos\")"
   ]
  },
  {
   "cell_type": "markdown",
   "metadata": {},
   "source": [
    "## **Cómo Manejar o Mitigar el Impacto**"
   ]
  },
  {
   "cell_type": "markdown",
   "metadata": {},
   "source": [
    "- **Usar procesos en lugar de hilos:** El módulo multiprocessing de Python permite ejecutar código en varios procesos en lugar de hilos. Cada proceso tiene su propio intérprete y GIL independiente."
   ]
  },
  {
   "cell_type": "code",
   "execution_count": 10,
   "metadata": {},
   "outputs": [
    {
     "name": "stdout",
     "output_type": "stream",
     "text": [
      "Tiempo usando procesos: 0.49 segundos\n"
     ]
    }
   ],
   "source": [
    "from multiprocessing import Process\n",
    "import time\n",
    "\n",
    "def tarea():\n",
    "    contador = 0\n",
    "    for _ in range(10**7):\n",
    "        contador += 1\n",
    "\n",
    "inicio = time.time()\n",
    "\n",
    "# Usar procesos\n",
    "procesos = [Process(target=tarea) for _ in range(2)]\n",
    "for proceso in procesos:\n",
    "    proceso.start()\n",
    "for proceso in procesos:\n",
    "    proceso.join()\n",
    "\n",
    "fin = time.time()\n",
    "print(f\"Tiempo usando procesos: {fin - inicio:.2f} segundos\")"
   ]
  },
  {
   "cell_type": "markdown",
   "metadata": {},
   "source": [
    "- **Usar extensiones en C:** Bibliotecas como **numpy** o **scipy** realizan cálculos intensivos fuera del **GIL**, permitiendo mejor rendimiento en operaciones pesadas.\n",
    "\n",
    "- **Bibliotecas de concurrencia diseñadas para el GIL:** Usa bibliotecas como concurrent.futures o asyncio, que manejan tareas concurrentes de manera eficiente en Python.\n",
    "\n",
    "- **Usar un intérprete alternativo:** Intérpretes como Jython (Java) o IronPython (C#) no tienen GIL. PyPy, otra implementación de Python, tiene un enfoque diferente que mejora el rendimiento en ciertas áreas."
   ]
  }
 ],
 "metadata": {
  "kernelspec": {
   "display_name": "env",
   "language": "python",
   "name": "python3"
  },
  "language_info": {
   "codemirror_mode": {
    "name": "ipython",
    "version": 3
   },
   "file_extension": ".py",
   "mimetype": "text/x-python",
   "name": "python",
   "nbconvert_exporter": "python",
   "pygments_lexer": "ipython3",
   "version": "3.11.9"
  }
 },
 "nbformat": 4,
 "nbformat_minor": 2
}
