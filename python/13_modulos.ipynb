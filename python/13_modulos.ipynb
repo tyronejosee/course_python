{
 "cells": [
  {
   "cell_type": "markdown",
   "metadata": {},
   "source": [
    "# **Módulos**\n",
    "\n",
    "- Considera un módulo como una biblioteca de código.\n",
    "- Un archivo que contiene un conjunto de funciones que deseas incluir en tu aplicación."
   ]
  },
  {
   "cell_type": "markdown",
   "metadata": {},
   "source": [
    "## **Crear un Módulo**\n",
    "\n",
    "Para crear un módulo, simplemente guarda el código que deseas en un archivo con la extensión `.py`."
   ]
  },
  {
   "cell_type": "markdown",
   "metadata": {},
   "source": [
    "- Guarda este código en un archivo llamado `mimodulo.py`"
   ]
  },
  {
   "cell_type": "code",
   "execution_count": null,
   "metadata": {},
   "outputs": [],
   "source": [
    "def saludar(nombre):\n",
    "    print(\"Hola, \" + nombre)"
   ]
  },
  {
   "cell_type": "markdown",
   "metadata": {},
   "source": [
    "## **Usar un Módulo**\n",
    "\n",
    "Ahora puedes usar el módulo que acabas de crear utilizando la declaración `import`."
   ]
  },
  {
   "cell_type": "code",
   "execution_count": null,
   "metadata": {},
   "outputs": [],
   "source": [
    "import mimodulo\n",
    "\n",
    "mimodulo.saludar(\"Hiromi\")"
   ]
  },
  {
   "cell_type": "markdown",
   "metadata": {},
   "source": [
    "> Sintaxis de punto: `<nombre_módulo>.<nombre_función>`"
   ]
  },
  {
   "cell_type": "markdown",
   "metadata": {},
   "source": [
    "## **Renombrar un Módulo**\n",
    "\n",
    "Puedes crear un **alias** al importar un módulo utilizando la palabra clave `as`"
   ]
  },
  {
   "cell_type": "code",
   "execution_count": null,
   "metadata": {},
   "outputs": [],
   "source": [
    "import mimodulo as mx\n",
    "\n",
    "mx.saludar(\"Hiromi\")"
   ]
  },
  {
   "cell_type": "markdown",
   "metadata": {},
   "source": [
    "## **Módulos Incorporados**\n",
    "\n",
    "Python tiene varios módulos incorporados que puedes importar en cualquier momento."
   ]
  },
  {
   "cell_type": "code",
   "execution_count": null,
   "metadata": {},
   "outputs": [],
   "source": [
    "import platform\n",
    "\n",
    "sistema = platform.system()\n",
    "print(sistema)"
   ]
  },
  {
   "cell_type": "markdown",
   "metadata": {},
   "source": [
    "## **Usar la Función `dir()`**\n",
    "\n",
    "Python tiene varios módulos incorporados que puedes importar en cualquier momento."
   ]
  },
  {
   "cell_type": "markdown",
   "metadata": {},
   "source": [
    "- `dir()` devuelve una lista de todos los nombres definidos en un objeto. Estos nombres pueden incluir variables, funciones, métodos, clases, y atributos que están disponibles en ese objeto."
   ]
  },
  {
   "cell_type": "code",
   "execution_count": null,
   "metadata": {},
   "outputs": [],
   "source": [
    "import platform\n",
    "\n",
    "plataforma = dir(platform)\n",
    "print(plataforma)"
   ]
  },
  {
   "cell_type": "markdown",
   "metadata": {},
   "source": [
    "> **Nota**: La función `dir()` puede usarse en todos los módulos, incluidos los que creas tú mismo."
   ]
  },
  {
   "cell_type": "markdown",
   "metadata": {},
   "source": [
    "## **Importar desde un Módulo**\n",
    "\n",
    "Puedes elegir importar solo partes específicas de un módulo utilizando la palabra clave `from`."
   ]
  },
  {
   "cell_type": "code",
   "execution_count": null,
   "metadata": {},
   "outputs": [],
   "source": [
    "from mimodulo import saludar\n",
    "\n",
    "saludar(\"Hiromi\")"
   ]
  }
 ],
 "metadata": {
  "kernelspec": {
   "display_name": "Python 3",
   "language": "python",
   "name": "python3"
  },
  "language_info": {
   "codemirror_mode": {
    "name": "ipython",
    "version": 3
   },
   "file_extension": ".py",
   "mimetype": "text/x-python",
   "name": "python",
   "nbconvert_exporter": "python",
   "pygments_lexer": "ipython3",
   "version": "3.11.9"
  }
 },
 "nbformat": 4,
 "nbformat_minor": 2
}
