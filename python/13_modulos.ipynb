{
 "cells": [
  {
   "cell_type": "markdown",
   "metadata": {},
   "source": [
    "# **Módulos**\n",
    "\n",
    "- Considera un módulo como una biblioteca de código.\n",
    "- Un archivo que contiene un conjunto de funciones que deseas incluir en tu aplicación."
   ]
  }
 ],
 "metadata": {
  "language_info": {
   "name": "python"
  }
 },
 "nbformat": 4,
 "nbformat_minor": 2
}
