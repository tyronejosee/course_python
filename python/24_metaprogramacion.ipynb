{
 "cells": [
  {
   "cell_type": "markdown",
   "metadata": {},
   "source": [
    "# **Metaprogramación**\n",
    "\n",
    "Es la capacidad de escribir código que modifica o genera código en tiempo de ejecución. **Python** es altamente dinámico, lo que facilita este enfoque.\n",
    "\n",
    "La metaprogramación en Python permite crear, modificar e inspeccionar código dinámicamente, lo que la hace poderosa para frameworks, introspección y optimización. Sin embargo, debe usarse con cuidado, ya que un uso excesivo puede hacer que el código sea difícil de entender y mantener. 🔥"
   ]
  },
  {
   "cell_type": "markdown",
   "metadata": {},
   "source": [
    "## **Manipulación de Clases `type`, `metaclass`**"
   ]
  },
  {
   "cell_type": "markdown",
   "metadata": {},
   "source": [
    "**Uso de `type` para crear clases dinámicamente**: `type(nombre, bases, diccionario)` crea una clase con nombre, herencia y atributos."
   ]
  },
  {
   "cell_type": "code",
   "execution_count": 2,
   "metadata": {},
   "outputs": [
    {
     "name": "stdout",
     "output_type": "stream",
     "text": [
      "42\n"
     ]
    }
   ],
   "source": [
    "MiClase = type(\"MiClase\", (object,), {\"atributo\": 42})\n",
    "obj = MiClase()\n",
    "print(obj.atributo)"
   ]
  },
  {
   "cell_type": "markdown",
   "metadata": {},
   "source": [
    "**Metaclases (metaclass)**: Una metaclase controla la creación de clases. Se usa para modificar clases en su definición."
   ]
  },
  {
   "cell_type": "code",
   "execution_count": 3,
   "metadata": {},
   "outputs": [
    {
     "name": "stdout",
     "output_type": "stream",
     "text": [
      "Soy un atributo agregado\n"
     ]
    }
   ],
   "source": [
    "class MiMetaClase(type):\n",
    "    def __new__(cls, nombre, bases, diccionario):\n",
    "        diccionario[\"nuevo_atributo\"] = \"Soy un atributo agregado\"\n",
    "        return super().__new__(cls, nombre, bases, diccionario)\n",
    "\n",
    "class MiClase(metaclass=MiMetaClase):\n",
    "    pass\n",
    "\n",
    "print(MiClase.nuevo_atributo)"
   ]
  },
  {
   "cell_type": "markdown",
   "metadata": {},
   "source": [
    "## **Decoradores `@decorators`**\n",
    "\n",
    "Un decorador es una función que modifica otra función o clase sin cambiar su código."
   ]
  },
  {
   "cell_type": "markdown",
   "metadata": {},
   "source": [
    "**Decorador de Funciones**: Se usa en Flask, FastAPI, y en validaciones automáticas."
   ]
  },
  {
   "cell_type": "code",
   "execution_count": 4,
   "metadata": {},
   "outputs": [
    {
     "name": "stdout",
     "output_type": "stream",
     "text": [
      "Antes de ejecutar\n",
      "Hola mundo\n",
      "Después de ejecutar\n"
     ]
    }
   ],
   "source": [
    "def decorador(func):\n",
    "    def wrapper():\n",
    "        print(\"Antes de ejecutar\")\n",
    "        func()\n",
    "        print(\"Después de ejecutar\")\n",
    "    return wrapper\n",
    "\n",
    "@decorador\n",
    "def hola():\n",
    "    print(\"Hola mundo\")\n",
    "\n",
    "hola()"
   ]
  },
  {
   "cell_type": "markdown",
   "metadata": {},
   "source": [
    "**Decorador de clases**"
   ]
  },
  {
   "cell_type": "code",
   "execution_count": 5,
   "metadata": {},
   "outputs": [
    {
     "name": "stdout",
     "output_type": "stream",
     "text": [
      "Método agregado\n"
     ]
    }
   ],
   "source": [
    "def decorador_clase(cls):\n",
    "    cls.nuevo_metodo = lambda self: \"Método agregado\"\n",
    "    return cls\n",
    "\n",
    "@decorador_clase\n",
    "class Ejemplo:\n",
    "    pass\n",
    "\n",
    "obj = Ejemplo()\n",
    "print(obj.nuevo_metodo())"
   ]
  },
  {
   "cell_type": "markdown",
   "metadata": {},
   "source": [
    "## **Reflexión (inspección en tiempo de ejecución)**\n",
    "\n",
    "Python permite inspeccionar objetos, clases y módulos en tiempo de ejecución.\n",
    "\n",
    "**Usando getattr, setattr, hasattr**"
   ]
  },
  {
   "cell_type": "code",
   "execution_count": 7,
   "metadata": {},
   "outputs": [
    {
     "name": "stdout",
     "output_type": "stream",
     "text": [
      "Gladys\n",
      "30\n",
      "True\n"
     ]
    }
   ],
   "source": [
    "class Persona:\n",
    "    nombre = \"Gladys\"\n",
    "\n",
    "obj = Persona()\n",
    "\n",
    "print(getattr(obj, \"nombre\"))\n",
    "setattr(obj, \"edad\", 30)  # Agrega un nuevo atributo\n",
    "\n",
    "print(obj.edad)\n",
    "print(hasattr(obj, \"edad\"))"
   ]
  },
  {
   "cell_type": "markdown",
   "metadata": {},
   "source": [
    "**Usando `dir()` e `inspect`**\n",
    "\n",
    "- `dir()` Lista los atributos y métodos del objeto\n",
    "- `inspect.getmembers(obj)``Lista los atributos y métodos con valores"
   ]
  },
  {
   "cell_type": "code",
   "execution_count": 9,
   "metadata": {},
   "outputs": [
    {
     "name": "stdout",
     "output_type": "stream",
     "text": [
      "['__class__', '__delattr__', '__dict__', '__dir__', '__doc__', '__eq__', '__format__', '__ge__', '__getattribute__', '__getstate__', '__gt__', '__hash__', '__init__', '__init_subclass__', '__le__', '__lt__', '__module__', '__ne__', '__new__', '__reduce__', '__reduce_ex__', '__repr__', '__setattr__', '__sizeof__', '__str__', '__subclasshook__', '__weakref__', 'edad', 'nombre']\n",
      "[('__class__', <class '__main__.Persona'>), ('__delattr__', <method-wrapper '__delattr__' of Persona object at 0x000001E54E69B5D0>), ('__dict__', {'edad': 30}), ('__dir__', <built-in method __dir__ of Persona object at 0x000001E54E69B5D0>), ('__doc__', None), ('__eq__', <method-wrapper '__eq__' of Persona object at 0x000001E54E69B5D0>), ('__format__', <built-in method __format__ of Persona object at 0x000001E54E69B5D0>), ('__ge__', <method-wrapper '__ge__' of Persona object at 0x000001E54E69B5D0>), ('__getattribute__', <method-wrapper '__getattribute__' of Persona object at 0x000001E54E69B5D0>), ('__getstate__', <built-in method __getstate__ of Persona object at 0x000001E54E69B5D0>), ('__gt__', <method-wrapper '__gt__' of Persona object at 0x000001E54E69B5D0>), ('__hash__', <method-wrapper '__hash__' of Persona object at 0x000001E54E69B5D0>), ('__init__', <method-wrapper '__init__' of Persona object at 0x000001E54E69B5D0>), ('__init_subclass__', <built-in method __init_subclass__ of type object at 0x000001E54D48C040>), ('__le__', <method-wrapper '__le__' of Persona object at 0x000001E54E69B5D0>), ('__lt__', <method-wrapper '__lt__' of Persona object at 0x000001E54E69B5D0>), ('__module__', '__main__'), ('__ne__', <method-wrapper '__ne__' of Persona object at 0x000001E54E69B5D0>), ('__new__', <built-in method __new__ of type object at 0x00007FFC371B0E30>), ('__reduce__', <built-in method __reduce__ of Persona object at 0x000001E54E69B5D0>), ('__reduce_ex__', <built-in method __reduce_ex__ of Persona object at 0x000001E54E69B5D0>), ('__repr__', <method-wrapper '__repr__' of Persona object at 0x000001E54E69B5D0>), ('__setattr__', <method-wrapper '__setattr__' of Persona object at 0x000001E54E69B5D0>), ('__sizeof__', <built-in method __sizeof__ of Persona object at 0x000001E54E69B5D0>), ('__str__', <method-wrapper '__str__' of Persona object at 0x000001E54E69B5D0>), ('__subclasshook__', <built-in method __subclasshook__ of type object at 0x000001E54D48C040>), ('__weakref__', None), ('edad', 30), ('nombre', 'Gladys')]\n"
     ]
    }
   ],
   "source": [
    "import inspect\n",
    "\n",
    "print(dir(obj))\n",
    "print(inspect.getmembers(obj))"
   ]
  },
  {
   "cell_type": "markdown",
   "metadata": {},
   "source": [
    "## **Generación de Código en Tiempo de Ejecución `exec`, `eval`**\n",
    "\n",
    "- `exec()` ejecuta código Python"
   ]
  },
  {
   "cell_type": "code",
   "execution_count": 12,
   "metadata": {},
   "outputs": [
    {
     "name": "stdout",
     "output_type": "stream",
     "text": [
      "7\n"
     ]
    }
   ],
   "source": [
    "codigo = \"\"\"\n",
    "def suma(a, b):\n",
    "    return a + b\n",
    "\"\"\"\n",
    "exec(codigo)\n",
    "print(suma(3, 4))"
   ]
  },
  {
   "cell_type": "markdown",
   "metadata": {},
   "source": [
    "- `eval()` evalúa expresiones en tiempo de ejecución"
   ]
  },
  {
   "cell_type": "code",
   "execution_count": 13,
   "metadata": {},
   "outputs": [
    {
     "name": "stdout",
     "output_type": "stream",
     "text": [
      "14\n"
     ]
    }
   ],
   "source": [
    "resultado = eval(\"2 + 3 * 4\")\n",
    "print(resultado)"
   ]
  },
  {
   "cell_type": "markdown",
   "metadata": {},
   "source": [
    "## Manipulación de `__dict__`\n",
    "\n",
    "Cada objeto en Python tiene un diccionario interno `__dict__` que almacena sus atributos."
   ]
  },
  {
   "cell_type": "code",
   "execution_count": 19,
   "metadata": {},
   "outputs": [
    {
     "name": "stdout",
     "output_type": "stream",
     "text": [
      "{}\n",
      "{'dinamico': 'Nuevo valor'}\n",
      "Nuevo valor\n"
     ]
    }
   ],
   "source": [
    "class Prueba:\n",
    "    pass\n",
    "\n",
    "obj = Prueba()\n",
    "print(obj.__dict__)\n",
    "\n",
    "obj.__dict__[\"dinamico\"] = \"Nuevo valor\"\n",
    "print(obj.__dict__)\n",
    "print(obj.dinamico)"
   ]
  },
  {
   "cell_type": "markdown",
   "metadata": {},
   "source": [
    "## **Monkey Patching (Modificar Código en Tiempo de Ejecución)**\n",
    "\n",
    "Consiste en modificar funciones o clases existentes en tiempo de ejecución.\n",
    "\n",
    "> Úsalo con precaución, ya que puede causar problemas de mantenimiento."
   ]
  },
  {
   "cell_type": "code",
   "execution_count": 37,
   "metadata": {},
   "outputs": [
    {
     "name": "stdout",
     "output_type": "stream",
     "text": [
      "750.0\n",
      "500.0\n"
     ]
    }
   ],
   "source": [
    "class Producto:\n",
    "    def __init__(self, nombre, precio):\n",
    "        self.nombre = nombre\n",
    "        self.precio = precio\n",
    "    \n",
    "    def calcular_precio_con_descuento(self, descuento):\n",
    "        return self.precio - self.precio * 0.25 # 25%\n",
    "\n",
    "\n",
    "def nuevo_calculo_descuento(self, descuento):\n",
    "    return self.precio - self.precio * 0.5 # 50%\n",
    "\n",
    "producto = Producto(\"Laptop\", 1000)\n",
    "print(producto.calcular_precio_con_descuento(0.3))\n",
    "\n",
    "# Aplicamos el Monkey Patching\n",
    "Producto.calcular_precio_con_descuento = nuevo_calculo_descuento\n",
    "\n",
    "producto = Producto(\"Laptop\", 1000)\n",
    "print(producto.calcular_precio_con_descuento(0.3))"
   ]
  }
 ],
 "metadata": {
  "kernelspec": {
   "display_name": "env",
   "language": "python",
   "name": "python3"
  },
  "language_info": {
   "codemirror_mode": {
    "name": "ipython",
    "version": 3
   },
   "file_extension": ".py",
   "mimetype": "text/x-python",
   "name": "python",
   "nbconvert_exporter": "python",
   "pygments_lexer": "ipython3",
   "version": "3.11.9"
  }
 },
 "nbformat": 4,
 "nbformat_minor": 2
}
