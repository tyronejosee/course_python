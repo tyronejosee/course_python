{
 "cells": [
  {
   "cell_type": "markdown",
   "metadata": {},
   "source": [
    "# **Ellipsis Literal `...`**\n",
    "\n",
    "Ellipsis es un objeto especial con múltiples usos:\n",
    "\n",
    "- **Indexación avanzada**: En NumPy reemplaza `:` en múltiples dimensiones.\n",
    "- **Marcador de posición**: Similar a `pass`, útil en funciones y clases sin implementar.\n",
    "- **Anotaciones de tipo**: Con `Tuple[int, ...]` indica una tupla de enteros de tamaño indefinido.\n",
    "- **Metaprogramación**: Puede usarse en `__getitem__` para casos especiales."
   ]
  },
  {
   "cell_type": "code",
   "execution_count": 1,
   "metadata": {},
   "outputs": [
    {
     "name": "stdout",
     "output_type": "stream",
     "text": [
      "<class 'ellipsis'>\n",
      "Ellipsis\n",
      "True\n"
     ]
    }
   ],
   "source": [
    "print(type(...))\n",
    "print(...)\n",
    "print(... is Ellipsis)"
   ]
  },
  {
   "cell_type": "markdown",
   "metadata": {},
   "source": [
    "## **Underscore `_`**"
   ]
  },
  {
   "cell_type": "code",
   "execution_count": 5,
   "metadata": {},
   "outputs": [
    {
     "name": "stdout",
     "output_type": "stream",
     "text": [
      "__main__\n"
     ]
    }
   ],
   "source": [
    "print(__name__)"
   ]
  },
  {
   "cell_type": "code",
   "execution_count": 6,
   "metadata": {},
   "outputs": [
    {
     "name": "stdout",
     "output_type": "stream",
     "text": [
      "(1, 2, 3)\n",
      "{'nombre': 'Juan', 'edad': 25}\n"
     ]
    }
   ],
   "source": [
    "def ejemplo(*args, **kwargs):\n",
    "    print(args)  # Tupla con valores\n",
    "    print(kwargs)  # Diccionario con claves y valores\n",
    "\n",
    "ejemplo(1, 2, 3, nombre=\"Juan\", edad=25)"
   ]
  },
  {
   "cell_type": "markdown",
   "metadata": {},
   "source": [
    "# **Operador Walrus `:=`**\n",
    "\n",
    "Asigna un valor dentro de una expresión."
   ]
  },
  {
   "cell_type": "code",
   "execution_count": 7,
   "metadata": {},
   "outputs": [
    {
     "name": "stdout",
     "output_type": "stream",
     "text": [
      "Longitud: 6\n"
     ]
    }
   ],
   "source": [
    "if (n := len(\"Python\")) > 5:\n",
    "    print(f\"Longitud: {n}\")"
   ]
  }
 ],
 "metadata": {
  "kernelspec": {
   "display_name": "env",
   "language": "python",
   "name": "python3"
  },
  "language_info": {
   "codemirror_mode": {
    "name": "ipython",
    "version": 3
   },
   "file_extension": ".py",
   "mimetype": "text/x-python",
   "name": "python",
   "nbconvert_exporter": "python",
   "pygments_lexer": "ipython3",
   "version": "3.13.5"
  }
 },
 "nbformat": 4,
 "nbformat_minor": 2
}
