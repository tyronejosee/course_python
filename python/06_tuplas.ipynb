{
 "cells": [
  {
   "cell_type": "markdown",
   "metadata": {},
   "source": [
    "# **Tuplas**\n",
    "\n",
    "Son colecciones ordenadas e inmutables en Python. Esto significa que, una vez creadas, no puedes modificar los elementos de una tupla (no se pueden añadir, eliminar ni modificar)."
   ]
  },
  {
   "cell_type": "markdown",
   "metadata": {},
   "source": [
    "## **Creación de Tuplas**"
   ]
  },
  {
   "cell_type": "code",
   "execution_count": null,
   "metadata": {},
   "outputs": [],
   "source": [
    "# Crear una tupla\n",
    "tupla = (1, 2, 3, 4, 5)\n",
    "\n",
    "print(tupla)"
   ]
  },
  {
   "cell_type": "code",
   "execution_count": null,
   "metadata": {},
   "outputs": [],
   "source": [
    "# Crear una tupla con un solo elemento\n",
    "tupla_un_elemento = (1,)\n",
    "\n",
    "print(tupla_un_elemento)"
   ]
  },
  {
   "cell_type": "code",
   "execution_count": null,
   "metadata": {},
   "outputs": [],
   "source": [
    "# Crear una tupla sin paréntesis (tupla implícita)\n",
    "tupla_implicita = 6, 7, 8\n",
    "\n",
    "print(tupla_implicita)"
   ]
  },
  {
   "cell_type": "markdown",
   "metadata": {},
   "source": [
    "## **Acceso a Elementos**"
   ]
  },
  {
   "cell_type": "code",
   "execution_count": null,
   "metadata": {},
   "outputs": [],
   "source": [
    "tupla = (1, 2, 3, 4, 5)\n",
    "\n",
    "# Acceder a elementos de una tupla por índice\n",
    "# print(tupla[0])\n",
    "print(tupla[-1])"
   ]
  },
  {
   "cell_type": "code",
   "execution_count": null,
   "metadata": {},
   "outputs": [],
   "source": [
    "tupla = (1, 2, 3, 4, 5)\n",
    "\n",
    "# Rebanado (slicing) de una tupla\n",
    "tupla[3:] # Desde 0 a 3"
   ]
  },
  {
   "cell_type": "markdown",
   "metadata": {},
   "source": [
    "## **Inmutabilidad**\n",
    "\n",
    "Las tuplas son inmutables, lo que significa que no puedes cambiar, agregar ni eliminar elementos después de haber creado la tupla."
   ]
  },
  {
   "cell_type": "code",
   "execution_count": null,
   "metadata": {},
   "outputs": [],
   "source": [
    "tupla = (1, 2, 3, 4, 5)\n",
    "lista = [1, 2, 3, 4, 5]\n",
    "\n",
    "# Intentar modificar un elemento de una tupla (esto dará un error)\n",
    "# tupla[1] = 10\n",
    "# Esto causará un error de tipo: 'tuple' object does not support item assignment\n",
    "\n",
    "# Intentar agregar un elemento a una tupla (esto también dará un error)\n",
    "# tupla.append(6)\n",
    "# Esto causará un error porque las tuplas no tienen el método append()"
   ]
  },
  {
   "cell_type": "markdown",
   "metadata": {},
   "source": [
    "## **Usos Comunes**"
   ]
  },
  {
   "cell_type": "code",
   "execution_count": null,
   "metadata": {},
   "outputs": [],
   "source": [
    "# Desempaquetar tuplas\n",
    "tupla = (1, 2, 3)\n",
    "\n",
    "a, b, c = tupla  # Desempaquetar\n",
    "\n",
    "print(a)\n",
    "print(b)\n",
    "print(c)"
   ]
  },
  {
   "cell_type": "code",
   "execution_count": null,
   "metadata": {},
   "outputs": [],
   "source": [
    "# Lista de tuplas\n",
    "lista_tuplas = [(1, 2), (3, 4), (5, 6)]\n",
    "\n",
    "print(lista_tuplas)\n",
    "\n",
    "# Acceder a un elemento de la lista de tuplas\n",
    "print(lista_tuplas[1][1])\n",
    "# Accede al primer elemento de la segunda tupla"
   ]
  },
  {
   "cell_type": "markdown",
   "metadata": {},
   "source": [
    "## **Operaciones**"
   ]
  },
  {
   "cell_type": "markdown",
   "metadata": {},
   "source": [
    "- Concatenación"
   ]
  },
  {
   "cell_type": "code",
   "execution_count": null,
   "metadata": {},
   "outputs": [],
   "source": [
    "tupla1 = (1, 2, 3)\n",
    "tupla2 = (4, 5, 6)\n",
    "\n",
    "# Concatenar tuplas\n",
    "tupla_concatenada = tupla1 + tupla2\n",
    "\n",
    "print(tupla_concatenada)"
   ]
  },
  {
   "cell_type": "markdown",
   "metadata": {},
   "source": [
    "- Repetición"
   ]
  },
  {
   "cell_type": "code",
   "execution_count": null,
   "metadata": {},
   "outputs": [],
   "source": [
    "tupla = (1, 2, 3)\n",
    "\n",
    "# Repetir tuplas\n",
    "tupla_repetida = tupla * 4\n",
    "\n",
    "print(tupla_repetida)"
   ]
  }
 ],
 "metadata": {
  "kernelspec": {
   "display_name": "Python 3",
   "language": "python",
   "name": "python3"
  },
  "language_info": {
   "codemirror_mode": {
    "name": "ipython",
    "version": 3
   },
   "file_extension": ".py",
   "mimetype": "text/x-python",
   "name": "python",
   "nbconvert_exporter": "python",
   "pygments_lexer": "ipython3",
   "version": "3.11.9"
  }
 },
 "nbformat": 4,
 "nbformat_minor": 2
}
