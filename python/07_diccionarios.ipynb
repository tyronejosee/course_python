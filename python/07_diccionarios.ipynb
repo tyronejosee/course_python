{
 "cells": [
  {
   "cell_type": "markdown",
   "metadata": {},
   "source": [
    "# **Diccionarios**\n",
    "\n",
    "> \"Piensa en un diccionario real: buscas una palabra (clave) y encuentras su definición (valor)\".\n",
    "\n",
    "- Es una **estructura de datos** que almacena pares **clave-valor**.\n",
    "- Las claves deben ser inmutables.\n",
    "- Los valores dueden ser de cualquier tipo de dato."
   ]
  },
  {
   "cell_type": "markdown",
   "metadata": {},
   "source": [
    "## **Creación y Manipulación**\n",
    "\n",
    "- Se crean con llaves `{}` o `dict()`"
   ]
  },
  {
   "cell_type": "code",
   "execution_count": null,
   "metadata": {},
   "outputs": [],
   "source": [
    "# Diccionario vacío\n",
    "diccionario_vacio = {}\n",
    "\n",
    "# Diccionario con datos\n",
    "persona = {\"nombre\": \"José\", \"edad\": 28, \"ciudad\": \"Panguipulli\"}\n",
    "\n",
    "# Diccionario con datos en varias líneas\n",
    "persona = {\n",
    "    \"nombre\": \"José\",\n",
    "    \"edad\": 28,\n",
    "    \"ciudad\": \"Panguipulli\"\n",
    "}"
   ]
  },
  {
   "cell_type": "code",
   "execution_count": null,
   "metadata": {},
   "outputs": [],
   "source": [
    "persona = {\"nombre\": \"José\", \"edad\": 28, \"ciudad\": \"Panguipulli\"}\n",
    "\n",
    "# Acceder a un valor por su clave\n",
    "nombre = persona[\"nombre\"]  # nombre contendrá \"José\"\n",
    "\n",
    "print(nombre)"
   ]
  },
  {
   "cell_type": "code",
   "execution_count": null,
   "metadata": {},
   "outputs": [],
   "source": [
    "persona = {\"nombre\": \"José\", \"edad\": 28, \"ciudad\": \"Panguipulli\"}\n",
    "\n",
    "# Modificar un valor\n",
    "persona[\"edad\"] = 31\n",
    "\n",
    "print(persona)"
   ]
  },
  {
   "cell_type": "code",
   "execution_count": null,
   "metadata": {},
   "outputs": [],
   "source": [
    "persona = {\"nombre\": \"José\", \"edad\": 28, \"ciudad\": \"Panguipulli\"}\n",
    "\n",
    "# Agregar un nuevo par clave-valor\n",
    "persona[\"profesion\"] = \"Ingeniero\"\n",
    "\n",
    "print(persona)\n"
   ]
  },
  {
   "cell_type": "code",
   "execution_count": null,
   "metadata": {},
   "outputs": [],
   "source": [
    "persona = {\"nombre\": \"José\", \"edad\": 28, \"ciudad\": \"Panguipulli\"}\n",
    "\n",
    "# Intentar acceder a una clave inexistente genera un error KeyError\n",
    "# print(persona[\"pais\"])"
   ]
  },
  {
   "cell_type": "markdown",
   "metadata": {},
   "source": [
    "## **Métodos Importantes**"
   ]
  },
  {
   "cell_type": "markdown",
   "metadata": {},
   "source": [
    "- `keys()` Devuelve una vista de las claves del diccionario."
   ]
  },
  {
   "cell_type": "code",
   "execution_count": null,
   "metadata": {},
   "outputs": [],
   "source": [
    "persona = {\"nombre\": \"José\", \"edad\": 28, \"ciudad\": \"Panguipulli\"}\n",
    "\n",
    "claves = persona.keys()\n",
    "\n",
    "print(claves)"
   ]
  },
  {
   "cell_type": "markdown",
   "metadata": {},
   "source": [
    "- `values()` Devuelve una vista de los valores del diccionario."
   ]
  },
  {
   "cell_type": "code",
   "execution_count": null,
   "metadata": {},
   "outputs": [],
   "source": [
    "persona = {\"nombre\": \"José\", \"edad\": 28, \"ciudad\": \"Panguipulli\"}\n",
    "\n",
    "claves = persona.values()\n",
    "\n",
    "print(claves)"
   ]
  },
  {
   "cell_type": "markdown",
   "metadata": {},
   "source": [
    "- `items()` Devuelve una vista de1 los pares clave-valor como tuplas. "
   ]
  },
  {
   "cell_type": "code",
   "execution_count": null,
   "metadata": {},
   "outputs": [],
   "source": [
    "persona = {\"nombre\": \"José\", \"edad\": 28, \"ciudad\": \"Panguipulli\"}\n",
    "\n",
    "items = persona.items()\n",
    "\n",
    "print(items)"
   ]
  }
 ],
 "metadata": {
  "kernelspec": {
   "display_name": "Python 3",
   "language": "python",
   "name": "python3"
  },
  "language_info": {
   "codemirror_mode": {
    "name": "ipython",
    "version": 3
   },
   "file_extension": ".py",
   "mimetype": "text/x-python",
   "name": "python",
   "nbconvert_exporter": "python",
   "pygments_lexer": "ipython3",
   "version": "3.11.9"
  }
 },
 "nbformat": 4,
 "nbformat_minor": 2
}
