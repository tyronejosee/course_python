{
 "cells": [
  {
   "cell_type": "markdown",
   "metadata": {},
   "source": [
    "# **Diccionarios**\n",
    "\n",
    "> \"Piensa en un diccionario real: buscas una palabra (clave) y encuentras su definición (valor)\".\n",
    "\n",
    "- Es una **estructura de datos** que almacena pares **clave-valor**.\n",
    "- Las claves deben ser inmutables.\n",
    "- Los valores pueden ser de cualquier tipo de dato."
   ]
  },
  {
   "cell_type": "markdown",
   "metadata": {},
   "source": [
    "## **Creación y Manipulación**\n",
    "\n",
    "- Se crean con llaves `{}` o `dict()`"
   ]
  },
  {
   "cell_type": "code",
   "execution_count": 1,
   "metadata": {},
   "outputs": [],
   "source": [
    "# Diccionario vacío\n",
    "diccionario_vacio = {}\n",
    "\n",
    "# Diccionario con datos\n",
    "persona = {\"nombre\": \"José\", \"edad\": 28, \"ciudad\": \"Panguipulli\"}\n",
    "\n",
    "# Diccionario con datos en varias líneas\n",
    "persona = {\n",
    "    \"nombre\": \"José\",\n",
    "    \"edad\": 28,\n",
    "    \"ciudad\": \"Panguipulli\"\n",
    "}"
   ]
  },
  {
   "cell_type": "code",
   "execution_count": null,
   "metadata": {},
   "outputs": [],
   "source": [
    "persona = {\n",
    "    \"nombre\": \"José\",\n",
    "    \"edad\": 28,\n",
    "    \"ciudad\": \"Panguipulli\"\n",
    "}\n",
    "\n",
    "# Acceder a un valor por su clave\n",
    "nombre = persona[\"nombre\"]  # nombre contendrá \"José\"\n",
    "\n",
    "print(nombre)"
   ]
  },
  {
   "cell_type": "code",
   "execution_count": null,
   "metadata": {},
   "outputs": [],
   "source": [
    "persona = {\n",
    "    \"nombre\": \"José\",\n",
    "    \"edad\": 28,\n",
    "    \"ciudad\": \"Panguipulli\"\n",
    "}\n",
    "\n",
    "# Modificar un valor\n",
    "persona[\"edad\"] = 30\n",
    "\n",
    "print(persona)"
   ]
  },
  {
   "cell_type": "code",
   "execution_count": null,
   "metadata": {},
   "outputs": [],
   "source": [
    "persona = {\n",
    "    \"nombre\": \"José\",\n",
    "    \"edad\": 28,\n",
    "    \"ciudad\": \"Panguipulli\"\n",
    "}\n",
    "\n",
    "# Agregar un nuevo par clave-valor\n",
    "persona[\"profesion\"] = \"Backend\"\n",
    "\n",
    "print(persona)"
   ]
  },
  {
   "cell_type": "code",
   "execution_count": null,
   "metadata": {},
   "outputs": [],
   "source": [
    "persona = {\n",
    "    \"nombre\": \"José\",\n",
    "    \"edad\": 28,\n",
    "    \"ciudad\": \"Panguipulli\"\n",
    "}\n",
    "\n",
    "# Intentar acceder a una clave inexistente genera un error KeyError\n",
    "# persona[\"pais\"]"
   ]
  },
  {
   "cell_type": "markdown",
   "metadata": {},
   "source": [
    "## **Métodos Importantes**"
   ]
  },
  {
   "cell_type": "markdown",
   "metadata": {},
   "source": [
    "- `keys()` Devuelve una vista de las claves del diccionario."
   ]
  },
  {
   "cell_type": "code",
   "execution_count": null,
   "metadata": {},
   "outputs": [],
   "source": [
    "persona = {\n",
    "    \"nombre\": \"José\",\n",
    "    \"edad\": 28,\n",
    "    \"ciudad\": \"Panguipulli\"\n",
    "}\n",
    "\n",
    "claves = persona.keys()\n",
    "\n",
    "print(claves)"
   ]
  },
  {
   "cell_type": "markdown",
   "metadata": {},
   "source": [
    "- `values()` Devuelve una vista de los valores del diccionario."
   ]
  },
  {
   "cell_type": "code",
   "execution_count": null,
   "metadata": {},
   "outputs": [],
   "source": [
    "persona = {\n",
    "    \"nombre\": \"José\",\n",
    "    \"edad\": 28,\n",
    "    \"ciudad\": \"Panguipulli\"\n",
    "}\n",
    "\n",
    "claves = persona.values()\n",
    "\n",
    "print(claves)"
   ]
  },
  {
   "cell_type": "markdown",
   "metadata": {},
   "source": [
    "- `items()` Devuelve una vista de los pares clave-valor como tuplas. "
   ]
  },
  {
   "cell_type": "code",
   "execution_count": null,
   "metadata": {},
   "outputs": [],
   "source": [
    "persona = {\n",
    "    \"nombre\": \"José\",\n",
    "    \"edad\": 28,\n",
    "    \"ciudad\": \"Panguipulli\"\n",
    "}\n",
    "\n",
    "items = persona.items()\n",
    "\n",
    "print(items)"
   ]
  },
  {
   "cell_type": "markdown",
   "metadata": {},
   "source": [
    "- `pop()` Elimina una clave y devuelve su valor. Si la clave no existe, devuelve el valor predeterminado."
   ]
  },
  {
   "cell_type": "code",
   "execution_count": null,
   "metadata": {},
   "outputs": [],
   "source": [
    "persona = {\n",
    "    \"nombre\": \"José\",\n",
    "    \"edad\": 28,\n",
    "    \"ciudad\": \"Panguipulli\"\n",
    "}\n",
    "\n",
    "ciudad = persona.pop(\"ciudad\")\n",
    "\n",
    "ciudad\n",
    "# persona"
   ]
  },
  {
   "cell_type": "markdown",
   "metadata": {},
   "source": [
    "- `clear()` Elimina todos los elementos del diccionario."
   ]
  },
  {
   "cell_type": "code",
   "execution_count": null,
   "metadata": {},
   "outputs": [],
   "source": [
    "persona = {\n",
    "    \"nombre\": \"José\",\n",
    "    \"edad\": 28,\n",
    "    \"ciudad\": \"Panguipulli\"\n",
    "}\n",
    "\n",
    "persona.clear()\n",
    "\n",
    "print(persona)"
   ]
  },
  {
   "cell_type": "markdown",
   "metadata": {},
   "source": [
    "- `copy()` Devuelve una copia superficial del diccionario."
   ]
  },
  {
   "cell_type": "code",
   "execution_count": null,
   "metadata": {},
   "outputs": [],
   "source": [
    "persona1 = {\n",
    "    \"nombre\": \"José\",\n",
    "    \"edad\": 28,\n",
    "    \"ciudad\": \"Panguipulli\"\n",
    "}\n",
    "\n",
    "persona2 = persona.copy()\n",
    "persona2[\"nombre\"] = \"Hiromi\"\n",
    "\n",
    "print(persona1)\n",
    "print(persona2)"
   ]
  }
 ],
 "metadata": {
  "kernelspec": {
   "display_name": "Python 3",
   "language": "python",
   "name": "python3"
  },
  "language_info": {
   "codemirror_mode": {
    "name": "ipython",
    "version": 3
   },
   "file_extension": ".py",
   "mimetype": "text/x-python",
   "name": "python",
   "nbconvert_exporter": "python",
   "pygments_lexer": "ipython3",
   "version": "3.11.9"
  }
 },
 "nbformat": 4,
 "nbformat_minor": 2
}
