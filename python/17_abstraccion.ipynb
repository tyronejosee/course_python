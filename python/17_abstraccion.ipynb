{
 "cells": [
  {
   "cell_type": "markdown",
   "metadata": {},
   "source": [
    "# **Abstracción**\n",
    "\n",
    "- Es un concepto clave en la programación orientada a objetos que se centra en mostrar solo los detalles esenciales de un objeto, ocultando su complejidad interna.\n",
    "- En Python, la abstracción se logra mediante el uso de **clases abstractas** y **métodos abstractos**.\n",
    "- Estas clases y métodos se definen utilizando el módulo `abc` (Abstract Base Classes)."
   ]
  },
  {
   "cell_type": "markdown",
   "metadata": {},
   "source": [
    "## **Clases Abstractas**\n",
    "\n",
    "Una clase abstracta actúa como una plantilla que no puede ser instanciada directamente. Estas clases se definen heredando de `abc.ABC` y suelen contener uno o más métodos abstractos."
   ]
  },
  {
   "cell_type": "code",
   "execution_count": 4,
   "metadata": {},
   "outputs": [],
   "source": [
    "from abc import ABC, abstractmethod\n",
    "\n",
    "class Animal(ABC):\n",
    "    \n",
    "    # Método abstracto que debe implementarse en las subclases\n",
    "    @abstractmethod\n",
    "    def hacer_sonido(self):\n",
    "        pass"
   ]
  },
  {
   "cell_type": "markdown",
   "metadata": {},
   "source": [
    "Si intentamos instanciar `Animal` directamente, obtendremos un error."
   ]
  },
  {
   "cell_type": "markdown",
   "metadata": {},
   "source": [
    "## **Métodos Abstractos**\n",
    "\n",
    "Es aquel que se declara pero no se implementa en la clase abstracta. Las subclases deben proporcionar su propia implementación de este método."
   ]
  },
  {
   "cell_type": "code",
   "execution_count": 5,
   "metadata": {},
   "outputs": [],
   "source": [
    "from abc import ABC, abstractmethod\n",
    "\n",
    "class Animal(ABC):\n",
    "    @abstractmethod\n",
    "    def hacer_sonido(self):\n",
    "        pass\n",
    "\n",
    "class Perro(Animal):\n",
    "    def hacer_sonido(self):\n",
    "        print(\"¡Guau!\")\n",
    "\n",
    "class Gato(Animal):\n",
    "    def hacer_sonido(self):\n",
    "        print(\"¡Miau!\")"
   ]
  },
  {
   "cell_type": "markdown",
   "metadata": {},
   "source": [
    "Las clases abstractas no pueden ser instanciadas directamente. Solo se pueden usar como base para otras clases."
   ]
  },
  {
   "cell_type": "code",
   "execution_count": 6,
   "metadata": {},
   "outputs": [],
   "source": [
    "# animal = Animal()  # TypeError"
   ]
  },
  {
   "cell_type": "code",
   "execution_count": 7,
   "metadata": {},
   "outputs": [
    {
     "name": "stdout",
     "output_type": "stream",
     "text": [
      "¡Guau!\n"
     ]
    }
   ],
   "source": [
    "perro = Perro()\n",
    "perro.hacer_sonido()"
   ]
  },
  {
   "cell_type": "code",
   "execution_count": 8,
   "metadata": {},
   "outputs": [
    {
     "name": "stdout",
     "output_type": "stream",
     "text": [
      "¡Miau!\n"
     ]
    }
   ],
   "source": [
    "cat = Gato()\n",
    "cat.hacer_sonido()"
   ]
  },
  {
   "cell_type": "markdown",
   "metadata": {},
   "source": [
    "## **Abstracción en un Escenario Real**\n",
    "\n",
    "La abstracción es útil cuando queremos definir un comportamiento común para diferentes tipos de objetos, pero cada uno tiene su propia implementación específica."
   ]
  },
  {
   "cell_type": "code",
   "execution_count": 9,
   "metadata": {},
   "outputs": [
    {
     "name": "stdout",
     "output_type": "stream",
     "text": [
      "Pagando $100 con tarjeta de crédito.\n",
      "Pagando $200 con PayPal.\n"
     ]
    }
   ],
   "source": [
    "from abc import ABC, abstractmethod\n",
    "\n",
    "class Pago(ABC):\n",
    "    @abstractmethod\n",
    "    def pagar(self, cantidad):\n",
    "        pass\n",
    "\n",
    "\n",
    "class TarjetaCreditoPago(Pago):\n",
    "    def pagar(self, cantidad):\n",
    "        print(f\"Pagando ${cantidad} con tarjeta de crédito.\")\n",
    "\n",
    "\n",
    "class PayPalPago(Pago):\n",
    "    def pagar(self, cantidad):\n",
    "        print(f\"Pagando ${cantidad} con PayPal.\")\n",
    "\n",
    "\n",
    "# Uso de las subclases\n",
    "pago1 = TarjetaCreditoPago()\n",
    "pago1.pagar(100)\n",
    "\n",
    "pago2 = PayPalPago()\n",
    "pago2.pagar(200)"
   ]
  }
 ],
 "metadata": {
  "kernelspec": {
   "display_name": "env",
   "language": "python",
   "name": "python3"
  },
  "language_info": {
   "codemirror_mode": {
    "name": "ipython",
    "version": 3
   },
   "file_extension": ".py",
   "mimetype": "text/x-python",
   "name": "python",
   "nbconvert_exporter": "python",
   "pygments_lexer": "ipython3",
   "version": "3.13.1"
  }
 },
 "nbformat": 4,
 "nbformat_minor": 2
}
