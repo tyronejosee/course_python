{
 "cells": [
  {
   "cell_type": "markdown",
   "metadata": {},
   "source": [
    "# **Sintaxís Básica**"
   ]
  },
  {
   "cell_type": "markdown",
   "metadata": {},
   "source": [
    "## **Sangría (Indentación)**\n",
    "\n",
    "- Python utiliza la sangría (4 espacios).\n",
    "- La sangría define la estructura del programa.\n",
    "\n",
    "![Indentation](../assets/img/indentation.jpg)"
   ]
  },
  {
   "cell_type": "code",
   "execution_count": null,
   "metadata": {},
   "outputs": [],
   "source": [
    "def mi_funcion():\n",
    "    print(\"Este código está dentro de la función\")  # Indentado\n",
    "    if 5 > 2:\n",
    "        print(\"5 es mayor que 2\")                  # Indentado dentro del i\n",
    "\n",
    "print(\"Este código está fuera de la función\")      # No indentado"
   ]
  },
  {
   "cell_type": "markdown",
   "metadata": {},
   "source": [
    "## **Comentarios**\n",
    "\n",
    "- Sirven para explicar el código y hacerlo más comprensible.\n",
    "- Python ignora los comentarios."
   ]
  },
  {
   "cell_type": "code",
   "execution_count": null,
   "metadata": {},
   "outputs": [],
   "source": [
    "# Este es un comentario de una línea\n",
    "print(\"Hola\")"
   ]
  },
  {
   "cell_type": "code",
   "execution_count": null,
   "metadata": {},
   "outputs": [],
   "source": [
    "\"\"\"\n",
    "Este es un comentario\n",
    "de varias líneas.\n",
    "\"\"\"\n",
    "\n",
    "print(\"Mundo\")"
   ]
  },
  {
   "cell_type": "markdown",
   "metadata": {},
   "source": [
    "## **Variables**\n",
    "\n",
    "![Variables](../assets/img/variable.jpg)\n",
    "> Imagínalas como cajas donde almacenas algo.\n",
    "\n",
    "- Las variables se utilizan para almacenar datos.\n",
    "- Python es dinámico y no tiene que tiparlas por defecto."
   ]
  },
  {
   "cell_type": "code",
   "execution_count": null,
   "metadata": {},
   "outputs": [],
   "source": [
    "nombre = \"José\"\n",
    "edad = 28\n",
    "altura = 1.75\n",
    "\n",
    "print(nombre, edad, altura)"
   ]
  }
 ],
 "metadata": {
  "kernelspec": {
   "display_name": "Python 3",
   "language": "python",
   "name": "python3"
  },
  "language_info": {
   "codemirror_mode": {
    "name": "ipython",
    "version": 3
   },
   "file_extension": ".py",
   "mimetype": "text/x-python",
   "name": "python",
   "nbconvert_exporter": "python",
   "pygments_lexer": "ipython3",
   "version": "3.11.9"
  }
 },
 "nbformat": 4,
 "nbformat_minor": 2
}
