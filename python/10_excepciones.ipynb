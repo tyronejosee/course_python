{
 "cells": [
  {
   "cell_type": "markdown",
   "metadata": {},
   "source": [
    "# **Excepciones**\n",
    "\n",
    "- `try` te permite probar un bloque de código en busca de errores.\n",
    "- `except` te permite manejar el error.\n",
    "- `else` te permite ejecutar código cuando no hay errores.\n",
    "- `finally` te permite ejecutar código, independientemente del resultado de los bloques `try` y `except`."
   ]
  },
  {
   "cell_type": "markdown",
   "metadata": {},
   "source": [
    "# **Manejo de Excepciones**\n",
    "\n",
    "- Cuando ocurre un error, Python normalmente se detendrá y generará un mensaje de error.\n",
    "- Las excepciones pueden manejarse utilizando `try`."
   ]
  },
  {
   "cell_type": "code",
   "execution_count": null,
   "metadata": {},
   "outputs": [],
   "source": [
    "try:\n",
    "    print(x) # x no existe\n",
    "except:\n",
    "    print(\"Ocurrió una excepción\")\n",
    "\n",
    "# Dado que el bloque try genera un error, el bloque except será ejecutado."
   ]
  },
  {
   "cell_type": "markdown",
   "metadata": {},
   "source": [
    "- Sin el bloque try, el programa se bloqueará y mostrará un error."
   ]
  },
  {
   "cell_type": "code",
   "execution_count": null,
   "metadata": {},
   "outputs": [],
   "source": [
    "print(x)"
   ]
  },
  {
   "cell_type": "markdown",
   "metadata": {},
   "source": [
    "## **Múltiples Excepciones**\n",
    "\n",
    "Puedes definir tantos bloques de excepción como desees."
   ]
  },
  {
   "cell_type": "code",
   "execution_count": null,
   "metadata": {},
   "outputs": [],
   "source": [
    "try:\n",
    "    print(x)\n",
    "except NameError:\n",
    "    print(\"La variable x no está definida\")\n",
    "except:\n",
    "    print(\"Algo más salió mal\")"
   ]
  },
  {
   "cell_type": "markdown",
   "metadata": {},
   "source": [
    "## **Else**\n",
    "\n",
    "Puedes usar la palabra clave `else` para definir un bloque de código que se ejecutará si no se generaron errores."
   ]
  },
  {
   "cell_type": "code",
   "execution_count": null,
   "metadata": {},
   "outputs": [],
   "source": [
    "try:\n",
    "    print(\"Hola\")\n",
    "except:\n",
    "    print(\"Algo salió mal\")\n",
    "else:\n",
    "    print(\"Nada salió mal\")\n"
   ]
  },
  {
   "cell_type": "markdown",
   "metadata": {},
   "source": [
    "## **Finally**\n",
    "\n",
    "`finally` se ejecutará independientemente de si el bloque `try` genera un error o no."
   ]
  },
  {
   "cell_type": "code",
   "execution_count": null,
   "metadata": {},
   "outputs": [],
   "source": [
    "try:\n",
    "    print(x)\n",
    "except:\n",
    "    print(\"Algo salió mal\")\n",
    "finally:\n",
    "    print(\"El bloque 'try except' ha terminado\")\n",
    "\n",
    "# Esto puede ser útil para cerrar objetos y liberar recursos"
   ]
  },
  {
   "cell_type": "markdown",
   "metadata": {},
   "source": [
    "Intenta abrir y escribir en un archivo que no es escribible"
   ]
  },
  {
   "cell_type": "code",
   "execution_count": null,
   "metadata": {},
   "outputs": [],
   "source": [
    "try:\n",
    "    f = open(\"demofile.txt\")\n",
    "    try:\n",
    "        f.write(\"Lorum Ipsum\")\n",
    "    except:\n",
    "        print(\"Algo salió mal al escribir en el archivo\")\n",
    "    finally:\n",
    "        f.close()\n",
    "except:\n",
    "    print(\"Algo salió mal al abrir el archivo\")\n",
    "\n",
    "# El programa puede continuar sin dejar el objeto de archivo abierto."
   ]
  },
  {
   "cell_type": "markdown",
   "metadata": {},
   "source": [
    "## **Lanzar una Excepción**\n",
    "\n",
    "- Para lanzar (o generar) una excepción, usa la palabra clave `raise`.\n",
    "- La palabra clave raise se utiliza para generar una excepción."
   ]
  },
  {
   "cell_type": "code",
   "execution_count": null,
   "metadata": {},
   "outputs": [],
   "source": [
    "x = -1\n",
    "\n",
    "if x < 0:\n",
    "    raise Exception(\"Lo siento, no se permiten números menores a cero\")"
   ]
  },
  {
   "cell_type": "code",
   "execution_count": null,
   "metadata": {},
   "outputs": [],
   "source": [
    "x = \"hola\"\n",
    "\n",
    "# Genera un TypeError si x no es un entero\n",
    "if not type(x) is int:\n",
    "  raise TypeError(\"Solo se permiten enteros\")\n"
   ]
  }
 ],
 "metadata": {
  "kernelspec": {
   "display_name": "Python 3",
   "language": "python",
   "name": "python3"
  },
  "language_info": {
   "codemirror_mode": {
    "name": "ipython",
    "version": 3
   },
   "file_extension": ".py",
   "mimetype": "text/x-python",
   "name": "python",
   "nbconvert_exporter": "python",
   "pygments_lexer": "ipython3",
   "version": "3.11.9"
  }
 },
 "nbformat": 4,
 "nbformat_minor": 2
}
