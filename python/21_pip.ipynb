{
 "cells": [
  {
   "cell_type": "markdown",
   "metadata": {},
   "source": [
    "# **PIP**\n",
    "\n",
    "Es un administrador de paquetes para los paquetes o módulos de Python."
   ]
  },
  {
   "cell_type": "markdown",
   "metadata": {},
   "source": [
    "# **Paquetes**\n",
    "\n",
    "Un paquete contiene todos los archivos necesarios para un módulo.\n",
    "Los módulos son bibliotecas de código Python que puedes incluir en tu proyecto."
   ]
  },
  {
   "cell_type": "markdown",
   "metadata": {},
   "source": [
    "# **Comprobar si Está Instalado**\n",
    "\n",
    "Abre tu línea de comandos y escribe el siguiente comando\n",
    "\n",
    "```bash\n",
    "pip --version\n",
    "```"
   ]
  },
  {
   "cell_type": "markdown",
   "metadata": {},
   "source": [
    "# **Descargar un Paquete**\n",
    "\n",
    "Abre la línea de comandos e indica a PIP que descargue el paquete que necesitas.\n",
    "\n",
    "```bash\n",
    "pip install camelcase\n",
    "```"
   ]
  },
  {
   "cell_type": "markdown",
   "metadata": {},
   "source": [
    "# **Usar un Paquete**\n",
    "\n",
    "Una vez instalado el paquete, ya está listo para usarse. Importa y utiliza `camelcase`"
   ]
  },
  {
   "cell_type": "code",
   "execution_count": null,
   "metadata": {},
   "outputs": [],
   "source": [
    "import camelcase\n",
    "\n",
    "c = camelcase.CamelCase()\n",
    "\n",
    "txt = \"hola mundo\"\n",
    "\n",
    "print(c.hump(txt))  # Salida: \"Hola Mundo\"\n"
   ]
  },
  {
   "cell_type": "markdown",
   "metadata": {},
   "source": [
    "# **Encontrar Paquetes**\n",
    "\n",
    "Encuentra más paquetes en https://pypi.org/."
   ]
  },
  {
   "cell_type": "markdown",
   "metadata": {},
   "source": [
    "# **Listar Paquetes**\n",
    "\n",
    "Usa el comando `list` para ver todos los paquetes instalados en tu sistema.\n",
    "\n",
    "```bash\n",
    "pip list\n",
    "```\n",
    "\n",
    "---\n",
    "\n",
    "```bash\n",
    "Package         Version\n",
    "-----------------------\n",
    "camelcase       0.2\n",
    "mysql-connector 2.1.6\n",
    "pip             18.1\n",
    "pymongo         3.6.1\n",
    "setuptools      39.0.1\n",
    "```\n",
    "\n",
    "---"
   ]
  },
  {
   "cell_type": "markdown",
   "metadata": {},
   "source": [
    "# **Eliminar un Paquete**\n",
    "\n",
    "Usa el comando `uninstall` para eliminar un paquete.\n",
    "\n",
    "```bash\n",
    "pip uninstall camelcase\n",
    "```"
   ]
  }
 ],
 "metadata": {
  "language_info": {
   "name": "python"
  }
 },
 "nbformat": 4,
 "nbformat_minor": 2
}
