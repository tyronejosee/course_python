{
 "cells": [
  {
   "cell_type": "markdown",
   "metadata": {},
   "source": [
    "# **Funciones**\n",
    "\n",
    "- Es un bloque de código que se ejecuta solo cuando se llama.\n",
    "- Puedes pasar datos, conocidos como parámetros, a una función.\n",
    "- Una función puede devolver datos como resultado."
   ]
  },
  {
   "cell_type": "markdown",
   "metadata": {},
   "source": [
    "## **Crear una Función**\n",
    "\n",
    "Una función se define usando la palabra clave `def`"
   ]
  },
  {
   "cell_type": "code",
   "execution_count": null,
   "metadata": {},
   "outputs": [],
   "source": [
    "def mi_funcion():\n",
    "    print(\"Hola desde una función\")"
   ]
  },
  {
   "cell_type": "markdown",
   "metadata": {},
   "source": [
    "## **Llamar a una Función**\n",
    "\n",
    "Para llamar a una función, usa el nombre de la función seguido de paréntesis."
   ]
  },
  {
   "cell_type": "code",
   "execution_count": 5,
   "metadata": {},
   "outputs": [
    {
     "name": "stdout",
     "output_type": "stream",
     "text": [
      "Hola desde una función\n"
     ]
    }
   ],
   "source": [
    "def mi_funcion():\n",
    "    print(\"Hola desde una función\")\n",
    "\n",
    "mi_funcion()"
   ]
  },
  {
   "cell_type": "markdown",
   "metadata": {},
   "source": [
    "## **Argumentos**\n",
    "\n",
    "- Se puede pasar información a las funciones como argumentos.\n",
    "- Los argumentos se especifican después del nombre de la función, dentro de los paréntesis.\n",
    "- Puedes agregar tantos argumentos como quieras, separados por comas."
   ]
  },
  {
   "cell_type": "code",
   "execution_count": 11,
   "metadata": {},
   "outputs": [
    {
     "name": "stdout",
     "output_type": "stream",
     "text": [
      "Hiromi Apellido\n",
      "Sofía Apellido\n",
      "José Apellido\n",
      "skdskdjs\n"
     ]
    }
   ],
   "source": [
    "def mi_funcion(nombre):\n",
    "    print(nombre + \" Apellido\")\n",
    "\n",
    "mi_funcion(\"Hiromi\")\n",
    "mi_funcion(\"Sofía\")\n",
    "mi_funcion(\"José\")\n",
    "\n",
    "\n",
    "print(\"skdskdjs\")"
   ]
  },
  {
   "cell_type": "markdown",
   "metadata": {},
   "source": [
    "## **¿Parámetros o Argumentos?**\n",
    "\n",
    "Los términos parámetro y argumento pueden usarse para referirse a lo mismo: la información que se pasa a una función.\n",
    "\n",
    "- `Parámetro` es la variable dentro de los paréntesis en la definición de la función.\n",
    "- `Argumento` es el valor que se envía a la función al llamarla.\n"
   ]
  },
  {
   "cell_type": "markdown",
   "metadata": {},
   "source": [
    "## **Número de Argumentos**\n",
    "\n",
    "Por defecto, una función debe ser llamada con el número correcto de argumentos.\n"
   ]
  },
  {
   "cell_type": "code",
   "execution_count": 19,
   "metadata": {},
   "outputs": [
    {
     "name": "stdout",
     "output_type": "stream",
     "text": [
      "Mendoza Hiromi\n"
     ]
    }
   ],
   "source": [
    "def mi_funcion(nombre, apellido):\n",
    "    print(f\"{nombre} {apellido}\")\n",
    "\n",
    "mi_funcion(\"Mendoza\", \"Hiromi\")\n",
    "# mi_funcion(\"Hiromi\", \"Mendoza\", \"Torres\") # TypeError"
   ]
  },
  {
   "cell_type": "markdown",
   "metadata": {},
   "source": [
    "## **Argumentos Arbitrarios `*args`**\n",
    "\n",
    "Si no sabes cuántos argumentos serán pasados a tu función, agrega un `*` antes del nombre del parámetro en la definición de la función."
   ]
  },
  {
   "cell_type": "code",
   "execution_count": 5,
   "metadata": {},
   "outputs": [
    {
     "name": "stdout",
     "output_type": "stream",
     "text": [
      "La persona más joven es Sofía\n"
     ]
    }
   ],
   "source": [
    "def mi_funcion(*niños):\n",
    "    print(f\"La persona más joven es {niños[1]}\")\n",
    "\n",
    "mi_funcion(\"Hiromi\", \"Sofía\", \"José\")"
   ]
  },
  {
   "cell_type": "markdown",
   "metadata": {},
   "source": [
    "## **Argumentos con Palabra Clave**\n",
    "\n",
    "También puedes enviar argumentos con la sintaxis `clave = valor`"
   ]
  },
  {
   "cell_type": "markdown",
   "metadata": {},
   "source": [
    "## **Argumentos con Palabras Clave Arbitrarias `**kwargs`**\n",
    "\n",
    "Si no sabes cuántos argumentos con palabra clave serán pasados a tu función, agrega ** antes del nombre del parámetro."
   ]
  },
  {
   "cell_type": "code",
   "execution_count": 6,
   "metadata": {},
   "outputs": [
    {
     "name": "stdout",
     "output_type": "stream",
     "text": [
      "Su apellido es Sofía\n"
     ]
    }
   ],
   "source": [
    "def mi_funcion(**persona):\n",
    "    # print(type(persona))\n",
    "    print(f\"Su apellido es \" + persona[\"nombre\"])\n",
    "\n",
    "mi_funcion(nombre=\"Sofía\", apellido=\"Arancibia\")"
   ]
  },
  {
   "cell_type": "markdown",
   "metadata": {},
   "source": [
    "## **Valor de Parámetro Predeterminado**\n",
    "\n",
    "Puedes establecer un valor predeterminado para un parámetro."
   ]
  },
  {
   "cell_type": "markdown",
   "metadata": {},
   "source": [
    "## **Pasar una Lista como Argumento**\n",
    "\n",
    "Puedes enviar cualquier tipo de dato como argumento a una función, y será tratado como tal dentro de la función."
   ]
  },
  {
   "cell_type": "code",
   "execution_count": 20,
   "metadata": {},
   "outputs": [
    {
     "name": "stdout",
     "output_type": "stream",
     "text": [
      "manzana\n",
      "plátano\n",
      "cereza\n"
     ]
    }
   ],
   "source": [
    "def mi_funcion(comidas):\n",
    "    for comida in comidas:\n",
    "        print(comida)\n",
    "\n",
    "frutas = [\"manzana\", \"plátano\", \"cereza\"]\n",
    "mi_funcion(frutas)"
   ]
  },
  {
   "cell_type": "markdown",
   "metadata": {},
   "source": [
    "## **Valores de Retorno**\n",
    "\n",
    "Para que una función devuelva un valor, usa la declaración return."
   ]
  },
  {
   "cell_type": "code",
   "execution_count": 26,
   "metadata": {},
   "outputs": [
    {
     "name": "stdout",
     "output_type": "stream",
     "text": [
      "10\n"
     ]
    }
   ],
   "source": [
    "def mi_funcion(x):\n",
    "    suma = 5 + x\n",
    "    return suma\n",
    "\n",
    "valor = mi_funcion(5)\n",
    "print(valor)"
   ]
  },
  {
   "cell_type": "markdown",
   "metadata": {},
   "source": [
    "## **Declaración `pass`**\n",
    "\n",
    "- Las definiciones de funciones no pueden estar vacías.\n",
    "- Si necesitas una función sin contenido, usa la declaración `pass` para evitar errores."
   ]
  },
  {
   "cell_type": "code",
   "execution_count": 29,
   "metadata": {},
   "outputs": [],
   "source": [
    "def mi_funcion():\n",
    "    pass"
   ]
  },
  {
   "cell_type": "markdown",
   "metadata": {},
   "source": [
    "## **Argumentos Solo Posicionales**\n",
    "\n",
    "Para especificar que una función solo acepta argumentos posicionales, agrega , / después de los argumentos."
   ]
  },
  {
   "cell_type": "code",
   "execution_count": 10,
   "metadata": {},
   "outputs": [
    {
     "name": "stdout",
     "output_type": "stream",
     "text": [
      "3\n"
     ]
    }
   ],
   "source": [
    "def mi_funcion(x, /):\n",
    "    print(x)\n",
    "\n",
    "mi_funcion(3)"
   ]
  },
  {
   "cell_type": "markdown",
   "metadata": {},
   "source": [
    "## **Argumentos Solo por Palabra Clave**\n",
    "\n",
    "Para especificar que una función solo acepta argumentos por palabra clave, agrega * antes de los argumentos."
   ]
  },
  {
   "cell_type": "code",
   "execution_count": 11,
   "metadata": {},
   "outputs": [
    {
     "name": "stdout",
     "output_type": "stream",
     "text": [
      "3\n"
     ]
    }
   ],
   "source": [
    "def mi_funcion(*, x):\n",
    "    print(x)\n",
    "\n",
    "mi_funcion(x=3)"
   ]
  },
  {
   "cell_type": "markdown",
   "metadata": {},
   "source": [
    "## **Recursión**\n",
    "\n",
    "Python también acepta recursión, es decir, una función puede llamarse a sí misma."
   ]
  },
  {
   "cell_type": "code",
   "execution_count": 12,
   "metadata": {},
   "outputs": [
    {
     "name": "stdout",
     "output_type": "stream",
     "text": [
      "1\n",
      "3\n",
      "6\n",
      "10\n",
      "15\n",
      "21\n"
     ]
    },
    {
     "data": {
      "text/plain": [
       "21"
      ]
     },
     "execution_count": 12,
     "metadata": {},
     "output_type": "execute_result"
    }
   ],
   "source": [
    "def recursion_triangular(k):\n",
    "    if k > 0:\n",
    "        resultado = k + recursion_triangular(k - 1)\n",
    "        print(resultado)\n",
    "    else:\n",
    "        resultado = 0\n",
    "    return resultado\n",
    "\n",
    "recursion_triangular(6)"
   ]
  },
  {
   "cell_type": "markdown",
   "metadata": {},
   "source": [
    "## **Closures**\n",
    "\n",
    "TODO: pending"
   ]
  }
 ],
 "metadata": {
  "kernelspec": {
   "display_name": "Python 3",
   "language": "python",
   "name": "python3"
  },
  "language_info": {
   "codemirror_mode": {
    "name": "ipython",
    "version": 3
   },
   "file_extension": ".py",
   "mimetype": "text/x-python",
   "name": "python",
   "nbconvert_exporter": "python",
   "pygments_lexer": "ipython3",
   "version": "3.11.9"
  }
 },
 "nbformat": 4,
 "nbformat_minor": 2
}
