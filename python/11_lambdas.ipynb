{
 "cells": [
  {
   "cell_type": "markdown",
   "metadata": {},
   "source": [
    "# **Lambdas**\n",
    "\n",
    "Es una función **anónima** que se puede definir en una sola línea. Se utiliza para crear funciones rápidas y simples.\n",
    "\n",
    "Sintaxis:\n",
    "- `argumentos`: los parámetros que toma la función.\n",
    "- `expresión`: la operación que realiza y devuelve como resultado."
   ]
  },
  {
   "cell_type": "code",
   "execution_count": 1,
   "metadata": {},
   "outputs": [
    {
     "data": {
      "text/plain": [
       "<function __main__.<lambda>(argumentos)>"
      ]
     },
     "execution_count": 1,
     "metadata": {},
     "output_type": "execute_result"
    }
   ],
   "source": [
    "lambda argumentos: expresión"
   ]
  },
  {
   "cell_type": "markdown",
   "metadata": {},
   "source": [
    "## **Ejemplo Básico**"
   ]
  },
  {
   "cell_type": "code",
   "execution_count": 2,
   "metadata": {},
   "outputs": [
    {
     "name": "stdout",
     "output_type": "stream",
     "text": [
      "15\n"
     ]
    }
   ],
   "source": [
    "sumar_diez = lambda x: x + 10\n",
    "\n",
    "print(sumar_diez(5))"
   ]
  },
  {
   "cell_type": "markdown",
   "metadata": {},
   "source": [
    "## **Múltiples Argumentos**"
   ]
  },
  {
   "cell_type": "code",
   "execution_count": 3,
   "metadata": {},
   "outputs": [
    {
     "name": "stdout",
     "output_type": "stream",
     "text": [
      "10\n"
     ]
    }
   ],
   "source": [
    "sumar_numeros = lambda x, y: x + y\n",
    "\n",
    "print(sumar_numeros(4, 6))"
   ]
  },
  {
   "cell_type": "markdown",
   "metadata": {},
   "source": [
    "## **Lambda en una Función**\n",
    "\n",
    "Puedes usar lambdas dentro de una función normal."
   ]
  },
  {
   "cell_type": "code",
   "execution_count": 4,
   "metadata": {},
   "outputs": [
    {
     "name": "stdout",
     "output_type": "stream",
     "text": [
      "15\n"
     ]
    }
   ],
   "source": [
    "def multiplicador(n):\n",
    "    return lambda x: x * n\n",
    "\n",
    "por_tres = multiplicador(3)\n",
    "\n",
    "print(por_tres(5))"
   ]
  },
  {
   "cell_type": "markdown",
   "metadata": {},
   "source": [
    "## **Lambda con Funciones de Orden Superior**\n",
    "\n",
    "Las lambdas son útiles cuando se combinan con funciones como `map()`, `filter()` o `reduce()`."
   ]
  },
  {
   "cell_type": "markdown",
   "metadata": {},
   "source": [
    "`map()`: aplica una función a cada elemento de un iterable (como una lista) y devuelve un nuevo iterable con los resultados.\n",
    "- **función**: Una función que se aplicará a cada elemento.\n",
    "- **iterable**: La colección de datos sobre la cual se aplica la función.\n",
    "\n",
    "    ```python\n",
    "    map(función, iterable)\n",
    "    ```"
   ]
  },
  {
   "cell_type": "code",
   "execution_count": 5,
   "metadata": {},
   "outputs": [
    {
     "name": "stdout",
     "output_type": "stream",
     "text": [
      "[2, 4, 6, 8, 10]\n"
     ]
    }
   ],
   "source": [
    "numeros = [1, 2, 3, 4, 5]\n",
    "\n",
    "duplicados = list(map(lambda x: x * 2, numeros))\n",
    "\n",
    "print(duplicados)"
   ]
  },
  {
   "cell_type": "markdown",
   "metadata": {},
   "source": [
    "`filter()`: selecciona los elementos de un iterable que cumplen una condición. Devuelve un nuevo iterable con los elementos que pasaron el filtro.\n",
    "\n",
    "- `función`: Una función que evalúa a True o False.\n",
    "- `iterable`: La colección de datos sobre la cual se aplica el filtro.\n",
    "\n",
    "    ```python\n",
    "    filter(función, iterable)\n",
    "    ```"
   ]
  },
  {
   "cell_type": "code",
   "execution_count": 6,
   "metadata": {},
   "outputs": [
    {
     "name": "stdout",
     "output_type": "stream",
     "text": [
      "[4, 5]\n"
     ]
    }
   ],
   "source": [
    "numeros = [1, 2, 3, 4, 5]\n",
    "\n",
    "# filter() aplica la lambda y selecciona solo los números donde x > 3.\n",
    "mayores_a_tres = list(filter(lambda x: x > 3, numeros))\n",
    "\n",
    "print(mayores_a_tres)"
   ]
  },
  {
   "cell_type": "markdown",
   "metadata": {},
   "source": [
    "`sorted()`: ordena los elementos de un iterable. Por defecto, ordena en orden ascendente, pero puedes personalizarlo.\n",
    "\n",
    "- **iterable**: La colección de datos a ordenar.\n",
    "- **key (opcional)**: Una función que especifica qué criterio usar para ordenar.\n",
    "- **reverse (opcional)**: Si es True, ordena en orden descendente.\n",
    "\n",
    "    ```python\n",
    "    sorted(iterable, key=None, reverse=False)\n",
    "    ```"
   ]
  },
  {
   "cell_type": "code",
   "execution_count": 7,
   "metadata": {},
   "outputs": [
    {
     "name": "stdout",
     "output_type": "stream",
     "text": [
      "[(2, 'dos'), (3, 'tres'), (1, 'uno')]\n"
     ]
    }
   ],
   "source": [
    "pares = [(1, 'uno'), (3, 'tres'), (2, 'dos')]\n",
    "\n",
    "pares_ordenados = sorted(pares, key=lambda x: x[1])\n",
    "\n",
    "print(pares_ordenados)"
   ]
  },
  {
   "cell_type": "markdown",
   "metadata": {},
   "source": [
    "`reduce()`: se utiliza para aplicar una función a todos los elementos de un iterable, acumulando el resultado en un solo valor.\n",
    "\n",
    "- **función**: Una función que toma dos argumentos y devuelve un valor.\n",
    "- **iterable**: La colección de datos sobre la cual se aplica la función.\n",
    "- **valor_inicial (opcional)**: Un valor inicial que se usa como acumulador.\n",
    "\n",
    "    ```python\n",
    "    reduce(función, iterable[valor_inicial:valor_final])\n",
    "    ```"
   ]
  },
  {
   "cell_type": "code",
   "execution_count": 8,
   "metadata": {},
   "outputs": [
    {
     "name": "stdout",
     "output_type": "stream",
     "text": [
      "24\n"
     ]
    }
   ],
   "source": [
    "from functools import reduce\n",
    "\n",
    "numeros = [1, 2, 3, 4]\n",
    "\n",
    "# Multiplica todos los números de la lista: 1 * 2 * 3 * 4 = 24\n",
    "producto = reduce(lambda x, y: x * y, numeros)\n",
    "\n",
    "print(producto)"
   ]
  }
 ],
 "metadata": {
  "kernelspec": {
   "display_name": "env",
   "language": "python",
   "name": "python3"
  },
  "language_info": {
   "codemirror_mode": {
    "name": "ipython",
    "version": 3
   },
   "file_extension": ".py",
   "mimetype": "text/x-python",
   "name": "python",
   "nbconvert_exporter": "python",
   "pygments_lexer": "ipython3",
   "version": "3.13.1"
  }
 },
 "nbformat": 4,
 "nbformat_minor": 2
}
