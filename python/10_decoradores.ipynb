{
 "cells": [
  {
   "cell_type": "markdown",
   "metadata": {},
   "source": [
    "## **Decoradores**\n",
    "\n",
    "Un decorador es una función que toma otra función y la envuelve, modificando su comportamiento de alguna manera."
   ]
  },
  {
   "cell_type": "markdown",
   "metadata": {},
   "source": [
    "## **Ejemplo Básico**"
   ]
  },
  {
   "cell_type": "code",
   "execution_count": null,
   "metadata": {},
   "outputs": [],
   "source": [
    "def mi_decorador(func):\n",
    "    def wrapper():\n",
    "        print(\"Antes de la función.\")\n",
    "        func()\n",
    "        print(\"Después de la función.\")\n",
    "    return wrapper\n",
    "\n",
    "\n",
    "@mi_decorador\n",
    "def saludo():\n",
    "    print(\"Hola!\")\n",
    "\n",
    "\n",
    "saludo()"
   ]
  },
  {
   "cell_type": "markdown",
   "metadata": {},
   "source": [
    "## **Decoradores con Parámetros**\n",
    "\n",
    "Los decoradores también pueden aceptar argumentos. Esto es útil si deseas modificar el comportamiento de las funciones de manera más dinámica."
   ]
  },
  {
   "cell_type": "code",
   "execution_count": null,
   "metadata": {},
   "outputs": [],
   "source": [
    "def imprimir_mensaje(mensaje_antes, mensaje_despues):\n",
    "    def decorador(func):\n",
    "        def wrapper(*args, **kwargs):\n",
    "            print(mensaje_antes)  # Imprimir mensaje antes de la ejecución\n",
    "            result = func(*args, **kwargs)  # Ejecutar la función original\n",
    "            print(mensaje_despues)  # Imprimir mensaje después de la ejecución\n",
    "            return result\n",
    "        return wrapper\n",
    "    return decorador\n",
    "\n",
    "\n",
    "@imprimir_mensaje(\"¡Iniciando la función!\", \"¡Función ejecutada!\")\n",
    "def saludo():\n",
    "    print(\"Hola!\")\n",
    "\n",
    "saludo()"
   ]
  },
  {
   "cell_type": "markdown",
   "metadata": {},
   "source": [
    "## **Usar `functools.wraps`**\n",
    "\n",
    "Cuando defines un decorador, la función original pierde su nombre, documentación y otros atributos. Para evitar esto, puedes usar el decorador @functools.wraps para preservar estos atributos."
   ]
  },
  {
   "cell_type": "markdown",
   "metadata": {},
   "source": [
    "`@wraps(func)` asegura que el decorador mantenga el nombre, la documentación y otros atributos de la función original."
   ]
  },
  {
   "cell_type": "code",
   "execution_count": null,
   "metadata": {},
   "outputs": [],
   "source": [
    "from functools import wraps\n",
    "\n",
    "def mi_decorador(func):\n",
    "    @wraps(func)\n",
    "    def wrapper(*args, **kwargs):\n",
    "        print(f\"Ejecutando {func.__name__}...\")\n",
    "        return func(*args, **kwargs)\n",
    "    return wrapper\n",
    "\n",
    "\n",
    "@mi_decorador\n",
    "def saludo():\n",
    "    \"\"\"Esta es la función saludo\"\"\"\n",
    "    print(\"Hola!\")\n",
    "\n",
    "\n",
    "print(saludo.__name__) # Atributo nombre función\n",
    "print(saludo.__doc__) # Atributo documentación"
   ]
  },
  {
   "cell_type": "markdown",
   "metadata": {},
   "source": [
    "## **Decoradores para Métodos de Clase**\n",
    "\n",
    "Los decoradores también pueden aplicarse a métodos de clase. Existen decoradores predefinidos como `@staticmethod`, `@classmethod` y `@property` para modificar el comportamiento de los métodos de las clases.\n",
    "\n",
    "- `@staticmethod`: se usa para definir un método estático dentro de una clase. Un método estático es un método que pertenece a la clase, pero no necesita acceder a los atributos o métodos de la instancia de la clase ni de la propia clase. Es como una función normal que se agrupa con la clase.\n",
    "- `@classmethod`: se usa para definir un método de clase. Un método de clase recibe como primer argumento el propio objeto de la clase, que generalmente se llama cls. A diferencia de un método estático, un método de clase puede acceder a la clase y modificar sus atributos. No tiene acceso directo a los atributos o métodos de la instancia (no tiene self)."
   ]
  },
  {
   "cell_type": "code",
   "execution_count": null,
   "metadata": {},
   "outputs": [],
   "source": [
    "class MiClase:\n",
    "    @staticmethod\n",
    "    def metodo_estatico():\n",
    "        print(\"Método estático.\")\n",
    "\n",
    "    @classmethod\n",
    "    def metodo_clase(cls):\n",
    "        print(f\"Método de clase. Clase: {cls}\")\n",
    "\n",
    "\n",
    "objeto = MiClase()\n",
    "objeto.metodo_estatico()\n",
    "objeto.metodo_clase()"
   ]
  },
  {
   "cell_type": "markdown",
   "metadata": {},
   "source": [
    "## **Decoradores de Clases**\n",
    "\n",
    "Puedes también usar decoradores para modificar el comportamiento de clases, aunque esto es menos común que los decoradores para funciones."
   ]
  },
  {
   "cell_type": "code",
   "execution_count": null,
   "metadata": {},
   "outputs": [],
   "source": [
    "def decorador_clase(cls):\n",
    "    cls.decorado = True\n",
    "    return cls\n",
    "\n",
    "\n",
    "@decorador_clase\n",
    "class MiClase:\n",
    "    pass\n",
    "\n",
    "\n",
    "print(MiClase.decorado)"
   ]
  },
  {
   "cell_type": "markdown",
   "metadata": {},
   "source": [
    "## **Decoradores de Funciones con Múltiples Decoradores**\n",
    "\n",
    "Puedes aplicar varios decoradores a una función, y se aplican de abajo hacia arriba."
   ]
  },
  {
   "cell_type": "code",
   "execution_count": null,
   "metadata": {},
   "outputs": [],
   "source": [
    "def decorador1(func):\n",
    "    def wrapper():\n",
    "        print(\"Antes de la función 1\")\n",
    "        func()\n",
    "        print(\"Después de la función 1\")\n",
    "    return wrapper\n",
    "\n",
    "\n",
    "def decorador2(func):\n",
    "    def wrapper():\n",
    "        print(\"Antes de la función 2\")\n",
    "        func()\n",
    "        print(\"Después de la función 2\")\n",
    "    return wrapper\n",
    "\n",
    "\n",
    "@decorador1\n",
    "@decorador2\n",
    "def saludo():\n",
    "    print(\"Hola!\")\n",
    "\n",
    "\n",
    "saludo()"
   ]
  }
 ],
 "metadata": {
  "kernelspec": {
   "display_name": "env",
   "language": "python",
   "name": "python3"
  },
  "language_info": {
   "codemirror_mode": {
    "name": "ipython",
    "version": 3
   },
   "file_extension": ".py",
   "mimetype": "text/x-python",
   "name": "python",
   "nbconvert_exporter": "python",
   "pygments_lexer": "ipython3",
   "version": "3.11.9"
  }
 },
 "nbformat": 4,
 "nbformat_minor": 2
}
