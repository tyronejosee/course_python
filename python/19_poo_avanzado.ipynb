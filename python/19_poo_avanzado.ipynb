{
 "cells": [
  {
   "cell_type": "markdown",
   "metadata": {},
   "source": [
    "# **Programación Orientada a Objetos Avanzado**"
   ]
  },
  {
   "cell_type": "markdown",
   "metadata": {},
   "source": [
    "## **Variables de clase vs variables de instancia**\n",
    "\n",
    "- Las variables de clase son compartidas por todas las instancias de la clase.\n",
    "- Las variables de instancia son únicas para cada instancia."
   ]
  },
  {
   "cell_type": "code",
   "execution_count": 1,
   "metadata": {},
   "outputs": [
    {
     "name": "stdout",
     "output_type": "stream",
     "text": [
      "Nombre de contador1: Primero\n",
      "Nombre de contador2: Segundo\n",
      "Total de contadores creados: 2\n",
      "Nombre actualizado de contador1: Actualizado\n"
     ]
    }
   ],
   "source": [
    "class Contador:\n",
    "    # Variable de clase\n",
    "    total = 0\n",
    "\n",
    "    def __init__(self, nombre):\n",
    "        # Variable de instancia\n",
    "        self.nombre = nombre\n",
    "        Contador.total += 1\n",
    "\n",
    "# Crear instancias\n",
    "contador1 = Contador(\"Primero\")\n",
    "contador2 = Contador(\"Segundo\")\n",
    "\n",
    "# Acceso a variables de instancia\n",
    "print(f\"Nombre de contador1: {contador1.nombre}\")\n",
    "print(f\"Nombre de contador2: {contador2.nombre}\")\n",
    "\n",
    "# Acceso a variables de clase\n",
    "print(f\"Total de contadores creados: {Contador.total}\")\n",
    "\n",
    "# Modificar una variable de instancia\n",
    "contador1.nombre = \"Actualizado\"\n",
    "print(f\"Nombre actualizado de contador1: {contador1.nombre}\")"
   ]
  },
  {
   "cell_type": "markdown",
   "metadata": {},
   "source": [
    "## **Métodos Especiales en Clases**"
   ]
  },
  {
   "cell_type": "markdown",
   "metadata": {},
   "source": [
    "**Personalización de la Representación de Objetos**:\n",
    "\n",
    "- `__str__` Devuelve una representación \"amigable para el usuario\" del objeto. Se usa cuando llamas a print(objeto) o str(objeto)."
   ]
  },
  {
   "cell_type": "code",
   "execution_count": 2,
   "metadata": {},
   "outputs": [
    {
     "name": "stdout",
     "output_type": "stream",
     "text": [
      "Gladys, 46 años\n"
     ]
    }
   ],
   "source": [
    "class Persona:\n",
    "    def __init__(self, nombre, edad):\n",
    "        self.nombre = nombre\n",
    "        self.edad = edad\n",
    "\n",
    "    def __str__(self):\n",
    "        return f\"{self.nombre}, {self.edad} años\"\n",
    "\n",
    "persona = Persona(\"Gladys\", 46)\n",
    "print(persona)"
   ]
  },
  {
   "cell_type": "markdown",
   "metadata": {},
   "source": [
    "- `__repr__` Devuelve una representación formal y detallada del objeto, utilizada principalmente para depuración y desarrollo."
   ]
  },
  {
   "cell_type": "code",
   "execution_count": 3,
   "metadata": {},
   "outputs": [
    {
     "name": "stdout",
     "output_type": "stream",
     "text": [
      "Persona(nombre='Gladys', edad=46)\n"
     ]
    }
   ],
   "source": [
    "class Persona:\n",
    "    def __init__(self, nombre, edad):\n",
    "        self.nombre = nombre\n",
    "        self.edad = edad\n",
    "\n",
    "    def __repr__(self):\n",
    "        return f\"Persona(nombre='{self.nombre}', edad={self.edad})\"\n",
    "\n",
    "\n",
    "persona = Persona(\"Gladys\", 46)\n",
    "print(repr(persona))\n"
   ]
  },
  {
   "cell_type": "markdown",
   "metadata": {},
   "source": [
    "- `__len__` Permite personalizar la función `len()` para tus objetos."
   ]
  },
  {
   "cell_type": "code",
   "execution_count": 4,
   "metadata": {},
   "outputs": [
    {
     "name": "stdout",
     "output_type": "stream",
     "text": [
      "4\n"
     ]
    }
   ],
   "source": [
    "class MiLista:\n",
    "    def __init__(self, elementos):\n",
    "        self.elementos = elementos\n",
    "\n",
    "    def __len__(self):\n",
    "        return len(self.elementos)\n",
    "\n",
    "lista = MiLista([1, 2, 3, 4])\n",
    "print(len(lista))"
   ]
  },
  {
   "cell_type": "markdown",
   "metadata": {},
   "source": [
    "**Métodos de Acceso Indexado**:\n",
    "\n",
    "- `__getitem__(self, key)`: Permite acceder a un elemento mediante su índice o clave.\n",
    "- `__setitem__(self, key, value)`: Permite asignar valores a un índice o clave.\n",
    "- `__delitem__(self, key)`: Permite eliminar un elemento por índice o clave."
   ]
  },
  {
   "cell_type": "code",
   "execution_count": 5,
   "metadata": {},
   "outputs": [
    {
     "name": "stdout",
     "output_type": "stream",
     "text": [
      "1\n",
      "Clave no encontrada\n"
     ]
    }
   ],
   "source": [
    "class MiDiccionario:\n",
    "    def __init__(self):\n",
    "        self.datos = {}\n",
    "\n",
    "    def __getitem__(self, clave):\n",
    "        return self.datos.get(clave, \"Clave no encontrada\")\n",
    "\n",
    "    def __setitem__(self, clave, valor):\n",
    "        self.datos[clave] = valor\n",
    "\n",
    "    def __delitem__(self, clave):\n",
    "        del self.datos[clave]\n",
    "\n",
    "\n",
    "diccionario = MiDiccionario()\n",
    "\n",
    "\n",
    "# Agregar \"a\" con valor 1\n",
    "diccionario[\"a\"] = 1\n",
    "print(diccionario[\"a\"])\n",
    "\n",
    "\n",
    "# Eliminar llave\n",
    "del diccionario[\"a\"]\n",
    "print(diccionario[\"a\"])  # Salida: Clave no encontrada"
   ]
  },
  {
   "cell_type": "markdown",
   "metadata": {},
   "source": [
    "**Iteradores Personalizados**:\n",
    "\n",
    "- `__iter__`: Devuelve el propio objeto o un iterador.\n",
    "- `__next__`: Devuelve el siguiente valor en la secuencia o lanza StopIteration cuando termina."
   ]
  },
  {
   "cell_type": "code",
   "execution_count": 6,
   "metadata": {},
   "outputs": [
    {
     "name": "stdout",
     "output_type": "stream",
     "text": [
      "<__main__.Contador object at 0x0000027354125DD0>\n",
      "1\n",
      "2\n",
      "3\n",
      "4\n",
      "5\n",
      "6\n",
      "7\n",
      "8\n",
      "9\n",
      "10\n"
     ]
    }
   ],
   "source": [
    "class Contador:\n",
    "    def __init__(self, inicio, fin):\n",
    "        self.actual = inicio\n",
    "        self.fin = fin\n",
    "\n",
    "    def __iter__(self):\n",
    "        print(self)\n",
    "        return self\n",
    "\n",
    "    def __next__(self):\n",
    "        if self.actual > self.fin:\n",
    "            raise StopIteration\n",
    "        else:\n",
    "            valor = self.actual\n",
    "            self.actual += 1\n",
    "            return valor\n",
    "\n",
    "\n",
    "contador = Contador(1, 10)\n",
    "for num in contador:\n",
    "    print(num)"
   ]
  },
  {
   "cell_type": "markdown",
   "metadata": {},
   "source": [
    "**Hacer que el Objeto sea Llamable**:\n",
    "\n",
    "- `__call__` Permite que una instancia de la clase se comporte como una función."
   ]
  },
  {
   "cell_type": "code",
   "execution_count": 7,
   "metadata": {},
   "outputs": [
    {
     "name": "stdout",
     "output_type": "stream",
     "text": [
      "Hola, José!\n"
     ]
    }
   ],
   "source": [
    "class Saludador:\n",
    "    def __init__(self, saludo):\n",
    "        self.saludo = saludo\n",
    "\n",
    "    def __call__(self, nombre):\n",
    "        return f\"{self.saludo}, {nombre}!\"\n",
    "\n",
    "\n",
    "hola = Saludador(\"Hola\")\n",
    "print(hola(\"José\"))"
   ]
  },
  {
   "cell_type": "markdown",
   "metadata": {},
   "source": [
    "**Destructores**:\n",
    "\n",
    "- `__del__` se llama cuando un objeto se elimina o es recogido por el recolector de basura. Es útil para limpiar recursos como archivos abiertos o conexiones a bases de datos."
   ]
  },
  {
   "cell_type": "code",
   "execution_count": 8,
   "metadata": {},
   "outputs": [
    {
     "name": "stdout",
     "output_type": "stream",
     "text": [
      "Archivo temporal.txt abierto.\n",
      "Texto escrito en temporal.txt\n",
      "Archivo temporal.txt cerrado y limpiado.\n"
     ]
    }
   ],
   "source": [
    "class ArchivoTemporal:\n",
    "    def __init__(self, nombre):\n",
    "        self.nombre = nombre\n",
    "        self.archivo = open(nombre, 'w')\n",
    "        print(f\"Archivo {self.nombre} abierto.\")\n",
    "\n",
    "    def escribir(self, texto):\n",
    "        self.archivo.write(texto)\n",
    "        print(f\"Texto escrito en {self.nombre}\")\n",
    "\n",
    "    def __del__(self):\n",
    "        self.archivo.close()\n",
    "        print(f\"Archivo {self.nombre} cerrado y limpiado.\")\n",
    "\n",
    "# Uso\n",
    "archivo = ArchivoTemporal(\"temporal.txt\")\n",
    "archivo.escribir(\"Hola, Mundo\")\n",
    "\n",
    "del archivo"
   ]
  },
  {
   "cell_type": "markdown",
   "metadata": {},
   "source": [
    "**Métodos para Comparación entre Objetos**:\n",
    "\n",
    "Estos métodos permiten que los objetos de una clase se comparen entre sí usando los operadores estándar (==, <, >, !=, <=, >=).\n",
    "\n",
    "- `__eq__(self, other)`: Define el comportamiento para el operador ==.\n",
    "- `__ne__(self, other)`: Define el comportamiento para el operador !=.\n",
    "- `__lt__(self, other)`: Define el comportamiento para el operador <.\n",
    "- `__le__(self, other)`: Define el comportamiento para el operador <=.\n",
    "- `__gt__(self, other)`: Define el comportamiento para el operador >.\n",
    "- `__ge__(self, other)`: Define el comportamiento para el operador >=."
   ]
  },
  {
   "cell_type": "code",
   "execution_count": 9,
   "metadata": {},
   "outputs": [
    {
     "name": "stdout",
     "output_type": "stream",
     "text": [
      "True\n",
      "True\n",
      "True\n"
     ]
    }
   ],
   "source": [
    "class Persona:\n",
    "    def __init__(self, nombre, edad):\n",
    "        self.nombre = nombre\n",
    "        self.edad = edad\n",
    "\n",
    "    def __eq__(self, other):\n",
    "        return self.edad == other.edad  # Comparar por edad\n",
    "\n",
    "    def __ne__(self, other):\n",
    "        return self.edad != other.edad  # Comparar por edad\n",
    "\n",
    "    def __lt__(self, other):\n",
    "        return self.edad < other.edad  # Menor que\n",
    "\n",
    "    def __le__(self, other):\n",
    "        return self.edad <= other.edad  # Menor o igual que\n",
    "\n",
    "    def __gt__(self, other):\n",
    "        return self.edad > other.edad  # Mayor que\n",
    "\n",
    "    def __ge__(self, other):\n",
    "        return self.edad >= other.edad  # Mayor o igual que\n",
    "\n",
    "# Crear instancias de la clase Persona\n",
    "persona1 = Persona(\"Alice\", 25)\n",
    "persona2 = Persona(\"Bob\", 30)\n",
    "persona3 = Persona(\"Charlie\", 25)\n",
    "\n",
    "# Comparaciones entre objetos\n",
    "print(persona1 == persona3)\n",
    "print(persona1 < persona2)\n",
    "print(persona1 != persona2)"
   ]
  },
  {
   "cell_type": "markdown",
   "metadata": {},
   "source": [
    "- `__contains__` permite definir el comportamiento de la operación in para verificar si un objeto o valor está contenido dentro de otro objeto."
   ]
  },
  {
   "cell_type": "code",
   "execution_count": 10,
   "metadata": {},
   "outputs": [
    {
     "name": "stdout",
     "output_type": "stream",
     "text": [
      "True\n",
      "False\n"
     ]
    }
   ],
   "source": [
    "class ListaDeNumeros:\n",
    "    def __init__(self, numeros):\n",
    "        self.numeros = numeros\n",
    "\n",
    "    def __contains__(self, item):\n",
    "        return item in self.numeros\n",
    "\n",
    "\n",
    "lista = ListaDeNumeros([1, 2, 3, 4, 5])\n",
    "\n",
    "# Comprobar si un número está en la lista\n",
    "print(3 in lista)\n",
    "print(6 in lista)"
   ]
  },
  {
   "cell_type": "markdown",
   "metadata": {},
   "source": [
    "## **Métodos Estáticos `@staticmethod`**\n",
    "\n",
    "- Un método estático no necesita acceso a la instancia ni a la clase.\n",
    "- Se utiliza cuando la funcionalidad del método es independiente de cualquier estado de la clase o instancia."
   ]
  },
  {
   "cell_type": "code",
   "execution_count": 11,
   "metadata": {},
   "outputs": [
    {
     "name": "stdout",
     "output_type": "stream",
     "text": [
      "15\n",
      "5\n",
      "True\n",
      "False\n"
     ]
    }
   ],
   "source": [
    "class Calculadora:\n",
    "    @staticmethod\n",
    "    def sumar(a, b):\n",
    "        return a + b\n",
    "\n",
    "    @staticmethod\n",
    "    def restar(a, b):\n",
    "        return a - b\n",
    "\n",
    "    @staticmethod\n",
    "    def es_par(numero):\n",
    "        return numero % 2 == 0\n",
    "\n",
    "\n",
    "# Uso\n",
    "print(Calculadora.sumar(10, 5))\n",
    "print(Calculadora.restar(10, 5))\n",
    "print(Calculadora.es_par(10))\n",
    "print(Calculadora.es_par(11))"
   ]
  },
  {
   "cell_type": "markdown",
   "metadata": {},
   "source": [
    "## **Métodos de Clase `@classmethod`**\n",
    "\n",
    "- Un método de clase recibe como primer argumento la clase (cls).\n",
    "- Esto permite que el método acceda y modifique atributos o comportamientos relacionados con la clase en lugar de una instancia específica."
   ]
  },
  {
   "cell_type": "code",
   "execution_count": 12,
   "metadata": {},
   "outputs": [
    {
     "name": "stdout",
     "output_type": "stream",
     "text": [
      "3\n",
      "Coche\n",
      "Moto\n"
     ]
    }
   ],
   "source": [
    "class Vehiculo:\n",
    "    cantidad_total = 0  # Atributo de clase\n",
    "\n",
    "    def __init__(self, tipo):\n",
    "        self.tipo = tipo\n",
    "        Vehiculo.cantidad_total += 1\n",
    "\n",
    "    @classmethod\n",
    "    def total_vehiculos(cls):\n",
    "        return cls.cantidad_total\n",
    "\n",
    "    @classmethod\n",
    "    def crear_coche(cls):\n",
    "        return cls(\"Coche\")\n",
    "\n",
    "    @classmethod\n",
    "    def crear_moto(cls):\n",
    "        return cls(\"Moto\")\n",
    "\n",
    "\n",
    "# Crear instancias utilizando métodos de clase\n",
    "coche = Vehiculo.crear_coche()\n",
    "moto = Vehiculo.crear_moto()\n",
    "camion = Vehiculo(\"Camión\")\n",
    "\n",
    "# Uso del método de clase para acceder al atributo de clase\n",
    "print(Vehiculo.total_vehiculos())\n",
    "\n",
    "# Acceso al atributo desde las instancias\n",
    "print(coche.tipo)\n",
    "print(moto.tipo)"
   ]
  },
  {
   "cell_type": "markdown",
   "metadata": {},
   "source": [
    "## **Combinación de Métodos Estáticos y Métodos de Clase**\n",
    "\n",
    "Ambos pueden coexistir en una clase según las necesidades de diseño."
   ]
  },
  {
   "cell_type": "code",
   "execution_count": 13,
   "metadata": {},
   "outputs": [
    {
     "name": "stdout",
     "output_type": "stream",
     "text": [
      "120.0\n",
      "150.0\n",
      "100.0\n"
     ]
    }
   ],
   "source": [
    "class ConversorMoneda:\n",
    "    tasa_conversion = 1.2  # Tasa ficticia de USD a EUR\n",
    "\n",
    "    @classmethod\n",
    "    def cambiar_tasa(cls, nueva_tasa):\n",
    "        cls.tasa_conversion = nueva_tasa\n",
    "\n",
    "    @staticmethod\n",
    "    def convertir_usd_a_eur(monto_usd):\n",
    "        return monto_usd * ConversorMoneda.tasa_conversion\n",
    "\n",
    "    @staticmethod\n",
    "    def convertir_eur_a_usd(monto_eur):\n",
    "        return monto_eur / ConversorMoneda.tasa_conversion\n",
    "\n",
    "\n",
    "# Convertir usando la tasa inicial\n",
    "print(ConversorMoneda.convertir_usd_a_eur(100))\n",
    "\n",
    "# Cambiar la tasa usando un método de clase\n",
    "ConversorMoneda.cambiar_tasa(1.5)\n",
    "\n",
    "# Convertir usando la nueva tasa\n",
    "print(ConversorMoneda.convertir_usd_a_eur(100))\n",
    "print(ConversorMoneda.convertir_eur_a_usd(150))"
   ]
  },
  {
   "cell_type": "markdown",
   "metadata": {},
   "source": [
    "## **Copia de Objetos**\n",
    "\n",
    "La librería `copy` permite realizar **copias superficiales (copy)** y **profundas (deepcopy)** de objetos.\n",
    "\n",
    "- `Copia superficial (copy)`: Crea una nueva referencia para los objetos anidados.\n",
    "- `Copia profunda (deepcopy)`: Crea nuevas instancias para los objetos anidados."
   ]
  },
  {
   "cell_type": "code",
   "execution_count": 14,
   "metadata": {},
   "outputs": [
    {
     "name": "stdout",
     "output_type": "stream",
     "text": [
      "Original: María, Amigos: ['Isabel', 'Ana', 'Megan']\n",
      "Copia superficial: María, Amigos: ['Isabel', 'Ana', 'Megan']\n",
      "Copia profunda: María, Amigos: ['Isabel', 'Ana', 'Megan', 'Sofía']\n"
     ]
    }
   ],
   "source": [
    "import copy\n",
    "\n",
    "class Persona:\n",
    "    def __init__(self, nombre, amigos):\n",
    "        self.nombre = nombre\n",
    "        self.amigos = amigos\n",
    "\n",
    "# Original\n",
    "persona1 = Persona(\"María\", [\"Isabel\", \"Ana\"])\n",
    "\n",
    "# Copia superficial (solo copia la referencia a la lista 'amigos')\n",
    "persona2 = copy.copy(persona1)\n",
    "persona2.amigos.append(\"Megan\")\n",
    "\n",
    "# Copia profunda (copia la lista 'amigos' de forma independiente)\n",
    "persona3 = copy.deepcopy(persona1)\n",
    "persona3.amigos.append(\"Sofía\")\n",
    "\n",
    "print(f\"Original: {persona1.nombre}, Amigos: {persona1.amigos}\")\n",
    "print(f\"Copia superficial: {persona2.nombre}, Amigos: {persona2.amigos}\")\n",
    "print(f\"Copia profunda: {persona3.nombre}, Amigos: {persona3.amigos}\")"
   ]
  }
 ],
 "metadata": {
  "kernelspec": {
   "display_name": "env",
   "language": "python",
   "name": "python3"
  },
  "language_info": {
   "codemirror_mode": {
    "name": "ipython",
    "version": 3
   },
   "file_extension": ".py",
   "mimetype": "text/x-python",
   "name": "python",
   "nbconvert_exporter": "python",
   "pygments_lexer": "ipython3",
   "version": "3.13.1"
  }
 },
 "nbformat": 4,
 "nbformat_minor": 2
}
