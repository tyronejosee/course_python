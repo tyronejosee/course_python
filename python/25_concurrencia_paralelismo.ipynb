{
 "cells": [
  {
   "cell_type": "markdown",
   "metadata": {},
   "source": [
    "## **Concurrencia y Paralelismo**\n",
    "\n",
    "- Son conceptos relacionados, pero con diferencias clave.\n",
    "- Ambos se utilizan para mejorar el rendimiento de las aplicaciones, especialmente cuando se trata de ejecutar tareas múltiples al mismo tiempo.\n",
    "\n",
    "**Concurrencia**: Se refiere a la capacidad de ejecutar múltiples tareas en aparente simultaneidad. Puede implicar que las tareas se intercalen entre sí (sin necesariamente ejecutarse al mismo tiempo), pero aún así, la aplicación sigue respondiendo mientras se manejan múltiples tareas. Python utiliza hilos (threads) y procesos para manejar la concurrencia.\n",
    "\n",
    "**Paralelismo**: Se refiere a la ejecución real de múltiples tareas al mismo tiempo, normalmente en máquinas con múltiples núcleos de CPU. Esto implica que las tareas se ejecutan en paralelo, distribuidas a través de diferentes procesadores."
   ]
  },
  {
   "cell_type": "markdown",
   "metadata": {},
   "source": [
    "## **Concurrencia**\n",
    "\n",
    "La librería `threading` permite la creación y manejo de hilos (threads), que son unidades de ejecución dentro de un proceso. El uso de hilos permite que una aplicación realice múltiples tareas al mismo tiempo, aunque debido al `Global Interpreter Lock (GIL)` en CPython, los hilos no pueden ejecutar código Python puro en paralelo en múltiples núcleos. Sin embargo, los hilos son útiles para tareas I/O-bound, como operaciones de red o lectura/escritura de archivos, donde la mayor parte del tiempo el programa está esperando por datos.\n",
    "\n",
    "- `threading.Thread` crea un hilo que ejecuta la función tarea().\n",
    "- `start()` inicia el hilo.\n",
    "- `join()` espera que el hilo termine antes de continuar con la ejecución."
   ]
  },
  {
   "cell_type": "code",
   "execution_count": null,
   "metadata": {},
   "outputs": [],
   "source": [
    "import threading\n",
    "import time\n",
    "\n",
    "\n",
    "def tarea():\n",
    "    print(\"Tarea comenzada\")\n",
    "    time.sleep(3)\n",
    "    print(\"Tarea completada\")\n",
    "\n",
    "\n",
    "# Crear hilos\n",
    "hilo1 = threading.Thread(target=tarea)\n",
    "hilo2 = threading.Thread(target=tarea)\n",
    "hilo3 = threading.Thread(target=tarea)\n",
    "\n",
    "\n",
    "# Iniciar los hilos\n",
    "hilo1.start()\n",
    "hilo2.start()\n",
    "hilo3.start()\n",
    "\n",
    "\n",
    "# Esperar que terminen\n",
    "hilo1.join()\n",
    "hilo2.join()\n",
    "hilo3.join()\n",
    "\n",
    "\n",
    "print(\"Ambas tareas han finalizado\")"
   ]
  },
  {
   "cell_type": "markdown",
   "metadata": {},
   "source": [
    "Una opción más avanzada y fácil de manejar para trabajar con hilos es el `ThreadPoolExecutor` en el módulo `concurrent.futures`. Este permite manejar un grupo de hilos (pool de hilos) y coordinar su ejecución."
   ]
  },
  {
   "cell_type": "code",
   "execution_count": null,
   "metadata": {},
   "outputs": [],
   "source": [
    "from concurrent.futures import ThreadPoolExecutor\n",
    "\n",
    "def tarea(x):\n",
    "    print(f\"Tarea {x} en ejecución\")\n",
    "\n",
    "\n",
    "# Crear un pool de 3 hilos\n",
    "with ThreadPoolExecutor(max_workers=3) as executor:\n",
    "    executor.map(tarea, range(5))  # Ejecuta tarea() para cada elemento en el rango\n",
    "\n",
    "\n",
    "print(\"Todas las tareas han sido ejecutadas\")"
   ]
  },
  {
   "cell_type": "markdown",
   "metadata": {},
   "source": [
    "## **Paralelismo**\n",
    "\n",
    "Para aprovechar el paralelismo real, donde se pueden ejecutar tareas en diferentes núcleos de CPU, puedes utilizar el módulo multiprocessing. Este crea procesos independientes, cada uno con su propio espacio de memoria, y puede aprovechar múltiples núcleos en un sistema, lo que permite realizar operaciones CPU-bound (que requieren mucho poder de procesamiento) en paralelo.\n",
    "\n",
    "- `multiprocessing.Process` crea un proceso que ejecuta la función tarea().\n",
    "- `start()` inicia el proceso.\n",
    "- `join()` espera que el proceso termine antes de continuar."
   ]
  },
  {
   "cell_type": "code",
   "execution_count": null,
   "metadata": {},
   "outputs": [],
   "source": [
    "import multiprocessing\n",
    "\n",
    "def tarea():\n",
    "    print(\"Tarea ejecutada en un proceso\")\n",
    "\n",
    "\n",
    "# Crear procesos\n",
    "proceso1 = multiprocessing.Process(target=tarea)\n",
    "proceso2 = multiprocessing.Process(target=tarea)\n",
    "\n",
    "\n",
    "# Iniciar procesos\n",
    "proceso1.start()\n",
    "proceso2.start()\n",
    "\n",
    "\n",
    "# Esperar que terminen\n",
    "proceso1.join()\n",
    "proceso2.join()\n",
    "\n",
    "\n",
    "print(\"Ambos procesos han finalizado\")"
   ]
  },
  {
   "cell_type": "code",
   "execution_count": null,
   "metadata": {},
   "outputs": [],
   "source": [
    "from concurrent.futures import ProcessPoolExecutor\n",
    "\n",
    "\n",
    "def tarea(x):\n",
    "    print(f\"Tarea {x} ejecutada en un proceso\")\n",
    "\n",
    "if __name__ == \"__main__\":\n",
    "    # Crear un pool de procesos\n",
    "    with ProcessPoolExecutor(max_workers=4) as executor:\n",
    "        executor.map(tarea, range(5))  # Ejecuta tarea() en paralelo para cada elemento\n",
    "\n",
    "    print(\"Todas las tareas han sido ejecutadas\")"
   ]
  },
  {
   "cell_type": "markdown",
   "metadata": {},
   "source": [
    "## **Tareas combinadas: Concurrencia y Paralelismo**"
   ]
  },
  {
   "cell_type": "markdown",
   "metadata": {},
   "source": [
    "En algunos casos, podrías querer combinar concurrencia y paralelismo en tu aplicación. Por ejemplo, si tienes tareas I/O-bound (que usan threading) junto con tareas CPU-bound (que usan multiprocessing), puedes coordinar ambos tipos de procesamiento para mejorar el rendimiento."
   ]
  },
  {
   "cell_type": "code",
   "execution_count": null,
   "metadata": {},
   "outputs": [],
   "source": [
    "from concurrent.futures import ThreadPoolExecutor, ProcessPoolExecutor\n",
    "import time\n",
    "\n",
    "\n",
    "def tarea_io(x):\n",
    "    time.sleep(1)\n",
    "    print(f\"Tarea I/O {x} terminada\")\n",
    "\n",
    "\n",
    "def tarea_cpu(x):\n",
    "    return x * x  # Ejemplo simple de tarea CPU-bound\n",
    "\n",
    "\n",
    "if __name__ == \"__main__\":\n",
    "    # Usando ThreadPoolExecutor para tareas I/O-bound\n",
    "    with ThreadPoolExecutor(max_workers=3) as executor_io:\n",
    "        executor_io.map(tarea_io, range(5))\n",
    "\n",
    "    # \n",
    "    # Usando ProcessPoolExecutor para tareas CPU-bound\n",
    "    with ProcessPoolExecutor(max_workers=4) as executor_cpu:\n",
    "        results = list(executor_cpu.map(tarea_cpu, range(5)))\n",
    "        print(\"Resultados de tareas CPU-bound:\", results)"
   ]
  }
 ],
 "metadata": {
  "kernelspec": {
   "display_name": "env",
   "language": "python",
   "name": "python3"
  },
  "language_info": {
   "codemirror_mode": {
    "name": "ipython",
    "version": 3
   },
   "file_extension": ".py",
   "mimetype": "text/x-python",
   "name": "python",
   "nbconvert_exporter": "python",
   "pygments_lexer": "ipython3",
   "version": "3.11.9"
  }
 },
 "nbformat": 4,
 "nbformat_minor": 2
}
