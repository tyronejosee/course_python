{
 "cells": [
  {
   "cell_type": "markdown",
   "metadata": {},
   "source": [
    "# **Bucles**\n",
    "\n",
    "![Bucles](https://www.luisllamas.es/images/20097/programacion-bucle-cartas.png)\n",
    "\n",
    "> \"Quedan cartas? Si: entonces pongo sello. Quedan cartas? No: entonces salgo del bucle\"\n",
    "\n",
    "Son estructuras de control fundamentales en programación que permiten ejecutar un bloque de código repetidamente.\n",
    "\n",
    "- `for`\n",
    "- `while`"
   ]
  },
  {
   "cell_type": "markdown",
   "metadata": {},
   "source": [
    "## **Bucle `for`**\n",
    "\n",
    "- `for` Itera sobre elementos de una secuencia (lista, rango, etc.).\n",
    "- Ejecuta el bloque de código una vez por cada elemento en la secuencia."
   ]
  },
  {
   "cell_type": "code",
   "execution_count": null,
   "metadata": {},
   "outputs": [],
   "source": [
    "frutas = [\"Kiwi\", \"Platano\", \"Frutilla\"]\n",
    "\n",
    "for fruta in frutas:\n",
    "    print(f\"Me gusta la {fruta}.\")"
   ]
  },
  {
   "cell_type": "markdown",
   "metadata": {},
   "source": [
    "**Bucle `for` con `range()`**\n",
    "\n",
    "- `range()` Función que genera secuencias de números."
   ]
  },
  {
   "cell_type": "code",
   "execution_count": null,
   "metadata": {},
   "outputs": [],
   "source": [
    "for i in range(5):  # Itera del 0 al 4\n",
    "    print(f\"Iteración {i}\")"
   ]
  },
  {
   "cell_type": "code",
   "execution_count": null,
   "metadata": {},
   "outputs": [],
   "source": [
    "# range(start, stop, step)\n",
    "for i in range(2, 11, 2):  # Itera de 2 a 10 en pasos de 2\n",
    "    print(f\"Paso actual: {i}\")"
   ]
  },
  {
   "cell_type": "markdown",
   "metadata": {},
   "source": [
    "**Uso de `break` y `continue` en `for`**\n",
    "\n",
    "- `break` Termina la ejecución del bucle inmediatamente.\n",
    "- `continue` Salta la iteración actual y continúa con la siguiente."
   ]
  },
  {
   "cell_type": "code",
   "execution_count": null,
   "metadata": {},
   "outputs": [],
   "source": [
    "for numero in range(5):\n",
    "    if numero == 3:\n",
    "        break\n",
    "    print(numero)"
   ]
  },
  {
   "cell_type": "markdown",
   "metadata": {},
   "source": [
    "## **Bucle `while`**\n",
    "\n",
    "- `while` Repite mientras una condición sea verdadera.\n",
    "- Es importante asegurarse de que la condición eventualmente se vuelva falsa para evitar un bucle infinito."
   ]
  },
  {
   "cell_type": "code",
   "execution_count": null,
   "metadata": {},
   "outputs": [],
   "source": [
    "contador = 0\n",
    "\n",
    "while contador < 5:\n",
    "    print(f\"Contador: {contador}\")\n",
    "    contador = contador + 1\n",
    "    # contador += 1  # Incrementa el contador"
   ]
  },
  {
   "cell_type": "markdown",
   "metadata": {},
   "source": [
    "**Uso de `break` y `continue` en `while`**"
   ]
  },
  {
   "cell_type": "code",
   "execution_count": null,
   "metadata": {},
   "outputs": [],
   "source": [
    "# Uso de break\n",
    "contador = 0\n",
    "\n",
    "while contador < 10:\n",
    "    if contador == 6:\n",
    "        print(\"Se alcanzó el límite, saliendo del bucle.\")\n",
    "        break   # Finaliza el bucle\n",
    "    print(contador)\n",
    "    contador += 1"
   ]
  },
  {
   "cell_type": "code",
   "execution_count": null,
   "metadata": {},
   "outputs": [],
   "source": [
    "# Uso de continue\n",
    "contador = 0\n",
    "\n",
    "print(contador < 10)\n",
    "\n",
    "while contador < 10:\n",
    "    contador = contador + 1\n",
    "    if contador % 2 == 0:\n",
    "        continue  # Salta los números pares\n",
    "    print(contador)"
   ]
  }
 ],
 "metadata": {
  "kernelspec": {
   "display_name": "Python 3",
   "language": "python",
   "name": "python3"
  },
  "language_info": {
   "codemirror_mode": {
    "name": "ipython",
    "version": 3
   },
   "file_extension": ".py",
   "mimetype": "text/x-python",
   "name": "python",
   "nbconvert_exporter": "python",
   "pygments_lexer": "ipython3",
   "version": "3.11.9"
  }
 },
 "nbformat": 4,
 "nbformat_minor": 2
}
