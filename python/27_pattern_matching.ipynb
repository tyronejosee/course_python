{
 "cells": [
  {
   "cell_type": "markdown",
   "metadata": {},
   "source": [
    "# **Pattern Matching**\n",
    "\n",
    "Fue introducido en Python `3.10` a través de la declaración `match`. Este permite comparar un valor con diferentes patrones de manera más expresiva y legible. Es útil en situaciones donde quieres hacer coincidir un valor con múltiples condiciones o estructuras complejas, como cuando trabajas con datos en formato de tupla, lista, diccionario, o incluso clases.\n",
    "\n",
    "## **Características Clave**\n",
    "\n",
    "- **`match`**: Inicia el proceso de comparación de patrones.\n",
    "- **`case`**: Cada posible patrón que estás comprobando.\n",
    "- **Comodín `_`**: Coincide con cualquier valor no especificado.\n",
    "- **Condiciones adicionales**: Puedes agregar condiciones usando if dentro de un case."
   ]
  },
  {
   "cell_type": "markdown",
   "metadata": {},
   "source": [
    "## **Sintaxis Básica**"
   ]
  },
  {
   "cell_type": "code",
   "execution_count": 22,
   "metadata": {},
   "outputs": [
    {
     "name": "stdout",
     "output_type": "stream",
     "text": [
      "Es dos\n",
      "Otro número\n"
     ]
    }
   ],
   "source": [
    "def evaluar(x):\n",
    "    match x:\n",
    "        case 1:\n",
    "            return \"Es uno\"\n",
    "        case 2:\n",
    "            return \"Es dos\"\n",
    "        case _:\n",
    "            return \"Otro número\"\n",
    "\n",
    "print(evaluar(2))\n",
    "print(evaluar(3))"
   ]
  },
  {
   "cell_type": "markdown",
   "metadata": {},
   "source": [
    "## **Uso de Variables en los Patrones**"
   ]
  },
  {
   "cell_type": "code",
   "execution_count": 16,
   "metadata": {},
   "outputs": [],
   "source": [
    "def identificar(x):\n",
    "    match x:\n",
    "        case (a, b) if isinstance(x, tuple):\n",
    "            return f\"Tupla con dos elementos: {a}, {b}\"\n",
    "        case [a, b] if isinstance(x, list):\n",
    "            return f\"Lista con dos elementos: {a}, {b}\"\n",
    "        case _:\n",
    "            return \"No es ni tupla ni lista\""
   ]
  },
  {
   "cell_type": "code",
   "execution_count": 23,
   "metadata": {},
   "outputs": [
    {
     "name": "stdout",
     "output_type": "stream",
     "text": [
      "Tupla con dos elementos: 1, 2\n",
      "Lista con dos elementos: 3, 4\n",
      "No es ni tupla ni lista\n",
      "No es ni tupla ni lista\n"
     ]
    }
   ],
   "source": [
    "print(identificar((1, 2)))\n",
    "print(identificar([3, 4]))\n",
    "print(identificar(5))\n",
    "print(identificar((1, 2, 3)))"
   ]
  },
  {
   "cell_type": "markdown",
   "metadata": {},
   "source": [
    "## **Patrones con Clases y Objetos**"
   ]
  },
  {
   "cell_type": "code",
   "execution_count": 32,
   "metadata": {},
   "outputs": [],
   "source": [
    "class Persona:\n",
    "    def __init__(self, nombre, edad):\n",
    "        self.nombre = nombre\n",
    "        self.edad = edad\n",
    "    \n",
    "    __match_args__ = (\"nombre\", \"edad\")\n",
    "\n",
    "def identificar_objeto(obj):\n",
    "    match obj:\n",
    "        case Persona(nombre, edad) if edad >= 18:\n",
    "            return f\"{nombre} es adulto\"\n",
    "        case Persona(nombre, edad):\n",
    "            return f\"{nombre} es menor de edad\"\n",
    "        case _:\n",
    "            return \"No es una persona\""
   ]
  },
  {
   "cell_type": "code",
   "execution_count": 35,
   "metadata": {},
   "outputs": [
    {
     "name": "stdout",
     "output_type": "stream",
     "text": [
      "Sofía es menor de edad\n",
      "Hiromi es adulto\n",
      "No es una persona\n"
     ]
    }
   ],
   "source": [
    "persona1 = Persona(\"Sofía\", 11)\n",
    "persona2 = Persona(\"Hiromi\", 32)\n",
    "persona3 = \"Texto no es persona\"\n",
    "\n",
    "print(identificar_objeto(persona1))\n",
    "print(identificar_objeto(persona2))\n",
    "print(identificar_objeto(persona3))"
   ]
  },
  {
   "cell_type": "markdown",
   "metadata": {},
   "source": [
    "## **Patrones con Listas y Tuplas**"
   ]
  },
  {
   "cell_type": "code",
   "execution_count": 40,
   "metadata": {},
   "outputs": [],
   "source": [
    "def analizar_lista(x):\n",
    "    match x:\n",
    "        case [a, b]:\n",
    "            return f\"Lista con dos elementos: {a}, {b}\"\n",
    "        case [a, b, *rest]:\n",
    "            return f\"Lista con al menos dos elementos: {a}, {b}, y el resto {rest}\"\n",
    "        case _:\n",
    "            return \"Lista de longitud desconocida\""
   ]
  },
  {
   "cell_type": "code",
   "execution_count": 43,
   "metadata": {},
   "outputs": [
    {
     "name": "stdout",
     "output_type": "stream",
     "text": [
      "Lista con dos elementos: 1, 2\n",
      "Lista con al menos dos elementos: 2, 4, y el resto [6, 8]\n",
      "Lista de longitud desconocida\n"
     ]
    }
   ],
   "source": [
    "print(analizar_lista([1, 2]))\n",
    "print(analizar_lista([2, 4, 6, 8]))\n",
    "print(analizar_lista([1]))"
   ]
  },
  {
   "cell_type": "markdown",
   "metadata": {},
   "source": [
    "## **Patrones con Diccionarios**"
   ]
  },
  {
   "cell_type": "code",
   "execution_count": 48,
   "metadata": {},
   "outputs": [],
   "source": [
    "def analizar_dict(diccionario):\n",
    "    match diccionario:\n",
    "        case {\"nombre\": nombre, \"edad\": edad}:\n",
    "            return f\"Nombre: {nombre}, Edad: {edad}\"\n",
    "        case {\"nombre\": nombre}:\n",
    "            return f\"Nombre: {nombre}, edad desconocida\"\n",
    "        case _:\n",
    "            return \"Diccionario desconocido\""
   ]
  },
  {
   "cell_type": "code",
   "execution_count": 47,
   "metadata": {},
   "outputs": [
    {
     "name": "stdout",
     "output_type": "stream",
     "text": [
      "Nombre: Juan, Edad: 30\n",
      "Nombre: Ana, edad desconocida\n",
      "Diccionario desconocido\n"
     ]
    }
   ],
   "source": [
    "print(analizar_dict({\"nombre\": \"Juan\", \"edad\": 30}))\n",
    "print(analizar_dict({\"nombre\": \"Ana\"}))\n",
    "print(analizar_dict({\"edad\": 25}))"
   ]
  },
  {
   "cell_type": "markdown",
   "metadata": {},
   "source": [
    "## **Patrones de Tipo**"
   ]
  },
  {
   "cell_type": "code",
   "execution_count": 50,
   "metadata": {},
   "outputs": [],
   "source": [
    "def tipo_dato(dato):\n",
    "    match dato:\n",
    "        case int():\n",
    "            return \"Es un entero\"\n",
    "        case str():\n",
    "            return \"Es una cadena de texto\"\n",
    "        case list():\n",
    "            return \"Es una lista\"\n",
    "        case _:\n",
    "            return \"Tipo desconocido\""
   ]
  },
  {
   "cell_type": "code",
   "execution_count": 57,
   "metadata": {},
   "outputs": [
    {
     "name": "stdout",
     "output_type": "stream",
     "text": [
      "Es un entero\n",
      "Es una cadena de texto\n",
      "Es una lista\n",
      "Tipo desconocido\n"
     ]
    }
   ],
   "source": [
    "print(tipo_dato(123))\n",
    "print(tipo_dato(\"Hola\"))\n",
    "print(tipo_dato([1, 2, 3]))\n",
    "print(tipo_dato({\"nombre\": \"José\"}))"
   ]
  }
 ],
 "metadata": {
  "kernelspec": {
   "display_name": "env",
   "language": "python",
   "name": "python3"
  },
  "language_info": {
   "codemirror_mode": {
    "name": "ipython",
    "version": 3
   },
   "file_extension": ".py",
   "mimetype": "text/x-python",
   "name": "python",
   "nbconvert_exporter": "python",
   "pygments_lexer": "ipython3",
   "version": "3.13.1"
  }
 },
 "nbformat": 4,
 "nbformat_minor": 2
}
