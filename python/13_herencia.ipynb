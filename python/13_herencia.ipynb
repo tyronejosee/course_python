{
 "cells": [
  {
   "cell_type": "markdown",
   "metadata": {},
   "source": [
    "# **Herencia**\n",
    "\n",
    "La herencia permite definir una clase que hereda todos los métodos y propiedades de otra clase.\n",
    "\n",
    "- **Clase padre**: Clase de la que se heredan las propiedades y métodos. También llamada **clase base**.\n",
    "- **Clase hija**: Clase que hereda de otra clase. También llamada **clase derivada**."
   ]
  },
  {
   "cell_type": "markdown",
   "metadata": {},
   "source": [
    "## **Crear una Clase Padre**\n",
    "\n",
    "Cualquier clase puede ser una clase padre, su sintaxis es igual a la de cualquier otra clase."
   ]
  },
  {
   "cell_type": "code",
   "execution_count": null,
   "metadata": {},
   "outputs": [],
   "source": [
    "class Persona:\n",
    "    def __init__(self, nombre, apellido):\n",
    "        self.nombre = nombre\n",
    "        self.apellido = apellido\n",
    "\n",
    "    def imprimir_nombre(self):\n",
    "        print(self.nombre, self.apellido)\n",
    "\n",
    "\n",
    "hiromi = Persona(\"Hiromi\", \"Mendoza\")\n",
    "hiromi.imprimir_nombre()"
   ]
  },
  {
   "cell_type": "markdown",
   "metadata": {},
   "source": [
    "## **Crear una Clase Hija**\n",
    "\n",
    "Para crear una clase hija, pase la clase padre como parámetro al definir la clase hija."
   ]
  },
  {
   "cell_type": "code",
   "execution_count": 4,
   "metadata": {},
   "outputs": [],
   "source": [
    "class Persona:\n",
    "    def __init__(self, nombre, apellido):\n",
    "        self.nombre = nombre\n",
    "        self.apellido = apellido\n",
    "\n",
    "    def imprimir_nombre(self):\n",
    "        print(self.nombre, self.apellido)\n",
    "\n",
    "\n",
    "class Estudiante(Persona):\n",
    "    pass"
   ]
  },
  {
   "cell_type": "markdown",
   "metadata": {},
   "source": [
    "Ahora, `Estudiante` tiene las mismas propiedades y métodos que `Persona`."
   ]
  },
  {
   "cell_type": "code",
   "execution_count": null,
   "metadata": {},
   "outputs": [],
   "source": [
    "nombre = Estudiante(\"Hiromi\", \"Mendoza\")\n",
    "nombre.imprimir_nombre()"
   ]
  },
  {
   "cell_type": "markdown",
   "metadata": {},
   "source": [
    "## **Agregar la Función `__init__()`**\n",
    "\n",
    "Puede agregar un método `__init__()` a la clase hija para inicializar propiedades adicionales.\n",
    "\n",
    "> Nota: Agregar un método `__init__()` en la clase hija, este sobrescribirá el método `__init__()` de la clase padre. Para mantener la herencia del método __init__() de la clase padre, debes llamarlo explícitamente."
   ]
  },
  {
   "cell_type": "code",
   "execution_count": 11,
   "metadata": {},
   "outputs": [],
   "source": [
    "class Persona:\n",
    "    def __init__(self, nombre, apellido):\n",
    "        self.nombre = nombre\n",
    "        self.apellido = apellido\n",
    "\n",
    "    def imprimir_nombre(self):\n",
    "        print(self.nombre, self.apellido)\n",
    "\n",
    "\n",
    "class Estudiante(Persona):\n",
    "    def __init__(self, nombre, apellido):\n",
    "        Persona.__init__(self, nombre, apellido) # Fíjate en Persona"
   ]
  },
  {
   "cell_type": "markdown",
   "metadata": {},
   "source": [
    "## **Función `super()`**\n",
    "\n",
    "Permite que la **clase hija** herede métodos y propiedades de la **clase padre** sin usar su nombre directamente."
   ]
  },
  {
   "cell_type": "code",
   "execution_count": null,
   "metadata": {},
   "outputs": [],
   "source": [
    "class Persona:\n",
    "    def __init__(self, nombre, apellido):\n",
    "        self.nombre = nombre\n",
    "        self.apellido = apellido\n",
    "\n",
    "    def imprimir_nombre(self):\n",
    "        print(self.nombre, self.apellido)\n",
    "\n",
    "\n",
    "class Estudiante(Persona):\n",
    "    def __init__(self, nombre, apellido):\n",
    "        super().__init__(nombre, apellido) # super()"
   ]
  },
  {
   "cell_type": "markdown",
   "metadata": {},
   "source": [
    "## **Agregar Propiedades**\n",
    "\n",
    "Puede agregar nuevas propiedades a la clase hija."
   ]
  },
  {
   "cell_type": "code",
   "execution_count": 20,
   "metadata": {},
   "outputs": [],
   "source": [
    "class Persona:\n",
    "    def __init__(self, nombre, apellido):\n",
    "        self.nombre = nombre\n",
    "        self.apellido = apellido\n",
    "\n",
    "    def imprimir_nombre(self):\n",
    "        print(self.nombre, self.apellido)\n",
    "\n",
    "\n",
    "class Estudiante(Persona):\n",
    "    def __init__(self, nombre, apellido, edad):\n",
    "        super().__init__(nombre, apellido)\n",
    "        self.edad = edad # Nuevos atributos\n",
    "\n",
    "\n",
    "sofia = Estudiante(\"Megan\", \"Sofía\", 11)"
   ]
  },
  {
   "cell_type": "markdown",
   "metadata": {},
   "source": [
    "## **Agregar Métodos**\n",
    "\n",
    "Puede definir métodos adicionales en la clase hija."
   ]
  },
  {
   "cell_type": "code",
   "execution_count": null,
   "metadata": {},
   "outputs": [],
   "source": [
    "class Persona:\n",
    "    def __init__(self, nombre, apellido):\n",
    "        self.nombre = nombre\n",
    "        self.apellido = apellido\n",
    "\n",
    "    def imprimir_nombre(self):\n",
    "        print(self.nombre, self.apellido)\n",
    "\n",
    "\n",
    "class Estudiante(Persona):\n",
    "    def __init__(self, nombre, apellido, edad):\n",
    "        super().__init__(nombre, apellido)\n",
    "        self.edad = edad # Nuevos atributos\n",
    "    \n",
    "    def imprimir_nombre(self): # Método sobrescrito\n",
    "        print(\"Este método\")\n",
    "    \n",
    "    def imprimir_datos(self):\n",
    "        print(self.nombre, self.apellido, self.edad)\n",
    "\n",
    "\n",
    "sofia = Estudiante(\"Megan\", \"Sofía\", 11)\n",
    "# sofia.imprimir_datos()\n",
    "sofia.imprimir_nombre()"
   ]
  },
  {
   "cell_type": "markdown",
   "metadata": {},
   "source": [
    "> Nota: Si define un método en la clase hija con el mismo nombre que un método en la clase padre, este sobrescribirá el método de la clase padre."
   ]
  }
 ],
 "metadata": {
  "kernelspec": {
   "display_name": "Python 3",
   "language": "python",
   "name": "python3"
  },
  "language_info": {
   "codemirror_mode": {
    "name": "ipython",
    "version": 3
   },
   "file_extension": ".py",
   "mimetype": "text/x-python",
   "name": "python",
   "nbconvert_exporter": "python",
   "pygments_lexer": "ipython3",
   "version": "3.11.9"
  }
 },
 "nbformat": 4,
 "nbformat_minor": 2
}
