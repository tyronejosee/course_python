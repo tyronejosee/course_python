{
 "cells": [
  {
   "cell_type": "markdown",
   "metadata": {},
   "source": [
    "# **Ejemplos**"
   ]
  },
  {
   "cell_type": "markdown",
   "metadata": {},
   "source": [
    "## **Piedra, Papel o Tijera**"
   ]
  },
  {
   "cell_type": "code",
   "execution_count": null,
   "metadata": {},
   "outputs": [],
   "source": [
    "import random\n",
    "\n",
    "opciones = [\"piedra\", \"papel\", \"tijera\"]\n",
    "numeros = [1,2,3,4,5,6,7,8,9,10]\n",
    "\n",
    "ejemplo = random.choices(opciones)\n",
    "print(ejemplo)"
   ]
  },
  {
   "cell_type": "code",
   "execution_count": null,
   "metadata": {},
   "outputs": [],
   "source": [
    "import random\n",
    "\n",
    "def jugar():\n",
    "    print(\"¡Bienvenido a Piedra, Papel o Tijera!\")\n",
    "    opciones = [\"piedra\", \"papel\", \"tijera\"]\n",
    "\n",
    "    while True:\n",
    "        jugador = input(\"Elige: piedra, papel o tijera (o 'salir' para terminar): \").lower()\n",
    "        if jugador == \"salir\":\n",
    "            print(\"¡Gracias por jugar! \\n\\n\")\n",
    "            break\n",
    "        if jugador not in opciones:\n",
    "            print(\"Opción no válida. Intenta de nuevo. \\n\\n\")\n",
    "            continue\n",
    "\n",
    "        computadora = random.choice(opciones)\n",
    "        print(f\"Tú: {jugador}\")\n",
    "        print(f\"Computadora: {computadora}\")\n",
    "\n",
    "        if jugador == computadora:\n",
    "            print(\"¡Es un empate! \\n\")\n",
    "        elif (jugador == \"piedra\" and computadora == \"tijera\") or \\\n",
    "             (jugador == \"papel\" and computadora == \"piedra\") or \\\n",
    "             (jugador == \"tijera\" and computadora == \"papel\"):\n",
    "            print(\"¡Ganaste! \\n\")\n",
    "        else:\n",
    "            print(\"Perdiste. ¡Suerte la próxima vez! \\n\")\n",
    "\n",
    "jugar()"
   ]
  },
  {
   "cell_type": "markdown",
   "metadata": {},
   "source": [
    "## **Calculadora de IVA Básica**"
   ]
  },
  {
   "cell_type": "code",
   "execution_count": null,
   "metadata": {},
   "outputs": [],
   "source": [
    "def calcular_iva():\n",
    "    monto_neto = float(input(\"Ingresa el monto neto: \"))\n",
    "    iva = monto_neto * 0.19\n",
    "    total = monto_neto + iva\n",
    "    \n",
    "    print(f\"IVA (19%): ${iva:.2f}\")\n",
    "    print(f\"Monto total: ${total:.2f}\")\n",
    "\n",
    "calcular_iva()"
   ]
  },
  {
   "cell_type": "markdown",
   "metadata": {},
   "source": [
    "## **Clasificación Básica de Gastos**"
   ]
  },
  {
   "cell_type": "code",
   "execution_count": null,
   "metadata": {},
   "outputs": [],
   "source": [
    "def clasificar_gastos():\n",
    "    categorias = {\"Arriendo\": 0.0, \"Suministros\": 0.0, \"Transporte\": 0.0}\n",
    "    \n",
    "    while True:\n",
    "        print(\"\\nCategorías disponibles:\", \", \".join(categorias.keys()))\n",
    "        categoria = input(\"Elige una categoría o escribe 'salir' para terminar: \").capitalize()\n",
    "        if categoria == \"Salir\":\n",
    "            break\n",
    "        if categoria not in categorias:\n",
    "            print(\"Categoría no válida, intenta nuevamente.\")\n",
    "            continue\n",
    "        \n",
    "        monto = float(input(f\"Ingresa el monto para {categoria}: \"))\n",
    "        categorias[categoria] += monto\n",
    "    \n",
    "    print(\"\\nResumen de gastos:\")\n",
    "    for cat, total in categorias.items():\n",
    "        print(f\"{cat}: ${total:.2f}\")\n",
    "\n",
    "clasificar_gastos()"
   ]
  },
  {
   "cell_type": "markdown",
   "metadata": {},
   "source": [
    "## **Seguimiento Básico de Facturas**"
   ]
  },
  {
   "cell_type": "code",
   "execution_count": null,
   "metadata": {},
   "outputs": [],
   "source": [
    "def seguimiento_facturas():\n",
    "    facturas = []\n",
    "    while True:\n",
    "        nombre = input(\"Ingresa el nombre de la factura (o escribe 'salir' para terminar): \")\n",
    "        if nombre.lower() == \"salir\":\n",
    "            break\n",
    "        \n",
    "        monto = float(input(\"Ingresa el monto de la factura: \"))\n",
    "        facturas.append({\"nombre\": nombre, \"monto\": monto})\n",
    "    \n",
    "    print(\"\\nFacturas ingresadas:\")\n",
    "    total = 0\n",
    "    for factura in facturas:\n",
    "        print(f\"Factura: {factura['nombre']}, Monto: ${factura['monto']:.2f}\")\n",
    "        total += factura['monto']\n",
    "    \n",
    "    print(f\"\\nMonto total: ${total:.2f}\")\n",
    "\n",
    "seguimiento_facturas()"
   ]
  },
  {
   "cell_type": "markdown",
   "metadata": {},
   "source": [
    "## **Conversión de CLP a USD**"
   ]
  },
  {
   "cell_type": "code",
   "execution_count": null,
   "metadata": {},
   "outputs": [],
   "source": [
    "def convertir_moneda():\n",
    "    tipo_cambio = float(input(\"Ingresa el tipo de cambio (CLP a USD): \"))\n",
    "    monto_clp = float(input(\"Ingresa el monto en CLP: \"))\n",
    "    monto_usd = monto_clp / tipo_cambio\n",
    "    print(f\"El monto en USD es: ${monto_usd:.2f}\")\n",
    "\n",
    "convertir_moneda()"
   ]
  },
  {
   "cell_type": "markdown",
   "metadata": {},
   "source": [
    "## **Generador de Recibos Básicos**"
   ]
  },
  {
   "cell_type": "code",
   "execution_count": null,
   "metadata": {},
   "outputs": [],
   "source": [
    "def generar_recibo():\n",
    "    nombre = input(\"Ingresa el nombre del cliente: \")\n",
    "    monto = float(input(\"Ingresa el monto pagado: \"))\n",
    "    fecha = input(\"Ingresa la fecha (dd-mm-aaaa): \")\n",
    "    \n",
    "    recibo = f\"\"\"\n",
    "    --- RECIBO ---\n",
    "    Cliente: {nombre}\n",
    "    Fecha: {fecha}\n",
    "    Monto pagado: ${monto:.2f}\n",
    "    ----------------\n",
    "    \"\"\"\n",
    "    print(recibo)\n",
    "\n",
    "generar_recibo()"
   ]
  }
 ],
 "metadata": {
  "kernelspec": {
   "display_name": "Python 3",
   "language": "python",
   "name": "python3"
  },
  "language_info": {
   "codemirror_mode": {
    "name": "ipython",
    "version": 3
   },
   "file_extension": ".py",
   "mimetype": "text/x-python",
   "name": "python",
   "nbconvert_exporter": "python",
   "pygments_lexer": "ipython3",
   "version": "3.11.9"
  }
 },
 "nbformat": 4,
 "nbformat_minor": 2
}
