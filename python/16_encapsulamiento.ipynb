{
 "cells": [
  {
   "cell_type": "markdown",
   "metadata": {},
   "source": [
    "# **Encapsulamiento**\n",
    "\n",
    "- Es un principio fundamental de la programación orientada a objetos que restringe el acceso directo a los datos y métodos de un objeto\n",
    "- Esto se logra controlando cómo se accede y modifica los atributos y métodos de una clase.\n",
    "\n",
    "Niveles de acceso:\n",
    "- Público\n",
    "- Protegido\n",
    "- Privado."
   ]
  },
  {
   "cell_type": "markdown",
   "metadata": {},
   "source": [
    "## **Público**\n",
    "\n",
    "- Los atributos y métodos públicos se pueden acceder desde cualquier lugar, tanto dentro como fuera de la clase.\n",
    "- Por defecto, todos los atributos y métodos en Python son públicos."
   ]
  },
  {
   "cell_type": "code",
   "execution_count": 1,
   "metadata": {},
   "outputs": [
    {
     "name": "stdout",
     "output_type": "stream",
     "text": [
      "Harry Potter\n",
      "Nombre: Harry Potter, Edad: 32\n"
     ]
    }
   ],
   "source": [
    "class Persona:\n",
    "    def __init__(self, nombre, edad):\n",
    "        self.nombre = nombre  # Público\n",
    "        self.edad = edad      # Público\n",
    "\n",
    "    def mostrar_info(self):\n",
    "        print(f\"Nombre: {self.nombre}, Edad: {self.edad}\")\n",
    "\n",
    "persona = Persona(\"Harry Potter\", 32)\n",
    "\n",
    "print(persona.nombre)  # Acceso directo\n",
    "persona.mostrar_info()  # Llamada al método público"
   ]
  },
  {
   "cell_type": "markdown",
   "metadata": {},
   "source": [
    "## **Protegido**\n",
    "\n",
    "- Los atributos protegidos comienzan con un guion bajo (_) y sugieren que no deben ser accedidos directamente fuera de la clase.\n",
    "- Aunque técnicamente se pueden acceder desde fuera de la clase, no es una buena práctica."
   ]
  },
  {
   "cell_type": "code",
   "execution_count": 2,
   "metadata": {},
   "outputs": [
    {
     "name": "stdout",
     "output_type": "stream",
     "text": [
      "Ana\n",
      "Nombre: Ana, Edad: 25\n"
     ]
    }
   ],
   "source": [
    "class Persona:\n",
    "    def __init__(self, nombre, edad):\n",
    "        self._nombre = nombre  # Protegido\n",
    "        self._edad = edad      # Protegido\n",
    "\n",
    "    def mostrar_info(self):\n",
    "        print(f\"Nombre: {self._nombre}, Edad: {self._edad}\")\n",
    "\n",
    "persona = Persona(\"Ana\", 25)\n",
    "\n",
    "print(persona._nombre)  # No recomendado, pero posible\n",
    "persona.mostrar_info()"
   ]
  },
  {
   "cell_type": "markdown",
   "metadata": {},
   "source": [
    "## **Privado**\n",
    "\n",
    "- Los atributos y métodos privados se definen usando un doble guion bajo `__`.\n",
    "- Estos no pueden ser accedidos directamente desde fuera de la clase.\n",
    "- Para acceder a ellos, se deben usar métodos públicos o protegidos de la misma clase."
   ]
  },
  {
   "cell_type": "code",
   "execution_count": 3,
   "metadata": {},
   "outputs": [
    {
     "name": "stdout",
     "output_type": "stream",
     "text": [
      "Nombre: Luis, Edad: 40\n"
     ]
    }
   ],
   "source": [
    "class Persona:\n",
    "    def __init__(self, nombre, edad):\n",
    "        self.__nombre = nombre  # Privado\n",
    "        self.__edad = edad      # Privado\n",
    "\n",
    "    def mostrar_info(self):\n",
    "        print(f\"Nombre: {self.__nombre}, Edad: {self.__edad}\")\n",
    "\n",
    "persona = Persona(\"Luis\", 40)\n",
    "# print(persona.__nombre)  # AttributeError\n",
    "persona.mostrar_info()"
   ]
  },
  {
   "cell_type": "markdown",
   "metadata": {},
   "source": [
    "## **Métodos Getters y Setters**\n",
    "\n",
    "Para manejar atributos privados de manera controlada, se utilizan métodos getters y setters."
   ]
  },
  {
   "cell_type": "code",
   "execution_count": 4,
   "metadata": {},
   "outputs": [
    {
     "name": "stdout",
     "output_type": "stream",
     "text": [
      "Carlos\n",
      "40\n"
     ]
    }
   ],
   "source": [
    "class Persona:\n",
    "    def __init__(self, nombre, edad):\n",
    "        self.__nombre = nombre  # Privado\n",
    "        self.__edad = edad      # Privado\n",
    "\n",
    "    # Getter para nombre\n",
    "    def get_nombre(self):\n",
    "        return self.__nombre\n",
    "\n",
    "    # Setter para nombre\n",
    "    def set_nombre(self, nombre):\n",
    "        self.__nombre = nombre\n",
    "\n",
    "    # Getter para edad\n",
    "    def get_edad(self):\n",
    "        return self.__edad\n",
    "\n",
    "    # Setter para edad\n",
    "    def set_edad(self, edad):\n",
    "        if edad > 0:\n",
    "            self.__edad = edad\n",
    "        else:\n",
    "            print(\"La edad debe ser positiva\")\n",
    "\n",
    "persona = Persona(\"Carlos\", 35)\n",
    "\n",
    "# Acceso controlado\n",
    "print(persona.get_nombre())\n",
    "\n",
    "# Modificación controlada\n",
    "persona.set_edad(40)\n",
    "\n",
    "print(persona.get_edad())\n"
   ]
  },
  {
   "cell_type": "markdown",
   "metadata": {},
   "source": [
    "## **Decorador `@property`**\n",
    "\n",
    "Python proporciona una forma más elegante de definir getters y setters usando el decorador `@property`."
   ]
  },
  {
   "cell_type": "code",
   "execution_count": 5,
   "metadata": {},
   "outputs": [
    {
     "name": "stdout",
     "output_type": "stream",
     "text": [
      "Lucía\n",
      "María\n",
      "La edad debe ser positiva\n"
     ]
    }
   ],
   "source": [
    "class Persona:\n",
    "    def __init__(self, nombre, edad):\n",
    "        self.__nombre = nombre\n",
    "        self.__edad = edad\n",
    "\n",
    "    @property\n",
    "    def nombre(self):\n",
    "        return self.__nombre\n",
    "\n",
    "    @nombre.setter\n",
    "    def nombre(self, valor):\n",
    "        self.__nombre = valor\n",
    "\n",
    "    @property\n",
    "    def edad(self):\n",
    "        return self.__edad\n",
    "\n",
    "    @edad.setter\n",
    "    def edad(self, valor):\n",
    "        if valor > 0:\n",
    "            self.__edad = valor\n",
    "        else:\n",
    "            print(\"La edad debe ser positiva\")\n",
    "\n",
    "persona = Persona(\"Lucía\", 28)\n",
    "\n",
    "# Usa el getter\n",
    "print(persona.nombre)\n",
    "\n",
    "# Usa el setter\n",
    "persona.nombre = \"María\"\n",
    "print(persona.nombre)\n",
    "\n",
    "# Intento de valor inválido\n",
    "persona.edad = -5"
   ]
  }
 ],
 "metadata": {
  "kernelspec": {
   "display_name": "env",
   "language": "python",
   "name": "python3"
  },
  "language_info": {
   "codemirror_mode": {
    "name": "ipython",
    "version": 3
   },
   "file_extension": ".py",
   "mimetype": "text/x-python",
   "name": "python",
   "nbconvert_exporter": "python",
   "pygments_lexer": "ipython3",
   "version": "3.13.1"
  }
 },
 "nbformat": 4,
 "nbformat_minor": 2
}
