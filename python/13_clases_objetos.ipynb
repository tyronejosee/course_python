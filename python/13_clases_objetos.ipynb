{
 "cells": [
  {
   "cell_type": "markdown",
   "metadata": {},
   "source": [
    "# **Clases y Objetos**\n",
    "\n",
    "- Python es un lenguaje de programación orientado a objetos.\n",
    "- Casi todo en Python es un objeto, con sus propiedades y métodos.\n",
    "- Una Clase es como un constructor de objetos o un \"plano\" para crear objetos."
   ]
  },
  {
   "cell_type": "markdown",
   "metadata": {},
   "source": [
    "## **Crear una Clase**\n",
    "\n",
    "Para crear una clase, utiliza la palabra clave `class`"
   ]
  },
  {
   "cell_type": "code",
   "execution_count": 1,
   "metadata": {},
   "outputs": [],
   "source": [
    "class NombreClase:\n",
    "    atributo = 5"
   ]
  },
  {
   "cell_type": "markdown",
   "metadata": {},
   "source": [
    "## **Crear un Objeto**\n",
    "\n",
    "Una vez definida la clase, puedes usarla para crear objetos."
   ]
  },
  {
   "cell_type": "code",
   "execution_count": 2,
   "metadata": {},
   "outputs": [
    {
     "name": "stdout",
     "output_type": "stream",
     "text": [
      "5\n"
     ]
    }
   ],
   "source": [
    "class MiClase:\n",
    "    x = 5\n",
    "\n",
    "objeto = MiClase()\n",
    "\n",
    "print(objeto.x)"
   ]
  },
  {
   "cell_type": "markdown",
   "metadata": {},
   "source": [
    "## **Función `__init__()`**\n",
    "\n",
    "- Los ejemplos anteriores son clases y objetos en su forma más simple, pero no suelen ser útiles en aplicaciones reales.\n",
    "- Para comprender las clases, es importante conocer la función incorporada `__init__()`.\n",
    "- Todas las clases tienen una función llamada `__init__()`, que se ejecuta automáticamente al iniciar la clase.\n",
    "- Se utiliza para asignar valores a las propiedades del objeto o realizar operaciones necesarias al crearlo."
   ]
  },
  {
   "cell_type": "code",
   "execution_count": 3,
   "metadata": {},
   "outputs": [
    {
     "name": "stdout",
     "output_type": "stream",
     "text": [
      "Tyrone\n",
      "28\n"
     ]
    }
   ],
   "source": [
    "class Persona:\n",
    "    def __init__(self, nombre, edad):\n",
    "        self.nombre = nombre\n",
    "        self.edad = edad\n",
    "\n",
    "tyrone = Persona(\"Tyrone\", 28)\n",
    "\n",
    "print(tyrone.nombre)\n",
    "print(tyrone.edad)\n"
   ]
  },
  {
   "cell_type": "markdown",
   "metadata": {},
   "source": [
    "> Nota: La función `__init__()` se llama automáticamente cada vez que se crea un nuevo objeto."
   ]
  },
  {
   "cell_type": "markdown",
   "metadata": {},
   "source": [
    "## **Función `__str__()`**\n",
    "\n",
    "Controla lo que se devuelve cuando un objeto de clase se representa como cadena.\n",
    "- Sin `__str__()`: Devuelve la representación predeterminada del objeto.\n",
    "- Con `__str__()`: Devuelve una representación personalizada del objeto."
   ]
  },
  {
   "cell_type": "code",
   "execution_count": 4,
   "metadata": {},
   "outputs": [
    {
     "name": "stdout",
     "output_type": "stream",
     "text": [
      "<__main__.Persona object at 0x000002434C65A990>\n"
     ]
    }
   ],
   "source": [
    "# Sin __str__()\n",
    "class Persona:\n",
    "    def __init__(self, nombre, edad):\n",
    "        self.nombre = nombre\n",
    "        self.edad = edad\n",
    "\n",
    "tyrone = Persona(\"Tyrone\", 28)\n",
    "print(tyrone)"
   ]
  },
  {
   "cell_type": "code",
   "execution_count": 5,
   "metadata": {},
   "outputs": [
    {
     "name": "stdout",
     "output_type": "stream",
     "text": [
      "Hiromi Mendoza (28)\n"
     ]
    }
   ],
   "source": [
    "# Con __str__()\n",
    "class Persona:\n",
    "    def __init__(self, nombre, edad):\n",
    "        self.nombre = nombre\n",
    "        self.edad = edad\n",
    "    \n",
    "    def __str__(self):\n",
    "        return f\"{self.nombre} ({self.edad})\"\n",
    "\n",
    "tyrone = Persona(\"Hiromi Mendoza\", 28)\n",
    "print(tyrone)"
   ]
  },
  {
   "cell_type": "markdown",
   "metadata": {},
   "source": [
    "## **Métodos de Objeto**\n",
    "\n",
    "- Los objetos también pueden contener métodos.\n",
    "- Un método es una **función** que pertenece a un objeto."
   ]
  },
  {
   "cell_type": "code",
   "execution_count": 6,
   "metadata": {},
   "outputs": [
    {
     "name": "stdout",
     "output_type": "stream",
     "text": [
      "Hola, mi nombre es Tyrone\n"
     ]
    }
   ],
   "source": [
    "class Persona:\n",
    "    def __init__(self, nombre, edad):\n",
    "        self.nombre = nombre\n",
    "        self.edad = edad\n",
    "    \n",
    "    def saludar(self):\n",
    "        print(f\"Hola, mi nombre es {self.nombre}\")\n",
    "\n",
    "tyrone = Persona(\"Tyrone\", 28)\n",
    "tyrone.saludar()\n"
   ]
  },
  {
   "cell_type": "markdown",
   "metadata": {},
   "source": [
    "## **Párametro  `self`**\n",
    "\n",
    "- El parámetro `self` hace referencia a la instancia actual de la clase y se utiliza para acceder a variables de la misma.\n",
    "- No es obligatorio llamarlo `self`, pero debe ser el primer parámetro en cualquier función de la clase."
   ]
  },
  {
   "cell_type": "code",
   "execution_count": 7,
   "metadata": {},
   "outputs": [
    {
     "name": "stdout",
     "output_type": "stream",
     "text": [
      "Hola, mi nombre es Tyrone\n"
     ]
    }
   ],
   "source": [
    "class Persona:\n",
    "    def __init__(self, nombre, edad):\n",
    "        self.nombre = nombre\n",
    "        self.edad = edad\n",
    "    \n",
    "    def saludar(nombre_random):\n",
    "        print(f\"Hola, mi nombre es {nombre_random.nombre}\")\n",
    "\n",
    "tyrone = Persona(\"Tyrone\", 28)\n",
    "tyrone.saludar()"
   ]
  },
  {
   "cell_type": "markdown",
   "metadata": {},
   "source": [
    "## **Modificar Propiedades de un Objeto**\n",
    "\n",
    "Puedes modificar las propiedades de un objeto directamente."
   ]
  },
  {
   "cell_type": "code",
   "execution_count": 8,
   "metadata": {},
   "outputs": [
    {
     "name": "stdout",
     "output_type": "stream",
     "text": [
      "Hola, mi nombre es Tyrone\n"
     ]
    }
   ],
   "source": [
    "class Persona:\n",
    "    def __init__(self, nombre, edad):\n",
    "        self.nombre = nombre\n",
    "        self.edad = edad\n",
    "    \n",
    "    def saludar(self):\n",
    "        print(f\"Hola, mi nombre es {self.nombre}\")\n",
    "\n",
    "tyrone = Persona(\"Tyrone\", 28)\n",
    "# tyrone.nombre = \"Hiromi\"\n",
    "\n",
    "tyrone.saludar()"
   ]
  },
  {
   "cell_type": "markdown",
   "metadata": {},
   "source": [
    "## **Eliminar Propiedades de un Objeto**\n",
    "\n",
    "Puedes eliminar propiedades de un objeto utilizando la palabra clave `del`"
   ]
  },
  {
   "cell_type": "code",
   "execution_count": 9,
   "metadata": {},
   "outputs": [],
   "source": [
    "class Persona:\n",
    "    def __init__(self, nombre, edad):\n",
    "        self.nombre = nombre\n",
    "        self.edad = edad\n",
    "    \n",
    "    def saludar(self):\n",
    "        print(f\"Hola, mi nombre es {self.nombre}\")\n",
    "\n",
    "tyrone = Persona(\"Tyrone\", 28)\n",
    "\n",
    "del tyrone.edad\n",
    "\n",
    "# print(tyrone.edad) # AttributeError"
   ]
  },
  {
   "cell_type": "markdown",
   "metadata": {},
   "source": [
    "## **Eliminar Objetos**\n",
    "\n",
    "También puedes eliminar objetos completos con `del`"
   ]
  },
  {
   "cell_type": "code",
   "execution_count": 10,
   "metadata": {},
   "outputs": [],
   "source": [
    "class Persona:\n",
    "    def __init__(self, nombre, edad):\n",
    "        self.nombre = nombre\n",
    "        self.edad = edad\n",
    "    \n",
    "    def saludar(self):\n",
    "        print(f\"Hola, mi nombre es {self.nombre}\")\n",
    "\n",
    "tyrone = Persona(\"Tyrone\", 28)\n",
    "\n",
    "del tyrone\n",
    "\n",
    "# print(tyrone) # NameError"
   ]
  },
  {
   "cell_type": "markdown",
   "metadata": {},
   "source": [
    "## **Declaración `pass`**\n",
    "\n",
    "Las definiciones de clases no pueden estar vacías, pero puedes usar la declaración `pass` para evitar errores."
   ]
  },
  {
   "cell_type": "code",
   "execution_count": 11,
   "metadata": {},
   "outputs": [],
   "source": [
    "class Persona:\n",
    "    pass\n",
    "\n",
    "\n",
    "# class Persona: # SyntaxError"
   ]
  }
 ],
 "metadata": {
  "kernelspec": {
   "display_name": "env",
   "language": "python",
   "name": "python3"
  },
  "language_info": {
   "codemirror_mode": {
    "name": "ipython",
    "version": 3
   },
   "file_extension": ".py",
   "mimetype": "text/x-python",
   "name": "python",
   "nbconvert_exporter": "python",
   "pygments_lexer": "ipython3",
   "version": "3.11.9"
  }
 },
 "nbformat": 4,
 "nbformat_minor": 2
}
