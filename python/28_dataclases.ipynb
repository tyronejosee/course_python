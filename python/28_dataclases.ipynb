{
 "cells": [
  {
   "cell_type": "markdown",
   "metadata": {},
   "source": [
    "# **Dataclasses**\n",
    "\n",
    "Son una forma conveniente de definir clases que esencialmente funcionan como contenedores de datos. Fueron introducidas en Python 3.7 con el módulo dataclasses.\n",
    "\n",
    "## **Conceptos Claves**\n",
    "\n",
    "- **Definición rápida y concisa**: Usan el decorador @dataclass para reducir el código repetitivo.\n",
    "- **Generación automática de métodos**: Se generan automáticamente métodos como `__init__`, `__repr__`, `__eq__`, etc.\n",
    "- **Valores por defecto**: Permiten establecer valores predeterminados.\n",
    "- **Ordenación opcional**: Se pueden comparar usando operadores como `<`, `>`, `<=`, `>=` si se pasa `order=True`.\n",
    "- **Mutabilidad**: Son mutables por defecto, pero se pueden hacer inmutables con `frozen=True`.\n",
    "- **Integración con `field()`**: Se pueden personalizar los atributos con `field()`."
   ]
  },
  {
   "cell_type": "markdown",
   "metadata": {},
   "source": [
    "## **Ejemplo Básico**"
   ]
  },
  {
   "cell_type": "code",
   "execution_count": 5,
   "metadata": {},
   "outputs": [
    {
     "name": "stdout",
     "output_type": "stream",
     "text": [
      "Persona(nombre='Juan', edad=30)\n"
     ]
    }
   ],
   "source": [
    "from dataclasses import dataclass\n",
    "\n",
    "\n",
    "@dataclass\n",
    "class Persona:\n",
    "    nombre: str\n",
    "    edad: int\n",
    "\n",
    "\n",
    "p = Persona(\"Juan\", 30)\n",
    "print(p)  # Persona(nombre='Juan', edad=30)"
   ]
  },
  {
   "cell_type": "markdown",
   "metadata": {},
   "source": [
    "## **Valores por Defecto**"
   ]
  },
  {
   "cell_type": "code",
   "execution_count": 4,
   "metadata": {},
   "outputs": [
    {
     "name": "stdout",
     "output_type": "stream",
     "text": [
      "Producto(nombre='Laptop', precio=0.0, stock=10)\n"
     ]
    }
   ],
   "source": [
    "from dataclasses import dataclass\n",
    "\n",
    "\n",
    "@dataclass\n",
    "class Producto:\n",
    "    nombre: str\n",
    "    precio: float = 0.0\n",
    "    stock: int = 10\n",
    "\n",
    "\n",
    "p = Producto(\"Laptop\")\n",
    "print(p)  # Producto(nombre='Laptop', precio=0.0, stock=10)"
   ]
  },
  {
   "cell_type": "markdown",
   "metadata": {},
   "source": [
    "## **Uso de `field()`**\n",
    "\n",
    "- `field()` permite personalizar atributos."
   ]
  },
  {
   "cell_type": "code",
   "execution_count": 1,
   "metadata": {},
   "outputs": [
    {
     "name": "stdout",
     "output_type": "stream",
     "text": [
      "Carlos\n",
      "[]\n"
     ]
    }
   ],
   "source": [
    "from dataclasses import dataclass, field\n",
    "\n",
    "\n",
    "@dataclass\n",
    "class Usuario:\n",
    "    nombre: str\n",
    "    permisos: list = field(default_factory=list)\n",
    "\n",
    "\n",
    "u = Usuario(\"Carlos\")\n",
    "print(u.nombre)\n",
    "print(u.permisos)"
   ]
  },
  {
   "cell_type": "markdown",
   "metadata": {},
   "source": [
    "> Si se usara permisos: list = [], todos los objetos compartirían la misma lista, lo cual es un problema común con valores mutables."
   ]
  },
  {
   "cell_type": "markdown",
   "metadata": {},
   "source": [
    "## **Comparación y Ordenación**\n",
    "\n",
    "Si `order=True`, se pueden comparar objetos basados en el orden de sus atributos."
   ]
  },
  {
   "cell_type": "code",
   "execution_count": 2,
   "metadata": {},
   "outputs": [
    {
     "name": "stdout",
     "output_type": "stream",
     "text": [
      "True\n"
     ]
    }
   ],
   "source": [
    "from dataclasses import dataclass\n",
    "\n",
    "\n",
    "@dataclass(order=True)\n",
    "class Punto:\n",
    "    x: int\n",
    "    y: int\n",
    "\n",
    "\n",
    "p1 = Punto(1, 5)\n",
    "p2 = Punto(2, 3)\n",
    "\n",
    "print(p1 < p2)  # True (compara primero `x`, luego `y` si `x` es igual)"
   ]
  },
  {
   "cell_type": "markdown",
   "metadata": {},
   "source": [
    "## **Hacer una Dataclass Inmutable**\n",
    "\n",
    "Para evitar que los atributos sean modificados después de la creación, usa `frozen=True`."
   ]
  },
  {
   "cell_type": "code",
   "execution_count": 2,
   "metadata": {},
   "outputs": [
    {
     "name": "stdout",
     "output_type": "stream",
     "text": [
      "Color(rojo=255, verde=0, azul=0)\n"
     ]
    }
   ],
   "source": [
    "from dataclasses import dataclass\n",
    "\n",
    "\n",
    "@dataclass(frozen=True)\n",
    "class Color:\n",
    "    rojo: int\n",
    "    verde: int\n",
    "    azul: int\n",
    "\n",
    "\n",
    "color1 = Color(255, 0, 0)\n",
    "print(color1)\n",
    "# color1.rojo = 128  # Esto lanzará un error porque es inmutable"
   ]
  }
 ],
 "metadata": {
  "kernelspec": {
   "display_name": "env",
   "language": "python",
   "name": "python3"
  },
  "language_info": {
   "codemirror_mode": {
    "name": "ipython",
    "version": 3
   },
   "file_extension": ".py",
   "mimetype": "text/x-python",
   "name": "python",
   "nbconvert_exporter": "python",
   "pygments_lexer": "ipython3",
   "version": "3.13.5"
  }
 },
 "nbformat": 4,
 "nbformat_minor": 2
}
