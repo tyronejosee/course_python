{
 "cells": [
  {
   "cell_type": "markdown",
   "metadata": {},
   "source": [
    "# **Polimorfismo**\n",
    "\n",
    "En terminos simples significa \"muchas formas\". En programación, es como cuando diferentes cosas saben hacer lo mismo, pero a su manera.\n",
    "\n",
    "Piensa en el verbo \"hablar\". Todas las personas pueden hablar, pero lo hacen de formas diferentes según su idioma:\n",
    "\n",
    "- Un niño en España dice: \"Hola\".\n",
    "- Un niño en Estados Unidos dice: \"Hello\".\n",
    "- Un niño en Japón dice: \"こんにちは\" (Konnichiwa)."
   ]
  },
  {
   "cell_type": "markdown",
   "metadata": {},
   "source": [
    "## **Polimorfismo en Funciones**\n",
    "\n",
    "Un ejemplo de polimorfismo en funciones de Python es la función len(), que puede usarse con diferentes tipos de objetos."
   ]
  },
  {
   "cell_type": "code",
   "execution_count": null,
   "metadata": {},
   "outputs": [],
   "source": [
    "texto = \"¡Hola Mundo!\"\n",
    "\n",
    "print(len(texto))  # 12"
   ]
  },
  {
   "cell_type": "code",
   "execution_count": null,
   "metadata": {},
   "outputs": [],
   "source": [
    "tupla = (\"Manzana\", \"Plátano\", \"Cereza\")\n",
    "\n",
    "print(len(tupla)) # 3"
   ]
  },
  {
   "cell_type": "code",
   "execution_count": null,
   "metadata": {},
   "outputs": [],
   "source": [
    "diccionario = {\n",
    "    \"marca\": \"Ford\",\n",
    "    \"modelo\": \"Mustang\",\n",
    "    \"año\": 1964\n",
    "}\n",
    "\n",
    "print(len(diccionario))  # 3"
   ]
  },
  {
   "cell_type": "markdown",
   "metadata": {},
   "source": [
    "## **Polimorfismo en Clases**\n",
    "\n",
    "Se utiliza a menudo en métodos de clases, donde podemos tener múltiples clases con métodos que tienen el mismo nombre."
   ]
  },
  {
   "cell_type": "code",
   "execution_count": null,
   "metadata": {},
   "outputs": [],
   "source": [
    "class Auto:\n",
    "    def __init__(self, marca, modelo):\n",
    "        self.marca = marca\n",
    "        self.modelo = modelo\n",
    "\n",
    "    def mover(self):\n",
    "        print(\"¡Conducir!\")\n",
    "\n",
    "\n",
    "class Bote:\n",
    "    def __init__(self, marca, modelo):\n",
    "        self.marca = marca\n",
    "        self.modelo = modelo\n",
    "\n",
    "    def mover(self):\n",
    "        print(\"¡Navegar!\")\n",
    "\n",
    "\n",
    "class Avion:\n",
    "    def __init__(self, marca, modelo):\n",
    "        self.marca = marca\n",
    "        self.modelo = modelo\n",
    "\n",
    "    def mover(self):\n",
    "        print(\"¡Volar!\")\n",
    "\n",
    "\n",
    "auto1 = Auto(\"Ford\", \"Mustang\")\n",
    "bote1 = Bote(\"Ibiza\", \"Touring 20\")\n",
    "avion1 = Avion(\"Boeing\", \"747\")\n",
    "\n",
    "\n",
    "for objeto in (auto1, bote1, avion1):\n",
    "    objeto.mover()"
   ]
  },
  {
   "cell_type": "markdown",
   "metadata": {},
   "source": [
    "## **Polimorfismo en Herencia de Clases**"
   ]
  },
  {
   "cell_type": "code",
   "execution_count": null,
   "metadata": {},
   "outputs": [],
   "source": [
    "class Vehiculo:\n",
    "    def __init__(self, marca, modelo):\n",
    "        self.marca = marca\n",
    "        self.modelo = modelo\n",
    "    \n",
    "    def mover(self):\n",
    "        print(\"¡Moverse!\")\n",
    "\n",
    "\n",
    "class Auto(Vehiculo):\n",
    "    pass\n",
    "\n",
    "\n",
    "class Bote(Vehiculo):\n",
    "    def mover(self):\n",
    "        print(\"¡Navegar!\")\n",
    "\n",
    "\n",
    "class Avion(Vehiculo):\n",
    "    def mover(self):\n",
    "        print(\"¡Volar!\")\n",
    "\n",
    "\n",
    "auto1 = Auto(\"Ford\", \"Mustang\")\n",
    "bote1 = Bote(\"Ibiza\", \"Touring 20\")\n",
    "avion1 = Avion(\"Boeing\", \"747\")\n",
    "\n",
    "\n",
    "for objeto in (auto1, bote1, avion1):\n",
    "    print(f\"{objeto.marca} {objeto.modelo}\")\n",
    "    objeto.mover()\n",
    "    print()"
   ]
  },
  {
   "cell_type": "markdown",
   "metadata": {},
   "source": [
    "## **Sobrecarga de Operadores**\n",
    "\n",
    "Es cuando los operadores comunes, como `+`, `-`, `*`, `==`, etc., se comportan de maneras diferentes dependiendo de los tipos de datos con los que trabajen."
   ]
  },
  {
   "cell_type": "code",
   "execution_count": null,
   "metadata": {},
   "outputs": [],
   "source": [
    "resultado = 5 + 10\n",
    "print(resultado)"
   ]
  },
  {
   "cell_type": "code",
   "execution_count": null,
   "metadata": {},
   "outputs": [],
   "source": [
    "resultado = \"Hola\" + \" Mundo\"\n",
    "print(resultado)"
   ]
  },
  {
   "cell_type": "markdown",
   "metadata": {},
   "source": [
    "> El método especial `__add__` en las clases permite sobrecargar el operador `+`. Esto significa que puedes personalizar el comportamiento del operador cuando lo usas con objetos de tu clase."
   ]
  },
  {
   "cell_type": "code",
   "execution_count": null,
   "metadata": {},
   "outputs": [],
   "source": [
    "class Punto:\n",
    "    def __init__(self, x, y):\n",
    "        self.x = x\n",
    "        self.y = y\n",
    "\n",
    "    def __add__(self, otro):\n",
    "        # Personalizamos qué hace el operador +\n",
    "        return Punto(\n",
    "            self.x + otro.x,\n",
    "            self.y + otro.y,\n",
    "        )\n",
    "\n",
    "    def __str__(self):\n",
    "        # Para imprimir el objeto de forma entendible\n",
    "        return f\"({self.x}, {self.y})\"\n",
    "\n",
    "# Crear dos puntos\n",
    "punto1 = Punto(3, 4)\n",
    "punto2 = Punto(1, 2)\n",
    "\n",
    "resultado = punto1 + punto2\n",
    "print(resultado)"
   ]
  }
 ],
 "metadata": {
  "kernelspec": {
   "display_name": "Python 3",
   "language": "python",
   "name": "python3"
  },
  "language_info": {
   "codemirror_mode": {
    "name": "ipython",
    "version": 3
   },
   "file_extension": ".py",
   "mimetype": "text/x-python",
   "name": "python",
   "nbconvert_exporter": "python",
   "pygments_lexer": "ipython3",
   "version": "3.11.9"
  }
 },
 "nbformat": 4,
 "nbformat_minor": 2
}
