{
 "cells": [
  {
   "cell_type": "markdown",
   "metadata": {},
   "source": [
    "# **Iteradores**\n",
    "\n",
    "Un iterador es un objeto que contiene un número contable de valores y permite recorrerlos uno a uno.\n",
    "\n",
    "En Python, un iterador es un objeto que implementa el protocolo de iterador, que consiste en los métodos `__iter__()` y `__next__()`."
   ]
  },
  {
   "cell_type": "markdown",
   "metadata": {},
   "source": [
    "## **Iterador vs Iterable**\n",
    "\n",
    "- **Iterables**: Son objetos que contienen datos y permiten obtener un iterador, como **listas**, **tuplas**, **diccionarios**, **conjuntos** y **cadenas de texto**.\n",
    "- **Iteradores**: Son objetos que se pueden recorrer utilizando el método `next()` hasta que no queden más elementos."
   ]
  },
  {
   "cell_type": "markdown",
   "metadata": {},
   "source": [
    "## **Obtener un Iterador de un Iterable**\n",
    "\n",
    "Para obtener un iterador de un objeto iterable, use el método `iter()`."
   ]
  },
  {
   "cell_type": "code",
   "execution_count": null,
   "metadata": {},
   "outputs": [],
   "source": [
    "tupla = (\"Manzana\", \"Platano\", \"Frutilla\")\n",
    "frutas = iter(tupla)\n",
    "# print(type(frutas))\n",
    "\n",
    "print(next(frutas))\n",
    "print(next(frutas))\n",
    "print(next(frutas))"
   ]
  },
  {
   "cell_type": "code",
   "execution_count": null,
   "metadata": {},
   "outputs": [],
   "source": [
    "texto = \"Hiromi\"\n",
    "iterador = iter(texto)\n",
    "\n",
    "print(next(iterador))  # H\n",
    "print(next(iterador))  # i\n",
    "print(next(iterador))  # r\n",
    "print(next(iterador))  # o\n",
    "print(next(iterador))  # m\n",
    "print(next(iterador))  # i"
   ]
  },
  {
   "cell_type": "markdown",
   "metadata": {},
   "source": [
    "## **Iterar con un Bucle `for`**\n",
    "\n",
    "El bucle `for` crea un iterador y llama automáticamente al método `next()` por cada iteración."
   ]
  },
  {
   "cell_type": "code",
   "execution_count": null,
   "metadata": {},
   "outputs": [],
   "source": [
    "frutas = (\"Manzana\", \"Platano\", \"Frutilla\")\n",
    "\n",
    "for fruta in frutas:\n",
    "    print(fruta)"
   ]
  },
  {
   "cell_type": "code",
   "execution_count": null,
   "metadata": {},
   "outputs": [],
   "source": [
    "texto = \"Hiromi\"\n",
    "\n",
    "for letra in texto:\n",
    "    print(letra)"
   ]
  },
  {
   "cell_type": "markdown",
   "metadata": {},
   "source": [
    "## **Crear un Iterador Personalizado**\n",
    "\n",
    "Para crear una clase como iterador:\n",
    "\n",
    "- Implementa el método `__iter__()`, que debe devolver el objeto iterador.\n",
    "- Implementa el método `__next__()`, que devuelve el siguiente elemento de la secuencia."
   ]
  },
  {
   "cell_type": "code",
   "execution_count": null,
   "metadata": {},
   "outputs": [],
   "source": [
    "class Numeros:\n",
    "    def __iter__(self):\n",
    "        self.numero = 1\n",
    "        return self\n",
    "\n",
    "    def __next__(self):\n",
    "        numero = self.numero\n",
    "        self.numero += 1\n",
    "        return numero\n",
    "\n",
    "# Usar el iterador personalizado\n",
    "numeros = Numeros()\n",
    "iterador = iter(numeros)\n",
    "\n",
    "print(next(iterador))\n",
    "print(next(iterador))\n",
    "print(next(iterador))\n",
    "print(next(iterador))"
   ]
  },
  {
   "cell_type": "markdown",
   "metadata": {},
   "source": [
    "## **Detener la Iteración `StopIteration`**\n",
    "\n",
    "Si no se detiene explícitamente, el iterador continuará indefinidamente. Para evitarlo, se utiliza la excepción `StopIteration`."
   ]
  },
  {
   "cell_type": "code",
   "execution_count": null,
   "metadata": {},
   "outputs": [],
   "source": [
    "class Numeros:\n",
    "    def __iter__(self):\n",
    "        self.numero = 1\n",
    "        return self\n",
    "\n",
    "    def __next__(self):\n",
    "        if self.numero <= 20:\n",
    "            numero = self.numero\n",
    "            self.numero += 1\n",
    "            return numero\n",
    "        else:\n",
    "            raise StopIteration\n",
    "\n",
    "numeros = Numeros()\n",
    "iterador = iter(numeros)\n",
    "\n",
    "for x in iterador:\n",
    "    print(x)"
   ]
  }
 ],
 "metadata": {
  "kernelspec": {
   "display_name": "Python 3",
   "language": "python",
   "name": "python3"
  },
  "language_info": {
   "codemirror_mode": {
    "name": "ipython",
    "version": 3
   },
   "file_extension": ".py",
   "mimetype": "text/x-python",
   "name": "python",
   "nbconvert_exporter": "python",
   "pygments_lexer": "ipython3",
   "version": "3.11.9"
  }
 },
 "nbformat": 4,
 "nbformat_minor": 2
}
