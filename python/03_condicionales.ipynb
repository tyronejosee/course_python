{
 "cells": [
  {
   "cell_type": "markdown",
   "metadata": {},
   "source": [
    "# **Condicionales**\n",
    "\n",
    "- Es un mecanismo para ejecutar código solo si una condición es verdadera.\n",
    "\n",
    "![Condicionales](https://www.luisllamas.es/images/20096/programacion-condicional-doble.png)\n",
    "\n",
    "> \"Esta lloviendo? Si: Entonces Paraguas, Esta lloviendo? No: Entonces Gorra\"."
   ]
  },
  {
   "cell_type": "markdown",
   "metadata": {},
   "source": [
    "## **Explicación Básica**\n",
    "\n",
    "- Verificar si tiene la edad para votar."
   ]
  },
  {
   "cell_type": "code",
   "execution_count": null,
   "metadata": {},
   "outputs": [],
   "source": [
    "edad = 18\n",
    "\n",
    "if edad >= 18:\n",
    "    print(\"Puedes votar.\")\n",
    "else:\n",
    "    print(\"No puedes votar.\")"
   ]
  },
  {
   "cell_type": "markdown",
   "metadata": {},
   "source": [
    "## **Determinar si un Número es Par o Impar**\n",
    "\n",
    "- Verificar si un número es par o impar"
   ]
  },
  {
   "cell_type": "code",
   "execution_count": null,
   "metadata": {},
   "outputs": [],
   "source": [
    "numero = int(input(\"Ingresa un número entero: \"))\n",
    "\n",
    "if numero % 2 == 0:\n",
    "    print(f\"{numero} es un número par.\")\n",
    "else:\n",
    "    print(f\"{numero} es un número impar.\")"
   ]
  },
  {
   "cell_type": "markdown",
   "metadata": {},
   "source": [
    "## **Multiples Condiciones**\n",
    "\n",
    "- `if` Ejecuta un bloque de código si la condición es verdadera.\n",
    "- `elif` Verifica otra condición si la anterior fue falsa.\n",
    "- `else` Ejecuta un bloque de código si ninguna de las condiciones anteriores fue verdadera."
   ]
  },
  {
   "cell_type": "code",
   "execution_count": 14,
   "metadata": {},
   "outputs": [],
   "source": [
    "calificacion = 50\n",
    "\n",
    "if calificacion >= 90:\n",
    "    print(\"Tu calificación es A.\")\n",
    "elif calificacion >= 80:\n",
    "    print(\"Tu calificación es B.\")\n",
    "elif calificacion >= 70:\n",
    "    print(\"Tu calificación es C.\")\n",
    "elif calificacion >= 60:\n",
    "    print(\"Tu calificación es D.\")\n",
    "else:\n",
    "    print(\"Tu calificación es F.\")"
   ]
  }
 ],
 "metadata": {
  "kernelspec": {
   "display_name": "Python 3",
   "language": "python",
   "name": "python3"
  },
  "language_info": {
   "codemirror_mode": {
    "name": "ipython",
    "version": 3
   },
   "file_extension": ".py",
   "mimetype": "text/x-python",
   "name": "python",
   "nbconvert_exporter": "python",
   "pygments_lexer": "ipython3",
   "version": "3.11.9"
  }
 },
 "nbformat": 4,
 "nbformat_minor": 2
}
