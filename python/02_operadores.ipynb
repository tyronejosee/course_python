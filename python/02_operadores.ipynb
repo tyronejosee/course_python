{
 "cells": [
  {
   "cell_type": "markdown",
   "metadata": {},
   "source": [
    "# **Operadores**"
   ]
  },
  {
   "cell_type": "markdown",
   "metadata": {},
   "source": [
    "## **Operadores Matemáticos**\n",
    "\n",
    "- Suma `+`\n",
    "- Resta `-`\n",
    "- Multiplicación `*`\n",
    "- División `/`\n",
    "- División entera `//`\n",
    "- Módulo `%`"
   ]
  },
  {
   "cell_type": "code",
   "execution_count": null,
   "metadata": {},
   "outputs": [],
   "source": [
    "a = 10\n",
    "b = 3\n",
    "\n",
    "print(a + b)\n",
    "print(a - b)\n",
    "print(a * b)\n",
    "print(a / b)\n",
    "print(a // b)\n",
    "print(a % b)"
   ]
  },
  {
   "cell_type": "markdown",
   "metadata": {},
   "source": [
    "## **Operadores de Comparación**\n",
    "\n",
    "- Igualdad `==`\n",
    "- Desigualdad `!=`\n",
    "- Menor que `<`\n",
    "- Mayor que `>`\n",
    "- Menor o igual que `<=`\n",
    "- Mayor o igual que `>=`"
   ]
  },
  {
   "cell_type": "code",
   "execution_count": null,
   "metadata": {},
   "outputs": [],
   "source": [
    "x = 10\n",
    "y = 20\n",
    "\n",
    "print(x == y)\n",
    "print(x != y)\n",
    "print(x < y)\n",
    "print(x > y)\n",
    "print(x <= y)\n",
    "print(x >= y)"
   ]
  },
  {
   "cell_type": "markdown",
   "metadata": {},
   "source": [
    "## **Operadores Lógicos**\n",
    "\n",
    "- Verdadero si ambos son verdaderos `and`\n",
    "- Verdadero si al menos uno es verdadero `or`\n",
    "- Niega el valor `not`"
   ]
  },
  {
   "cell_type": "code",
   "execution_count": null,
   "metadata": {},
   "outputs": [],
   "source": [
    "a = True\n",
    "b = False\n",
    "\n",
    "# AND\n",
    "print(a and b)\n",
    "\n",
    "# OR\n",
    "print(a or b)\n",
    "\n",
    "# NOT\n",
    "print(not a)"
   ]
  }
 ],
 "metadata": {
  "kernelspec": {
   "display_name": "Python 3",
   "language": "python",
   "name": "python3"
  },
  "language_info": {
   "codemirror_mode": {
    "name": "ipython",
    "version": 3
   },
   "file_extension": ".py",
   "mimetype": "text/x-python",
   "name": "python",
   "nbconvert_exporter": "python",
   "pygments_lexer": "ipython3",
   "version": "3.11.9"
  }
 },
 "nbformat": 4,
 "nbformat_minor": 2
}
