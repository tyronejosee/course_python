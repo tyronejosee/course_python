{
 "cells": [
  {
   "cell_type": "markdown",
   "metadata": {},
   "source": [
    "# **Módulos**\n",
    "\n",
    "- Considera un módulo como una biblioteca de código.\n",
    "- Un archivo que contiene un conjunto de funciones que deseas incluir en tu aplicación."
   ]
  },
  {
   "cell_type": "markdown",
   "metadata": {},
   "source": [
    "## **Crear un Módulo**\n",
    "\n",
    "Para crear un módulo, simplemente guarda el código que deseas en un archivo con la extensión `.py`."
   ]
  },
  {
   "cell_type": "markdown",
   "metadata": {},
   "source": [
    "- Guarda este código en un archivo llamado `mimodulo.py`"
   ]
  },
  {
   "cell_type": "code",
   "execution_count": null,
   "metadata": {},
   "outputs": [],
   "source": [
    "def saludar(nombre):\n",
    "    print(\"Hola, \" + nombre)"
   ]
  },
  {
   "cell_type": "markdown",
   "metadata": {},
   "source": [
    "## **Usar un Módulo**\n",
    "\n",
    "Ahora puedes usar el módulo que acabas de crear utilizando la declaración `import`."
   ]
  },
  {
   "cell_type": "code",
   "execution_count": 1,
   "metadata": {},
   "outputs": [
    {
     "name": "stdout",
     "output_type": "stream",
     "text": [
      "Hola, Hiromi\n"
     ]
    }
   ],
   "source": [
    "import mimodulo\n",
    "\n",
    "mimodulo.saludar(\"Hiromi\")"
   ]
  },
  {
   "cell_type": "markdown",
   "metadata": {},
   "source": [
    "> Sintaxis de punto: `<nombre_módulo>.<nombre_función>`"
   ]
  },
  {
   "cell_type": "markdown",
   "metadata": {},
   "source": [
    "## **Renombrar un Módulo**\n",
    "\n",
    "Puedes crear un **alias** al importar un módulo utilizando la palabra clave `as`"
   ]
  },
  {
   "cell_type": "code",
   "execution_count": null,
   "metadata": {},
   "outputs": [],
   "source": [
    "import mimodulo as mx\n",
    "\n",
    "mx.saludar(\"Hiromi\")"
   ]
  },
  {
   "cell_type": "markdown",
   "metadata": {},
   "source": [
    "## **Módulos Incorporados**\n",
    "\n",
    "Python tiene varios módulos incorporados que puedes importar en cualquier momento."
   ]
  },
  {
   "cell_type": "code",
   "execution_count": 2,
   "metadata": {},
   "outputs": [
    {
     "name": "stdout",
     "output_type": "stream",
     "text": [
      "Windows\n"
     ]
    }
   ],
   "source": [
    "import platform\n",
    "\n",
    "sistema = platform.system()\n",
    "print(sistema)"
   ]
  },
  {
   "cell_type": "markdown",
   "metadata": {},
   "source": [
    "## **Usar la Función `dir()`**\n",
    "\n",
    "Python tiene varios módulos incorporados que puedes importar en cualquier momento."
   ]
  },
  {
   "cell_type": "markdown",
   "metadata": {},
   "source": [
    "- `dir()` devuelve una lista de todos los nombres definidos en un objeto. Estos nombres pueden incluir variables, funciones, métodos, clases, y atributos que están disponibles en ese objeto."
   ]
  },
  {
   "cell_type": "code",
   "execution_count": null,
   "metadata": {},
   "outputs": [],
   "source": [
    "import platform\n",
    "\n",
    "plataforma = dir(platform)\n",
    "print(plataforma)"
   ]
  },
  {
   "cell_type": "markdown",
   "metadata": {},
   "source": [
    "> **Nota**: La función `dir()` puede usarse en todos los módulos, incluidos los que creas tú mismo."
   ]
  },
  {
   "cell_type": "markdown",
   "metadata": {},
   "source": [
    "## **Importar desde un Módulo**\n",
    "\n",
    "Puedes elegir importar solo partes específicas de un módulo utilizando la palabra clave `from`."
   ]
  },
  {
   "cell_type": "code",
   "execution_count": 1,
   "metadata": {},
   "outputs": [
    {
     "name": "stdout",
     "output_type": "stream",
     "text": [
      "Hola, Hiromi\n",
      "Hola, Jose\n"
     ]
    }
   ],
   "source": [
    "from mimodulo import saludar, saludar1\n",
    "\n",
    "saludar(\"Hiromi\")\n",
    "saludar1(\"Jose\")"
   ]
  },
  {
   "cell_type": "markdown",
   "metadata": {},
   "source": [
    "## **Variable `__all__`**\n",
    "\n",
    "Utiliza la variable `__all__` en módulos para definir explícitamente qué objetos o funciones se deben exportar cuando el módulo se importa con `from module import *`."
   ]
  },
  {
   "cell_type": "code",
   "execution_count": null,
   "metadata": {},
   "outputs": [],
   "source": [
    "# Definiendo explícitamente qué se exporta\n",
    "__all__ = [\"func_a\", \"func_b\"]\n",
    "\n",
    "def func_a():\n",
    "    pass\n",
    "\n",
    "def func_b():\n",
    "    pass\n",
    "\n",
    "def func_c():\n",
    "    pass  # Esta función no se exportará"
   ]
  }
 ],
 "metadata": {
  "kernelspec": {
   "display_name": "env",
   "language": "python",
   "name": "python3"
  },
  "language_info": {
   "codemirror_mode": {
    "name": "ipython",
    "version": 3
   },
   "file_extension": ".py",
   "mimetype": "text/x-python",
   "name": "python",
   "nbconvert_exporter": "python",
   "pygments_lexer": "ipython3",
   "version": "3.13.1"
  }
 },
 "nbformat": 4,
 "nbformat_minor": 2
}
