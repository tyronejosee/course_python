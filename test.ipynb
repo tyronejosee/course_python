{
 "cells": [
  {
   "cell_type": "code",
   "execution_count": 9,
   "metadata": {},
   "outputs": [
    {
     "name": "stdout",
     "output_type": "stream",
     "text": [
      "Es uno\n"
     ]
    }
   ],
   "source": [
    "def describe_value(value):\n",
    "    match value:\n",
    "        case 1:\n",
    "            return \"Es uno\"\n",
    "        case 2:\n",
    "            print(\"paso por aca 2\")\n",
    "            return \"Es dos\"\n",
    "        case _:\n",
    "            print(\"paso por aca _\")\n",
    "            return \"Es otro número\"\n",
    "\n",
    "print(describe_value(1))  # Es uno\n",
    "# print(describe_value(3))  # Es otro número"
   ]
  }
 ],
 "metadata": {
  "kernelspec": {
   "display_name": "env",
   "language": "python",
   "name": "python3"
  },
  "language_info": {
   "codemirror_mode": {
    "name": "ipython",
    "version": 3
   },
   "file_extension": ".py",
   "mimetype": "text/x-python",
   "name": "python",
   "nbconvert_exporter": "python",
   "pygments_lexer": "ipython3",
   "version": "3.11.9"
  }
 },
 "nbformat": 4,
 "nbformat_minor": 2
}
