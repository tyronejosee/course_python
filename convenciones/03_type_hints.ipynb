{
 "cells": [
  {
   "cell_type": "markdown",
   "metadata": {},
   "source": [
    "# **Type Hints**\n",
    "\n",
    "Son una forma de indicar los tipos de variables, argumentos y valores de retorno en funciones. Esto ayuda a que el código sea más legible y facilita herramientas como linters, IDEs y análisis estático."
   ]
  },
  {
   "cell_type": "markdown",
   "metadata": {},
   "source": [
    "## **Funciones con Argumentos y Valores de Retorno**"
   ]
  },
  {
   "cell_type": "code",
   "execution_count": null,
   "metadata": {},
   "outputs": [],
   "source": [
    "def suma(a: int, b: int) -> int:\n",
    "    return a + b\n",
    "\n",
    "resultado: int = suma(5, 10)\n",
    "print(resultado)"
   ]
  },
  {
   "cell_type": "markdown",
   "metadata": {},
   "source": [
    "## **Listas, Tuplas y Diccionarios**"
   ]
  },
  {
   "cell_type": "code",
   "execution_count": null,
   "metadata": {},
   "outputs": [],
   "source": [
    "from typing import List, Tuple, Dict"
   ]
  },
  {
   "cell_type": "code",
   "execution_count": null,
   "metadata": {},
   "outputs": [],
   "source": [
    "# Lista de enteros\n",
    "def obtener_pares(nums: List[int]) -> List[int]:\n",
    "    return [n for n in nums if n % 2 == 0]\n",
    "\n",
    "pares = obtener_pares([1, 2, 3, 4, 5])\n",
    "print(pares)"
   ]
  },
  {
   "cell_type": "code",
   "execution_count": null,
   "metadata": {},
   "outputs": [],
   "source": [
    "# Tupla de cadenas y enteros\n",
    "def obtener_usuario() -> Tuple[str, int]:\n",
    "    return (\"Amanda\", 30)\n",
    "\n",
    "usuario = obtener_usuario()\n",
    "print(usuario)"
   ]
  },
  {
   "cell_type": "code",
   "execution_count": null,
   "metadata": {},
   "outputs": [],
   "source": [
    "# Diccionario con claves y valores de diferentes tipos\n",
    "def obtener_estudiantes() -> Dict[str, int]:\n",
    "    return {\"Pilar\": 18, \"Ana\": 20, \"María\": 22}\n",
    "\n",
    "estudiantes = obtener_estudiantes()\n",
    "print(estudiantes)"
   ]
  },
  {
   "cell_type": "markdown",
   "metadata": {},
   "source": [
    "## **Uniones de Tipos**\n",
    "\n",
    "Cuando un valor puede ser de más de un tipo, se usa `Union` o el operador `|`."
   ]
  },
  {
   "cell_type": "code",
   "execution_count": null,
   "metadata": {},
   "outputs": [],
   "source": [
    "from typing import Union\n",
    "\n",
    "\n",
    "def procesar_dato(dato: Union[int, str]) -> str:\n",
    "    if isinstance(dato, int):\n",
    "        return f\"Procesando número: {dato}\"\n",
    "    else:\n",
    "        return f\"Procesando texto: {dato}\"\n",
    "\n",
    "print(procesar_dato(42))\n",
    "print(procesar_dato(\"Hola\"))"
   ]
  },
  {
   "cell_type": "markdown",
   "metadata": {},
   "source": [
    "## **Opcionalidad**\n",
    "\n",
    "Cuando un argumento puede ser `None`, usa `Optional`."
   ]
  },
  {
   "cell_type": "code",
   "execution_count": null,
   "metadata": {},
   "outputs": [],
   "source": [
    "from typing import Optional\n",
    "\n",
    "\n",
    "def obtener_saludo(nombre: Optional[str] = None) -> str:\n",
    "    if nombre:\n",
    "        return f\"Hola, {nombre}!\"\n",
    "    return \"Hola, desconocido!\"\n",
    "\n",
    "print(obtener_saludo(\"Ana\"))\n",
    "print(obtener_saludo())"
   ]
  },
  {
   "cell_type": "markdown",
   "metadata": {},
   "source": [
    "## **Clases y Métodos**"
   ]
  },
  {
   "cell_type": "code",
   "execution_count": null,
   "metadata": {},
   "outputs": [],
   "source": [
    "class Persona:\n",
    "    def __init__(self, nombre: str, edad: int):\n",
    "        self.nombre: str = nombre\n",
    "        self.edad: int = edad\n",
    "\n",
    "    def saludar(self) -> str:\n",
    "        return f\"Hola, me llamo {self.nombre} y tengo {self.edad} años.\"\n",
    "\n",
    "persona = Persona(\"Antonia\", 25)\n",
    "print(persona.saludar())"
   ]
  },
  {
   "cell_type": "markdown",
   "metadata": {},
   "source": [
    "## **Funciones Genéricas**\n",
    "\n",
    "- Los tipos genéricos permiten que una función, clase o método pueda trabajar con múltiples tipos sin tener que escribir la implementación varias veces.\n",
    "- Con `TypeVar` puedes definir tipos genéricos.\n",
    "- Un genérico define un tipo que puede ser reemplazado dinámicamente según el contexto.\n",
    "- Es especialmente útil para trabajar con estructuras como listas, pilas, o cualquier estructura de datos donde el tipo puede variar.\n",
    "\n",
    "\n",
    "El argumento `'T'` es solo un nombre descriptivo. Es una etiqueta para identificar el marcador de tipo. Puedes usar cualquier nombre que sea representativo de lo que estás modelando (por ejemplo, 'U', 'ItemType', 'Element')."
   ]
  },
  {
   "cell_type": "code",
   "execution_count": null,
   "metadata": {},
   "outputs": [],
   "source": [
    "from typing import TypeVar\n",
    "\n",
    "T = TypeVar('T') # 'T' debe ser igual que T\n",
    "\n",
    "def obtener_elemento(lista: List[T], indice: int) -> T:\n",
    "    return lista[indice]\n",
    "\n",
    "print(obtener_elemento([1, 2, 3], 2))\n",
    "print(obtener_elemento([\"a\", \"b\", \"c\"], 0))"
   ]
  },
  {
   "cell_type": "markdown",
   "metadata": {},
   "source": [
    "## **Callable**\n",
    "\n",
    "Usa `Callable` para funciones que se pueden pasar como argumentos."
   ]
  },
  {
   "cell_type": "code",
   "execution_count": null,
   "metadata": {},
   "outputs": [],
   "source": [
    "from typing import Callable\n",
    "\n",
    "def ejecutar_funcion(func: Callable[[int, int], int], a: int, b: int) -> int:\n",
    "    return func(a, b)\n",
    "\n",
    "\n",
    "def sumar(x: int, y: int) -> int:\n",
    "    return x + y\n",
    "\n",
    "\n",
    "print(ejecutar_funcion(sumar, 5, 3))"
   ]
  },
  {
   "cell_type": "markdown",
   "metadata": {},
   "source": [
    "## **Iteradores y Generadores**"
   ]
  },
  {
   "cell_type": "code",
   "execution_count": null,
   "metadata": {},
   "outputs": [],
   "source": [
    "from typing import Iterator, Generator\n",
    "\n",
    "# Un iterador\n",
    "def generar_numeros(maximo: int) -> Iterator[int]:\n",
    "    for i in range(maximo):\n",
    "        yield i\n",
    "\n",
    "for numero in generar_numeros(5):\n",
    "    print(numero)"
   ]
  },
  {
   "cell_type": "markdown",
   "metadata": {},
   "source": [
    "`Generator[yield_type, send_type, return_type]`\n",
    "\n",
    "- yield_type: El tipo de valor que produce el generador al usar yield.\n",
    "- send_type: El tipo de valor que el generador puede recibir (usando .send()).\n",
    "- return_type: El tipo de valor que el generador devuelve al finalizar."
   ]
  },
  {
   "cell_type": "code",
   "execution_count": null,
   "metadata": {},
   "outputs": [],
   "source": [
    "from typing import Generator\n",
    "\n",
    "# Un generador que incluye tipos\n",
    "def generador_textos() -> Generator[str, None, None]:\n",
    "    yield \"Hola\"\n",
    "    yield \"Mundo\"\n",
    "\n",
    "for texto in generador_textos():\n",
    "    print(texto)"
   ]
  },
  {
   "cell_type": "markdown",
   "metadata": {},
   "source": [
    "## **Alias de Tipo**\n",
    "\n",
    "Crea alias para tipos complejos."
   ]
  },
  {
   "cell_type": "code",
   "execution_count": null,
   "metadata": {},
   "outputs": [],
   "source": [
    "from typing import List, Dict\n",
    "\n",
    "# Alias de tipo\n",
    "Estudiante = Dict[str, Union[str, int]]\n",
    "\n",
    "def obtener_datos_estudiantes() -> List[Estudiante]:\n",
    "    return [{\"nombre\": \"Verónica\", \"edad\": 20}, {\"nombre\": \"Ana\", \"edad\": 22}]\n",
    "\n",
    "print(obtener_datos_estudiantes())"
   ]
  },
  {
   "cell_type": "markdown",
   "metadata": {},
   "source": [
    "## **Uso con `dataclasses`**\n",
    "\n",
    "Las data classes generan automáticamente métodos como __init__, __repr__, __eq__, entre otros, para simplificar la creación y manejo de clases que solo contienen datos.\n",
    "\n",
    "- Las `dataclasses` se benefician de los hints para definir tipos de campos."
   ]
  },
  {
   "cell_type": "code",
   "execution_count": 50,
   "metadata": {},
   "outputs": [
    {
     "name": "stdout",
     "output_type": "stream",
     "text": [
      "Producto(nombre='Laptop', precio=999.99, en_stock=True)\n"
     ]
    }
   ],
   "source": [
    "from dataclasses import dataclass\n",
    "\n",
    "@dataclass\n",
    "class Producto:\n",
    "    nombre: str\n",
    "    precio: float\n",
    "    en_stock: bool\n",
    "\n",
    "producto = Producto(nombre=\"Laptop\", precio=999.99, en_stock=True)\n",
    "print(producto)"
   ]
  }
 ],
 "metadata": {
  "kernelspec": {
   "display_name": "env",
   "language": "python",
   "name": "python3"
  },
  "language_info": {
   "codemirror_mode": {
    "name": "ipython",
    "version": 3
   },
   "file_extension": ".py",
   "mimetype": "text/x-python",
   "name": "python",
   "nbconvert_exporter": "python",
   "pygments_lexer": "ipython3",
   "version": "3.11.9"
  }
 },
 "nbformat": 4,
 "nbformat_minor": 2
}
