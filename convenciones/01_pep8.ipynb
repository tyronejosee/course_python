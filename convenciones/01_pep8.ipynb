{
 "cells": [
  {
   "cell_type": "markdown",
   "metadata": {},
   "source": [
    "# **PEP8**\n",
    "\n",
    "Es la guía de estilo para Python y proporciona convenciones sobre cómo escribir código legible y limpio."
   ]
  },
  {
   "cell_type": "markdown",
   "metadata": {},
   "source": [
    "## **Convenciones de Nombres**\n",
    "\n",
    "- Usa `snake_case` para **variables**, **funciones** y **métodos**.\n",
    "- Usa `CamelCase` para **clases**.\n",
    "- Usa `UPPERCASE` para **constantes**."
   ]
  },
  {
   "cell_type": "code",
   "execution_count": null,
   "metadata": {},
   "outputs": [],
   "source": [
    "# Variable en snake_case\n",
    "user_name = \"Juan\""
   ]
  },
  {
   "cell_type": "code",
   "execution_count": null,
   "metadata": {},
   "outputs": [],
   "source": [
    "# Función en snake_case\n",
    "def calculate_area(radius):\n",
    "    return 3.14 * radius * radius"
   ]
  },
  {
   "cell_type": "code",
   "execution_count": null,
   "metadata": {},
   "outputs": [],
   "source": [
    "# Clase en CamelCase\n",
    "class Circle:\n",
    "    def __init__(self, radius):\n",
    "        self.radius = radius\n",
    "\n",
    "    def area(self):\n",
    "        return calculate_area(self.radius)"
   ]
  },
  {
   "cell_type": "code",
   "execution_count": null,
   "metadata": {},
   "outputs": [],
   "source": [
    "# Constante en UPPERCASE\n",
    "APLICACION = \"Course Python\""
   ]
  },
  {
   "cell_type": "markdown",
   "metadata": {},
   "source": [
    "## **Longitud de las líneas**\n",
    "\n",
    "- Limita las líneas a 79 caracteres.\n",
    "- Para los comentarios y docstrings, se recomienda un máximo de 72 caracteres."
   ]
  },
  {
   "cell_type": "code",
   "execution_count": null,
   "metadata": {},
   "outputs": [],
   "source": [
    "# Límite de longitud de línea en 79 caracteres\n",
    "def example_function():\n",
    "    # Este es un comentario que no debe exceder los 72 caracteres en una sola línea\n",
    "    some_very_long_variable_name = \"Este es un valor largo que puede romper el límite\"\n",
    "    # Si la línea es demasiado larga, puedes usar continuaciones de línea\n",
    "    long_string = (\"Esto es un texto muy largo que se divide en varias líneas \"\n",
    "                   \"para no superar el límite de 79 caracteres.\")"
   ]
  },
  {
   "cell_type": "markdown",
   "metadata": {},
   "source": [
    "## **Identación**\n",
    "\n",
    "Usa 4 espacios para la indentación. Nunca uses tabulaciones."
   ]
  },
  {
   "cell_type": "code",
   "execution_count": 4,
   "metadata": {},
   "outputs": [
    {
     "name": "stdout",
     "output_type": "stream",
     "text": [
      "Hola, Hiromi!\n",
      "¡Hola, Mundo!\n"
     ]
    }
   ],
   "source": [
    "# Usando 4 espacios para la indentación\n",
    "def saludo(nombre=\"\"):\n",
    "    if nombre:\n",
    "        print(f\"Hola, {nombre}!\")\n",
    "    else:\n",
    "        print(\"¡Hola, Mundo!\")\n",
    "\n",
    "\n",
    "saludo(\"Hiromi\")\n",
    "saludo()"
   ]
  },
  {
   "cell_type": "markdown",
   "metadata": {},
   "source": [
    "## **Espacios en Blanco**\n",
    "\n",
    "- Usa espacios alrededor de operadores (+, -, =, ==, etc.), pero no en exceso.\n",
    "- No pongas espacios inmediatamente dentro de paréntesis, corchetes o llaves."
   ]
  },
  {
   "cell_type": "code",
   "execution_count": null,
   "metadata": {},
   "outputs": [],
   "source": [
    "# Espacios alrededor de los operadores\n",
    "x = 10 + 5\n",
    "y = 20 * (x + 3)\n",
    "\n",
    "# No hay espacios dentro de paréntesis\n",
    "some_function(arg1, arg2)\n",
    "my_list = [1, 2, 3]\n",
    "\n",
    "# Correcto\n",
    "z = x * (y + 3) - 1\n",
    "\n",
    "# Incorrecto (espacios innecesarios)\n",
    "z = x * ( y + 3 ) - 1"
   ]
  },
  {
   "cell_type": "markdown",
   "metadata": {},
   "source": [
    "## **Comentarios**\n",
    "\n",
    "- Usa comentarios completos y descriptivos.\n",
    "- Los comentarios deben ser frases completas, empezando con mayúscula y terminando con un punto si es necesario.\n",
    "- Usa comentarios de bloque para explicar partes complejas del código.\n",
    "- Los comentarios deben ser relevantes y actualizados."
   ]
  },
  {
   "cell_type": "code",
   "execution_count": null,
   "metadata": {},
   "outputs": [],
   "source": [
    "# Comentario de una línea\n",
    "def calculate_sum(a, b):\n",
    "    # La siguiente línea suma dos números\n",
    "    return a + b\n",
    "\n",
    "# Comentarios de bloque\n",
    "def some_complex_function(data):\n",
    "    # Primero procesamos los datos para filtrarlos\n",
    "    filtered_data = [d for d in data if d > 10]\n",
    "    # Luego los ordenamos\n",
    "    sorted_data = sorted(filtered_data)\n",
    "    # Finalmente, los devolvemos\n",
    "    return sorted_data"
   ]
  },
  {
   "cell_type": "markdown",
   "metadata": {},
   "source": [
    "## **Docstrings**\n",
    "\n",
    "- Usa docstrings (comillas triples) para describir todas las clases y funciones.\n",
    "- Las docstrings deben ser claras y contener una descripción del propósito de la función y sus parámetros."
   ]
  },
  {
   "cell_type": "code",
   "execution_count": null,
   "metadata": {},
   "outputs": [],
   "source": [
    "def add_numbers(a, b):\n",
    "    \"\"\"\n",
    "    Suma dos números.\n",
    "\n",
    "    Parámetros:\n",
    "    a -- El primer número a sumar.\n",
    "    b -- El segundo número a sumar.\n",
    "\n",
    "    Retorna:\n",
    "    La suma de a y b.\n",
    "    \"\"\"\n",
    "    return a + b\n",
    "\n",
    "class Person:\n",
    "    \"\"\"\n",
    "    Representa a una persona.\n",
    "\n",
    "    Atributos:\n",
    "    name -- El nombre de la persona.\n",
    "    age -- La edad de la persona.\n",
    "    \"\"\"\n",
    "    \n",
    "    def __init__(self, name, age):\n",
    "        self.name = name\n",
    "        self.age = age\n",
    "\n",
    "    def greet(self):\n",
    "        \"\"\"\n",
    "        Imprime un saludo con el nombre de la persona.\n",
    "        \"\"\"\n",
    "        print(f\"Hola, mi nombre es {self.name}\")\n"
   ]
  },
  {
   "cell_type": "markdown",
   "metadata": {},
   "source": [
    "# **Importaciones**\n",
    "\n",
    "- Agrupa las importaciones en tres secciones y separa cada grupo con una línea en blanco:\n",
    "\n",
    "  - Importaciones estándar (bibliotecas de Python).\n",
    "  - Importaciones de bibliotecas de terceros.\n",
    "  - Importaciones locales (de tu propio código)."
   ]
  },
  {
   "cell_type": "code",
   "execution_count": 5,
   "metadata": {},
   "outputs": [],
   "source": [
    "# Importaciones estándar\n",
    "import os\n",
    "import sys\n",
    "\n",
    "# Importaciones de bibliotecas de terceros\n",
    "import numpy as np\n",
    "import pandas as pd\n",
    "\n",
    "# Importaciones locales\n",
    "# from .mi_modulo import mi_funcion"
   ]
  },
  {
   "cell_type": "markdown",
   "metadata": {},
   "source": [
    "## **Evitar el Uso de Código no Utilizado**\n",
    "\n",
    "- No dejes variables, funciones o importaciones sin usar."
   ]
  },
  {
   "cell_type": "code",
   "execution_count": 14,
   "metadata": {},
   "outputs": [
    {
     "name": "stdout",
     "output_type": "stream",
     "text": [
      "[3]\n"
     ]
    }
   ],
   "source": [
    "# Incorrecto (se importa pero no se usa)\n",
    "import math  # Se debe eliminar si no se usa\n",
    "\n",
    "# Correcto (eliminamos importaciones innecesarias)\n",
    "import random\n",
    "\n",
    "tupla = (1,2,3,4,5)\n",
    "print(random.choices(tupla))"
   ]
  },
  {
   "cell_type": "markdown",
   "metadata": {},
   "source": [
    "## **Comparaciones**\n",
    "\n",
    "- Usa `is` o `is not` para comparaciones con None (no uses `==`).\n",
    "- Usa `==` para comparaciones de valores."
   ]
  },
  {
   "cell_type": "code",
   "execution_count": 18,
   "metadata": {},
   "outputs": [],
   "source": [
    "variable = None"
   ]
  },
  {
   "cell_type": "code",
   "execution_count": null,
   "metadata": {},
   "outputs": [],
   "source": [
    "# Correcto para comparar con None\n",
    "if variable is None:\n",
    "    print(\"Es None\")\n",
    "if variable is not None:\n",
    "    print(\"No es None\")"
   ]
  },
  {
   "cell_type": "code",
   "execution_count": null,
   "metadata": {},
   "outputs": [],
   "source": [
    "# Correcto para comparar valores\n",
    "if variable == 10:\n",
    "    print(\"Es igual a 10\")"
   ]
  },
  {
   "cell_type": "markdown",
   "metadata": {},
   "source": [
    "## **Evitar el uso de `global`**\n",
    "\n",
    "- Trata de evitar el uso de variables globales innecesarias."
   ]
  },
  {
   "cell_type": "code",
   "execution_count": 17,
   "metadata": {},
   "outputs": [],
   "source": [
    "# Incorrecto: uso de global\n",
    "x = 10\n",
    "\n",
    "def incrementar():\n",
    "    global x\n",
    "    x += 1"
   ]
  },
  {
   "cell_type": "code",
   "execution_count": null,
   "metadata": {},
   "outputs": [],
   "source": [
    "# Correcto: no se usa \"global\"\n",
    "def incrementar(x):\n",
    "    return x + 1"
   ]
  }
 ],
 "metadata": {
  "kernelspec": {
   "display_name": "env",
   "language": "python",
   "name": "python3"
  },
  "language_info": {
   "codemirror_mode": {
    "name": "ipython",
    "version": 3
   },
   "file_extension": ".py",
   "mimetype": "text/x-python",
   "name": "python",
   "nbconvert_exporter": "python",
   "pygments_lexer": "ipython3",
   "version": "3.11.9"
  }
 },
 "nbformat": 4,
 "nbformat_minor": 2
}
