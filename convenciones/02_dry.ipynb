{
 "cells": [
  {
   "cell_type": "markdown",
   "metadata": {},
   "source": [
    "# **DRY (Don't Repeat Yourself)**\n",
    "\n",
    "Es un principio que promueve evitar la duplicación de código innecesaria."
   ]
  },
  {
   "cell_type": "markdown",
   "metadata": {},
   "source": [
    "## **DRY en Funciones**"
   ]
  },
  {
   "cell_type": "markdown",
   "metadata": {},
   "source": [
    "**Problema**: Cada función realiza una tarea similar (enviar un mensaje), pero de manera repetitiva, solo que adaptada a diferentes canales (email, SMS, push). Esto es una violación de DRY, ya que estamos repitiendo el proceso de envío de mensajes, solo cambiando el tipo de canal."
   ]
  },
  {
   "cell_type": "code",
   "execution_count": 1,
   "metadata": {},
   "outputs": [
    {
     "name": "stdout",
     "output_type": "stream",
     "text": [
      "Enviando correo a sofia@gmail.com con el mensaje: ¡Tienes una nueva notificación!\n",
      "Enviando SMS a 1234567890 con el mensaje: ¡Tienes una nueva notificación!\n",
      "Enviando notificación push a Android con el mensaje: ¡Tienes una nueva notificación!\n"
     ]
    }
   ],
   "source": [
    "def enviar_notificacion_email(usuario, mensaje):\n",
    "    print(f\"Enviando correo a {usuario['email']} con el mensaje: {mensaje}\")\n",
    "\n",
    "\n",
    "def enviar_notificacion_sms(usuario, mensaje):\n",
    "    print(f\"Enviando SMS a {usuario['telefono']} con el mensaje: {mensaje}\")\n",
    "\n",
    "\n",
    "def enviar_notificacion_push(usuario, mensaje):\n",
    "    print(f\"Enviando notificación push a {usuario['dispositivo']} con el mensaje: {mensaje}\")\n",
    "\n",
    "\n",
    "# Uso:\n",
    "usuario = {\"email\": \"sofia@gmail.com\", \"telefono\": \"1234567890\", \"dispositivo\": \"Android\"}\n",
    "mensaje = \"¡Tienes una nueva notificación!\"\n",
    "\n",
    "enviar_notificacion_email(usuario, mensaje)\n",
    "enviar_notificacion_sms(usuario, mensaje)\n",
    "enviar_notificacion_push(usuario, mensaje)"
   ]
  },
  {
   "cell_type": "markdown",
   "metadata": {},
   "source": [
    "**Mejora**: Podemos crear una única función para manejar el envío de mensajes, y diferenciar los canales usando un parámetro."
   ]
  },
  {
   "cell_type": "code",
   "execution_count": 2,
   "metadata": {},
   "outputs": [
    {
     "name": "stdout",
     "output_type": "stream",
     "text": [
      "Enviando correo a sofia@gmail.com con el mensaje: ¡Tienes una nueva notificación!\n",
      "Enviando SMS a 1234567890 con el mensaje: ¡Tienes una nueva notificación!\n",
      "Enviando notificación push a Android con el mensaje: ¡Tienes una nueva notificación!\n"
     ]
    }
   ],
   "source": [
    "def enviar_notificacion(usuario, mensaje, canal):\n",
    "    if canal == \"email\":\n",
    "        print(f\"Enviando correo a {usuario['email']} con el mensaje: {mensaje}\")\n",
    "    elif canal == \"sms\":\n",
    "        print(f\"Enviando SMS a {usuario['telefono']} con el mensaje: {mensaje}\")\n",
    "    elif canal == \"push\":\n",
    "        print(f\"Enviando notificación push a {usuario['dispositivo']} con el mensaje: {mensaje}\")\n",
    "    else:\n",
    "        print(\"Canal no soportado\")\n",
    "\n",
    "\n",
    "# Uso:\n",
    "usuario = {\"email\": \"sofia@gmail.com\", \"telefono\": \"1234567890\", \"dispositivo\": \"Android\"}\n",
    "mensaje = \"¡Tienes una nueva notificación!\"\n",
    "\n",
    "enviar_notificacion(usuario, mensaje, \"email\")\n",
    "enviar_notificacion(usuario, mensaje, \"sms\")\n",
    "enviar_notificacion(usuario, mensaje, \"push\")"
   ]
  },
  {
   "cell_type": "markdown",
   "metadata": {},
   "source": [
    "## **DRY en Clases**"
   ]
  },
  {
   "cell_type": "code",
   "execution_count": 3,
   "metadata": {},
   "outputs": [
    {
     "name": "stdout",
     "output_type": "stream",
     "text": [
      "Enviando correo a juan@example.com con el mensaje: ¡Tienes una nueva notificación!\n",
      "Enviando SMS a 1234567890 con el mensaje: ¡Tienes una nueva notificación!\n",
      "Enviando notificación push a Android con el mensaje: ¡Tienes una nueva notificación!\n"
     ]
    }
   ],
   "source": [
    "class Notificador:\n",
    "    def enviar(self, usuario, mensaje):\n",
    "        raise NotImplementedError(\"Este método debe ser implementado por una subclase\")\n",
    "\n",
    "\n",
    "class NotificadorEmail(Notificador):\n",
    "    def enviar(self, usuario, mensaje):\n",
    "        print(f\"Enviando correo a {usuario['email']} con el mensaje: {mensaje}\")\n",
    "\n",
    "\n",
    "class NotificadorSMS(Notificador):\n",
    "    def enviar(self, usuario, mensaje):\n",
    "        print(f\"Enviando SMS a {usuario['telefono']} con el mensaje: {mensaje}\")\n",
    "\n",
    "\n",
    "class NotificadorPush(Notificador):\n",
    "    def enviar(self, usuario, mensaje):\n",
    "        print(f\"Enviando notificación push a {usuario['dispositivo']} con el mensaje: {mensaje}\")\n",
    "\n",
    "\n",
    "# Uso:\n",
    "usuario = {\"email\": \"juan@example.com\", \"telefono\": \"1234567890\", \"dispositivo\": \"Android\"}\n",
    "mensaje = \"¡Tienes una nueva notificación!\"\n",
    "\n",
    "notificador_email = NotificadorEmail()\n",
    "notificador_sms = NotificadorSMS()\n",
    "notificador_push = NotificadorPush()\n",
    "\n",
    "notificador_email.enviar(usuario, mensaje)\n",
    "notificador_sms.enviar(usuario, mensaje)\n",
    "notificador_push.enviar(usuario, mensaje)"
   ]
  }
 ],
 "metadata": {
  "kernelspec": {
   "display_name": "env",
   "language": "python",
   "name": "python3"
  },
  "language_info": {
   "codemirror_mode": {
    "name": "ipython",
    "version": 3
   },
   "file_extension": ".py",
   "mimetype": "text/x-python",
   "name": "python",
   "nbconvert_exporter": "python",
   "pygments_lexer": "ipython3",
   "version": "3.13.5"
  }
 },
 "nbformat": 4,
 "nbformat_minor": 2
}
