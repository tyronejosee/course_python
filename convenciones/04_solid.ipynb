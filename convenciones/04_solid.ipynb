{
 "cells": [
  {
   "cell_type": "markdown",
   "metadata": {},
   "source": [
    "# **SOLID**\n",
    "\n"
   ]
  },
  {
   "cell_type": "markdown",
   "metadata": {},
   "source": [
    "## **S (SRP): Principio de Responsabilidad Única**\n",
    "\n",
    "Cada clase debe tener una única responsabilidad o razón para cambiar."
   ]
  },
  {
   "cell_type": "markdown",
   "metadata": {},
   "source": [
    "**Problema**: Esta clase realiza dos tareas: generar un informe y guardarlo en un archivo. Esto viola el principio de responsabilidad única."
   ]
  },
  {
   "cell_type": "code",
   "execution_count": 1,
   "metadata": {},
   "outputs": [],
   "source": [
    "class ReporteManager:\n",
    "    def __init__(self, data):\n",
    "        self.data = data\n",
    "\n",
    "    def generar(self):\n",
    "        return f\"Reporte Data: {self.data}\"\n",
    "\n",
    "    def guardar_archivo(self, filename):\n",
    "        with open(filename, 'w') as file:\n",
    "            file.write(self.generar())"
   ]
  },
  {
   "cell_type": "markdown",
   "metadata": {},
   "source": [
    "**Mejora**: Ahora, las responsabilidades están divididas entre Report (generar informes) y FileManager (gestionar archivos)."
   ]
  },
  {
   "cell_type": "code",
   "execution_count": 2,
   "metadata": {},
   "outputs": [],
   "source": [
    "class Reporte:\n",
    "    def __init__(self, data):\n",
    "        self.data = data\n",
    "\n",
    "    def generar(self):\n",
    "        return f\"Reporte Data: {self.data}\"\n",
    "\n",
    "class ArchivoManager:\n",
    "    def guardar_archivo(self, contenido, archivo):\n",
    "        with open(archivo, 'w') as file:\n",
    "            file.write(contenido)\n",
    "\n",
    "# Uso:\n",
    "reporte = Reporte(\"Estados Bancarios\")\n",
    "archivo = ArchivoManager()\n",
    "\n",
    "archivo.guardar_archivo(reporte.generar(), \"reporte.txt\")"
   ]
  },
  {
   "cell_type": "markdown",
   "metadata": {},
   "source": [
    "## **O (OCP): Principio Abierto/Cerrado**"
   ]
  },
  {
   "cell_type": "markdown",
   "metadata": {},
   "source": [
    "**Problema**: Si necesitas agregar un nuevo tipo de descuento, tendrías que modificar el método `aplicar_decuento`, violando el principio abierto/cerrado."
   ]
  },
  {
   "cell_type": "code",
   "execution_count": 3,
   "metadata": {},
   "outputs": [],
   "source": [
    "class Descuento:\n",
    "    def aplicar(self, precio, tipo_descuento):\n",
    "        if tipo_descuento == \"ninguno\":\n",
    "            return precio\n",
    "        elif tipo_descuento == \"porcentaje\":\n",
    "            return precio * 0.9\n",
    "        elif tipo_descuento == \"fijado\":\n",
    "            return precio - 10"
   ]
  },
  {
   "cell_type": "markdown",
   "metadata": {},
   "source": [
    "**Mejora**: El sistema es extensible añadiendo nuevas clases de descuento sin modificar el código existente."
   ]
  },
  {
   "cell_type": "code",
   "execution_count": 4,
   "metadata": {},
   "outputs": [
    {
     "name": "stdout",
     "output_type": "stream",
     "text": [
      "90.0\n"
     ]
    }
   ],
   "source": [
    "from abc import ABC, abstractmethod\n",
    "\n",
    "class Descuento(ABC):\n",
    "    @abstractmethod\n",
    "    def aplicar(self, precio):\n",
    "        pass\n",
    "\n",
    "\n",
    "class NoDescuento(Descuento):\n",
    "    def aplicar(self, precio):\n",
    "        return precio\n",
    "\n",
    "\n",
    "class PorcentajeDescuento(Descuento):\n",
    "    def aplicar(self, precio):\n",
    "        return precio * 0.9\n",
    "\n",
    "\n",
    "class FijadoDiscount(Descuento):\n",
    "    def aplicar(self, precio):\n",
    "        return precio - 10\n",
    "\n",
    "\n",
    "# Uso:\n",
    "def calcular_precio(precio: int, descuento: Descuento):\n",
    "    return descuento.aplicar(precio)\n",
    "\n",
    "precio = 100\n",
    "descuento = PorcentajeDescuento()\n",
    "\n",
    "print(calcular_precio(precio, descuento))"
   ]
  },
  {
   "cell_type": "markdown",
   "metadata": {},
   "source": [
    "## **L (LSP): Principio de Sustitución de Liskov**"
   ]
  },
  {
   "cell_type": "markdown",
   "metadata": {},
   "source": [
    "**Problema**: La subclase `Avestruz` no puede comportarse como la clase base `Pajaro`, violando LSP."
   ]
  },
  {
   "cell_type": "code",
   "execution_count": 5,
   "metadata": {},
   "outputs": [],
   "source": [
    "class Pajaro:\n",
    "    def volar(self):\n",
    "        return \"Volando\"\n",
    "\n",
    "\n",
    "class Avestruz(Pajaro):\n",
    "    def volar(self):\n",
    "        raise Exception(\"Las avestruces no pueden volar.\")\n",
    "\n",
    "\n",
    "# pajaro = Pajaro()\n",
    "# pajaro.volar()"
   ]
  },
  {
   "cell_type": "markdown",
   "metadata": {},
   "source": [
    "**Mejora**: Ahora, `PajaroVolador` y `PajaroNoVolador` representan comportamientos separados, evitando inconsistencias."
   ]
  },
  {
   "cell_type": "code",
   "execution_count": 6,
   "metadata": {},
   "outputs": [
    {
     "name": "stdout",
     "output_type": "stream",
     "text": [
      "Volando\n",
      "Caminando\n"
     ]
    }
   ],
   "source": [
    "class Pajaro:\n",
    "    pass\n",
    "\n",
    "\n",
    "class PajaroVolador(Pajaro):\n",
    "    def volar(self):\n",
    "        return \"Volando\"\n",
    "\n",
    "\n",
    "class PajaroNoVolador(Pajaro):\n",
    "    def caminar(self):\n",
    "        return \"Caminando\"\n",
    "\n",
    "\n",
    "class Paloma(PajaroVolador):\n",
    "    pass\n",
    "\n",
    "\n",
    "class Avestruz(PajaroNoVolador):\n",
    "    pass\n",
    "\n",
    "\n",
    "# Uso\n",
    "paloma = Paloma()\n",
    "print(paloma.volar())\n",
    "\n",
    "avestruz = Avestruz()\n",
    "print(avestruz.caminar())\n",
    "# print(avestruz.volar()) # AttributeError"
   ]
  },
  {
   "cell_type": "markdown",
   "metadata": {},
   "source": [
    "## **I (ISP): Principio de Segregación de Interfaces**"
   ]
  },
  {
   "cell_type": "markdown",
   "metadata": {},
   "source": [
    "**Problema**: `ImpresoraBasica` está obligada a implementar métodos que no utiliza."
   ]
  },
  {
   "cell_type": "code",
   "execution_count": 7,
   "metadata": {},
   "outputs": [],
   "source": [
    "class Maquina:\n",
    "    def imprimir_documento(self):\n",
    "        pass\n",
    "\n",
    "    def escanear_documento(self):\n",
    "        pass\n",
    "\n",
    "    def enviar_fax(self):\n",
    "        pass\n",
    "\n",
    "\n",
    "class ImpresoraBasica(Maquina):\n",
    "    def imprimir_documento(self):\n",
    "        return \"Imprimiendo\"\n",
    "\n",
    "    def escanear_documento(self):\n",
    "        raise NotImplementedError(\"No puede escanear\")\n",
    "\n",
    "    def enviar_fax(self):\n",
    "        raise NotImplementedError(\"No puede enviar fax\")"
   ]
  },
  {
   "cell_type": "markdown",
   "metadata": {},
   "source": [
    "**Mejora**: Se han separado las interfaces para que las clases implementen únicamente lo que necesitan."
   ]
  },
  {
   "cell_type": "code",
   "execution_count": 8,
   "metadata": {},
   "outputs": [
    {
     "name": "stdout",
     "output_type": "stream",
     "text": [
      "Imprimiendo\n",
      "\n",
      "Imprimiendo\n",
      "Escaneando\n"
     ]
    }
   ],
   "source": [
    "from abc import ABC, abstractmethod\n",
    "\n",
    "\n",
    "class Impresora(ABC):\n",
    "    @abstractmethod\n",
    "    def imprimir_documento(self):\n",
    "        pass\n",
    "\n",
    "\n",
    "class Escaner(ABC):\n",
    "    @abstractmethod\n",
    "    def escanear_documento(self):\n",
    "        pass\n",
    "\n",
    "\n",
    "class ImpresoraBasica(Impresora):\n",
    "    def imprimir_documento(self):\n",
    "        return \"Imprimiendo\"\n",
    "\n",
    "\n",
    "class ImpresoraTodoEnUno(Impresora, Escaner):\n",
    "    def imprimir_documento(self):\n",
    "        return \"Imprimiendo\"\n",
    "\n",
    "    def escanear_documento(self):\n",
    "        return \"Escaneando\"\n",
    "\n",
    "\n",
    "# Uso\n",
    "impresora_basica = ImpresoraBasica()\n",
    "print(impresora_basica.imprimir_documento())\n",
    "print()\n",
    "\n",
    "impresora_todo = ImpresoraTodoEnUno()\n",
    "print(impresora_todo.imprimir_documento())\n",
    "print(impresora_todo.escanear_documento())"
   ]
  },
  {
   "cell_type": "markdown",
   "metadata": {},
   "source": [
    "## **D (DIP): Principio de Inversión de Dependencias**"
   ]
  },
  {
   "cell_type": "markdown",
   "metadata": {},
   "source": [
    "**Problema**: `ServicioNotificacion` depende directamente de `NotificacionEmail`. No es flexible ni reutilizable."
   ]
  },
  {
   "cell_type": "code",
   "execution_count": 9,
   "metadata": {},
   "outputs": [
    {
     "data": {
      "text/plain": [
       "'Contenido: Hola mucho gusto'"
      ]
     },
     "execution_count": 9,
     "metadata": {},
     "output_type": "execute_result"
    }
   ],
   "source": [
    "class NotificacionEmail:\n",
    "    def enviar_email(self, mensaje):\n",
    "        return f\"Contenido: {mensaje}\"\n",
    "\n",
    "\n",
    "class ServicioNotificacion:\n",
    "    def __init__(self):\n",
    "        self.notificador = NotificacionEmail()\n",
    "\n",
    "    def notificar(self, mensaje):\n",
    "        return self.notificador.enviar_email(mensaje)\n",
    "\n",
    "\n",
    "notificacion = ServicioNotificacion()\n",
    "notificacion.notificar(\"Hola mucho gusto\")"
   ]
  },
  {
   "cell_type": "markdown",
   "metadata": {},
   "source": [
    "Mejora: Ahora `ServicioNotificacion` depende de una abstracción `Notificador`, no de una implementación concreta."
   ]
  },
  {
   "cell_type": "code",
   "execution_count": 10,
   "metadata": {},
   "outputs": [
    {
     "name": "stdout",
     "output_type": "stream",
     "text": [
      "Contenido: Hola por correo\n",
      "Contenido: Hola por SMS\n"
     ]
    }
   ],
   "source": [
    "from abc import ABC, abstractmethod\n",
    "\n",
    "\n",
    "class Notificador(ABC):\n",
    "    @abstractmethod\n",
    "    def enviar(self, mensaje):\n",
    "        pass\n",
    "\n",
    "\n",
    "class NotificacionEmail(Notificador):\n",
    "    def enviar(self, mensaje):\n",
    "        return f\"Contenido: {mensaje}\"\n",
    "\n",
    "\n",
    "class NotificacionSMS(Notificador):\n",
    "    def enviar(self, mensaje):\n",
    "        return f\"Contenido: {mensaje}\"\n",
    "\n",
    "\n",
    "class ServicioNotificacion:\n",
    "    def __init__(self, notificador: Notificador):\n",
    "        self.notificador = notificador\n",
    "\n",
    "    def notificar(self, mensaje):\n",
    "        return self.notificador.enviar(mensaje)\n",
    "\n",
    "\n",
    "# Uso:\n",
    "notificador_email = NotificacionEmail()\n",
    "notificador_sms = NotificacionSMS()\n",
    "\n",
    "servicio = ServicioNotificacion(notificador_email)\n",
    "print(servicio.notificar(\"Hola por correo\"))\n",
    "\n",
    "servicio = ServicioNotificacion(notificador_sms)\n",
    "print(servicio.notificar(\"Hola por SMS\"))\n"
   ]
  }
 ],
 "metadata": {
  "kernelspec": {
   "display_name": "env",
   "language": "python",
   "name": "python3"
  },
  "language_info": {
   "codemirror_mode": {
    "name": "ipython",
    "version": 3
   },
   "file_extension": ".py",
   "mimetype": "text/x-python",
   "name": "python",
   "nbconvert_exporter": "python",
   "pygments_lexer": "ipython3",
   "version": "3.11.9"
  }
 },
 "nbformat": 4,
 "nbformat_minor": 2
}
