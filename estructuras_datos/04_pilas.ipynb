{
 "cells": [
  {
   "cell_type": "markdown",
   "metadata": {},
   "source": [
    "## **Pilas (Stacks)**\n",
    "\n",
    "Es una estructura de datos lineal que sigue el principio **LIFO (Last In, First Out)**, es decir, el último elemento en entrar es el primero en salir.\n",
    "\n",
    "## **Conceptos Clave**\n",
    "\n",
    "- Principio LIFO:\n",
    "    - El último elemento agregado es el primero en ser eliminado.\n",
    "    - Similar a una pila de platos: el último plato agregado es el primero que se retira.\n",
    "\n",
    "- Operaciones principales:\n",
    "    - `push(item)`: Añade un elemento a la cima de la pila.\n",
    "    - `pop()`: Elimina y devuelve el elemento superior de la pila.\n",
    "    - `peek()`: Devuelve el elemento superior sin eliminarlo.\n",
    "    - `is_empty()`: Verifica si la pila está vacía.\n",
    "    - `size()`: Retorna el número de elementos en la pila.\n",
    "\n",
    "- Estructura de almacenamiento:\n",
    "    - Implementación basada en listas (arrays) o listas enlazadas.\n",
    "\n",
    "## **Ventajas**\n",
    "\n",
    "- **Simplicidad**: Fácil de implementar y entender.\n",
    "- **Control del flujo de ejecución**: Útil para retroceder en operaciones (backtracking).\n",
    "- **Gestión de memoria eficiente**: Utilizada en la administración de llamadas a funciones (call stack).\n",
    "\n",
    "## **Desventajas**\n",
    "\n",
    "- **Capacidad limitada**: Si la pila está implementada con un tamaño fijo, puede llevar a un desbordamiento de pila (stack overflow).\n",
    "- **Acceso restringido**: Solo se puede acceder al elemento superior, lo que limita la flexibilidad.\n",
    "- **No es eficiente para búsquedas**: La búsqueda de elementos es lenta, ya que no permite acceso aleatorio.\n",
    "\n",
    "## **Casos de Uso**\n",
    "\n",
    "- **Gestión de llamadas a funciones (Call Stack)**: Los lenguajes de programación utilizan pilas para manejar las llamadas a funciones y su retorno.\n",
    "- **Deshacer y rehacer acciones (Undo/Redo)**: Aplicaciones como editores de texto o gráficos usan pilas para mantener un historial de acciones.\n",
    "- **Evaluación de expresiones matemáticas**: Conversión de expresiones en notación infija a postfija (notación polaca inversa).\n",
    "- **Navegación en páginas web**: Los navegadores web utilizan pilas para gestionar la navegación hacia adelante y atrás.\n",
    "- **Backtracking**: Problemas como exploración de laberintos o resolución de juegos (ej. Sudoku)."
   ]
  },
  {
   "cell_type": "markdown",
   "metadata": {},
   "source": [
    "## **Implementación**"
   ]
  },
  {
   "cell_type": "code",
   "execution_count": 2,
   "metadata": {},
   "outputs": [],
   "source": [
    "class Stack:\n",
    "    def __init__(self):\n",
    "        self.items = []\n",
    "\n",
    "    def push(self, item):\n",
    "        self.items.append(item)\n",
    "\n",
    "    def pop(self):\n",
    "        if not self.is_empty():\n",
    "            return self.items.pop()\n",
    "        return None  # Evita errores si la pila está vacía\n",
    "\n",
    "    def peek(self):\n",
    "        if not self.is_empty():\n",
    "            return self.items[-1]\n",
    "        return None\n",
    "\n",
    "    def is_empty(self):\n",
    "        return len(self.items) == 0\n",
    "\n",
    "    def size(self):\n",
    "        return len(self.items)"
   ]
  },
  {
   "cell_type": "code",
   "execution_count": 3,
   "metadata": {},
   "outputs": [
    {
     "name": "stdout",
     "output_type": "stream",
     "text": [
      "3\n",
      "2\n",
      "2\n"
     ]
    }
   ],
   "source": [
    "stack = Stack()\n",
    "stack.push(1)\n",
    "stack.push(2)\n",
    "stack.push(3)\n",
    "\n",
    "print(stack.pop())\n",
    "print(stack.peek())\n",
    "print(stack.size())"
   ]
  },
  {
   "cell_type": "markdown",
   "metadata": {},
   "source": [
    "## **Usando la Librería `collections.deque` (Más eficiente)**"
   ]
  },
  {
   "cell_type": "code",
   "execution_count": 5,
   "metadata": {},
   "outputs": [],
   "source": [
    "from collections import deque\n",
    "\n",
    "# Definiendo una pila con deque\n",
    "class StackDeque:\n",
    "    def __init__(self):\n",
    "        self.stack = deque()\n",
    "\n",
    "    def push(self, item):\n",
    "        self.stack.append(item)\n",
    "\n",
    "    def pop(self):\n",
    "        if not self.is_empty():\n",
    "            return self.stack.pop()\n",
    "        return None\n",
    "\n",
    "    def peek(self):\n",
    "        if not self.is_empty():\n",
    "            return self.stack[-1]\n",
    "        return None\n",
    "\n",
    "    def is_empty(self):\n",
    "        return len(self.stack) == 0\n",
    "\n",
    "    def size(self):\n",
    "        return len(self.stack)"
   ]
  },
  {
   "cell_type": "code",
   "execution_count": 7,
   "metadata": {},
   "outputs": [
    {
     "name": "stdout",
     "output_type": "stream",
     "text": [
      "C\n",
      "B\n"
     ]
    }
   ],
   "source": [
    "stack = StackDeque()\n",
    "stack.push('A')\n",
    "stack.push('B')\n",
    "stack.push('C')\n",
    "\n",
    "print(stack.pop())\n",
    "print(stack.peek())"
   ]
  },
  {
   "cell_type": "markdown",
   "metadata": {},
   "source": [
    "## **Usando la Clase `LifoQueue` de la Librería `queue` (Para aplicaciones concurrentes)**"
   ]
  },
  {
   "cell_type": "code",
   "execution_count": 8,
   "metadata": {},
   "outputs": [
    {
     "name": "stdout",
     "output_type": "stream",
     "text": [
      "30\n",
      "20\n"
     ]
    }
   ],
   "source": [
    "from queue import LifoQueue\n",
    "\n",
    "stack = LifoQueue()\n",
    "stack.put(10)\n",
    "stack.put(20)\n",
    "stack.put(30)\n",
    "\n",
    "print(stack.get())  # 30\n",
    "print(stack.get())  # 20"
   ]
  },
  {
   "cell_type": "markdown",
   "metadata": {},
   "source": [
    "## **Comparación de Implementaciones**\n",
    "\n",
    "| Implementación        | Ventajas                          | Desventajas                         |\n",
    "|----------------------|-----------------------------------|-------------------------------------|\n",
    "| Listas (`list`)       | Simple y directa                 | Ineficiente para grandes datos     |\n",
    "| Deque (`collections`) | Rápida y optimizada               | Mayor uso de memoria               |\n",
    "| LifoQueue (`queue`)   | Seguridad en hilos (thread-safe) | Puede ser más lenta en ejecución   |"
   ]
  }
 ],
 "metadata": {
  "kernelspec": {
   "display_name": "env",
   "language": "python",
   "name": "python3"
  },
  "language_info": {
   "codemirror_mode": {
    "name": "ipython",
    "version": 3
   },
   "file_extension": ".py",
   "mimetype": "text/x-python",
   "name": "python",
   "nbconvert_exporter": "python",
   "pygments_lexer": "ipython3",
   "version": "3.13.1"
  }
 },
 "nbformat": 4,
 "nbformat_minor": 2
}
