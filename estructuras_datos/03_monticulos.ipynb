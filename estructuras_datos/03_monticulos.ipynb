{
 "cells": [
  {
   "cell_type": "markdown",
   "metadata": {},
   "source": [
    "# **Montículos (Heaps)**\n",
    "\n",
    "Son estructuras de datos en forma de árbol binario que cumplen con la propiedad del montículo, que puede ser de dos tipos:\n",
    "\n",
    "- **Montículo mínimo (Min-Heap)**: El valor de cada nodo padre es menor o igual que el valor de sus hijos.\n",
    "    - El elemento mínimo siempre está en la raíz.\n",
    "- **Montículo máximo (Max-Heap)**: El valor de cada nodo padre es mayor o igual que el valor de sus hijos.\n",
    "    - El elemento máximo siempre está en la raíz."
   ]
  },
  {
   "cell_type": "markdown",
   "metadata": {},
   "source": [
    "## **Conceptos Clave**\n",
    "\n",
    "- Se implementan generalmente como arreglos (listas) en lugar de nodos enlazados.\n",
    "- La posición del hijo izquierdo de un nodo en el índice `i` es `2*i + 1`, y la del hijo derecho es `2*i + 2`.\n",
    "- La posición del nodo padre es `(i - 1) // 2`.\n",
    "  \n",
    "## **Operaciones Clave**\n",
    "\n",
    "- **Inserción**: Agregar un nuevo elemento y reorganizar el montículo.\n",
    "- **Extracción del mínimo/máximo**: Elimina y devuelve el elemento de la raíz.\n",
    "- **Peek**: Obtener el valor de la raíz sin eliminarlo.\n",
    "- **Construcción del montículo**: Crear un montículo a partir de una lista de elementos en `𝑂(𝑛)`.\n",
    "- **Heapify**: Reorganizar el montículo para mantener su propiedad.\n",
    "\n",
    "## **Ventajas**\n",
    "\n",
    "- **Eficiencia**: Inserción y eliminación en `𝑂(log 𝑛)`. Acceso al mínimo/máximo en `𝑂(1)`.\n",
    "- **Adecuado para problemas de prioridad**: Gestión eficiente de colas de prioridad. Se utiliza en algoritmos como Dijkstra y Prim.\n",
    "- **Construcción rápida**: Se puede construir un montículo a partir de una lista en `𝑂(𝑛)`.\n",
    "\n",
    "## **Desventajas**\n",
    "\n",
    "- **No es eficiente para búsquedas arbitrarias**: Buscar un elemento específico toma `𝑂(𝑛)`.\n",
    "- **Limitaciones en ordenamiento completo**: Solo se garantiza el acceso eficiente al mínimo/máximo, no se puede recorrer de manera ordenada fácilmente.\n",
    "- **Uso de memoria**: Requiere almacenamiento adicional debido a la estructura jerárquica.\n",
    "\n",
    "## **Casos de Uso**\n",
    "\n",
    "- **Cola de prioridad**: Gestión de tareas en sistemas operativos. Planificación de eventos en simulaciones.\n",
    "- **Algoritmos de grafos**: Dijkstra (ruta más corta). Algoritmo de Prim (árbol de expansión mínima).\n",
    "- **Ordenamiento**: Heap Sort (Ordenamiento basado en montículos).\n",
    "- **Sistemas en tiempo real**: Procesamiento de eventos por prioridad.\n",
    "- **Sistemas de recomendación**: Mantenimiento de los elementos más relevantes."
   ]
  },
  {
   "cell_type": "markdown",
   "metadata": {},
   "source": [
    "## **Implementación**"
   ]
  },
  {
   "cell_type": "code",
   "execution_count": 26,
   "metadata": {},
   "outputs": [],
   "source": [
    "class MinHeap:\n",
    "    def __init__(self):\n",
    "        self.heap = []\n",
    "\n",
    "    def _parent(self, index):\n",
    "        return (index - 1) // 2\n",
    "\n",
    "    def _left_child(self, index):\n",
    "        return 2 * index + 1\n",
    "\n",
    "    def _right_child(self, index):\n",
    "        return 2 * index + 2\n",
    "\n",
    "    def _swap(self, i, j):\n",
    "        self.heap[i], self.heap[j] = self.heap[j], self.heap[i]\n",
    "\n",
    "    def _heapify_up(self, index):\n",
    "        \"\"\"Reubicar el elemento hacia arriba para mantener la propiedad del heap.\"\"\"\n",
    "        while index > 0 and self.heap[index] < self.heap[self._parent(index)]:\n",
    "            self._swap(index, self._parent(index))\n",
    "            index = self._parent(index)\n",
    "\n",
    "    def _heapify_down(self, index):\n",
    "        \"\"\"Reubicar el elemento hacia abajo para mantener la propiedad del heap.\"\"\"\n",
    "        smallest = index\n",
    "        left = self._left_child(index)\n",
    "        right = self._right_child(index)\n",
    "\n",
    "        if left < len(self.heap) and self.heap[left] < self.heap[smallest]:\n",
    "            smallest = left\n",
    "        if right < len(self.heap) and self.heap[right] < self.heap[smallest]:\n",
    "            smallest = right\n",
    "        if smallest != index:\n",
    "            self._swap(index, smallest)\n",
    "            self._heapify_down(smallest)\n",
    "\n",
    "    def insert(self, value):\n",
    "        \"\"\"Inserta un valor en el montículo.\"\"\"\n",
    "        self.heap.append(value)\n",
    "        self._heapify_up(len(self.heap) - 1)\n",
    "\n",
    "    def extract_min(self):\n",
    "        \"\"\"Extrae y devuelve el elemento mínimo del montículo.\"\"\"\n",
    "        if len(self.heap) == 0:\n",
    "            raise IndexError(\"El montículo está vacío\")\n",
    "        \n",
    "        if len(self.heap) == 1:\n",
    "            return self.heap.pop()\n",
    "\n",
    "        root = self.heap[0]\n",
    "        self.heap[0] = self.heap.pop()  # Mueve el último elemento a la raíz\n",
    "        self._heapify_down(0)\n",
    "        return root\n",
    "\n",
    "    def peek(self):\n",
    "        \"\"\"Devuelve el elemento mínimo sin extraerlo.\"\"\"\n",
    "        if len(self.heap) == 0:\n",
    "            raise IndexError(\"El montículo está vacío\")\n",
    "        return self.heap[0]\n",
    "\n",
    "    def size(self):\n",
    "        \"\"\"Devuelve el número de elementos en el montículo.\"\"\"\n",
    "        return len(self.heap)\n",
    "\n",
    "    def is_empty(self):\n",
    "        \"\"\"Verifica si el montículo está vacío.\"\"\"\n",
    "        return len(self.heap) == 0\n",
    "\n",
    "    def display(self):\n",
    "        \"\"\"Muestra los elementos del montículo.\"\"\"\n",
    "        print(self.heap)"
   ]
  },
  {
   "cell_type": "code",
   "execution_count": 28,
   "metadata": {},
   "outputs": [
    {
     "name": "stdout",
     "output_type": "stream",
     "text": [
      "[3, 5, 20, 10]\n",
      "3\n",
      "[5, 10, 20]\n",
      "5\n",
      "3\n"
     ]
    }
   ],
   "source": [
    "heap = MinHeap()\n",
    "\n",
    "heap.insert(10)\n",
    "heap.insert(5)\n",
    "heap.insert(20)\n",
    "heap.insert(3)\n",
    "heap.display()\n",
    "\n",
    "print(heap.extract_min())  # 3\n",
    "heap.display()\n",
    "\n",
    "print(heap.peek())  # 5\n",
    "print(heap.size())  # 3"
   ]
  },
  {
   "cell_type": "markdown",
   "metadata": {},
   "source": [
    "## **Crear un montículo mínimo (Min-Heap)**\n",
    "\n",
    "![Min-Heap](../assets/img/min_heap.jpg)"
   ]
  },
  {
   "cell_type": "code",
   "execution_count": 14,
   "metadata": {},
   "outputs": [
    {
     "name": "stdout",
     "output_type": "stream",
     "text": [
      "[1, 5, 20, 10]\n"
     ]
    }
   ],
   "source": [
    "import heapq\n",
    "\n",
    "heap = []\n",
    "\n",
    "# Agregar elementos al montículo\n",
    "heapq.heappush(heap, 10)\n",
    "heapq.heappush(heap, 5)\n",
    "heapq.heappush(heap, 20)\n",
    "heapq.heappush(heap, 1)\n",
    "\n",
    "# Montículo mínimo\n",
    "print(heap)  # Orden interno del heap"
   ]
  },
  {
   "cell_type": "markdown",
   "metadata": {},
   "source": [
    "## **Obtener el Elemento Mínimo**"
   ]
  },
  {
   "cell_type": "code",
   "execution_count": 17,
   "metadata": {},
   "outputs": [
    {
     "name": "stdout",
     "output_type": "stream",
     "text": [
      "1\n",
      "[5, 10, 20]\n"
     ]
    }
   ],
   "source": [
    "import heapq\n",
    "\n",
    "heap = []\n",
    "heapq.heappush(heap, 10)\n",
    "heapq.heappush(heap, 5)\n",
    "heapq.heappush(heap, 20)\n",
    "heapq.heappush(heap, 1)\n",
    "\n",
    "min_value = heapq.heappop(heap) # Elemento mínimo extraído\n",
    "print(min_value)\n",
    "\n",
    "print(heap) # Montículo después de extraer"
   ]
  },
  {
   "cell_type": "markdown",
   "metadata": {},
   "source": [
    "## **Convertir una Lista en Montículo (Heapify)**"
   ]
  },
  {
   "cell_type": "code",
   "execution_count": 19,
   "metadata": {},
   "outputs": [
    {
     "name": "stdout",
     "output_type": "stream",
     "text": [
      "[2, 3, 8, 5, 15]\n"
     ]
    }
   ],
   "source": [
    "import heapq\n",
    "\n",
    "numbers = [15, 3, 8, 5, 2]\n",
    "\n",
    "heapq.heapify(numbers) # Lista convertida\n",
    "print(numbers) "
   ]
  },
  {
   "cell_type": "markdown",
   "metadata": {},
   "source": [
    "## **Crear un Montículo Máximo (Max-Heap)**\n",
    "\n",
    "![Max-Heap](../assets/img/max_heap.jpg)"
   ]
  },
  {
   "cell_type": "code",
   "execution_count": 25,
   "metadata": {},
   "outputs": [
    {
     "name": "stdout",
     "output_type": "stream",
     "text": [
      "25\n"
     ]
    }
   ],
   "source": [
    "import heapq\n",
    "\n",
    "max_heap = []\n",
    "heapq.heappush(max_heap, -10)\n",
    "heapq.heappush(max_heap, -5)\n",
    "heapq.heappush(max_heap, -20)\n",
    "heapq.heappush(max_heap, -25)\n",
    "heapq.heappush(max_heap, -1)\n",
    "\n",
    "max_value = -heapq.heappop(max_heap) # Para obtener el máximo, invierte el signo\n",
    "print(max_value)"
   ]
  },
  {
   "cell_type": "markdown",
   "metadata": {},
   "source": [
    "## **Obtener los `n` Elementos Más Pequeños o Grandes**"
   ]
  },
  {
   "cell_type": "code",
   "execution_count": 24,
   "metadata": {},
   "outputs": [
    {
     "name": "stdout",
     "output_type": "stream",
     "text": [
      "[5, 10, 15]\n",
      "[30, 25, 20]\n"
     ]
    }
   ],
   "source": [
    "import heapq\n",
    "\n",
    "nums = [15, 10, 25, 30, 5, 20]\n",
    "\n",
    "print(heapq.nsmallest(3, nums))  # 3 elementos más pequeños\n",
    "print(heapq.nlargest(3, nums)) # 3 elementos más grandes"
   ]
  }
 ],
 "metadata": {
  "kernelspec": {
   "display_name": "env",
   "language": "python",
   "name": "python3"
  },
  "language_info": {
   "codemirror_mode": {
    "name": "ipython",
    "version": 3
   },
   "file_extension": ".py",
   "mimetype": "text/x-python",
   "name": "python",
   "nbconvert_exporter": "python",
   "pygments_lexer": "ipython3",
   "version": "3.13.1"
  }
 },
 "nbformat": 4,
 "nbformat_minor": 2
}
