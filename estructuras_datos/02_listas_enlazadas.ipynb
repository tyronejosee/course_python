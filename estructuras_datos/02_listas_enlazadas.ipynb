{
 "cells": [
  {
   "cell_type": "markdown",
   "metadata": {},
   "source": [
    "# **Listas Enlazadas (Linked Lists)**\n",
    "\n",
    "Son estructuras de datos lineales en las que los elementos (nodos) están conectados entre sí mediante referencias (punteros). A diferencia de las listas de Python (list), que están implementadas como arreglos dinámicos, las listas enlazadas ofrecen ventajas en la inserción y eliminación de elementos, pero tienen un mayor costo en acceso aleatorio."
   ]
  },
  {
   "cell_type": "markdown",
   "metadata": {},
   "source": [
    "## **Conceptos Claves**\n",
    "\n",
    "**Nodo (Node)**:\n",
    "\n",
    "- Contiene dos partes: el valor (dato) y una referencia (puntero) al siguiente nodo.\n",
    "\n",
    "**Lista enlazada (LinkedList)**:\n",
    "\n",
    "- Contiene una referencia al primer nodo (cabeza o head).\n",
    "\n",
    "**Tipos de listas enlazadas**:\n",
    "\n",
    "- **Singly Linked List (Simplemente enlazada)**: Cada nodo apunta al siguiente.\n",
    "- **Doubly Linked List (Doblemente enlazada)**: Cada nodo tiene referencia al anterior y siguiente.\n",
    "- **Circular Linked List (Circular)**: El último nodo apunta al primero."
   ]
  },
  {
   "cell_type": "markdown",
   "metadata": {},
   "source": [
    "## **Ventajas**\n",
    "\n",
    "- Inserciones y eliminaciones eficientes.\n",
    "- Uso dinámico de memoria."
   ]
  },
  {
   "cell_type": "markdown",
   "metadata": {},
   "source": [
    "## **Desventajas**\n",
    "\n",
    "- Mayor consumo de memoria debido a referencias adicionales.\n",
    "- Acceso secuencial a elementos (no aleatorio como listas de Python)."
   ]
  },
  {
   "cell_type": "markdown",
   "metadata": {},
   "source": [
    "## **Casos de Uso**\n",
    "\n",
    "- Cuando se requieren operaciones frecuentes de inserción y eliminación.\n",
    "- Para implementar estructuras de datos como pilas, colas y grafos."
   ]
  },
  {
   "cell_type": "markdown",
   "metadata": {},
   "source": [
    "## **Singly Linked List (Simplemente enlazada)**\n",
    "\n",
    "![Singly Linked List](../assets/img/singly_ll.jpg)"
   ]
  },
  {
   "cell_type": "code",
   "execution_count": 16,
   "metadata": {},
   "outputs": [],
   "source": [
    "class Node:\n",
    "    def __init__(self, data):\n",
    "        self.data = data  # Almacena el valor del nodo\n",
    "        self.next = None  # Puntero al siguiente nodo\n",
    "\n",
    "class LinkedList:\n",
    "    def __init__(self):\n",
    "        self.head = None  # Inicialmente la lista está vacía\n",
    "\n",
    "    def append(self, data):\n",
    "        # Método para agregar un nodo al final de la lista\n",
    "        new_node = Node(data)\n",
    "        if not self.head:  # Si la lista está vacía\n",
    "            self.head = new_node\n",
    "            return\n",
    "        last = self.head\n",
    "        while last.next:  # Recorre hasta el último nodo\n",
    "            last = last.next\n",
    "        last.next = new_node\n",
    "\n",
    "    def display(self):\n",
    "        # Método para mostrar la lista enlazada\n",
    "        current = self.head\n",
    "        while current:\n",
    "            print(current.data, end=\" -> \")\n",
    "            current = current.next\n",
    "        print(\"None\")\n",
    "\n",
    "    def search(self, key):\n",
    "        # Método para buscar un elemento\n",
    "        current = self.head\n",
    "        while current:\n",
    "            if current.data == key:\n",
    "                return True\n",
    "            current = current.next\n",
    "        return False\n",
    "\n",
    "    def delete(self, key):\n",
    "        # Método para eliminar un nodo por valor\n",
    "        current = self.head\n",
    "\n",
    "        # Caso especial: eliminar cabeza\n",
    "        if current and current.data == key:\n",
    "            self.head = current.next\n",
    "            current = None\n",
    "            return\n",
    "        \n",
    "        prev = None\n",
    "        while current and current.data != key:\n",
    "            prev = current\n",
    "            current = current.next\n",
    "        \n",
    "        if current is None:\n",
    "            return\n",
    "        \n",
    "        prev.next = current.next\n",
    "        current = None"
   ]
  },
  {
   "cell_type": "code",
   "execution_count": 17,
   "metadata": {},
   "outputs": [
    {
     "name": "stdout",
     "output_type": "stream",
     "text": [
      "10 -> 20 -> 30 -> None\n",
      "¿Existe 20? True\n",
      "10 -> 30 -> None\n"
     ]
    }
   ],
   "source": [
    "ll = LinkedList()\n",
    "\n",
    "# Agregar nodos a la lista\n",
    "ll.append(10)\n",
    "ll.append(20)\n",
    "ll.append(30)\n",
    "ll.display() # Mostar la lista\n",
    "\n",
    "print(\"¿Existe 20?\", ll.search(20))  # Buscar un elemento\n",
    "\n",
    "ll.delete(20) # Eliminar un nodo\n",
    "ll.display() # Mostar la lista"
   ]
  },
  {
   "cell_type": "markdown",
   "metadata": {},
   "source": [
    "## **Doubly Linked List (Doblemente enlazada)**\n",
    "\n",
    "![Doubly Linked List](../assets/img/doubly_ll.jpg)"
   ]
  },
  {
   "cell_type": "code",
   "execution_count": 19,
   "metadata": {},
   "outputs": [],
   "source": [
    "class DNode:\n",
    "    def __init__(self, data):\n",
    "        self.data = data\n",
    "        self.prev = None  # Puntero al nodo anterior\n",
    "        self.next = None  # Puntero al nodo siguiente\n",
    "\n",
    "class DoublyLinkedList:\n",
    "    def __init__(self):\n",
    "        self.head = None\n",
    "\n",
    "    def append(self, data):\n",
    "        # Método para agregar nodo al final\n",
    "        new_node = DNode(data)\n",
    "        if not self.head:\n",
    "            self.head = new_node\n",
    "            return\n",
    "        last = self.head\n",
    "        while last.next:\n",
    "            last = last.next\n",
    "        last.next = new_node\n",
    "        new_node.prev = last  # Enlace bidireccional\n",
    "\n",
    "    def display_forward(self):\n",
    "        # Método para mostrar la lista desde la cabeza\n",
    "        current = self.head\n",
    "        while current:\n",
    "            print(current.data, end=\" <-> \")\n",
    "            current = current.next\n",
    "        print(\"None\")\n",
    "\n",
    "    def display_backward(self):\n",
    "        # Método para mostrar la lista desde el final\n",
    "        current = self.head\n",
    "        while current.next:\n",
    "            current = current.next\n",
    "        while current:\n",
    "            print(current.data, end=\" <-> \")\n",
    "            current = current.prev\n",
    "        print(\"None\")\n",
    "\n",
    "    def delete(self, key):\n",
    "        # Método para eliminar un nodo\n",
    "        current = self.head\n",
    "        while current and current.data != key:\n",
    "            current = current.next\n",
    "        if current is None:\n",
    "            return\n",
    "        if current.next:\n",
    "            current.next.prev = current.prev\n",
    "        if current.prev:\n",
    "            current.prev.next = current.next\n",
    "        else:\n",
    "            self.head = current.next\n",
    "        current = None"
   ]
  },
  {
   "cell_type": "code",
   "execution_count": 20,
   "metadata": {},
   "outputs": [
    {
     "name": "stdout",
     "output_type": "stream",
     "text": [
      "1 <-> 2 <-> 3 <-> None\n",
      "3 <-> 2 <-> 1 <-> None\n",
      "1 <-> 3 <-> None\n"
     ]
    }
   ],
   "source": [
    "dll = DoublyLinkedList()\n",
    "\n",
    "# Agregar nodos a la lista\n",
    "dll.append(1)\n",
    "dll.append(2)\n",
    "dll.append(3)\n",
    "\n",
    "dll.display_forward() # Mostrar la lista en orden normal\n",
    "\n",
    "dll.display_backward() # Mostrar la lista en orden inverso\n",
    "\n",
    "dll.delete(2) # Eliminar el nodo con valor 2\n",
    "dll.display_forward()"
   ]
  },
  {
   "cell_type": "markdown",
   "metadata": {},
   "source": [
    "## **Circular Linked List (Circular)**\n",
    "\n",
    "![Circular Linked List](../assets/img/circular_ll.jpg)"
   ]
  },
  {
   "cell_type": "code",
   "execution_count": 22,
   "metadata": {},
   "outputs": [],
   "source": [
    "class CNode:\n",
    "    def __init__(self, data):\n",
    "        self.data = data\n",
    "        self.next = None\n",
    "\n",
    "class CircularLinkedList:\n",
    "    def __init__(self):\n",
    "        self.head = None\n",
    "\n",
    "    def append(self, data):\n",
    "        # Método para agregar nodo\n",
    "        new_node = CNode(data)\n",
    "        if not self.head:\n",
    "            self.head = new_node\n",
    "            new_node.next = self.head  # Apunta a sí mismo\n",
    "            return\n",
    "        temp = self.head\n",
    "        while temp.next != self.head:\n",
    "            temp = temp.next\n",
    "        temp.next = new_node\n",
    "        new_node.next = self.head\n",
    "\n",
    "    def display(self):\n",
    "        # Método para mostrar lista circular\n",
    "        if not self.head:\n",
    "            return\n",
    "        temp = self.head\n",
    "        while True:\n",
    "            print(temp.data, end=\" -> \")\n",
    "            temp = temp.next\n",
    "            if temp == self.head:\n",
    "                break\n",
    "        print(\"(circular)\")\n",
    "\n",
    "    def delete(self, key):\n",
    "        # Método para eliminar nodo\n",
    "        if self.head is None:\n",
    "            return\n",
    "        current = self.head\n",
    "        prev = None\n",
    "\n",
    "        # Caso especial, si la cabeza es el nodo a eliminar\n",
    "        if current.data == key:\n",
    "            while current.next != self.head:\n",
    "                current = current.next\n",
    "            if self.head == self.head.next:\n",
    "                self.head = None\n",
    "            else:\n",
    "                current.next = self.head.next\n",
    "                self.head = self.head.next\n",
    "            return\n",
    "\n",
    "        while current.next != self.head and current.data != key:\n",
    "            prev = current\n",
    "            current = current.next\n",
    "        \n",
    "        if current.data == key:\n",
    "            prev.next = current.next"
   ]
  },
  {
   "cell_type": "code",
   "execution_count": 10,
   "metadata": {},
   "outputs": [
    {
     "name": "stdout",
     "output_type": "stream",
     "text": [
      "1 -> 2 -> 3 -> (circular)\n",
      "1 -> 3 -> (circular)\n"
     ]
    }
   ],
   "source": [
    "cll = CircularLinkedList()\n",
    "\n",
    "cll.append(1)\n",
    "cll.append(2)\n",
    "cll.append(3)\n",
    "cll.display() # Mostrar\n",
    "\n",
    "cll.delete(2)\n",
    "cll.display()"
   ]
  },
  {
   "cell_type": "markdown",
   "metadata": {},
   "source": [
    "## **Módulo `collections.deque` (doble-ended queue)**\n",
    "\n",
    "El módulo collections proporciona deque, que internamente es una lista doblemente enlazada, optimizada para inserciones y eliminaciones rápidas en ambos extremos."
   ]
  },
  {
   "cell_type": "code",
   "execution_count": 1,
   "metadata": {},
   "outputs": [
    {
     "name": "stdout",
     "output_type": "stream",
     "text": [
      "deque([1, 2, 3])\n"
     ]
    }
   ],
   "source": [
    "from collections import deque\n",
    "\n",
    "# Crear una lista doblemente enlazada\n",
    "linked_list = deque([1, 2, 3])\n",
    "\n",
    "# Agregar elementos al principio y al final\n",
    "linked_list.append(4)    # [1, 2, 3, 4]\n",
    "linked_list.appendleft(0)  # [0, 1, 2, 3, 4]\n",
    "\n",
    "# Eliminar elementos del principio y del final\n",
    "linked_list.pop()       # [0, 1, 2, 3]\n",
    "linked_list.popleft()   # [1, 2, 3]\n",
    "\n",
    "print(linked_list)  # deque([1, 2, 3])"
   ]
  }
 ],
 "metadata": {
  "kernelspec": {
   "display_name": "env",
   "language": "python",
   "name": "python3"
  },
  "language_info": {
   "codemirror_mode": {
    "name": "ipython",
    "version": 3
   },
   "file_extension": ".py",
   "mimetype": "text/x-python",
   "name": "python",
   "nbconvert_exporter": "python",
   "pygments_lexer": "ipython3",
   "version": "3.11.9"
  }
 },
 "nbformat": 4,
 "nbformat_minor": 2
}
