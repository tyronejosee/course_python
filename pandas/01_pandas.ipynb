{
 "cells": [
  {
   "cell_type": "markdown",
   "metadata": {},
   "source": [
    "# **Pandas**\n",
    "\n",
    "- https://pandas.pydata.org/\n",
    "- https://pypi.org/project/pandas/\n",
    "\n",
    "- Pandas es una librería de Python.\n",
    "- Pandas se utiliza para analizar datos."
   ]
  },
  {
   "cell_type": "code",
   "execution_count": null,
   "metadata": {},
   "outputs": [],
   "source": [
    "import pandas as pd\n",
    "\n",
    "# Carga un archivo CSV en un DataFrame de Pandas\n",
    "df = pd.read_csv('../assets/csv/customers.csv')\n",
    "\n",
    "# print(df.to_string())\n",
    "df"
   ]
  },
  {
   "cell_type": "markdown",
   "metadata": {},
   "source": [
    "> El método `to_string()` de un DataFrame en Pandas convierte todo el DataFrame en una representación en forma de cadena (texto)."
   ]
  },
  {
   "cell_type": "markdown",
   "metadata": {},
   "source": [
    "## **Instalación**\n",
    "\n",
    "Ejecuta el siguente comando.\n",
    "\n",
    "```bash\n",
    "pip install pandas\n",
    "```"
   ]
  },
  {
   "cell_type": "markdown",
   "metadata": {},
   "source": [
    "## **Importar Pandas**"
   ]
  },
  {
   "cell_type": "markdown",
   "metadata": {},
   "source": [
    "Ahora Pandas está instalado está listo para usarse."
   ]
  },
  {
   "cell_type": "code",
   "execution_count": null,
   "metadata": {},
   "outputs": [],
   "source": [
    "import pandas\n",
    "\n",
    "dataset = {\n",
    "  \"nombre\": [\"Hiromi\", \"Sofía\", \"José\"],\n",
    "  \"pasatiempo\": [\"Dormir\", \"No Bañarse\", \"Enojarse\"]\n",
    "}\n",
    "\n",
    "variable = pandas.DataFrame(dataset)\n",
    "\n",
    "print(variable)"
   ]
  },
  {
   "cell_type": "markdown",
   "metadata": {},
   "source": [
    "## **Series**\n",
    "\n",
    "- Una Series de Pandas es como una columna en una tabla.\n",
    "- Es un arreglo unidimensional que contiene datos de cualquier tipo."
   ]
  },
  {
   "cell_type": "code",
   "execution_count": null,
   "metadata": {},
   "outputs": [],
   "source": [
    "import pandas as pd\n",
    "\n",
    "a = [1, 7, 2]\n",
    "\n",
    "variable = pd.Series(a)\n",
    "\n",
    "print(variable)"
   ]
  },
  {
   "cell_type": "markdown",
   "metadata": {},
   "source": [
    "## **Etiquetas**\n",
    "\n",
    "- Si no se especifica nada más, los valores están etiquetados con su número de índice.\n",
    "- El primer valor tiene el índice 0, el segundo valor tiene el índice 1, etc.\n",
    "- Esta etiqueta se puede usar para acceder a un valor específico."
   ]
  },
  {
   "cell_type": "code",
   "execution_count": null,
   "metadata": {},
   "outputs": [],
   "source": [
    "numeros = [1, 7, 2]\n",
    "\n",
    "print(numeros[0])"
   ]
  },
  {
   "cell_type": "markdown",
   "metadata": {},
   "source": [
    "## **Crear Etiquetas**\n",
    "\n",
    "Con el argumento `index`, puedes crear tus propias etiquetas."
   ]
  },
  {
   "cell_type": "code",
   "execution_count": null,
   "metadata": {},
   "outputs": [],
   "source": [
    "import pandas as pd\n",
    "\n",
    "a = [1, 7, 2]\n",
    "\n",
    "myvar = pd.Series(a, index=[\"x\", \"y\", \"z\"])\n",
    "\n",
    "print(myvar)\n"
   ]
  },
  {
   "cell_type": "markdown",
   "metadata": {},
   "source": [
    "Cuando hayas creado etiquetas, puedes acceder a un ítem refiriéndote a la etiqueta."
   ]
  },
  {
   "cell_type": "code",
   "execution_count": null,
   "metadata": {},
   "outputs": [],
   "source": [
    "import pandas as pd\n",
    "\n",
    "a = [1, 7, 2]\n",
    "\n",
    "variable = pd.Series(a, index=[\"x\", \"y\", \"z\"])\n",
    "\n",
    "print(variable[\"y\"])"
   ]
  },
  {
   "cell_type": "markdown",
   "metadata": {},
   "source": [
    "## **Objetos Clave/Valor como Series**\n",
    "\n",
    "También puedes usar un objeto clave/valor, como un diccionario, al crear una Series."
   ]
  },
  {
   "cell_type": "code",
   "execution_count": null,
   "metadata": {},
   "outputs": [],
   "source": [
    "import pandas as pd\n",
    "\n",
    "calorias = {\"dia1\": 1500, \"dia2\": 1750, \"dia3\": 2000}\n",
    "\n",
    "variable = pd.Series(calorias)\n",
    "\n",
    "print(variable)"
   ]
  },
  {
   "cell_type": "markdown",
   "metadata": {},
   "source": [
    "## **DataFrames**\n",
    "\n",
    "- Los conjuntos de datos en Pandas suelen ser tablas multidimensionales, llamadas DataFrames.\n",
    "- Series es como una columna, mientras que un DataFrame es toda la tabla."
   ]
  },
  {
   "cell_type": "code",
   "execution_count": null,
   "metadata": {},
   "outputs": [],
   "source": [
    "import pandas as pd\n",
    "\n",
    "datos = {\n",
    "  \"alimento\": [\"Cereal\", \"Marraqueta\", \"Lámina de Queso\"],\n",
    "  \"calorias\": [125, 276, 105]\n",
    "}\n",
    "\n",
    "variable = pd.DataFrame(datos)\n",
    "\n",
    "# print(variable)\n",
    "variable"
   ]
  },
  {
   "cell_type": "markdown",
   "metadata": {},
   "source": [
    "## **Ubicar una Fila**\n",
    "\n",
    "Pandas utiliza el atributo `loc` para devolver una o más filas especificadas."
   ]
  },
  {
   "cell_type": "code",
   "execution_count": null,
   "metadata": {},
   "outputs": [],
   "source": [
    "# referirse al índice de la fila:\n",
    "variable.loc[1]"
   ]
  },
  {
   "cell_type": "code",
   "execution_count": null,
   "metadata": {},
   "outputs": [],
   "source": [
    "# usar una lista de índices:\n",
    "variable.loc[[0, 1]]"
   ]
  },
  {
   "cell_type": "markdown",
   "metadata": {},
   "source": [
    "## **Índices Nombrados**\n",
    "\n",
    "Con el argumento `index`, puedes nombrar tus propios índices."
   ]
  },
  {
   "cell_type": "code",
   "execution_count": null,
   "metadata": {},
   "outputs": [],
   "source": [
    "import pandas as pd\n",
    "\n",
    "data = {\n",
    "  \"alimento\": [\"Cereal\", \"Marraqueta\", \"Lámina de Queso\"],\n",
    "  \"calorias\": [125, 276, 105]\n",
    "}\n",
    "\n",
    "df = pd.DataFrame(data, index=[\"dia1\", \"dia2\", \"dia3\"])\n",
    "\n",
    "# print(df)\n",
    "df"
   ]
  },
  {
   "cell_type": "markdown",
   "metadata": {},
   "source": [
    "## **Ubicar Índices Nombrados**\n",
    "\n",
    "Usa el índice nombrado en el atributo `loc` para devolver las filas especificadas."
   ]
  },
  {
   "cell_type": "code",
   "execution_count": null,
   "metadata": {},
   "outputs": [],
   "source": [
    "# referirse al índice nombrado\n",
    "df.loc[\"dia2\"]"
   ]
  },
  {
   "cell_type": "markdown",
   "metadata": {},
   "source": [
    "## **Cargar Archivos en un DataFrame**\n",
    "\n",
    "Si tus conjuntos de datos están almacenados en un archivo, Pandas puede cargarlos en un `DataFrame`."
   ]
  },
  {
   "cell_type": "code",
   "execution_count": null,
   "metadata": {},
   "outputs": [],
   "source": [
    "import pandas as pd\n",
    "\n",
    "df = pd.read_csv(\"../assets/csv/ingredients.csv\")\n",
    "# df = pd.read_excel('../assets/xlsx/bad-recipes.xlsx')\n",
    "\n",
    "# print(df)\n",
    "df"
   ]
  },
  {
   "cell_type": "markdown",
   "metadata": {},
   "source": [
    "## **Leer Archivos CSV**\n",
    "\n",
    "- Una forma sencilla de almacenar grandes conjuntos de datos es usar archivos CSV (archivos separados por comas).\n",
    "- Los archivos CSV contienen texto plano y son un formato bien conocido que puede ser leído por cualquier persona, incluido Pandas."
   ]
  },
  {
   "cell_type": "markdown",
   "metadata": {},
   "source": [
    "`to_string()` Convierte los resultados a formato string."
   ]
  },
  {
   "cell_type": "code",
   "execution_count": null,
   "metadata": {},
   "outputs": [],
   "source": [
    "import pandas as pd\n",
    "\n",
    "df = pd.read_csv(\"../assets/csv/data.csv\")\n",
    "\n",
    "print(df.to_string())"
   ]
  },
  {
   "cell_type": "markdown",
   "metadata": {},
   "source": [
    "## **`max_rows`**\n",
    "\n",
    "- El número de filas devueltas está definido en la configuración de opciones de Pandas.\n",
    "- Puedes verificar el número máximo de filas de tu sistema con la instrucción `pd.options.display.max_rows`."
   ]
  },
  {
   "cell_type": "code",
   "execution_count": null,
   "metadata": {},
   "outputs": [],
   "source": [
    "import pandas as pd\n",
    "\n",
    "print(pd.options.display.max_rows)\n",
    "\n",
    "# pd.options.display.max_rows = 100 # Cambia 60 por 100\n",
    "\n",
    "# df = pd.read_csv(\"../assets/csv/data.csv\")\n",
    "\n",
    "# print(df)"
   ]
  },
  {
   "cell_type": "markdown",
   "metadata": {},
   "source": [
    "## **Analisis Datos**\n",
    "\n",
    "- `head()` devuelve los encabezados y las primeras filas del `Dataframe` (5 por defecto)."
   ]
  },
  {
   "cell_type": "code",
   "execution_count": null,
   "metadata": {},
   "outputs": [],
   "source": [
    "import pandas as pd\n",
    "\n",
    "df = pd.read_csv(\"../assets/csv/data.csv\")\n",
    "\n",
    "print(df.head()) # 5 por defecto\n",
    "# print(df.head(10))"
   ]
  },
  {
   "cell_type": "markdown",
   "metadata": {},
   "source": [
    "- `tail()` devuelve los encabezados y las últimas filas del `Dataframe` (5 por defecto)."
   ]
  },
  {
   "cell_type": "code",
   "execution_count": null,
   "metadata": {},
   "outputs": [],
   "source": [
    "import pandas as pd\n",
    "\n",
    "df = pd.read_csv(\"../assets/csv/data.csv\")\n",
    "\n",
    "print(df.tail()) # 5 por defecto\n",
    "# print(df.tail(10))"
   ]
  },
  {
   "cell_type": "markdown",
   "metadata": {},
   "source": [
    "- `info()` proporciona más información sobre el `Dataframe`."
   ]
  },
  {
   "cell_type": "code",
   "execution_count": null,
   "metadata": {},
   "outputs": [],
   "source": [
    "import pandas as pd\n",
    "\n",
    "df = pd.read_csv(\"../assets/csv/data.csv\")\n",
    "\n",
    "print(df.info())"
   ]
  },
  {
   "cell_type": "markdown",
   "metadata": {},
   "source": [
    "> Nota: Los valores vacíos o nulos pueden ser problemáticos al analizar datos, por lo que deberías considerar eliminar filas con valores vacíos."
   ]
  }
 ],
 "metadata": {
  "kernelspec": {
   "display_name": "Python 3",
   "language": "python",
   "name": "python3"
  },
  "language_info": {
   "codemirror_mode": {
    "name": "ipython",
    "version": 3
   },
   "file_extension": ".py",
   "mimetype": "text/x-python",
   "name": "python",
   "nbconvert_exporter": "python",
   "pygments_lexer": "ipython3",
   "version": "3.11.9"
  }
 },
 "nbformat": 4,
 "nbformat_minor": 2
}
