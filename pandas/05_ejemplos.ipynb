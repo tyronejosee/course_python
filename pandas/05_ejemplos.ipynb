{
 "cells": [
  {
   "cell_type": "markdown",
   "metadata": {},
   "source": [
    "# **Ejemplos**"
   ]
  },
  {
   "cell_type": "markdown",
   "metadata": {},
   "source": [
    "## **Estado de Resultados**\n",
    "\n",
    "Calcular automáticamente los totales de ingresos, egresos y utilidad neta.\n",
    "\n",
    "- `loc[]` se usa para filtrar filas y seleccionar columnas específicas de un `DataFrame`.\n",
    "- `sum()` sumar todos los valores."
   ]
  },
  {
   "cell_type": "code",
   "execution_count": 5,
   "metadata": {},
   "outputs": [
    {
     "data": {
      "text/html": [
       "<div>\n",
       "<style scoped>\n",
       "    .dataframe tbody tr th:only-of-type {\n",
       "        vertical-align: middle;\n",
       "    }\n",
       "\n",
       "    .dataframe tbody tr th {\n",
       "        vertical-align: top;\n",
       "    }\n",
       "\n",
       "    .dataframe thead th {\n",
       "        text-align: right;\n",
       "    }\n",
       "</style>\n",
       "<table border=\"1\" class=\"dataframe\">\n",
       "  <thead>\n",
       "    <tr style=\"text-align: right;\">\n",
       "      <th></th>\n",
       "      <th>Concepto</th>\n",
       "      <th>Tipo</th>\n",
       "      <th>Monto</th>\n",
       "    </tr>\n",
       "  </thead>\n",
       "  <tbody>\n",
       "    <tr>\n",
       "      <th>0</th>\n",
       "      <td>Ventas</td>\n",
       "      <td>Ingreso</td>\n",
       "      <td>5000000</td>\n",
       "    </tr>\n",
       "    <tr>\n",
       "      <th>1</th>\n",
       "      <td>Otros Ingresos</td>\n",
       "      <td>Ingreso</td>\n",
       "      <td>500000</td>\n",
       "    </tr>\n",
       "    <tr>\n",
       "      <th>2</th>\n",
       "      <td>Costo de Ventas</td>\n",
       "      <td>Egreso</td>\n",
       "      <td>2000000</td>\n",
       "    </tr>\n",
       "    <tr>\n",
       "      <th>3</th>\n",
       "      <td>Sueldos</td>\n",
       "      <td>Egreso</td>\n",
       "      <td>1200000</td>\n",
       "    </tr>\n",
       "    <tr>\n",
       "      <th>4</th>\n",
       "      <td>Gastos Administrativos</td>\n",
       "      <td>Egreso</td>\n",
       "      <td>300000</td>\n",
       "    </tr>\n",
       "  </tbody>\n",
       "</table>\n",
       "</div>"
      ],
      "text/plain": [
       "                 Concepto     Tipo    Monto\n",
       "0                  Ventas  Ingreso  5000000\n",
       "1          Otros Ingresos  Ingreso   500000\n",
       "2         Costo de Ventas   Egreso  2000000\n",
       "3                 Sueldos   Egreso  1200000\n",
       "4  Gastos Administrativos   Egreso   300000"
      ]
     },
     "execution_count": 5,
     "metadata": {},
     "output_type": "execute_result"
    }
   ],
   "source": [
    "import pandas as pd\n",
    "\n",
    "# Crear un DataFrame con ingresos y egresos\n",
    "datos = {\n",
    "    \"Concepto\": [\"Ventas\", \"Otros Ingresos\", \"Costo de Ventas\", \"Sueldos\", \"Gastos Administrativos\"],\n",
    "    \"Tipo\": [\"Ingreso\", \"Ingreso\", \"Egreso\", \"Egreso\", \"Egreso\"],\n",
    "    \"Monto\": [5000000, 500000, 2000000, 1200000, 300000],\n",
    "}\n",
    "\n",
    "resultados_df = pd.DataFrame(datos)\n",
    "\n",
    "# Calcular totales\n",
    "ingresos = resultados_df.loc[resultados_df[\"Tipo\"] == \"Ingreso\", \"Monto\"].sum()\n",
    "egresos = resultados_df.loc[resultados_df[\"Tipo\"] == \"Egreso\", \"Monto\"].sum()\n",
    "utilidad_neta = ingresos - egresos\n",
    "\n",
    "print(\n",
    "    f\"Ingresos: {ingresos}, Egresos: {egresos}, Utilidad Neta: {utilidad_neta}\",\n",
    ")\n",
    "\n",
    "# Guardar el estado de resultados\n",
    "resultados_df.to_excel(\"estado_resultados.xlsx\", index=False)"
   ]
  }
 ],
 "metadata": {
  "kernelspec": {
   "display_name": "Python 3",
   "language": "python",
   "name": "python3"
  },
  "language_info": {
   "codemirror_mode": {
    "name": "ipython",
    "version": 3
   },
   "file_extension": ".py",
   "mimetype": "text/x-python",
   "name": "python",
   "nbconvert_exporter": "python",
   "pygments_lexer": "ipython3",
   "version": "3.11.9"
  }
 },
 "nbformat": 4,
 "nbformat_minor": 2
}
